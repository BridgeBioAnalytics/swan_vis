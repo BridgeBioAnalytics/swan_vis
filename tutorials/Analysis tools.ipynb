{
 "cells": [
  {
   "cell_type": "markdown",
   "metadata": {},
   "source": [
    "# Analysis tools"
   ]
  },
  {
   "cell_type": "markdown",
   "metadata": {},
   "source": [
    "Swan has several analysis options to use. \n",
    "* [Differential gene expression](#deg)\n",
    "* [Differential transcript expression](#det)\n",
    "* [Isoform switching / differential isoform expression](#is)\n",
    "* [Combining metadata columns](#multi_gb)\n",
    "* [Exon skipping and intron retention](#es_ir)\n",
    "* [More differential expression](#more_de)\n",
    "\n",
    "<!-- Running this tutorial on my laptop took around 30 minutes and 3 GB of RAM. The longest steps by far are running the differential gene and transcript expression tools. The diffxpy tools are multithreaded, and my laptop has 8 cores. -->"
   ]
  },
  {
   "cell_type": "code",
   "execution_count": 1,
   "metadata": {},
   "outputs": [
    {
     "name": "stdout",
     "output_type": "stream",
     "text": [
      "Read in graph from data/swan.p\n"
     ]
    }
   ],
   "source": [
    "import swan_vis as swan\n",
    "\n",
    "sg = swan.read('data/swan.p')"
   ]
  },
  {
   "cell_type": "markdown",
   "metadata": {},
   "source": [
    "## <a name=\"deg\"></a>Differential gene expression tests"
   ]
  },
  {
   "cell_type": "markdown",
   "metadata": {},
   "source": [
    "Differential gene expression testing in Swan is implemented via [diffxpy](https://github.com/theislab/diffxpy). To run the test, choose a metadata column from `sg.adata.obs` to test on using the `obs_col` argument. If there are more than 2 unique values in this column, further specify the conditions to test using the `obs_conditions` arguments.\n",
    "\n",
    "The differential expression test that is run is [diffxpy's Wald test](https://diffxpy.readthedocs.io/en/latest/api/diffxpy.api.test.wald.html#diffxpy.api.test.wald), which checks if a \"a certain coefficient introduces a significant difference in the expression of a gene\". This test is performed on the normalized TPM for each gene.\n",
    "\n",
    "For individuals wanting to run a different diffxpy differential test, see [this section](#more_de)."
   ]
  },
  {
   "cell_type": "code",
   "execution_count": 2,
   "metadata": {
    "collapsed": true,
    "jupyter": {
     "outputs_hidden": true
    }
   },
   "outputs": [
    {
     "name": "stderr",
     "output_type": "stream",
     "text": [
      "/Users/fairliereese/miniconda3/lib/python3.7/site-packages/anndata/_core/anndata.py:794: UserWarning: \n",
      "AnnData expects .obs.index to contain strings, but got values like:\n",
      "    [0, 1, 2, 3, 4]\n",
      "\n",
      "    Inferred to be: integer\n",
      "\n",
      "  value_idx = self._prep_dim_index(value.index, attr)\n"
     ]
    },
    {
     "name": "stdout",
     "output_type": "stream",
     "text": [
      "training location model: False\n",
      "training scale model: True\n",
      "iter   0: ll=5261992.176001\n",
      "iter   1: ll=5261992.176001, converged: 0.00% (loc: 100.00%, scale update: False), in 0.00sec\n",
      "iter   2: ll=2753855.768885, converged: 75.84% (loc: 75.84%, scale update: True), in 66.56sec\n",
      "iter   3: ll=2753855.768885, converged: 75.84% (loc: 100.00%, scale update: False), in 0.00sec\n",
      "iter   4: ll=1889665.256868, converged: 92.98% (loc: 92.98%, scale update: True), in 17.23sec\n",
      "iter   5: ll=1889665.256868, converged: 92.98% (loc: 100.00%, scale update: False), in 0.00sec\n",
      "iter   6: ll=1886515.721880, converged: 98.49% (loc: 98.49%, scale update: True), in 7.07sec\n",
      "iter   7: ll=1886515.721880, converged: 98.49% (loc: 100.00%, scale update: False), in 0.00sec\n",
      "iter   8: ll=1885913.092184, converged: 99.63% (loc: 99.63%, scale update: True), in 3.85sec\n",
      "iter   9: ll=1885913.092184, converged: 99.63% (loc: 100.00%, scale update: False), in 0.00sec\n",
      "iter  10: ll=1885691.601695, converged: 99.90% (loc: 99.90%, scale update: True), in 2.01sec\n",
      "iter  11: ll=1885691.601695, converged: 99.90% (loc: 100.00%, scale update: False), in 0.00sec\n",
      "iter  12: ll=1885643.580903, converged: 99.98% (loc: 99.98%, scale update: True), in 1.76sec\n",
      "iter  13: ll=1885643.580903, converged: 99.98% (loc: 100.00%, scale update: False), in 0.00sec\n",
      "iter  14: ll=1885638.495699, converged: 99.99% (loc: 99.99%, scale update: True), in 1.77sec\n",
      "iter  15: ll=1885638.495699, converged: 99.99% (loc: 100.00%, scale update: False), in 0.00sec\n",
      "iter  16: ll=1885634.893511, converged: 99.99% (loc: 99.99%, scale update: True), in 1.49sec\n",
      "iter  17: ll=1885634.893511, converged: 99.99% (loc: 100.00%, scale update: False), in 0.00sec\n",
      "iter  18: ll=1885634.893511, converged: 100.00% (loc: 100.00%, scale update: True), in 1.41sec\n"
     ]
    },
    {
     "name": "stderr",
     "output_type": "stream",
     "text": [
      "/Users/fairliereese/miniconda3/lib/python3.7/site-packages/dask/array/core.py:2622: RuntimeWarning: divide by zero encountered in true_divide\n",
      "  size = (limit / dtype.itemsize / largest_block) ** (1 / len(autos))\n"
     ]
    }
   ],
   "source": [
    "obs_col = 'cell_line'\n",
    "obs_conditions = ['hepg2', 'hffc6']\n",
    "\n",
    "# perform a differential gene expression \n",
    "# Wald test on the provided metadata column and conditions\n",
    "test = sg.de_gene_test(obs_col, obs_conditions=obs_conditions)"
   ]
  },
  {
   "cell_type": "markdown",
   "metadata": {},
   "source": [
    "The output in `test` is a summary table for the differential expression test."
   ]
  },
  {
   "cell_type": "code",
   "execution_count": 7,
   "metadata": {},
   "outputs": [
    {
     "data": {
      "text/html": [
       "<div>\n",
       "<style scoped>\n",
       "    .dataframe tbody tr th:only-of-type {\n",
       "        vertical-align: middle;\n",
       "    }\n",
       "\n",
       "    .dataframe tbody tr th {\n",
       "        vertical-align: top;\n",
       "    }\n",
       "\n",
       "    .dataframe thead th {\n",
       "        text-align: right;\n",
       "    }\n",
       "</style>\n",
       "<table border=\"1\" class=\"dataframe\">\n",
       "  <thead>\n",
       "    <tr style=\"text-align: right;\">\n",
       "      <th></th>\n",
       "      <th>gid</th>\n",
       "      <th>pval</th>\n",
       "      <th>qval</th>\n",
       "      <th>log2fc</th>\n",
       "      <th>mean</th>\n",
       "      <th>zero_mean</th>\n",
       "      <th>grad</th>\n",
       "      <th>coef_mle</th>\n",
       "      <th>coef_sd</th>\n",
       "      <th>ll</th>\n",
       "      <th>gname</th>\n",
       "    </tr>\n",
       "  </thead>\n",
       "  <tbody>\n",
       "    <tr>\n",
       "      <th>68444</th>\n",
       "      <td>ENSG00000137204.14</td>\n",
       "      <td>0.0</td>\n",
       "      <td>0.0</td>\n",
       "      <td>-297.776029</td>\n",
       "      <td>2.873145</td>\n",
       "      <td>False</td>\n",
       "      <td>1.328783e-08</td>\n",
       "      <td>-297.776029</td>\n",
       "      <td>2.222759e-162</td>\n",
       "      <td>-5.835233</td>\n",
       "      <td>SLC22A7</td>\n",
       "    </tr>\n",
       "    <tr>\n",
       "      <th>132616</th>\n",
       "      <td>ENSG00000186204.14</td>\n",
       "      <td>0.0</td>\n",
       "      <td>0.0</td>\n",
       "      <td>-297.776029</td>\n",
       "      <td>9.517887</td>\n",
       "      <td>False</td>\n",
       "      <td>2.018855e-07</td>\n",
       "      <td>-297.776029</td>\n",
       "      <td>2.222759e-162</td>\n",
       "      <td>-5.016340</td>\n",
       "      <td>CYP4F12</td>\n",
       "    </tr>\n",
       "  </tbody>\n",
       "</table>\n",
       "</div>"
      ],
      "text/plain": [
       "                       gid  pval  qval      log2fc      mean  zero_mean  \\\n",
       "68444   ENSG00000137204.14   0.0   0.0 -297.776029  2.873145      False   \n",
       "132616  ENSG00000186204.14   0.0   0.0 -297.776029  9.517887      False   \n",
       "\n",
       "                grad    coef_mle        coef_sd        ll    gname  \n",
       "68444   1.328783e-08 -297.776029  2.222759e-162 -5.835233  SLC22A7  \n",
       "132616  2.018855e-07 -297.776029  2.222759e-162 -5.016340  CYP4F12  "
      ]
     },
     "execution_count": 7,
     "metadata": {},
     "output_type": "execute_result"
    }
   ],
   "source": [
    "test.head(2)"
   ]
  },
  {
   "cell_type": "markdown",
   "metadata": {},
   "source": [
    "The results of this test are also stored in an automatically-generated key in `sg.adata.uns`, and will be saved to the SwanGraph if you save it. You can regenerate this key and access the summary table by running the following code:"
   ]
  },
  {
   "cell_type": "code",
   "execution_count": 8,
   "metadata": {},
   "outputs": [
    {
     "data": {
      "text/html": [
       "<div>\n",
       "<style scoped>\n",
       "    .dataframe tbody tr th:only-of-type {\n",
       "        vertical-align: middle;\n",
       "    }\n",
       "\n",
       "    .dataframe tbody tr th {\n",
       "        vertical-align: top;\n",
       "    }\n",
       "\n",
       "    .dataframe thead th {\n",
       "        text-align: right;\n",
       "    }\n",
       "</style>\n",
       "<table border=\"1\" class=\"dataframe\">\n",
       "  <thead>\n",
       "    <tr style=\"text-align: right;\">\n",
       "      <th></th>\n",
       "      <th>gid</th>\n",
       "      <th>pval</th>\n",
       "      <th>qval</th>\n",
       "      <th>log2fc</th>\n",
       "      <th>mean</th>\n",
       "      <th>zero_mean</th>\n",
       "      <th>grad</th>\n",
       "      <th>coef_mle</th>\n",
       "      <th>coef_sd</th>\n",
       "      <th>ll</th>\n",
       "      <th>gname</th>\n",
       "    </tr>\n",
       "  </thead>\n",
       "  <tbody>\n",
       "    <tr>\n",
       "      <th>68444</th>\n",
       "      <td>ENSG00000137204.14</td>\n",
       "      <td>0.0</td>\n",
       "      <td>0.0</td>\n",
       "      <td>-297.776029</td>\n",
       "      <td>2.873145</td>\n",
       "      <td>False</td>\n",
       "      <td>1.328783e-08</td>\n",
       "      <td>-297.776029</td>\n",
       "      <td>2.222759e-162</td>\n",
       "      <td>-5.835233</td>\n",
       "      <td>SLC22A7</td>\n",
       "    </tr>\n",
       "    <tr>\n",
       "      <th>132616</th>\n",
       "      <td>ENSG00000186204.14</td>\n",
       "      <td>0.0</td>\n",
       "      <td>0.0</td>\n",
       "      <td>-297.776029</td>\n",
       "      <td>9.517887</td>\n",
       "      <td>False</td>\n",
       "      <td>2.018855e-07</td>\n",
       "      <td>-297.776029</td>\n",
       "      <td>2.222759e-162</td>\n",
       "      <td>-5.016340</td>\n",
       "      <td>CYP4F12</td>\n",
       "    </tr>\n",
       "  </tbody>\n",
       "</table>\n",
       "</div>"
      ],
      "text/plain": [
       "                       gid  pval  qval      log2fc      mean  zero_mean  \\\n",
       "68444   ENSG00000137204.14   0.0   0.0 -297.776029  2.873145      False   \n",
       "132616  ENSG00000186204.14   0.0   0.0 -297.776029  9.517887      False   \n",
       "\n",
       "                grad    coef_mle        coef_sd        ll    gname  \n",
       "68444   1.328783e-08 -297.776029  2.222759e-162 -5.835233  SLC22A7  \n",
       "132616  2.018855e-07 -297.776029  2.222759e-162 -5.016340  CYP4F12  "
      ]
     },
     "execution_count": 8,
     "metadata": {},
     "output_type": "execute_result"
    }
   ],
   "source": [
    "# deg - differential gene expression\n",
    "uns_key = swan.make_uns_key('deg', \n",
    "                            obs_col=obs_col, \n",
    "                            obs_conditions=obs_conditions)\n",
    "test = sg.adata.uns[uns_key]\n",
    "test.head(2)"
   ]
  },
  {
   "cell_type": "markdown",
   "metadata": {},
   "source": [
    "Swan can also automatically subset the test summary table to pull out genes that pass a certain significance threshold. "
   ]
  },
  {
   "cell_type": "code",
   "execution_count": 10,
   "metadata": {},
   "outputs": [],
   "source": [
    "# return a table of significantly differentially-expressed genes\n",
    "# for a given q val + log2fc threshold\n",
    "de_genes = sg.get_de_genes(obs_col, obs_conditions=obs_conditions,\n",
    "                           q=0.05, log2fc=1)"
   ]
  },
  {
   "cell_type": "code",
   "execution_count": 11,
   "metadata": {},
   "outputs": [
    {
     "data": {
      "text/html": [
       "<div>\n",
       "<style scoped>\n",
       "    .dataframe tbody tr th:only-of-type {\n",
       "        vertical-align: middle;\n",
       "    }\n",
       "\n",
       "    .dataframe tbody tr th {\n",
       "        vertical-align: top;\n",
       "    }\n",
       "\n",
       "    .dataframe thead th {\n",
       "        text-align: right;\n",
       "    }\n",
       "</style>\n",
       "<table border=\"1\" class=\"dataframe\">\n",
       "  <thead>\n",
       "    <tr style=\"text-align: right;\">\n",
       "      <th></th>\n",
       "      <th>gid</th>\n",
       "      <th>pval</th>\n",
       "      <th>qval</th>\n",
       "      <th>log2fc</th>\n",
       "      <th>mean</th>\n",
       "      <th>zero_mean</th>\n",
       "      <th>grad</th>\n",
       "      <th>coef_mle</th>\n",
       "      <th>coef_sd</th>\n",
       "      <th>ll</th>\n",
       "      <th>gname</th>\n",
       "    </tr>\n",
       "  </thead>\n",
       "  <tbody>\n",
       "    <tr>\n",
       "      <th>57195</th>\n",
       "      <td>ENSG00000129245.11</td>\n",
       "      <td>0.0</td>\n",
       "      <td>0.0</td>\n",
       "      <td>283.913085</td>\n",
       "      <td>7.659833</td>\n",
       "      <td>False</td>\n",
       "      <td>1.200001</td>\n",
       "      <td>283.913085</td>\n",
       "      <td>2.222759e-162</td>\n",
       "      <td>-59.551343</td>\n",
       "      <td>FXR2</td>\n",
       "    </tr>\n",
       "    <tr>\n",
       "      <th>56566</th>\n",
       "      <td>ENSG00000128656.13</td>\n",
       "      <td>0.0</td>\n",
       "      <td>0.0</td>\n",
       "      <td>283.913085</td>\n",
       "      <td>81.457545</td>\n",
       "      <td>False</td>\n",
       "      <td>1.199999</td>\n",
       "      <td>283.913085</td>\n",
       "      <td>2.222759e-162</td>\n",
       "      <td>-74.030688</td>\n",
       "      <td>CHN1</td>\n",
       "    </tr>\n",
       "    <tr>\n",
       "      <th>101233</th>\n",
       "      <td>ENSG00000164318.17</td>\n",
       "      <td>0.0</td>\n",
       "      <td>0.0</td>\n",
       "      <td>283.913085</td>\n",
       "      <td>4.777928</td>\n",
       "      <td>False</td>\n",
       "      <td>0.800000</td>\n",
       "      <td>283.913085</td>\n",
       "      <td>2.222759e-162</td>\n",
       "      <td>-39.453406</td>\n",
       "      <td>EGFLAM</td>\n",
       "    </tr>\n",
       "    <tr>\n",
       "      <th>57196</th>\n",
       "      <td>ENSG00000129245.11</td>\n",
       "      <td>0.0</td>\n",
       "      <td>0.0</td>\n",
       "      <td>283.913085</td>\n",
       "      <td>7.659833</td>\n",
       "      <td>False</td>\n",
       "      <td>1.200001</td>\n",
       "      <td>283.913085</td>\n",
       "      <td>2.222759e-162</td>\n",
       "      <td>-59.551343</td>\n",
       "      <td>FXR2</td>\n",
       "    </tr>\n",
       "    <tr>\n",
       "      <th>101230</th>\n",
       "      <td>ENSG00000164318.17</td>\n",
       "      <td>0.0</td>\n",
       "      <td>0.0</td>\n",
       "      <td>283.913085</td>\n",
       "      <td>4.777928</td>\n",
       "      <td>False</td>\n",
       "      <td>0.800000</td>\n",
       "      <td>283.913085</td>\n",
       "      <td>2.222759e-162</td>\n",
       "      <td>-39.453406</td>\n",
       "      <td>EGFLAM</td>\n",
       "    </tr>\n",
       "  </tbody>\n",
       "</table>\n",
       "</div>"
      ],
      "text/plain": [
       "                       gid  pval  qval      log2fc       mean  zero_mean  \\\n",
       "57195   ENSG00000129245.11   0.0   0.0  283.913085   7.659833      False   \n",
       "56566   ENSG00000128656.13   0.0   0.0  283.913085  81.457545      False   \n",
       "101233  ENSG00000164318.17   0.0   0.0  283.913085   4.777928      False   \n",
       "57196   ENSG00000129245.11   0.0   0.0  283.913085   7.659833      False   \n",
       "101230  ENSG00000164318.17   0.0   0.0  283.913085   4.777928      False   \n",
       "\n",
       "            grad    coef_mle        coef_sd         ll   gname  \n",
       "57195   1.200001  283.913085  2.222759e-162 -59.551343    FXR2  \n",
       "56566   1.199999  283.913085  2.222759e-162 -74.030688    CHN1  \n",
       "101233  0.800000  283.913085  2.222759e-162 -39.453406  EGFLAM  \n",
       "57196   1.200001  283.913085  2.222759e-162 -59.551343    FXR2  \n",
       "101230  0.800000  283.913085  2.222759e-162 -39.453406  EGFLAM  "
      ]
     },
     "execution_count": 11,
     "metadata": {},
     "output_type": "execute_result"
    }
   ],
   "source": [
    "de_genes.head()"
   ]
  },
  {
   "cell_type": "markdown",
   "metadata": {},
   "source": [
    "## <a name=\"det\"></a>Differential transcript expression tests"
   ]
  },
  {
   "cell_type": "markdown",
   "metadata": {},
   "source": [
    "Similarly, Swan can run tests to find differentially expressed transcript isoforms. The input and output to these functions are identical to that of the differential gene tests."
   ]
  },
  {
   "cell_type": "markdown",
   "metadata": {},
   "source": [
    "The differential expression test that is run is [diffxpy's Wald test](https://diffxpy.readthedocs.io/en/latest/api/diffxpy.api.test.wald.html#diffxpy.api.test.wald), which checks if a \"a certain coefficient introduces a significant difference in the expression of a transcript\". This test is performed on the normalized TPM for each transcript.\n",
    "\n",
    "For individuals wanting to run a different diffxpy differential test, see [this section](#more_de)"
   ]
  },
  {
   "cell_type": "code",
   "execution_count": 12,
   "metadata": {
    "collapsed": true,
    "jupyter": {
     "outputs_hidden": true
    }
   },
   "outputs": [
    {
     "name": "stdout",
     "output_type": "stream",
     "text": [
      "training location model: True\n",
      "training scale model: True\n",
      "iter   0: ll=13727074.960768\n",
      "caught 17171 linalg singular matrix errors\n",
      "iter   1: ll=13727074.960768, converged: 0.00% (loc: 100.00%, scale update: False), in 14.40sec\n",
      "iter   2: ll=6420440.381519, converged: 83.71% (loc: 83.71%, scale update: True), in 246.41sec\n",
      "caught 16133 linalg singular matrix errors\n",
      "iter   3: ll=6420440.381519, converged: 83.71% (loc: 100.00%, scale update: False), in 13.52sec\n",
      "iter   4: ll=3660392.429387, converged: 93.97% (loc: 93.97%, scale update: True), in 48.35sec\n",
      "caught 7890 linalg singular matrix errors\n",
      "iter   5: ll=3660392.429387, converged: 93.97% (loc: 100.00%, scale update: False), in 14.28sec\n",
      "iter   6: ll=3653846.326338, converged: 99.02% (loc: 99.02%, scale update: True), in 23.72sec\n",
      "caught 150 linalg singular matrix errors\n",
      "iter   7: ll=3653846.326338, converged: 99.02% (loc: 100.00%, scale update: False), in 9.39sec\n",
      "iter   8: ll=3651881.056467, converged: 99.72% (loc: 99.72%, scale update: True), in 9.83sec\n",
      "caught 4 linalg singular matrix errors\n",
      "iter   9: ll=3651881.056467, converged: 99.72% (loc: 100.00%, scale update: False), in 5.08sec\n",
      "iter  10: ll=3651435.641775, converged: 99.92% (loc: 99.92%, scale update: True), in 6.91sec\n",
      "iter  11: ll=3651435.641775, converged: 99.92% (loc: 100.00%, scale update: False), in 3.08sec\n",
      "iter  12: ll=3651232.530929, converged: 99.98% (loc: 99.98%, scale update: True), in 5.61sec\n",
      "iter  13: ll=3651232.530929, converged: 99.98% (loc: 100.00%, scale update: False), in 2.45sec\n",
      "iter  14: ll=3651208.799977, converged: 99.99% (loc: 99.99%, scale update: True), in 5.93sec\n",
      "iter  15: ll=3651208.799977, converged: 99.99% (loc: 100.00%, scale update: False), in 1.55sec\n",
      "iter  16: ll=3651191.989770, converged: 99.99% (loc: 99.99%, scale update: True), in 6.03sec\n",
      "iter  17: ll=3651191.989770, converged: 99.99% (loc: 100.00%, scale update: False), in 2.16sec\n",
      "iter  18: ll=3651191.989770, converged: 100.00% (loc: 100.00%, scale update: True), in 5.88sec\n"
     ]
    },
    {
     "name": "stderr",
     "output_type": "stream",
     "text": [
      "/Users/fairliereese/miniconda3/lib/python3.7/site-packages/dask/array/core.py:2622: RuntimeWarning: divide by zero encountered in true_divide\n",
      "  size = (limit / dtype.itemsize / largest_block) ** (1 / len(autos))\n"
     ]
    }
   ],
   "source": [
    "obs_col = 'cell_line'\n",
    "obs_conditions = ['hepg2', 'hffc6']\n",
    "\n",
    "# perform a differential transcript expression \n",
    "# Wald test on the provided metadata column and conditions\n",
    "test = sg.de_transcript_test(obs_col, obs_conditions=obs_conditions)"
   ]
  },
  {
   "cell_type": "markdown",
   "metadata": {},
   "source": [
    "The output in `test` is a summary table for the differential expression test."
   ]
  },
  {
   "cell_type": "code",
   "execution_count": 13,
   "metadata": {},
   "outputs": [
    {
     "data": {
      "text/html": [
       "<div>\n",
       "<style scoped>\n",
       "    .dataframe tbody tr th:only-of-type {\n",
       "        vertical-align: middle;\n",
       "    }\n",
       "\n",
       "    .dataframe tbody tr th {\n",
       "        vertical-align: top;\n",
       "    }\n",
       "\n",
       "    .dataframe thead th {\n",
       "        text-align: right;\n",
       "    }\n",
       "</style>\n",
       "<table border=\"1\" class=\"dataframe\">\n",
       "  <thead>\n",
       "    <tr style=\"text-align: right;\">\n",
       "      <th></th>\n",
       "      <th>tid</th>\n",
       "      <th>pval</th>\n",
       "      <th>qval</th>\n",
       "      <th>log2fc</th>\n",
       "      <th>mean</th>\n",
       "      <th>zero_mean</th>\n",
       "      <th>grad</th>\n",
       "      <th>coef_mle</th>\n",
       "      <th>coef_sd</th>\n",
       "      <th>ll</th>\n",
       "      <th>gid</th>\n",
       "      <th>gname</th>\n",
       "    </tr>\n",
       "  </thead>\n",
       "  <tbody>\n",
       "    <tr>\n",
       "      <th>21101</th>\n",
       "      <td>ENST00000367818.3</td>\n",
       "      <td>0.0</td>\n",
       "      <td>0.0</td>\n",
       "      <td>-297.776029</td>\n",
       "      <td>0.400283</td>\n",
       "      <td>False</td>\n",
       "      <td>0.621579</td>\n",
       "      <td>-297.776029</td>\n",
       "      <td>2.222759e-162</td>\n",
       "      <td>0.0</td>\n",
       "      <td>ENSG00000143184.4</td>\n",
       "      <td>XCL1</td>\n",
       "    </tr>\n",
       "    <tr>\n",
       "      <th>136458</th>\n",
       "      <td>ENST00000544590.1</td>\n",
       "      <td>0.0</td>\n",
       "      <td>0.0</td>\n",
       "      <td>-297.776029</td>\n",
       "      <td>0.235725</td>\n",
       "      <td>False</td>\n",
       "      <td>0.389695</td>\n",
       "      <td>-297.776029</td>\n",
       "      <td>2.222759e-162</td>\n",
       "      <td>0.0</td>\n",
       "      <td>ENSG00000109920.12</td>\n",
       "      <td>FNBP4</td>\n",
       "    </tr>\n",
       "  </tbody>\n",
       "</table>\n",
       "</div>"
      ],
      "text/plain": [
       "                      tid  pval  qval      log2fc      mean  zero_mean  \\\n",
       "21101   ENST00000367818.3   0.0   0.0 -297.776029  0.400283      False   \n",
       "136458  ENST00000544590.1   0.0   0.0 -297.776029  0.235725      False   \n",
       "\n",
       "            grad    coef_mle        coef_sd   ll                 gid  gname  \n",
       "21101   0.621579 -297.776029  2.222759e-162  0.0   ENSG00000143184.4   XCL1  \n",
       "136458  0.389695 -297.776029  2.222759e-162  0.0  ENSG00000109920.12  FNBP4  "
      ]
     },
     "execution_count": 13,
     "metadata": {},
     "output_type": "execute_result"
    }
   ],
   "source": [
    "test.head(2)"
   ]
  },
  {
   "cell_type": "markdown",
   "metadata": {},
   "source": [
    "The results of this test are similarly stored in an automatically-generated key in `sg.adata.uns`, and will be saved to the SwanGraph if you save it. You can regenerate this key and access the summary table by running the following code:"
   ]
  },
  {
   "cell_type": "code",
   "execution_count": 14,
   "metadata": {},
   "outputs": [
    {
     "data": {
      "text/html": [
       "<div>\n",
       "<style scoped>\n",
       "    .dataframe tbody tr th:only-of-type {\n",
       "        vertical-align: middle;\n",
       "    }\n",
       "\n",
       "    .dataframe tbody tr th {\n",
       "        vertical-align: top;\n",
       "    }\n",
       "\n",
       "    .dataframe thead th {\n",
       "        text-align: right;\n",
       "    }\n",
       "</style>\n",
       "<table border=\"1\" class=\"dataframe\">\n",
       "  <thead>\n",
       "    <tr style=\"text-align: right;\">\n",
       "      <th></th>\n",
       "      <th>tid</th>\n",
       "      <th>pval</th>\n",
       "      <th>qval</th>\n",
       "      <th>log2fc</th>\n",
       "      <th>mean</th>\n",
       "      <th>zero_mean</th>\n",
       "      <th>grad</th>\n",
       "      <th>coef_mle</th>\n",
       "      <th>coef_sd</th>\n",
       "      <th>ll</th>\n",
       "      <th>gid</th>\n",
       "      <th>gname</th>\n",
       "    </tr>\n",
       "  </thead>\n",
       "  <tbody>\n",
       "    <tr>\n",
       "      <th>21101</th>\n",
       "      <td>ENST00000367818.3</td>\n",
       "      <td>0.0</td>\n",
       "      <td>0.0</td>\n",
       "      <td>-297.776029</td>\n",
       "      <td>0.400283</td>\n",
       "      <td>False</td>\n",
       "      <td>0.621579</td>\n",
       "      <td>-297.776029</td>\n",
       "      <td>2.222759e-162</td>\n",
       "      <td>0.0</td>\n",
       "      <td>ENSG00000143184.4</td>\n",
       "      <td>XCL1</td>\n",
       "    </tr>\n",
       "    <tr>\n",
       "      <th>136458</th>\n",
       "      <td>ENST00000544590.1</td>\n",
       "      <td>0.0</td>\n",
       "      <td>0.0</td>\n",
       "      <td>-297.776029</td>\n",
       "      <td>0.235725</td>\n",
       "      <td>False</td>\n",
       "      <td>0.389695</td>\n",
       "      <td>-297.776029</td>\n",
       "      <td>2.222759e-162</td>\n",
       "      <td>0.0</td>\n",
       "      <td>ENSG00000109920.12</td>\n",
       "      <td>FNBP4</td>\n",
       "    </tr>\n",
       "  </tbody>\n",
       "</table>\n",
       "</div>"
      ],
      "text/plain": [
       "                      tid  pval  qval      log2fc      mean  zero_mean  \\\n",
       "21101   ENST00000367818.3   0.0   0.0 -297.776029  0.400283      False   \n",
       "136458  ENST00000544590.1   0.0   0.0 -297.776029  0.235725      False   \n",
       "\n",
       "            grad    coef_mle        coef_sd   ll                 gid  gname  \n",
       "21101   0.621579 -297.776029  2.222759e-162  0.0   ENSG00000143184.4   XCL1  \n",
       "136458  0.389695 -297.776029  2.222759e-162  0.0  ENSG00000109920.12  FNBP4  "
      ]
     },
     "execution_count": 14,
     "metadata": {},
     "output_type": "execute_result"
    }
   ],
   "source": [
    "# det - differential transcript expression\n",
    "uns_key = swan.make_uns_key('det', \n",
    "                            obs_col=obs_col, \n",
    "                            obs_conditions=obs_conditions)\n",
    "test = sg.adata.uns[uns_key]\n",
    "test.head(2)"
   ]
  },
  {
   "cell_type": "markdown",
   "metadata": {},
   "source": [
    "Again, Swan can also automatically subset the test summary table to pull out genes that pass a certain significance threshold."
   ]
  },
  {
   "cell_type": "code",
   "execution_count": 16,
   "metadata": {},
   "outputs": [],
   "source": [
    "# return a table of significantly differentially-expressed genes\n",
    "# for a given q val + log2fc threshold\n",
    "de_transcripts = sg.get_de_transcripts(obs_col, obs_conditions=obs_conditions,\n",
    "                           q=0.05, log2fc=1)"
   ]
  },
  {
   "cell_type": "code",
   "execution_count": 17,
   "metadata": {},
   "outputs": [
    {
     "data": {
      "text/html": [
       "<div>\n",
       "<style scoped>\n",
       "    .dataframe tbody tr th:only-of-type {\n",
       "        vertical-align: middle;\n",
       "    }\n",
       "\n",
       "    .dataframe tbody tr th {\n",
       "        vertical-align: top;\n",
       "    }\n",
       "\n",
       "    .dataframe thead th {\n",
       "        text-align: right;\n",
       "    }\n",
       "</style>\n",
       "<table border=\"1\" class=\"dataframe\">\n",
       "  <thead>\n",
       "    <tr style=\"text-align: right;\">\n",
       "      <th></th>\n",
       "      <th>tid</th>\n",
       "      <th>pval</th>\n",
       "      <th>qval</th>\n",
       "      <th>log2fc</th>\n",
       "      <th>mean</th>\n",
       "      <th>zero_mean</th>\n",
       "      <th>grad</th>\n",
       "      <th>coef_mle</th>\n",
       "      <th>coef_sd</th>\n",
       "      <th>ll</th>\n",
       "      <th>gid</th>\n",
       "      <th>gname</th>\n",
       "    </tr>\n",
       "  </thead>\n",
       "  <tbody>\n",
       "    <tr>\n",
       "      <th>91026</th>\n",
       "      <td>ENST00000486541.1</td>\n",
       "      <td>0.0</td>\n",
       "      <td>0.0</td>\n",
       "      <td>283.913085</td>\n",
       "      <td>7.222791</td>\n",
       "      <td>False</td>\n",
       "      <td>1.20000</td>\n",
       "      <td>283.913085</td>\n",
       "      <td>2.222759e-162</td>\n",
       "      <td>-59.116265</td>\n",
       "      <td>ENSG00000117318.8</td>\n",
       "      <td>ID3</td>\n",
       "    </tr>\n",
       "    <tr>\n",
       "      <th>81775</th>\n",
       "      <td>ENST00000475122.1</td>\n",
       "      <td>0.0</td>\n",
       "      <td>0.0</td>\n",
       "      <td>283.913085</td>\n",
       "      <td>0.904308</td>\n",
       "      <td>False</td>\n",
       "      <td>0.80000</td>\n",
       "      <td>283.913085</td>\n",
       "      <td>2.222759e-162</td>\n",
       "      <td>-32.247542</td>\n",
       "      <td>ENSG00000119812.18</td>\n",
       "      <td>FAM98A</td>\n",
       "    </tr>\n",
       "    <tr>\n",
       "      <th>91246</th>\n",
       "      <td>ENST00000486828.6</td>\n",
       "      <td>0.0</td>\n",
       "      <td>0.0</td>\n",
       "      <td>283.913085</td>\n",
       "      <td>0.253818</td>\n",
       "      <td>False</td>\n",
       "      <td>0.83105</td>\n",
       "      <td>283.913085</td>\n",
       "      <td>2.222759e-162</td>\n",
       "      <td>0.000000</td>\n",
       "      <td>ENSG00000196923.13</td>\n",
       "      <td>PDLIM7</td>\n",
       "    </tr>\n",
       "    <tr>\n",
       "      <th>190208</th>\n",
       "      <td>ENST00000623250.1</td>\n",
       "      <td>0.0</td>\n",
       "      <td>0.0</td>\n",
       "      <td>283.913085</td>\n",
       "      <td>0.841705</td>\n",
       "      <td>False</td>\n",
       "      <td>1.20000</td>\n",
       "      <td>283.913085</td>\n",
       "      <td>2.222759e-162</td>\n",
       "      <td>-45.109253</td>\n",
       "      <td>ENSG00000279348.1</td>\n",
       "      <td>AC012513.3</td>\n",
       "    </tr>\n",
       "    <tr>\n",
       "      <th>91032</th>\n",
       "      <td>ENST00000486554.1</td>\n",
       "      <td>0.0</td>\n",
       "      <td>0.0</td>\n",
       "      <td>283.913085</td>\n",
       "      <td>0.507635</td>\n",
       "      <td>False</td>\n",
       "      <td>0.40000</td>\n",
       "      <td>283.913085</td>\n",
       "      <td>2.222759e-162</td>\n",
       "      <td>-16.496230</td>\n",
       "      <td>ENSG00000157514.16</td>\n",
       "      <td>TSC22D3</td>\n",
       "    </tr>\n",
       "  </tbody>\n",
       "</table>\n",
       "</div>"
      ],
      "text/plain": [
       "                      tid  pval  qval      log2fc      mean  zero_mean  \\\n",
       "91026   ENST00000486541.1   0.0   0.0  283.913085  7.222791      False   \n",
       "81775   ENST00000475122.1   0.0   0.0  283.913085  0.904308      False   \n",
       "91246   ENST00000486828.6   0.0   0.0  283.913085  0.253818      False   \n",
       "190208  ENST00000623250.1   0.0   0.0  283.913085  0.841705      False   \n",
       "91032   ENST00000486554.1   0.0   0.0  283.913085  0.507635      False   \n",
       "\n",
       "           grad    coef_mle        coef_sd         ll                 gid  \\\n",
       "91026   1.20000  283.913085  2.222759e-162 -59.116265   ENSG00000117318.8   \n",
       "81775   0.80000  283.913085  2.222759e-162 -32.247542  ENSG00000119812.18   \n",
       "91246   0.83105  283.913085  2.222759e-162   0.000000  ENSG00000196923.13   \n",
       "190208  1.20000  283.913085  2.222759e-162 -45.109253   ENSG00000279348.1   \n",
       "91032   0.40000  283.913085  2.222759e-162 -16.496230  ENSG00000157514.16   \n",
       "\n",
       "             gname  \n",
       "91026          ID3  \n",
       "81775       FAM98A  \n",
       "91246       PDLIM7  \n",
       "190208  AC012513.3  \n",
       "91032      TSC22D3  "
      ]
     },
     "execution_count": 17,
     "metadata": {},
     "output_type": "execute_result"
    }
   ],
   "source": [
    "de_transcripts.head()"
   ]
  },
  {
   "cell_type": "markdown",
   "metadata": {},
   "source": [
    "## <a name=\"is\"></a>Isoform switching / Differential isoform expression testing"
   ]
  },
  {
   "cell_type": "markdown",
   "metadata": {},
   "source": [
    "Isoform switching / differential isoform expression (DIE) testing is implemented according to the strategy in [Joglekar et. al., 2021](https://www.nature.com/articles/s41467-020-20343-5). DIE can roughly be described as finding statistically significant changes in isoform expression between two conditions along with a change in percent isoform usage per gene.\n",
    "\n",
    "Pairwise comparisons can be set up using different columns in the metadata that was added to the SwanGraph with the `obs_col` and `obs_conditions` arguments."
   ]
  },
  {
   "cell_type": "code",
   "execution_count": 3,
   "metadata": {},
   "outputs": [
    {
     "data": {
      "text/html": [
       "<div>\n",
       "<style scoped>\n",
       "    .dataframe tbody tr th:only-of-type {\n",
       "        vertical-align: middle;\n",
       "    }\n",
       "\n",
       "    .dataframe tbody tr th {\n",
       "        vertical-align: top;\n",
       "    }\n",
       "\n",
       "    .dataframe thead th {\n",
       "        text-align: right;\n",
       "    }\n",
       "</style>\n",
       "<table border=\"1\" class=\"dataframe\">\n",
       "  <thead>\n",
       "    <tr style=\"text-align: right;\">\n",
       "      <th></th>\n",
       "      <th>dataset</th>\n",
       "      <th>cell_line</th>\n",
       "      <th>replicate</th>\n",
       "    </tr>\n",
       "    <tr>\n",
       "      <th>index</th>\n",
       "      <th></th>\n",
       "      <th></th>\n",
       "      <th></th>\n",
       "    </tr>\n",
       "  </thead>\n",
       "  <tbody>\n",
       "    <tr>\n",
       "      <th>hepg2_1</th>\n",
       "      <td>hepg2_1</td>\n",
       "      <td>hepg2</td>\n",
       "      <td>1</td>\n",
       "    </tr>\n",
       "    <tr>\n",
       "      <th>hepg2_2</th>\n",
       "      <td>hepg2_2</td>\n",
       "      <td>hepg2</td>\n",
       "      <td>2</td>\n",
       "    </tr>\n",
       "    <tr>\n",
       "      <th>hffc6_1</th>\n",
       "      <td>hffc6_1</td>\n",
       "      <td>hffc6</td>\n",
       "      <td>1</td>\n",
       "    </tr>\n",
       "    <tr>\n",
       "      <th>hffc6_2</th>\n",
       "      <td>hffc6_2</td>\n",
       "      <td>hffc6</td>\n",
       "      <td>2</td>\n",
       "    </tr>\n",
       "    <tr>\n",
       "      <th>hffc6_3</th>\n",
       "      <td>hffc6_3</td>\n",
       "      <td>hffc6</td>\n",
       "      <td>3</td>\n",
       "    </tr>\n",
       "  </tbody>\n",
       "</table>\n",
       "</div>"
      ],
      "text/plain": [
       "         dataset cell_line replicate\n",
       "index                               \n",
       "hepg2_1  hepg2_1     hepg2         1\n",
       "hepg2_2  hepg2_2     hepg2         2\n",
       "hffc6_1  hffc6_1     hffc6         1\n",
       "hffc6_2  hffc6_2     hffc6         2\n",
       "hffc6_3  hffc6_3     hffc6         3"
      ]
     },
     "execution_count": 3,
     "metadata": {},
     "output_type": "execute_result"
    }
   ],
   "source": [
    "# look at valid metadata options\n",
    "sg.adata.obs"
   ]
  },
  {
   "cell_type": "code",
   "execution_count": 2,
   "metadata": {},
   "outputs": [],
   "source": [
    "# find genes that exhibit DIE between HFFc6 and HepG2\n",
    "obs_col = 'cell_line'\n",
    "obs_conditions = ['hepg2', 'hffc6']\n",
    "die_table = sg.die_gene_test(obs_col=obs_col, \n",
    "                             obs_conditions=obs_conditions,\n",
    "                             verbose=True)"
   ]
  },
  {
   "cell_type": "markdown",
   "metadata": {},
   "source": [
    "The resultant table contains an entry for each gene with the p value (`p_val`), adjusted p value (`adj_p_val`), and change in percent isoform usage for the top two isoforms (`dpi`). Exact details on these calculations can be found in [Joglekar et. al., 2021](https://www.nature.com/articles/s41467-020-20343-5)."
   ]
  },
  {
   "cell_type": "code",
   "execution_count": 6,
   "metadata": {},
   "outputs": [
    {
     "data": {
      "text/html": [
       "<div>\n",
       "<style scoped>\n",
       "    .dataframe tbody tr th:only-of-type {\n",
       "        vertical-align: middle;\n",
       "    }\n",
       "\n",
       "    .dataframe tbody tr th {\n",
       "        vertical-align: top;\n",
       "    }\n",
       "\n",
       "    .dataframe thead th {\n",
       "        text-align: right;\n",
       "    }\n",
       "</style>\n",
       "<table border=\"1\" class=\"dataframe\">\n",
       "  <thead>\n",
       "    <tr style=\"text-align: right;\">\n",
       "      <th></th>\n",
       "      <th>gid</th>\n",
       "      <th>p_val</th>\n",
       "      <th>dpi</th>\n",
       "      <th>adj_p_val</th>\n",
       "    </tr>\n",
       "  </thead>\n",
       "  <tbody>\n",
       "    <tr>\n",
       "      <th>4</th>\n",
       "      <td>ENSG00000005801.17</td>\n",
       "      <td>4.017539e-03</td>\n",
       "      <td>33.102501</td>\n",
       "      <td>0.017566</td>\n",
       "    </tr>\n",
       "    <tr>\n",
       "      <th>6</th>\n",
       "      <td>ENSG00000075790.10</td>\n",
       "      <td>3.733015e-06</td>\n",
       "      <td>34.215599</td>\n",
       "      <td>0.000038</td>\n",
       "    </tr>\n",
       "    <tr>\n",
       "      <th>8</th>\n",
       "      <td>ENSG00000005175.9</td>\n",
       "      <td>6.216589e-03</td>\n",
       "      <td>14.736797</td>\n",
       "      <td>0.025327</td>\n",
       "    </tr>\n",
       "    <tr>\n",
       "      <th>11</th>\n",
       "      <td>ENSG00000006282.20</td>\n",
       "      <td>1.472361e-04</td>\n",
       "      <td>19.920383</td>\n",
       "      <td>0.001061</td>\n",
       "    </tr>\n",
       "    <tr>\n",
       "      <th>13</th>\n",
       "      <td>ENSG00000007376.7</td>\n",
       "      <td>1.989310e-07</td>\n",
       "      <td>29.276819</td>\n",
       "      <td>0.000003</td>\n",
       "    </tr>\n",
       "  </tbody>\n",
       "</table>\n",
       "</div>"
      ],
      "text/plain": [
       "                   gid         p_val        dpi  adj_p_val\n",
       "4   ENSG00000005801.17  4.017539e-03  33.102501   0.017566\n",
       "6   ENSG00000075790.10  3.733015e-06  34.215599   0.000038\n",
       "8    ENSG00000005175.9  6.216589e-03  14.736797   0.025327\n",
       "11  ENSG00000006282.20  1.472361e-04  19.920383   0.001061\n",
       "13   ENSG00000007376.7  1.989310e-07  29.276819   0.000003"
      ]
     },
     "execution_count": 6,
     "metadata": {},
     "output_type": "execute_result"
    }
   ],
   "source": [
    "die_table.head()"
   ]
  },
  {
   "cell_type": "markdown",
   "metadata": {},
   "source": [
    "As with differential expression testing, differential isoform expression testing results are stored automatically in `sg.adata.uns`, and will be saved to the SwanGraph if you save it. You can regenerate this key and access the summary table by running the following code:"
   ]
  },
  {
   "cell_type": "code",
   "execution_count": 4,
   "metadata": {},
   "outputs": [
    {
     "data": {
      "text/html": [
       "<div>\n",
       "<style scoped>\n",
       "    .dataframe tbody tr th:only-of-type {\n",
       "        vertical-align: middle;\n",
       "    }\n",
       "\n",
       "    .dataframe tbody tr th {\n",
       "        vertical-align: top;\n",
       "    }\n",
       "\n",
       "    .dataframe thead th {\n",
       "        text-align: right;\n",
       "    }\n",
       "</style>\n",
       "<table border=\"1\" class=\"dataframe\">\n",
       "  <thead>\n",
       "    <tr style=\"text-align: right;\">\n",
       "      <th></th>\n",
       "      <th>gid</th>\n",
       "      <th>p_val</th>\n",
       "      <th>dpi</th>\n",
       "      <th>adj_p_val</th>\n",
       "    </tr>\n",
       "  </thead>\n",
       "  <tbody>\n",
       "    <tr>\n",
       "      <th>0</th>\n",
       "      <td>ENSG00000004059.10</td>\n",
       "      <td>0.370956</td>\n",
       "      <td>0.659836</td>\n",
       "      <td>0.545069</td>\n",
       "    </tr>\n",
       "    <tr>\n",
       "      <th>1</th>\n",
       "      <td>ENSG00000003509.15</td>\n",
       "      <td>0.110749</td>\n",
       "      <td>14.178416</td>\n",
       "      <td>0.236859</td>\n",
       "    </tr>\n",
       "  </tbody>\n",
       "</table>\n",
       "</div>"
      ],
      "text/plain": [
       "                  gid     p_val        dpi  adj_p_val\n",
       "0  ENSG00000004059.10  0.370956   0.659836   0.545069\n",
       "1  ENSG00000003509.15  0.110749  14.178416   0.236859"
      ]
     },
     "execution_count": 4,
     "metadata": {},
     "output_type": "execute_result"
    }
   ],
   "source": [
    "# die_iso - isoform level differential isoform expression test results\n",
    "uns_key = swan.make_uns_key('die',\n",
    "                            obs_col=obs_col, \n",
    "                            obs_conditions=obs_conditions)\n",
    "test = sg.adata.uns[uns_key]\n",
    "test.head(2)"
   ]
  },
  {
   "cell_type": "markdown",
   "metadata": {},
   "source": [
    "Swan comes with an easy way to filter your DIE test results based on adjusted p value and dpi thresholds. "
   ]
  },
  {
   "cell_type": "code",
   "execution_count": 7,
   "metadata": {},
   "outputs": [
    {
     "data": {
      "text/html": [
       "<div>\n",
       "<style scoped>\n",
       "    .dataframe tbody tr th:only-of-type {\n",
       "        vertical-align: middle;\n",
       "    }\n",
       "\n",
       "    .dataframe tbody tr th {\n",
       "        vertical-align: top;\n",
       "    }\n",
       "\n",
       "    .dataframe thead th {\n",
       "        text-align: right;\n",
       "    }\n",
       "</style>\n",
       "<table border=\"1\" class=\"dataframe\">\n",
       "  <thead>\n",
       "    <tr style=\"text-align: right;\">\n",
       "      <th></th>\n",
       "      <th>gid</th>\n",
       "      <th>p_val</th>\n",
       "      <th>dpi</th>\n",
       "      <th>adj_p_val</th>\n",
       "    </tr>\n",
       "  </thead>\n",
       "  <tbody>\n",
       "    <tr>\n",
       "      <th>4</th>\n",
       "      <td>ENSG00000005801.17</td>\n",
       "      <td>4.017539e-03</td>\n",
       "      <td>33.102501</td>\n",
       "      <td>0.017566</td>\n",
       "    </tr>\n",
       "    <tr>\n",
       "      <th>6</th>\n",
       "      <td>ENSG00000075790.10</td>\n",
       "      <td>3.733015e-06</td>\n",
       "      <td>34.215599</td>\n",
       "      <td>0.000038</td>\n",
       "    </tr>\n",
       "    <tr>\n",
       "      <th>8</th>\n",
       "      <td>ENSG00000005175.9</td>\n",
       "      <td>6.216589e-03</td>\n",
       "      <td>14.736797</td>\n",
       "      <td>0.025327</td>\n",
       "    </tr>\n",
       "    <tr>\n",
       "      <th>11</th>\n",
       "      <td>ENSG00000006282.20</td>\n",
       "      <td>1.472361e-04</td>\n",
       "      <td>19.920383</td>\n",
       "      <td>0.001061</td>\n",
       "    </tr>\n",
       "    <tr>\n",
       "      <th>13</th>\n",
       "      <td>ENSG00000007376.7</td>\n",
       "      <td>1.989310e-07</td>\n",
       "      <td>29.276819</td>\n",
       "      <td>0.000003</td>\n",
       "    </tr>\n",
       "  </tbody>\n",
       "</table>\n",
       "</div>"
      ],
      "text/plain": [
       "                   gid         p_val        dpi  adj_p_val\n",
       "4   ENSG00000005801.17  4.017539e-03  33.102501   0.017566\n",
       "6   ENSG00000075790.10  3.733015e-06  34.215599   0.000038\n",
       "8    ENSG00000005175.9  6.216589e-03  14.736797   0.025327\n",
       "11  ENSG00000006282.20  1.472361e-04  19.920383   0.001061\n",
       "13   ENSG00000007376.7  1.989310e-07  29.276819   0.000003"
      ]
     },
     "execution_count": 7,
     "metadata": {},
     "output_type": "execute_result"
    }
   ],
   "source": [
    "test = sg.get_die_genes(obs_col=obs_col, obs_conditions=obs_conditions,\n",
    "                       p=0.05, dpi=10)\n",
    "test.head()"
   ]
  },
  {
   "cell_type": "markdown",
   "metadata": {},
   "source": [
    "Swan also now automatically tracks transcription start site (TSS) and transcription end site (TES) usage, and find genes that exhibit DIE on the basis of their starts or ends. To do this, use the `kind` argument to `die_gene_test`."
   ]
  },
  {
   "cell_type": "code",
   "execution_count": 3,
   "metadata": {},
   "outputs": [
    {
     "name": "stderr",
     "output_type": "stream",
     "text": [
      "Testing for DIE for each gene: 100%|█████████▉| 58905/58906 [11:46<00:00, 67.25it/s] "
     ]
    },
    {
     "data": {
      "text/html": [
       "<div>\n",
       "<style scoped>\n",
       "    .dataframe tbody tr th:only-of-type {\n",
       "        vertical-align: middle;\n",
       "    }\n",
       "\n",
       "    .dataframe tbody tr th {\n",
       "        vertical-align: top;\n",
       "    }\n",
       "\n",
       "    .dataframe thead th {\n",
       "        text-align: right;\n",
       "    }\n",
       "</style>\n",
       "<table border=\"1\" class=\"dataframe\">\n",
       "  <thead>\n",
       "    <tr style=\"text-align: right;\">\n",
       "      <th></th>\n",
       "      <th>gid</th>\n",
       "      <th>p_val</th>\n",
       "      <th>dpi</th>\n",
       "      <th>adj_p_val</th>\n",
       "    </tr>\n",
       "  </thead>\n",
       "  <tbody>\n",
       "    <tr>\n",
       "      <th>0</th>\n",
       "      <td>ENSG00000001630.16</td>\n",
       "      <td>0.286866</td>\n",
       "      <td>2.580168</td>\n",
       "      <td>0.710920</td>\n",
       "    </tr>\n",
       "    <tr>\n",
       "      <th>1</th>\n",
       "      <td>ENSG00000002330.13</td>\n",
       "      <td>0.089441</td>\n",
       "      <td>12.817429</td>\n",
       "      <td>0.348247</td>\n",
       "    </tr>\n",
       "    <tr>\n",
       "      <th>2</th>\n",
       "      <td>ENSG00000002586.19</td>\n",
       "      <td>0.885980</td>\n",
       "      <td>0.102093</td>\n",
       "      <td>0.982149</td>\n",
       "    </tr>\n",
       "    <tr>\n",
       "      <th>3</th>\n",
       "      <td>ENSG00000002822.15</td>\n",
       "      <td>0.678511</td>\n",
       "      <td>1.724138</td>\n",
       "      <td>0.962778</td>\n",
       "    </tr>\n",
       "    <tr>\n",
       "      <th>4</th>\n",
       "      <td>ENSG00000002919.14</td>\n",
       "      <td>0.669412</td>\n",
       "      <td>2.439026</td>\n",
       "      <td>0.962778</td>\n",
       "    </tr>\n",
       "  </tbody>\n",
       "</table>\n",
       "</div>"
      ],
      "text/plain": [
       "                  gid     p_val        dpi  adj_p_val\n",
       "0  ENSG00000001630.16  0.286866   2.580168   0.710920\n",
       "1  ENSG00000002330.13  0.089441  12.817429   0.348247\n",
       "2  ENSG00000002586.19  0.885980   0.102093   0.982149\n",
       "3  ENSG00000002822.15  0.678511   1.724138   0.962778\n",
       "4  ENSG00000002919.14  0.669412   2.439026   0.962778"
      ]
     },
     "execution_count": 3,
     "metadata": {},
     "output_type": "execute_result"
    }
   ],
   "source": [
    "# find genes that exhibit DIE for TSSs between HFFc6 and HepG2\n",
    "die_table = sg.die_gene_test(kind='tss', \n",
    "                             obs_col=obs_col,\n",
    "                             obs_conditions=obs_conditions,\n",
    "                             verbose=True)\n",
    "die_table.head()"
   ]
  },
  {
   "cell_type": "markdown",
   "metadata": {},
   "source": [
    "To access the die results on the tss level, use `die_kind='tss'` as input to `make_uns_key()`."
   ]
  },
  {
   "cell_type": "code",
   "execution_count": 4,
   "metadata": {},
   "outputs": [
    {
     "data": {
      "text/html": [
       "<div>\n",
       "<style scoped>\n",
       "    .dataframe tbody tr th:only-of-type {\n",
       "        vertical-align: middle;\n",
       "    }\n",
       "\n",
       "    .dataframe tbody tr th {\n",
       "        vertical-align: top;\n",
       "    }\n",
       "\n",
       "    .dataframe thead th {\n",
       "        text-align: right;\n",
       "    }\n",
       "</style>\n",
       "<table border=\"1\" class=\"dataframe\">\n",
       "  <thead>\n",
       "    <tr style=\"text-align: right;\">\n",
       "      <th></th>\n",
       "      <th>gid</th>\n",
       "      <th>p_val</th>\n",
       "      <th>dpi</th>\n",
       "      <th>adj_p_val</th>\n",
       "    </tr>\n",
       "  </thead>\n",
       "  <tbody>\n",
       "    <tr>\n",
       "      <th>0</th>\n",
       "      <td>ENSG00000001630.16</td>\n",
       "      <td>0.286866</td>\n",
       "      <td>2.580168</td>\n",
       "      <td>0.710920</td>\n",
       "    </tr>\n",
       "    <tr>\n",
       "      <th>1</th>\n",
       "      <td>ENSG00000002330.13</td>\n",
       "      <td>0.089441</td>\n",
       "      <td>12.817429</td>\n",
       "      <td>0.348247</td>\n",
       "    </tr>\n",
       "  </tbody>\n",
       "</table>\n",
       "</div>"
      ],
      "text/plain": [
       "                  gid     p_val        dpi  adj_p_val\n",
       "0  ENSG00000001630.16  0.286866   2.580168   0.710920\n",
       "1  ENSG00000002330.13  0.089441  12.817429   0.348247"
      ]
     },
     "execution_count": 4,
     "metadata": {},
     "output_type": "execute_result"
    }
   ],
   "source": [
    "# die_iso - TSS level differential isoform expression test results\n",
    "uns_key = swan.make_uns_key('die',\n",
    "                            obs_col=obs_col, \n",
    "                            obs_conditions=obs_conditions,\n",
    "                            die_kind='tss')\n",
    "test = sg.adata.uns[uns_key]\n",
    "test.head(2)"
   ]
  },
  {
   "cell_type": "markdown",
   "metadata": {},
   "source": [
    "And provide the `kind='tss'` option to `get_die_genes()` when trying to filter your test results."
   ]
  },
  {
   "cell_type": "code",
   "execution_count": 5,
   "metadata": {},
   "outputs": [
    {
     "data": {
      "text/html": [
       "<div>\n",
       "<style scoped>\n",
       "    .dataframe tbody tr th:only-of-type {\n",
       "        vertical-align: middle;\n",
       "    }\n",
       "\n",
       "    .dataframe tbody tr th {\n",
       "        vertical-align: top;\n",
       "    }\n",
       "\n",
       "    .dataframe thead th {\n",
       "        text-align: right;\n",
       "    }\n",
       "</style>\n",
       "<table border=\"1\" class=\"dataframe\">\n",
       "  <thead>\n",
       "    <tr style=\"text-align: right;\">\n",
       "      <th></th>\n",
       "      <th>gid</th>\n",
       "      <th>p_val</th>\n",
       "      <th>dpi</th>\n",
       "      <th>adj_p_val</th>\n",
       "    </tr>\n",
       "  </thead>\n",
       "  <tbody>\n",
       "    <tr>\n",
       "      <th>5</th>\n",
       "      <td>ENSG00000003402.19</td>\n",
       "      <td>4.039839e-06</td>\n",
       "      <td>39.797981</td>\n",
       "      <td>6.987697e-05</td>\n",
       "    </tr>\n",
       "    <tr>\n",
       "      <th>6</th>\n",
       "      <td>ENSG00000003436.15</td>\n",
       "      <td>1.183656e-05</td>\n",
       "      <td>28.073771</td>\n",
       "      <td>1.856128e-04</td>\n",
       "    </tr>\n",
       "    <tr>\n",
       "      <th>7</th>\n",
       "      <td>ENSG00000004487.16</td>\n",
       "      <td>1.135407e-03</td>\n",
       "      <td>75.714287</td>\n",
       "      <td>1.145036e-02</td>\n",
       "    </tr>\n",
       "    <tr>\n",
       "      <th>36</th>\n",
       "      <td>ENSG00000008952.16</td>\n",
       "      <td>4.075852e-03</td>\n",
       "      <td>26.086960</td>\n",
       "      <td>3.342667e-02</td>\n",
       "    </tr>\n",
       "    <tr>\n",
       "      <th>40</th>\n",
       "      <td>ENSG00000010278.13</td>\n",
       "      <td>3.077503e-22</td>\n",
       "      <td>39.024387</td>\n",
       "      <td>2.195799e-20</td>\n",
       "    </tr>\n",
       "  </tbody>\n",
       "</table>\n",
       "</div>"
      ],
      "text/plain": [
       "                   gid         p_val        dpi     adj_p_val\n",
       "5   ENSG00000003402.19  4.039839e-06  39.797981  6.987697e-05\n",
       "6   ENSG00000003436.15  1.183656e-05  28.073771  1.856128e-04\n",
       "7   ENSG00000004487.16  1.135407e-03  75.714287  1.145036e-02\n",
       "36  ENSG00000008952.16  4.075852e-03  26.086960  3.342667e-02\n",
       "40  ENSG00000010278.13  3.077503e-22  39.024387  2.195799e-20"
      ]
     },
     "execution_count": 5,
     "metadata": {},
     "output_type": "execute_result"
    }
   ],
   "source": [
    "test = sg.get_die_genes(kind='tss', obs_col=obs_col, \n",
    "                        obs_conditions=obs_conditions,\n",
    "                        p=0.05, dpi=10)\n",
    "test.head()"
   ]
  },
  {
   "cell_type": "markdown",
   "metadata": {},
   "source": [
    "For TESs, use `kind='tes'` as input to `die_genes_test()`, `die_kind='tes'` to `make_uns_key()`, and `kind='tes'` to `get_die_genes()`."
   ]
  },
  {
   "cell_type": "code",
   "execution_count": 6,
   "metadata": {},
   "outputs": [
    {
     "name": "stderr",
     "output_type": "stream",
     "text": [
      "Testing for DIE for each gene: 100%|██████████| 58906/58906 [12:00<00:00, 67.25it/s]"
     ]
    },
    {
     "data": {
      "text/html": [
       "<div>\n",
       "<style scoped>\n",
       "    .dataframe tbody tr th:only-of-type {\n",
       "        vertical-align: middle;\n",
       "    }\n",
       "\n",
       "    .dataframe tbody tr th {\n",
       "        vertical-align: top;\n",
       "    }\n",
       "\n",
       "    .dataframe thead th {\n",
       "        text-align: right;\n",
       "    }\n",
       "</style>\n",
       "<table border=\"1\" class=\"dataframe\">\n",
       "  <thead>\n",
       "    <tr style=\"text-align: right;\">\n",
       "      <th></th>\n",
       "      <th>gid</th>\n",
       "      <th>p_val</th>\n",
       "      <th>dpi</th>\n",
       "      <th>adj_p_val</th>\n",
       "    </tr>\n",
       "  </thead>\n",
       "  <tbody>\n",
       "    <tr>\n",
       "      <th>0</th>\n",
       "      <td>ENSG00000000419.12</td>\n",
       "      <td>0.749266</td>\n",
       "      <td>0.096133</td>\n",
       "      <td>0.904272</td>\n",
       "    </tr>\n",
       "    <tr>\n",
       "      <th>1</th>\n",
       "      <td>ENSG00000001461.16</td>\n",
       "      <td>0.852914</td>\n",
       "      <td>9.093739</td>\n",
       "      <td>0.943997</td>\n",
       "    </tr>\n",
       "    <tr>\n",
       "      <th>2</th>\n",
       "      <td>ENSG00000001630.16</td>\n",
       "      <td>0.286866</td>\n",
       "      <td>2.580168</td>\n",
       "      <td>0.613824</td>\n",
       "    </tr>\n",
       "    <tr>\n",
       "      <th>3</th>\n",
       "      <td>ENSG00000002330.13</td>\n",
       "      <td>0.184635</td>\n",
       "      <td>12.817430</td>\n",
       "      <td>0.479316</td>\n",
       "    </tr>\n",
       "    <tr>\n",
       "      <th>4</th>\n",
       "      <td>ENSG00000002549.12</td>\n",
       "      <td>0.679148</td>\n",
       "      <td>0.694543</td>\n",
       "      <td>0.879387</td>\n",
       "    </tr>\n",
       "  </tbody>\n",
       "</table>\n",
       "</div>"
      ],
      "text/plain": [
       "                  gid     p_val        dpi  adj_p_val\n",
       "0  ENSG00000000419.12  0.749266   0.096133   0.904272\n",
       "1  ENSG00000001461.16  0.852914   9.093739   0.943997\n",
       "2  ENSG00000001630.16  0.286866   2.580168   0.613824\n",
       "3  ENSG00000002330.13  0.184635  12.817430   0.479316\n",
       "4  ENSG00000002549.12  0.679148   0.694543   0.879387"
      ]
     },
     "execution_count": 6,
     "metadata": {},
     "output_type": "execute_result"
    }
   ],
   "source": [
    "# find genes that exhibit DIE for TESs between HFFc6 and HepG2\n",
    "die_table = sg.die_gene_test(kind='tes', obs_col='cell_line', obs_conditions=['hepg2', 'hffc6'])\n",
    "die_table.head()"
   ]
  },
  {
   "cell_type": "code",
   "execution_count": 8,
   "metadata": {},
   "outputs": [
    {
     "data": {
      "text/html": [
       "<div>\n",
       "<style scoped>\n",
       "    .dataframe tbody tr th:only-of-type {\n",
       "        vertical-align: middle;\n",
       "    }\n",
       "\n",
       "    .dataframe tbody tr th {\n",
       "        vertical-align: top;\n",
       "    }\n",
       "\n",
       "    .dataframe thead th {\n",
       "        text-align: right;\n",
       "    }\n",
       "</style>\n",
       "<table border=\"1\" class=\"dataframe\">\n",
       "  <thead>\n",
       "    <tr style=\"text-align: right;\">\n",
       "      <th></th>\n",
       "      <th>gid</th>\n",
       "      <th>p_val</th>\n",
       "      <th>dpi</th>\n",
       "      <th>adj_p_val</th>\n",
       "    </tr>\n",
       "  </thead>\n",
       "  <tbody>\n",
       "    <tr>\n",
       "      <th>0</th>\n",
       "      <td>ENSG00000000419.12</td>\n",
       "      <td>0.749266</td>\n",
       "      <td>0.096133</td>\n",
       "      <td>0.904272</td>\n",
       "    </tr>\n",
       "    <tr>\n",
       "      <th>1</th>\n",
       "      <td>ENSG00000001461.16</td>\n",
       "      <td>0.852914</td>\n",
       "      <td>9.093739</td>\n",
       "      <td>0.943997</td>\n",
       "    </tr>\n",
       "  </tbody>\n",
       "</table>\n",
       "</div>"
      ],
      "text/plain": [
       "                  gid     p_val       dpi  adj_p_val\n",
       "0  ENSG00000000419.12  0.749266  0.096133   0.904272\n",
       "1  ENSG00000001461.16  0.852914  9.093739   0.943997"
      ]
     },
     "execution_count": 8,
     "metadata": {},
     "output_type": "execute_result"
    }
   ],
   "source": [
    "# die_iso - TSS level differential isoform expression test results\n",
    "uns_key = swan.make_uns_key('die',\n",
    "                            obs_col=obs_col, \n",
    "                            obs_conditions=obs_conditions,\n",
    "                            die_kind='tes')\n",
    "test = sg.adata.uns[uns_key]\n",
    "test.head(2)"
   ]
  },
  {
   "cell_type": "code",
   "execution_count": 9,
   "metadata": {},
   "outputs": [
    {
     "data": {
      "text/html": [
       "<div>\n",
       "<style scoped>\n",
       "    .dataframe tbody tr th:only-of-type {\n",
       "        vertical-align: middle;\n",
       "    }\n",
       "\n",
       "    .dataframe tbody tr th {\n",
       "        vertical-align: top;\n",
       "    }\n",
       "\n",
       "    .dataframe thead th {\n",
       "        text-align: right;\n",
       "    }\n",
       "</style>\n",
       "<table border=\"1\" class=\"dataframe\">\n",
       "  <thead>\n",
       "    <tr style=\"text-align: right;\">\n",
       "      <th></th>\n",
       "      <th>gid</th>\n",
       "      <th>p_val</th>\n",
       "      <th>dpi</th>\n",
       "      <th>adj_p_val</th>\n",
       "    </tr>\n",
       "  </thead>\n",
       "  <tbody>\n",
       "    <tr>\n",
       "      <th>9</th>\n",
       "      <td>ENSG00000003402.19</td>\n",
       "      <td>7.338098e-15</td>\n",
       "      <td>84.848488</td>\n",
       "      <td>5.296535e-13</td>\n",
       "    </tr>\n",
       "    <tr>\n",
       "      <th>10</th>\n",
       "      <td>ENSG00000003436.15</td>\n",
       "      <td>2.772096e-07</td>\n",
       "      <td>32.637852</td>\n",
       "      <td>7.003007e-06</td>\n",
       "    </tr>\n",
       "    <tr>\n",
       "      <th>14</th>\n",
       "      <td>ENSG00000004487.16</td>\n",
       "      <td>1.135407e-03</td>\n",
       "      <td>75.714287</td>\n",
       "      <td>1.141621e-02</td>\n",
       "    </tr>\n",
       "    <tr>\n",
       "      <th>32</th>\n",
       "      <td>ENSG00000006282.20</td>\n",
       "      <td>6.858641e-03</td>\n",
       "      <td>19.819595</td>\n",
       "      <td>4.915014e-02</td>\n",
       "    </tr>\n",
       "    <tr>\n",
       "      <th>60</th>\n",
       "      <td>ENSG00000010278.13</td>\n",
       "      <td>3.191221e-22</td>\n",
       "      <td>39.024387</td>\n",
       "      <td>3.486194e-20</td>\n",
       "    </tr>\n",
       "  </tbody>\n",
       "</table>\n",
       "</div>"
      ],
      "text/plain": [
       "                   gid         p_val        dpi     adj_p_val\n",
       "9   ENSG00000003402.19  7.338098e-15  84.848488  5.296535e-13\n",
       "10  ENSG00000003436.15  2.772096e-07  32.637852  7.003007e-06\n",
       "14  ENSG00000004487.16  1.135407e-03  75.714287  1.141621e-02\n",
       "32  ENSG00000006282.20  6.858641e-03  19.819595  4.915014e-02\n",
       "60  ENSG00000010278.13  3.191221e-22  39.024387  3.486194e-20"
      ]
     },
     "execution_count": 9,
     "metadata": {},
     "output_type": "execute_result"
    }
   ],
   "source": [
    "test = sg.get_die_genes(kind='tes', obs_col=obs_col, \n",
    "                        obs_conditions=obs_conditions,\n",
    "                        p=0.05, dpi=10)\n",
    "test.head()"
   ]
  },
  {
   "cell_type": "markdown",
   "metadata": {},
   "source": [
    "## <a name=\"multi_gb\"></a>Combining metadata columns"
   ]
  },
  {
   "cell_type": "markdown",
   "metadata": {},
   "source": [
    "What if none of the metadata columns you have summarize the comparisons you want to make? What if I want to find differentially expressed genes or transcripts, or find isoform-switching genes between hffc6 replicate 3 and hepg2 replicate 1? "
   ]
  },
  {
   "cell_type": "code",
   "execution_count": 10,
   "metadata": {},
   "outputs": [
    {
     "data": {
      "text/html": [
       "<div>\n",
       "<style scoped>\n",
       "    .dataframe tbody tr th:only-of-type {\n",
       "        vertical-align: middle;\n",
       "    }\n",
       "\n",
       "    .dataframe tbody tr th {\n",
       "        vertical-align: top;\n",
       "    }\n",
       "\n",
       "    .dataframe thead th {\n",
       "        text-align: right;\n",
       "    }\n",
       "</style>\n",
       "<table border=\"1\" class=\"dataframe\">\n",
       "  <thead>\n",
       "    <tr style=\"text-align: right;\">\n",
       "      <th></th>\n",
       "      <th>dataset</th>\n",
       "      <th>cell_line</th>\n",
       "      <th>replicate</th>\n",
       "    </tr>\n",
       "    <tr>\n",
       "      <th>index</th>\n",
       "      <th></th>\n",
       "      <th></th>\n",
       "      <th></th>\n",
       "    </tr>\n",
       "  </thead>\n",
       "  <tbody>\n",
       "    <tr>\n",
       "      <th>hepg2_1</th>\n",
       "      <td>hepg2_1</td>\n",
       "      <td>hepg2</td>\n",
       "      <td>1</td>\n",
       "    </tr>\n",
       "    <tr>\n",
       "      <th>hepg2_2</th>\n",
       "      <td>hepg2_2</td>\n",
       "      <td>hepg2</td>\n",
       "      <td>2</td>\n",
       "    </tr>\n",
       "    <tr>\n",
       "      <th>hffc6_1</th>\n",
       "      <td>hffc6_1</td>\n",
       "      <td>hffc6</td>\n",
       "      <td>1</td>\n",
       "    </tr>\n",
       "    <tr>\n",
       "      <th>hffc6_2</th>\n",
       "      <td>hffc6_2</td>\n",
       "      <td>hffc6</td>\n",
       "      <td>2</td>\n",
       "    </tr>\n",
       "    <tr>\n",
       "      <th>hffc6_3</th>\n",
       "      <td>hffc6_3</td>\n",
       "      <td>hffc6</td>\n",
       "      <td>3</td>\n",
       "    </tr>\n",
       "  </tbody>\n",
       "</table>\n",
       "</div>"
      ],
      "text/plain": [
       "         dataset cell_line replicate\n",
       "index                               \n",
       "hepg2_1  hepg2_1     hepg2         1\n",
       "hepg2_2  hepg2_2     hepg2         2\n",
       "hffc6_1  hffc6_1     hffc6         1\n",
       "hffc6_2  hffc6_2     hffc6         2\n",
       "hffc6_3  hffc6_3     hffc6         3"
      ]
     },
     "execution_count": 10,
     "metadata": {},
     "output_type": "execute_result"
    }
   ],
   "source": [
    "sg.adata.obs.head()"
   ]
  },
  {
   "cell_type": "markdown",
   "metadata": {},
   "source": [
    "Let's ignore for a moment the fact that the `dataset` column does effectively capture both replicate as well as cell line metadata. This may not always be the case with more complex datasets! Swan has a function to concatenate columns together and add them as an additional column to the metadata tables. Use the following code to generate a new column that concatenates as many preexisting metadata columns as you wish:"
   ]
  },
  {
   "cell_type": "code",
   "execution_count": 11,
   "metadata": {},
   "outputs": [
    {
     "name": "stdout",
     "output_type": "stream",
     "text": [
      "cell_line_replicate\n",
      "         dataset cell_line replicate cell_line_replicate\n",
      "index                                                   \n",
      "hepg2_1  hepg2_1     hepg2         1             hepg2_1\n",
      "hepg2_2  hepg2_2     hepg2         2             hepg2_2\n",
      "hffc6_1  hffc6_1     hffc6         1             hffc6_1\n",
      "hffc6_2  hffc6_2     hffc6         2             hffc6_2\n",
      "hffc6_3  hffc6_3     hffc6         3             hffc6_3\n"
     ]
    }
   ],
   "source": [
    "col_name = sg.add_multi_groupby(['cell_line', 'replicate'])\n",
    "\n",
    "print(col_name)\n",
    "print(sg.adata.obs.head())"
   ]
  },
  {
   "cell_type": "markdown",
   "metadata": {},
   "source": [
    "The added column in `col_name` can then be used as the `obs_col` input to `de_gene_test(), de_transcript_test(), and die_gene_test()`, as in the following calls:"
   ]
  },
  {
   "cell_type": "code",
   "execution_count": 13,
   "metadata": {},
   "outputs": [],
   "source": [
    "obs_col = col_name\n",
    "obs_conditions = ['hffc6_3', 'hepg2_1']\n",
    "\n",
    "deg_summary = sg.de_gene_test(obs_col=obs_col,\n",
    "                              obs_conditions=obs_conditions)\n",
    "det_summary = sg.de_transcript_test(obs_col=obs_col,\n",
    "                                    obs_conditions=obs_conditions)\n",
    "die_summary = sg.die_gene_test(obs_col=obs_col, \n",
    "                               obs_conditions=obs_conditions)"
   ]
  },
  {
   "cell_type": "markdown",
   "metadata": {},
   "source": [
    "## <a name=\"es_ir\"></a>Exon skipping and intron retention"
   ]
  },
  {
   "cell_type": "markdown",
   "metadata": {},
   "source": [
    "Swan can detect novel (unannotated) exon skipping and intron retention events. "
   ]
  },
  {
   "cell_type": "markdown",
   "metadata": {},
   "source": [
    "To obtain a dataframe of novel exon skipping events, run the following code:"
   ]
  },
  {
   "cell_type": "code",
   "execution_count": 3,
   "metadata": {},
   "outputs": [],
   "source": [
    "# returns a DataFrame of genes, transcripts, and specific edges in \n",
    "# the SwanGraph with novel exon skipping events\n",
    "es_df = sg.find_es_genes(verbose=True)"
   ]
  },
  {
   "cell_type": "code",
   "execution_count": 15,
   "metadata": {},
   "outputs": [
    {
     "data": {
      "text/html": [
       "<div>\n",
       "<style scoped>\n",
       "    .dataframe tbody tr th:only-of-type {\n",
       "        vertical-align: middle;\n",
       "    }\n",
       "\n",
       "    .dataframe tbody tr th {\n",
       "        vertical-align: top;\n",
       "    }\n",
       "\n",
       "    .dataframe thead th {\n",
       "        text-align: right;\n",
       "    }\n",
       "</style>\n",
       "<table border=\"1\" class=\"dataframe\">\n",
       "  <thead>\n",
       "    <tr style=\"text-align: right;\">\n",
       "      <th></th>\n",
       "      <th>gid</th>\n",
       "      <th>tid</th>\n",
       "      <th>egde_id</th>\n",
       "    </tr>\n",
       "  </thead>\n",
       "  <tbody>\n",
       "    <tr>\n",
       "      <th>0</th>\n",
       "      <td>ENSG00000157916.19</td>\n",
       "      <td>TALONT000218256</td>\n",
       "      <td>952616</td>\n",
       "    </tr>\n",
       "    <tr>\n",
       "      <th>0</th>\n",
       "      <td>ENSG00000122406.13</td>\n",
       "      <td>TALONT000425229</td>\n",
       "      <td>952716</td>\n",
       "    </tr>\n",
       "    <tr>\n",
       "      <th>0</th>\n",
       "      <td>ENSG00000224093.5</td>\n",
       "      <td>TALONT000434035</td>\n",
       "      <td>952720</td>\n",
       "    </tr>\n",
       "    <tr>\n",
       "      <th>0</th>\n",
       "      <td>ENSG00000224093.5</td>\n",
       "      <td>TALONT000434035</td>\n",
       "      <td>952720</td>\n",
       "    </tr>\n",
       "    <tr>\n",
       "      <th>0</th>\n",
       "      <td>ENSG00000224093.5</td>\n",
       "      <td>TALONT000434035</td>\n",
       "      <td>952720</td>\n",
       "    </tr>\n",
       "  </tbody>\n",
       "</table>\n",
       "</div>"
      ],
      "text/plain": [
       "                  gid              tid  egde_id\n",
       "0  ENSG00000157916.19  TALONT000218256   952616\n",
       "0  ENSG00000122406.13  TALONT000425229   952716\n",
       "0   ENSG00000224093.5  TALONT000434035   952720\n",
       "0   ENSG00000224093.5  TALONT000434035   952720\n",
       "0   ENSG00000224093.5  TALONT000434035   952720"
      ]
     },
     "execution_count": 15,
     "metadata": {},
     "output_type": "execute_result"
    }
   ],
   "source": [
    "es_df.head()"
   ]
  },
  {
   "cell_type": "markdown",
   "metadata": {},
   "source": [
    "You can pass gene IDs from `es_df` into `gen_report()` or `plot_graph()` to visualize where these exon-skipping events are in gene reports or gene summary graphs respectively."
   ]
  },
  {
   "cell_type": "markdown",
   "metadata": {},
   "source": [
    "To obtain a list of genes containing novel intron retention events, run the following code:"
   ]
  },
  {
   "cell_type": "code",
   "execution_count": 2,
   "metadata": {},
   "outputs": [],
   "source": [
    "# returns a DataFrame of genes, transcripts, and specific edges in \n",
    "# the SwanGraph with novel intron retaining events\n",
    "ir_df = sg.find_ir_genes(verbose=True)"
   ]
  },
  {
   "cell_type": "code",
   "execution_count": 17,
   "metadata": {},
   "outputs": [
    {
     "name": "stdout",
     "output_type": "stream",
     "text": [
      "Saving graph as data/swan.p\n",
      "Saving graph as swan.p\n",
      "Saving graph as data/swan_files_full.p\n"
     ]
    }
   ],
   "source": [
    "# save the SwanGraph as a Python pickle file\n",
    "sg.save_graph('data/swan')\n",
    "sg.save_graph('swan')\n",
    "sg.save_graph('data/swan_files_full')"
   ]
  },
  {
   "cell_type": "code",
   "execution_count": 4,
   "metadata": {},
   "outputs": [
    {
     "data": {
      "text/html": [
       "<div>\n",
       "<style scoped>\n",
       "    .dataframe tbody tr th:only-of-type {\n",
       "        vertical-align: middle;\n",
       "    }\n",
       "\n",
       "    .dataframe tbody tr th {\n",
       "        vertical-align: top;\n",
       "    }\n",
       "\n",
       "    .dataframe thead th {\n",
       "        text-align: right;\n",
       "    }\n",
       "</style>\n",
       "<table border=\"1\" class=\"dataframe\">\n",
       "  <thead>\n",
       "    <tr style=\"text-align: right;\">\n",
       "      <th></th>\n",
       "      <th>gid</th>\n",
       "      <th>tid</th>\n",
       "      <th>egde_id</th>\n",
       "    </tr>\n",
       "  </thead>\n",
       "  <tbody>\n",
       "    <tr>\n",
       "      <th>0</th>\n",
       "      <td>ENSG00000143753.12</td>\n",
       "      <td>TALONT000482711</td>\n",
       "      <td>952811</td>\n",
       "    </tr>\n",
       "    <tr>\n",
       "      <th>0</th>\n",
       "      <td>ENSG00000285053.1</td>\n",
       "      <td>TALONT000483978</td>\n",
       "      <td>952821</td>\n",
       "    </tr>\n",
       "    <tr>\n",
       "      <th>0</th>\n",
       "      <td>ENSG00000177042.14</td>\n",
       "      <td>TALONT000213980</td>\n",
       "      <td>954058</td>\n",
       "    </tr>\n",
       "    <tr>\n",
       "      <th>0</th>\n",
       "      <td>ENSG00000177042.14</td>\n",
       "      <td>TALONT000213980</td>\n",
       "      <td>954058</td>\n",
       "    </tr>\n",
       "    <tr>\n",
       "      <th>0</th>\n",
       "      <td>ENSG00000148926.9</td>\n",
       "      <td>TALONT000251937</td>\n",
       "      <td>954085</td>\n",
       "    </tr>\n",
       "  </tbody>\n",
       "</table>\n",
       "</div>"
      ],
      "text/plain": [
       "                  gid              tid  egde_id\n",
       "0  ENSG00000143753.12  TALONT000482711   952811\n",
       "0   ENSG00000285053.1  TALONT000483978   952821\n",
       "0  ENSG00000177042.14  TALONT000213980   954058\n",
       "0  ENSG00000177042.14  TALONT000213980   954058\n",
       "0   ENSG00000148926.9  TALONT000251937   954085"
      ]
     },
     "execution_count": 4,
     "metadata": {},
     "output_type": "execute_result"
    }
   ],
   "source": [
    "ir_df.head()"
   ]
  },
  {
   "cell_type": "markdown",
   "metadata": {},
   "source": [
    "You can pass gene IDs from `ir_df` into `gen_report()` or `plot_graph()` to visualize where these intron retention events are in gene reports or gene summary graphs respectively."
   ]
  },
  {
   "cell_type": "markdown",
   "metadata": {},
   "source": [
    "## <a name=\"more_de\"></a>More differential expression"
   ]
  },
  {
   "cell_type": "markdown",
   "metadata": {},
   "source": [
    "For users that are interested in using different differential expression tests, or tweaking the input parameters, we encourage them to obtain an AnnData version of of their SwanGraph using `create_gene_anndata` or `create_transcript_anndata`, and exploring the numerous differential testing options that diffxpy supports. \n",
    "\n",
    "[Diffxpy differential testing tutorials](https://diffxpy.readthedocs.io/en/latest/tutorials.html#differential-testing)\n",
    "\n",
    "[More information on diffxpy differential expression tests](https://nbviewer.jupyter.org/github/theislab/diffxpy_tutorials/blob/master/diffxpy_tutorials/test/introduction_differential_testing.ipynb) "
   ]
  },
  {
   "cell_type": "code",
   "execution_count": 3,
   "metadata": {},
   "outputs": [
    {
     "name": "stderr",
     "output_type": "stream",
     "text": [
      "Transforming to str index.\n"
     ]
    }
   ],
   "source": [
    "dataset_groups = [['HepG2_1','HepG2_2'],\n",
    "                  ['HFFc6_1','HFFc6_2','HFFc6_3']]\n",
    "\n",
    "# create a gene-level AnnData object compatible with diffxpy \n",
    "# that assigns different condition labels to the given dataset groups\n",
    "gene_adata = sg.create_gene_anndata(dataset_groups)"
   ]
  },
  {
   "cell_type": "code",
   "execution_count": 4,
   "metadata": {},
   "outputs": [
    {
     "name": "stderr",
     "output_type": "stream",
     "text": [
      "Transforming to str index.\n"
     ]
    }
   ],
   "source": [
    "# create a transcript-level AnnData object compatible with diffxpy \n",
    "# that assigns different condition labels to the given dataset groups\n",
    "transcript_adata = sg.create_transcript_anndata(dataset_groups)"
   ]
  }
 ],
 "metadata": {
  "kernelspec": {
   "display_name": "Python 3",
   "language": "python",
   "name": "python3"
  },
  "language_info": {
   "codemirror_mode": {
    "name": "ipython",
    "version": 3
   },
   "file_extension": ".py",
   "mimetype": "text/x-python",
   "name": "python",
   "nbconvert_exporter": "python",
   "pygments_lexer": "ipython3",
   "version": "3.7.4"
  }
 },
 "nbformat": 4,
 "nbformat_minor": 4
}
