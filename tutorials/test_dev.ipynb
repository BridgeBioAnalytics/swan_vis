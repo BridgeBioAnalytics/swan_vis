{
 "cells": [
  {
   "cell_type": "code",
   "execution_count": 1,
   "id": "gorgeous-recruitment",
   "metadata": {},
   "outputs": [
    {
     "name": "stderr",
     "output_type": "stream",
     "text": [
      "/Users/fairliereese/miniconda3/lib/python3.7/site-packages/anndata/_core/anndata.py:21: FutureWarning: pandas.core.index is deprecated and will be removed in a future version.  The public classes are available in the top-level namespace.\n",
      "  from pandas.core.index import RangeIndex\n"
     ]
    }
   ],
   "source": [
    "import swan_vis as swan\n",
    "import pandas as pd\n",
    "import anndata\n",
    "import numpy as np"
   ]
  },
  {
   "cell_type": "markdown",
   "id": "purple-revision",
   "metadata": {},
   "source": [
    "#### test - calc PI for a condition that is not 'dataset'"
   ]
  },
  {
   "cell_type": "code",
   "execution_count": null,
   "id": "phantom-union",
   "metadata": {},
   "outputs": [],
   "source": []
  },
  {
   "cell_type": "markdown",
   "id": "complete-stations",
   "metadata": {},
   "source": [
    "#### test - add abundance and then more abundance and calc pi (in add_abundance)"
   ]
  },
  {
   "cell_type": "code",
   "execution_count": 2,
   "id": "august-champagne",
   "metadata": {},
   "outputs": [
    {
     "name": "stdout",
     "output_type": "stream",
     "text": [
      "\n",
      "Adding annotation to the SwanGraph\n"
     ]
    },
    {
     "name": "stderr",
     "output_type": "stream",
     "text": [
      "Processing transcripts:  99%|█████████▉| 8400/8450 [00:01<00:00, 4252.42it/s]\n"
     ]
    },
    {
     "name": "stdout",
     "output_type": "stream",
     "text": [
      "Reindexing and sorting entries on genomic location...\n"
     ]
    },
    {
     "name": "stderr",
     "output_type": "stream",
     "text": [
      "Reindexing vertices: 100%|█████████▉| 50000/50074 [00:00<00:00, 996830.53it/s] \n",
      "Reindexing edges:  98%|█████████▊| 49000/50074 [00:00<00:00, 632364.20it/s]\n",
      "Reindexing transcripts:  99%|█████████▉| 8400/8450 [00:00<00:00, 155584.69it/s]\n"
     ]
    },
    {
     "name": "stdout",
     "output_type": "stream",
     "text": [
      "\n",
      "Annotation to the SwanGraph\n",
      "\n",
      "Adding transcriptome to the SwanGraph\n"
     ]
    },
    {
     "name": "stderr",
     "output_type": "stream",
     "text": [
      "AnnData expects .obs.index to contain strings, but your first indices are: Int64Index([0, 1], dtype='int64'), …\n"
     ]
    },
    {
     "name": "stdout",
     "output_type": "stream",
     "text": [
      "\n",
      "Adding abundance for datasets PB65_B017, PB65_B018 to SwanGraph.\n",
      "\n",
      "Adding abundance for datasets D12 to SwanGraph.\n"
     ]
    }
   ],
   "source": [
    "sg = swan.SwanGraph()\n",
    "# just gencode vM21 chr 11 and tcf3\n",
    "gtf = 'data/chr11_and_Tcf3.gtf'\n",
    "sg.add_annotation(gtf, verbose=True)\n",
    "db = 'data/chr11_and_Tcf3_no_gname.db'\n",
    "sg.add_transcriptome(db, include_isms=True)\n",
    "ab = 'data/chr11_and_Tcf3_talon_abundance_PB65.tsv'\n",
    "sg.add_abundance(ab)\n",
    "ab = 'data/chr11_and_Tcf3_talon_abundance_D12.tsv'\n",
    "sg.add_abundance(ab)\n",
    "meta = 'data/chr11_and_Tcf3_metadata.tsv'\n",
    "sg.add_metadata(meta)"
   ]
  },
  {
   "cell_type": "code",
   "execution_count": 3,
   "id": "christian-blackjack",
   "metadata": {},
   "outputs": [
    {
     "data": {
      "text/html": [
       "<div>\n",
       "<style scoped>\n",
       "    .dataframe tbody tr th:only-of-type {\n",
       "        vertical-align: middle;\n",
       "    }\n",
       "\n",
       "    .dataframe tbody tr th {\n",
       "        vertical-align: top;\n",
       "    }\n",
       "\n",
       "    .dataframe thead th {\n",
       "        text-align: right;\n",
       "    }\n",
       "</style>\n",
       "<table border=\"1\" class=\"dataframe\">\n",
       "  <thead>\n",
       "    <tr style=\"text-align: right;\">\n",
       "      <th></th>\n",
       "      <th>PB65_B017</th>\n",
       "      <th>PB65_B018</th>\n",
       "      <th>D12</th>\n",
       "    </tr>\n",
       "    <tr>\n",
       "      <th>tid</th>\n",
       "      <th></th>\n",
       "      <th></th>\n",
       "      <th></th>\n",
       "    </tr>\n",
       "  </thead>\n",
       "  <tbody>\n",
       "    <tr>\n",
       "      <th>ENCODE-mouseT000008451</th>\n",
       "      <td>True</td>\n",
       "      <td>True</td>\n",
       "      <td>True</td>\n",
       "    </tr>\n",
       "    <tr>\n",
       "      <th>ENCODE-mouseT000008452</th>\n",
       "      <td>True</td>\n",
       "      <td>True</td>\n",
       "      <td>True</td>\n",
       "    </tr>\n",
       "    <tr>\n",
       "      <th>ENCODE-mouseT000008453</th>\n",
       "      <td>True</td>\n",
       "      <td>True</td>\n",
       "      <td>True</td>\n",
       "    </tr>\n",
       "    <tr>\n",
       "      <th>ENCODE-mouseT000008454</th>\n",
       "      <td>True</td>\n",
       "      <td>True</td>\n",
       "      <td>True</td>\n",
       "    </tr>\n",
       "    <tr>\n",
       "      <th>ENCODE-mouseT000008455</th>\n",
       "      <td>True</td>\n",
       "      <td>True</td>\n",
       "      <td>True</td>\n",
       "    </tr>\n",
       "    <tr>\n",
       "      <th>ENCODE-mouseT000008456</th>\n",
       "      <td>True</td>\n",
       "      <td>True</td>\n",
       "      <td>True</td>\n",
       "    </tr>\n",
       "    <tr>\n",
       "      <th>ENCODE-mouseT000008457</th>\n",
       "      <td>True</td>\n",
       "      <td>True</td>\n",
       "      <td>True</td>\n",
       "    </tr>\n",
       "    <tr>\n",
       "      <th>ENCODE-mouseT000008458</th>\n",
       "      <td>True</td>\n",
       "      <td>True</td>\n",
       "      <td>True</td>\n",
       "    </tr>\n",
       "    <tr>\n",
       "      <th>ENCODE-mouseT000008459</th>\n",
       "      <td>True</td>\n",
       "      <td>True</td>\n",
       "      <td>True</td>\n",
       "    </tr>\n",
       "    <tr>\n",
       "      <th>ENCODE-mouseT000008460</th>\n",
       "      <td>True</td>\n",
       "      <td>True</td>\n",
       "      <td>True</td>\n",
       "    </tr>\n",
       "    <tr>\n",
       "      <th>ENCODE-mouseT000008461</th>\n",
       "      <td>True</td>\n",
       "      <td>True</td>\n",
       "      <td>True</td>\n",
       "    </tr>\n",
       "    <tr>\n",
       "      <th>ENCODE-mouseT000008462</th>\n",
       "      <td>True</td>\n",
       "      <td>True</td>\n",
       "      <td>True</td>\n",
       "    </tr>\n",
       "    <tr>\n",
       "      <th>ENSMUST00000020637.8</th>\n",
       "      <td>True</td>\n",
       "      <td>True</td>\n",
       "      <td>True</td>\n",
       "    </tr>\n",
       "    <tr>\n",
       "      <th>ENSMUST00000020741.10</th>\n",
       "      <td>True</td>\n",
       "      <td>True</td>\n",
       "      <td>True</td>\n",
       "    </tr>\n",
       "    <tr>\n",
       "      <th>ENSMUST00000105344.6</th>\n",
       "      <td>True</td>\n",
       "      <td>True</td>\n",
       "      <td>True</td>\n",
       "    </tr>\n",
       "  </tbody>\n",
       "</table>\n",
       "</div>"
      ],
      "text/plain": [
       "                        PB65_B017  PB65_B018   D12\n",
       "tid                                               \n",
       "ENCODE-mouseT000008451       True       True  True\n",
       "ENCODE-mouseT000008452       True       True  True\n",
       "ENCODE-mouseT000008453       True       True  True\n",
       "ENCODE-mouseT000008454       True       True  True\n",
       "ENCODE-mouseT000008455       True       True  True\n",
       "ENCODE-mouseT000008456       True       True  True\n",
       "ENCODE-mouseT000008457       True       True  True\n",
       "ENCODE-mouseT000008458       True       True  True\n",
       "ENCODE-mouseT000008459       True       True  True\n",
       "ENCODE-mouseT000008460       True       True  True\n",
       "ENCODE-mouseT000008461       True       True  True\n",
       "ENCODE-mouseT000008462       True       True  True\n",
       "ENSMUST00000020637.8         True       True  True\n",
       "ENSMUST00000020741.10        True       True  True\n",
       "ENSMUST00000105344.6         True       True  True"
      ]
     },
     "execution_count": 3,
     "metadata": {},
     "output_type": "execute_result"
    }
   ],
   "source": [
    "# test\n",
    "df = pd.DataFrame(data=sg.adata.layers['pi'], \\\n",
    "                  columns=sg.adata.var.index.tolist(), \\\n",
    "                  index=sg.adata.obs.index.tolist())\n",
    "df = df.transpose()\n",
    "df.index.name = 'tid'\n",
    "df.sort_values(by='tid', inplace=True)\n",
    "df\n",
    "\n",
    "# ctrl\n",
    "ctrl = pd.read_csv('data/chr11_and_Tcf3_talon_abundance_pi.tsv', sep='\\t')\n",
    "ctrl.set_index('tid', inplace=True)\n",
    "ctrl.sort_values(by='tid', inplace=True)\n",
    "ctrl\n",
    "\n",
    "ctrl == df"
   ]
  },
  {
   "cell_type": "markdown",
   "id": "expected-march",
   "metadata": {},
   "source": [
    "#### test - calculate percent iso expression per gene (in add_abundance)"
   ]
  },
  {
   "cell_type": "code",
   "execution_count": 6,
   "id": "multiple-accounting",
   "metadata": {},
   "outputs": [
    {
     "name": "stdout",
     "output_type": "stream",
     "text": [
      "\n",
      "Adding annotation to the SwanGraph\n"
     ]
    },
    {
     "name": "stderr",
     "output_type": "stream",
     "text": [
      "Processing transcripts:  99%|█████████▉| 8400/8450 [00:01<00:00, 4419.91it/s]\n"
     ]
    },
    {
     "name": "stdout",
     "output_type": "stream",
     "text": [
      "Reindexing and sorting entries on genomic location...\n"
     ]
    },
    {
     "name": "stderr",
     "output_type": "stream",
     "text": [
      "Reindexing vertices: 100%|█████████▉| 50000/50074 [00:00<00:00, 1207056.48it/s]\n",
      "Reindexing edges:  98%|█████████▊| 49000/50074 [00:00<00:00, 650835.70it/s]\n",
      "Reindexing transcripts:  99%|█████████▉| 8400/8450 [00:00<00:00, 152955.84it/s]\n"
     ]
    },
    {
     "name": "stdout",
     "output_type": "stream",
     "text": [
      "\n",
      "Annotation to the SwanGraph\n",
      "\n",
      "Adding transcriptome to the SwanGraph\n"
     ]
    },
    {
     "name": "stderr",
     "output_type": "stream",
     "text": [
      "AnnData expects .obs.index to contain strings, but your first indices are: Int64Index([0, 1], dtype='int64'), …\n"
     ]
    },
    {
     "name": "stdout",
     "output_type": "stream",
     "text": [
      "\n",
      "Adding abundance for datasets PB65_B017, PB65_B018, D12 to SwanGraph.\n",
      "                          D12  PB65_B017  PB65_B018\n",
      "tid                                                \n",
      "ENCODE-mouseT000008451  100.0       75.0       50.0\n",
      "ENCODE-mouseT000008452    0.0       25.0        0.0\n",
      "ENSMUST00000105344.6      0.0        0.0       50.0\n",
      "ENCODE-mouseT000008453    0.0       50.0      100.0\n",
      "ENSMUST00000020741.10     0.0       50.0        0.0\n",
      "ENCODE-mouseT000008454    0.0      100.0        0.0\n",
      "ENCODE-mouseT000008455    0.0      100.0        0.0\n",
      "ENCODE-mouseT000008456  100.0        0.0        0.0\n",
      "ENCODE-mouseT000008457   25.0        0.0        0.0\n",
      "ENCODE-mouseT000008458   25.0        0.0        0.0\n",
      "ENCODE-mouseT000008459   25.0        0.0        0.0\n",
      "ENCODE-mouseT000008460    0.0        0.0      100.0\n",
      "ENCODE-mouseT000008461    0.0       50.0        0.0\n",
      "ENCODE-mouseT000008462    0.0       50.0        0.0\n",
      "ENSMUST00000020637.8     25.0        0.0        0.0\n",
      "tid        ENCODE-mouseT000008451  ENCODE-mouseT000008452  \\\n",
      "PB65_B017                    75.0                    25.0   \n",
      "PB65_B018                    50.0                     0.0   \n",
      "D12                         100.0                     0.0   \n",
      "\n",
      "tid        ENCODE-mouseT000008453  ENCODE-mouseT000008454  \\\n",
      "PB65_B017                    50.0                   100.0   \n",
      "PB65_B018                   100.0                     0.0   \n",
      "D12                           0.0                     0.0   \n",
      "\n",
      "tid        ENCODE-mouseT000008455  ENCODE-mouseT000008456  \\\n",
      "PB65_B017                   100.0                     0.0   \n",
      "PB65_B018                     0.0                     0.0   \n",
      "D12                           0.0                   100.0   \n",
      "\n",
      "tid        ENCODE-mouseT000008457  ENCODE-mouseT000008458  \\\n",
      "PB65_B017                     0.0                     0.0   \n",
      "PB65_B018                     0.0                     0.0   \n",
      "D12                          25.0                    25.0   \n",
      "\n",
      "tid        ENCODE-mouseT000008459  ENCODE-mouseT000008460  \\\n",
      "PB65_B017                     0.0                     0.0   \n",
      "PB65_B018                     0.0                   100.0   \n",
      "D12                          25.0                     0.0   \n",
      "\n",
      "tid        ENCODE-mouseT000008461  ENCODE-mouseT000008462  \\\n",
      "PB65_B017                    50.0                    50.0   \n",
      "PB65_B018                     0.0                     0.0   \n",
      "D12                           0.0                     0.0   \n",
      "\n",
      "tid        ENSMUST00000020637.8  ENSMUST00000020741.10  ENSMUST00000105344.6  \n",
      "PB65_B017                   0.0                   50.0                   0.0  \n",
      "PB65_B018                   0.0                    0.0                  50.0  \n",
      "D12                        25.0                    0.0                   0.0  \n"
     ]
    }
   ],
   "source": [
    "sg = swan.SwanGraph()\n",
    "# just gencode vM21 chr 11 and tcf3\n",
    "gtf = 'data/chr11_and_Tcf3.gtf'\n",
    "sg.add_annotation(gtf, verbose=True)\n",
    "db = 'data/chr11_and_Tcf3_no_gname.db'\n",
    "sg.add_transcriptome(db, include_isms=True)\n",
    "ab = 'data/chr11_and_Tcf3_talon_abundance.tsv'\n",
    "sg.add_abundance(ab)\n",
    "meta = 'data/chr11_and_Tcf3_metadata.tsv'\n",
    "sg.add_metadata(meta)"
   ]
  },
  {
   "cell_type": "code",
   "execution_count": 7,
   "id": "advanced-contents",
   "metadata": {},
   "outputs": [
    {
     "name": "stdout",
     "output_type": "stream",
     "text": [
      "             dataset cluster   sample\n",
      "index                                \n",
      "PB65_B017  PB65_B017       2  GM12878\n",
      "PB65_B018  PB65_B018       2  GM12878\n",
      "D12              D12       1     K562\n",
      "[[ 75.  25.  50. 100. 100.   0.   0.   0.   0.   0.  50.  50.   0.  50.\n",
      "    0.]\n",
      " [ 50.   0. 100.   0.   0.   0.   0.   0.   0. 100.   0.   0.   0.   0.\n",
      "   50.]\n",
      " [100.   0.   0.   0.   0. 100.  25.  25.  25.   0.   0.   0.  25.   0.\n",
      "    0.]]\n"
     ]
    }
   ],
   "source": [
    "print(sg.adata.obs)\n",
    "print(sg.adata.layers['pi'])"
   ]
  },
  {
   "cell_type": "markdown",
   "id": "interim-hierarchy",
   "metadata": {},
   "source": [
    "The following two should be equivalent"
   ]
  },
  {
   "cell_type": "code",
   "execution_count": 11,
   "id": "finnish-contact",
   "metadata": {},
   "outputs": [
    {
     "data": {
      "text/html": [
       "<div>\n",
       "<style scoped>\n",
       "    .dataframe tbody tr th:only-of-type {\n",
       "        vertical-align: middle;\n",
       "    }\n",
       "\n",
       "    .dataframe tbody tr th {\n",
       "        vertical-align: top;\n",
       "    }\n",
       "\n",
       "    .dataframe thead th {\n",
       "        text-align: right;\n",
       "    }\n",
       "</style>\n",
       "<table border=\"1\" class=\"dataframe\">\n",
       "  <thead>\n",
       "    <tr style=\"text-align: right;\">\n",
       "      <th></th>\n",
       "      <th>PB65_B017</th>\n",
       "      <th>PB65_B018</th>\n",
       "      <th>D12</th>\n",
       "    </tr>\n",
       "    <tr>\n",
       "      <th>tid</th>\n",
       "      <th></th>\n",
       "      <th></th>\n",
       "      <th></th>\n",
       "    </tr>\n",
       "  </thead>\n",
       "  <tbody>\n",
       "    <tr>\n",
       "      <th>ENCODE-mouseT000008451</th>\n",
       "      <td>75.0</td>\n",
       "      <td>50.0</td>\n",
       "      <td>100.0</td>\n",
       "    </tr>\n",
       "    <tr>\n",
       "      <th>ENCODE-mouseT000008452</th>\n",
       "      <td>25.0</td>\n",
       "      <td>0.0</td>\n",
       "      <td>0.0</td>\n",
       "    </tr>\n",
       "    <tr>\n",
       "      <th>ENCODE-mouseT000008453</th>\n",
       "      <td>50.0</td>\n",
       "      <td>100.0</td>\n",
       "      <td>0.0</td>\n",
       "    </tr>\n",
       "    <tr>\n",
       "      <th>ENCODE-mouseT000008454</th>\n",
       "      <td>100.0</td>\n",
       "      <td>0.0</td>\n",
       "      <td>0.0</td>\n",
       "    </tr>\n",
       "    <tr>\n",
       "      <th>ENCODE-mouseT000008455</th>\n",
       "      <td>100.0</td>\n",
       "      <td>0.0</td>\n",
       "      <td>0.0</td>\n",
       "    </tr>\n",
       "    <tr>\n",
       "      <th>ENCODE-mouseT000008456</th>\n",
       "      <td>0.0</td>\n",
       "      <td>0.0</td>\n",
       "      <td>100.0</td>\n",
       "    </tr>\n",
       "    <tr>\n",
       "      <th>ENCODE-mouseT000008457</th>\n",
       "      <td>0.0</td>\n",
       "      <td>0.0</td>\n",
       "      <td>25.0</td>\n",
       "    </tr>\n",
       "    <tr>\n",
       "      <th>ENCODE-mouseT000008458</th>\n",
       "      <td>0.0</td>\n",
       "      <td>0.0</td>\n",
       "      <td>25.0</td>\n",
       "    </tr>\n",
       "    <tr>\n",
       "      <th>ENCODE-mouseT000008459</th>\n",
       "      <td>0.0</td>\n",
       "      <td>0.0</td>\n",
       "      <td>25.0</td>\n",
       "    </tr>\n",
       "    <tr>\n",
       "      <th>ENCODE-mouseT000008460</th>\n",
       "      <td>0.0</td>\n",
       "      <td>100.0</td>\n",
       "      <td>0.0</td>\n",
       "    </tr>\n",
       "    <tr>\n",
       "      <th>ENCODE-mouseT000008461</th>\n",
       "      <td>50.0</td>\n",
       "      <td>0.0</td>\n",
       "      <td>0.0</td>\n",
       "    </tr>\n",
       "    <tr>\n",
       "      <th>ENCODE-mouseT000008462</th>\n",
       "      <td>50.0</td>\n",
       "      <td>0.0</td>\n",
       "      <td>0.0</td>\n",
       "    </tr>\n",
       "    <tr>\n",
       "      <th>ENSMUST00000020637.8</th>\n",
       "      <td>0.0</td>\n",
       "      <td>0.0</td>\n",
       "      <td>25.0</td>\n",
       "    </tr>\n",
       "    <tr>\n",
       "      <th>ENSMUST00000020741.10</th>\n",
       "      <td>50.0</td>\n",
       "      <td>0.0</td>\n",
       "      <td>0.0</td>\n",
       "    </tr>\n",
       "    <tr>\n",
       "      <th>ENSMUST00000105344.6</th>\n",
       "      <td>0.0</td>\n",
       "      <td>50.0</td>\n",
       "      <td>0.0</td>\n",
       "    </tr>\n",
       "  </tbody>\n",
       "</table>\n",
       "</div>"
      ],
      "text/plain": [
       "                        PB65_B017  PB65_B018    D12\n",
       "tid                                                \n",
       "ENCODE-mouseT000008451       75.0       50.0  100.0\n",
       "ENCODE-mouseT000008452       25.0        0.0    0.0\n",
       "ENCODE-mouseT000008453       50.0      100.0    0.0\n",
       "ENCODE-mouseT000008454      100.0        0.0    0.0\n",
       "ENCODE-mouseT000008455      100.0        0.0    0.0\n",
       "ENCODE-mouseT000008456        0.0        0.0  100.0\n",
       "ENCODE-mouseT000008457        0.0        0.0   25.0\n",
       "ENCODE-mouseT000008458        0.0        0.0   25.0\n",
       "ENCODE-mouseT000008459        0.0        0.0   25.0\n",
       "ENCODE-mouseT000008460        0.0      100.0    0.0\n",
       "ENCODE-mouseT000008461       50.0        0.0    0.0\n",
       "ENCODE-mouseT000008462       50.0        0.0    0.0\n",
       "ENSMUST00000020637.8          0.0        0.0   25.0\n",
       "ENSMUST00000020741.10        50.0        0.0    0.0\n",
       "ENSMUST00000105344.6          0.0       50.0    0.0"
      ]
     },
     "execution_count": 11,
     "metadata": {},
     "output_type": "execute_result"
    }
   ],
   "source": [
    "# df = pd.read_csv('data/chr11_and_Tcf3_talon_abundance_pi.tsv', sep='\\t')\n",
    "df = pd.DataFrame(data=sg.adata.layers['pi'], \\\n",
    "                  columns=sg.adata.var.index.tolist(), \\\n",
    "                  index=sg.adata.obs.index.tolist())\n",
    "df = df.transpose()\n",
    "df.index.name = 'tid'\n",
    "df.sort_values(by='tid', inplace=True)\n",
    "df"
   ]
  },
  {
   "cell_type": "code",
   "execution_count": 12,
   "id": "tribal-oxide",
   "metadata": {},
   "outputs": [
    {
     "data": {
      "text/html": [
       "<div>\n",
       "<style scoped>\n",
       "    .dataframe tbody tr th:only-of-type {\n",
       "        vertical-align: middle;\n",
       "    }\n",
       "\n",
       "    .dataframe tbody tr th {\n",
       "        vertical-align: top;\n",
       "    }\n",
       "\n",
       "    .dataframe thead th {\n",
       "        text-align: right;\n",
       "    }\n",
       "</style>\n",
       "<table border=\"1\" class=\"dataframe\">\n",
       "  <thead>\n",
       "    <tr style=\"text-align: right;\">\n",
       "      <th></th>\n",
       "      <th>PB65_B017</th>\n",
       "      <th>PB65_B018</th>\n",
       "      <th>D12</th>\n",
       "    </tr>\n",
       "    <tr>\n",
       "      <th>tid</th>\n",
       "      <th></th>\n",
       "      <th></th>\n",
       "      <th></th>\n",
       "    </tr>\n",
       "  </thead>\n",
       "  <tbody>\n",
       "    <tr>\n",
       "      <th>ENCODE-mouseT000008451</th>\n",
       "      <td>75</td>\n",
       "      <td>50</td>\n",
       "      <td>100</td>\n",
       "    </tr>\n",
       "    <tr>\n",
       "      <th>ENCODE-mouseT000008452</th>\n",
       "      <td>25</td>\n",
       "      <td>0</td>\n",
       "      <td>0</td>\n",
       "    </tr>\n",
       "    <tr>\n",
       "      <th>ENCODE-mouseT000008453</th>\n",
       "      <td>50</td>\n",
       "      <td>100</td>\n",
       "      <td>0</td>\n",
       "    </tr>\n",
       "    <tr>\n",
       "      <th>ENCODE-mouseT000008454</th>\n",
       "      <td>100</td>\n",
       "      <td>0</td>\n",
       "      <td>0</td>\n",
       "    </tr>\n",
       "    <tr>\n",
       "      <th>ENCODE-mouseT000008455</th>\n",
       "      <td>100</td>\n",
       "      <td>0</td>\n",
       "      <td>0</td>\n",
       "    </tr>\n",
       "    <tr>\n",
       "      <th>ENCODE-mouseT000008456</th>\n",
       "      <td>0</td>\n",
       "      <td>0</td>\n",
       "      <td>100</td>\n",
       "    </tr>\n",
       "    <tr>\n",
       "      <th>ENCODE-mouseT000008457</th>\n",
       "      <td>0</td>\n",
       "      <td>0</td>\n",
       "      <td>25</td>\n",
       "    </tr>\n",
       "    <tr>\n",
       "      <th>ENCODE-mouseT000008458</th>\n",
       "      <td>0</td>\n",
       "      <td>0</td>\n",
       "      <td>25</td>\n",
       "    </tr>\n",
       "    <tr>\n",
       "      <th>ENCODE-mouseT000008459</th>\n",
       "      <td>0</td>\n",
       "      <td>0</td>\n",
       "      <td>25</td>\n",
       "    </tr>\n",
       "    <tr>\n",
       "      <th>ENCODE-mouseT000008460</th>\n",
       "      <td>0</td>\n",
       "      <td>100</td>\n",
       "      <td>0</td>\n",
       "    </tr>\n",
       "    <tr>\n",
       "      <th>ENCODE-mouseT000008461</th>\n",
       "      <td>50</td>\n",
       "      <td>0</td>\n",
       "      <td>0</td>\n",
       "    </tr>\n",
       "    <tr>\n",
       "      <th>ENCODE-mouseT000008462</th>\n",
       "      <td>50</td>\n",
       "      <td>0</td>\n",
       "      <td>0</td>\n",
       "    </tr>\n",
       "    <tr>\n",
       "      <th>ENSMUST00000020637.8</th>\n",
       "      <td>0</td>\n",
       "      <td>0</td>\n",
       "      <td>25</td>\n",
       "    </tr>\n",
       "    <tr>\n",
       "      <th>ENSMUST00000020741.10</th>\n",
       "      <td>50</td>\n",
       "      <td>0</td>\n",
       "      <td>0</td>\n",
       "    </tr>\n",
       "    <tr>\n",
       "      <th>ENSMUST00000105344.6</th>\n",
       "      <td>0</td>\n",
       "      <td>50</td>\n",
       "      <td>0</td>\n",
       "    </tr>\n",
       "  </tbody>\n",
       "</table>\n",
       "</div>"
      ],
      "text/plain": [
       "                        PB65_B017  PB65_B018  D12\n",
       "tid                                              \n",
       "ENCODE-mouseT000008451         75         50  100\n",
       "ENCODE-mouseT000008452         25          0    0\n",
       "ENCODE-mouseT000008453         50        100    0\n",
       "ENCODE-mouseT000008454        100          0    0\n",
       "ENCODE-mouseT000008455        100          0    0\n",
       "ENCODE-mouseT000008456          0          0  100\n",
       "ENCODE-mouseT000008457          0          0   25\n",
       "ENCODE-mouseT000008458          0          0   25\n",
       "ENCODE-mouseT000008459          0          0   25\n",
       "ENCODE-mouseT000008460          0        100    0\n",
       "ENCODE-mouseT000008461         50          0    0\n",
       "ENCODE-mouseT000008462         50          0    0\n",
       "ENSMUST00000020637.8            0          0   25\n",
       "ENSMUST00000020741.10          50          0    0\n",
       "ENSMUST00000105344.6            0         50    0"
      ]
     },
     "execution_count": 12,
     "metadata": {},
     "output_type": "execute_result"
    }
   ],
   "source": [
    "# tests\n",
    "ctrl = pd.read_csv('data/chr11_and_Tcf3_talon_abundance_pi.tsv', sep='\\t')\n",
    "ctrl.set_index('tid', inplace=True)\n",
    "ctrl.sort_values(by='tid', inplace=True)\n",
    "ctrl"
   ]
  },
  {
   "cell_type": "code",
   "execution_count": 13,
   "id": "blank-exercise",
   "metadata": {},
   "outputs": [
    {
     "data": {
      "text/html": [
       "<div>\n",
       "<style scoped>\n",
       "    .dataframe tbody tr th:only-of-type {\n",
       "        vertical-align: middle;\n",
       "    }\n",
       "\n",
       "    .dataframe tbody tr th {\n",
       "        vertical-align: top;\n",
       "    }\n",
       "\n",
       "    .dataframe thead th {\n",
       "        text-align: right;\n",
       "    }\n",
       "</style>\n",
       "<table border=\"1\" class=\"dataframe\">\n",
       "  <thead>\n",
       "    <tr style=\"text-align: right;\">\n",
       "      <th></th>\n",
       "      <th>PB65_B017</th>\n",
       "      <th>PB65_B018</th>\n",
       "      <th>D12</th>\n",
       "    </tr>\n",
       "    <tr>\n",
       "      <th>tid</th>\n",
       "      <th></th>\n",
       "      <th></th>\n",
       "      <th></th>\n",
       "    </tr>\n",
       "  </thead>\n",
       "  <tbody>\n",
       "    <tr>\n",
       "      <th>ENCODE-mouseT000008451</th>\n",
       "      <td>True</td>\n",
       "      <td>True</td>\n",
       "      <td>True</td>\n",
       "    </tr>\n",
       "    <tr>\n",
       "      <th>ENCODE-mouseT000008452</th>\n",
       "      <td>True</td>\n",
       "      <td>True</td>\n",
       "      <td>True</td>\n",
       "    </tr>\n",
       "    <tr>\n",
       "      <th>ENCODE-mouseT000008453</th>\n",
       "      <td>True</td>\n",
       "      <td>True</td>\n",
       "      <td>True</td>\n",
       "    </tr>\n",
       "    <tr>\n",
       "      <th>ENCODE-mouseT000008454</th>\n",
       "      <td>True</td>\n",
       "      <td>True</td>\n",
       "      <td>True</td>\n",
       "    </tr>\n",
       "    <tr>\n",
       "      <th>ENCODE-mouseT000008455</th>\n",
       "      <td>True</td>\n",
       "      <td>True</td>\n",
       "      <td>True</td>\n",
       "    </tr>\n",
       "    <tr>\n",
       "      <th>ENCODE-mouseT000008456</th>\n",
       "      <td>True</td>\n",
       "      <td>True</td>\n",
       "      <td>True</td>\n",
       "    </tr>\n",
       "    <tr>\n",
       "      <th>ENCODE-mouseT000008457</th>\n",
       "      <td>True</td>\n",
       "      <td>True</td>\n",
       "      <td>True</td>\n",
       "    </tr>\n",
       "    <tr>\n",
       "      <th>ENCODE-mouseT000008458</th>\n",
       "      <td>True</td>\n",
       "      <td>True</td>\n",
       "      <td>True</td>\n",
       "    </tr>\n",
       "    <tr>\n",
       "      <th>ENCODE-mouseT000008459</th>\n",
       "      <td>True</td>\n",
       "      <td>True</td>\n",
       "      <td>True</td>\n",
       "    </tr>\n",
       "    <tr>\n",
       "      <th>ENCODE-mouseT000008460</th>\n",
       "      <td>True</td>\n",
       "      <td>True</td>\n",
       "      <td>True</td>\n",
       "    </tr>\n",
       "    <tr>\n",
       "      <th>ENCODE-mouseT000008461</th>\n",
       "      <td>True</td>\n",
       "      <td>True</td>\n",
       "      <td>True</td>\n",
       "    </tr>\n",
       "    <tr>\n",
       "      <th>ENCODE-mouseT000008462</th>\n",
       "      <td>True</td>\n",
       "      <td>True</td>\n",
       "      <td>True</td>\n",
       "    </tr>\n",
       "    <tr>\n",
       "      <th>ENSMUST00000020637.8</th>\n",
       "      <td>True</td>\n",
       "      <td>True</td>\n",
       "      <td>True</td>\n",
       "    </tr>\n",
       "    <tr>\n",
       "      <th>ENSMUST00000020741.10</th>\n",
       "      <td>True</td>\n",
       "      <td>True</td>\n",
       "      <td>True</td>\n",
       "    </tr>\n",
       "    <tr>\n",
       "      <th>ENSMUST00000105344.6</th>\n",
       "      <td>True</td>\n",
       "      <td>True</td>\n",
       "      <td>True</td>\n",
       "    </tr>\n",
       "  </tbody>\n",
       "</table>\n",
       "</div>"
      ],
      "text/plain": [
       "                        PB65_B017  PB65_B018   D12\n",
       "tid                                               \n",
       "ENCODE-mouseT000008451       True       True  True\n",
       "ENCODE-mouseT000008452       True       True  True\n",
       "ENCODE-mouseT000008453       True       True  True\n",
       "ENCODE-mouseT000008454       True       True  True\n",
       "ENCODE-mouseT000008455       True       True  True\n",
       "ENCODE-mouseT000008456       True       True  True\n",
       "ENCODE-mouseT000008457       True       True  True\n",
       "ENCODE-mouseT000008458       True       True  True\n",
       "ENCODE-mouseT000008459       True       True  True\n",
       "ENCODE-mouseT000008460       True       True  True\n",
       "ENCODE-mouseT000008461       True       True  True\n",
       "ENCODE-mouseT000008462       True       True  True\n",
       "ENSMUST00000020637.8         True       True  True\n",
       "ENSMUST00000020741.10        True       True  True\n",
       "ENSMUST00000105344.6         True       True  True"
      ]
     },
     "execution_count": 13,
     "metadata": {},
     "output_type": "execute_result"
    }
   ],
   "source": [
    "ctrl == df"
   ]
  },
  {
   "cell_type": "code",
   "execution_count": 3,
   "id": "spatial-berlin",
   "metadata": {
    "collapsed": true,
    "jupyter": {
     "outputs_hidden": true,
     "source_hidden": true
    }
   },
   "outputs": [
    {
     "data": {
      "text/plain": [
       "KeysView(Layers with keys: counts, tpm, pi)"
      ]
     },
     "execution_count": 3,
     "metadata": {},
     "output_type": "execute_result"
    }
   ],
   "source": [
    "sg.adata.layers.keys()"
   ]
  },
  {
   "cell_type": "code",
   "execution_count": 4,
   "id": "inner-short",
   "metadata": {
    "collapsed": true,
    "jupyter": {
     "outputs_hidden": true,
     "source_hidden": true
    }
   },
   "outputs": [
    {
     "data": {
      "text/plain": [
       "array([[100.,   0.,   0.,   0., 100.,  25.,  25.,  25.,  25.,   0.,   0.],\n",
       "       [100.,  50., 100., 100.,   0.,   0.,   0.,   0.,   0.,  50.,   0.],\n",
       "       [ 50., 100.,   0.,   0.,   0.,   0.,   0.,   0.,   0.,   0.,  50.]],\n",
       "      dtype=float32)"
      ]
     },
     "execution_count": 4,
     "metadata": {},
     "output_type": "execute_result"
    }
   ],
   "source": [
    "sg.adata.layers['pi']"
   ]
  },
  {
   "cell_type": "code",
   "execution_count": 56,
   "id": "corporate-gentleman",
   "metadata": {
    "collapsed": true,
    "jupyter": {
     "outputs_hidden": true,
     "source_hidden": true
    }
   },
   "outputs": [
    {
     "name": "stdout",
     "output_type": "stream",
     "text": [
      "   ENCODE-mouseT000008451  ENSMUST00000105344.6\n",
      "1                     2.0                   0.0\n",
      "2                     4.0                   1.0\n",
      "                         1_pi  2_pi\n",
      "ENCODE-mouseT000008451  100.0  80.0\n",
      "ENSMUST00000105344.6      0.0  20.0\n",
      "\n",
      "\n",
      "   ENCODE-mouseT000008453  ENSMUST00000020741.10\n",
      "1                     0.0                    0.0\n",
      "2                     2.0                    1.0\n",
      "                        1_pi       2_pi\n",
      "ENCODE-mouseT000008453   0.0  66.666672\n",
      "ENSMUST00000020741.10    0.0  33.333336\n",
      "\n",
      "\n",
      "   ENCODE-mouseT000008454\n",
      "1                     0.0\n",
      "2                     1.0\n",
      "                        1_pi   2_pi\n",
      "ENCODE-mouseT000008454   0.0  100.0\n",
      "\n",
      "\n",
      "   ENCODE-mouseT000008455\n",
      "1                     0.0\n",
      "2                     1.0\n",
      "                        1_pi   2_pi\n",
      "ENCODE-mouseT000008455   0.0  100.0\n",
      "\n",
      "\n",
      "   ENCODE-mouseT000008456\n",
      "1                     1.0\n",
      "2                     0.0\n",
      "                         1_pi  2_pi\n",
      "ENCODE-mouseT000008456  100.0   0.0\n",
      "\n",
      "\n",
      "   ENCODE-mouseT000008457  ENCODE-mouseT000008458  ENCODE-mouseT000008459  \\\n",
      "1                     1.0                     1.0                     1.0   \n",
      "2                     0.0                     0.0                     0.0   \n",
      "\n",
      "   ENSMUST00000020637.8  \n",
      "1                   1.0  \n",
      "2                   0.0  \n",
      "                        1_pi  2_pi\n",
      "ENCODE-mouseT000008457  25.0   0.0\n",
      "ENCODE-mouseT000008458  25.0   0.0\n",
      "ENCODE-mouseT000008459  25.0   0.0\n",
      "ENSMUST00000020637.8    25.0   0.0\n",
      "\n",
      "\n"
     ]
    },
    {
     "name": "stderr",
     "output_type": "stream",
     "text": [
      "/Users/fairliereese/miniconda3/lib/python3.7/site-packages/anndata/_core/anndata.py:1056: FutureWarning: is_categorical is deprecated and will be removed in a future version.  Use is_categorical_dtype instead\n",
      "  if not is_categorical(df_full[k]):\n",
      "/Users/fairliereese/miniconda3/lib/python3.7/site-packages/anndata/_core/anndata.py:1056: FutureWarning: is_categorical is deprecated and will be removed in a future version.  Use is_categorical_dtype instead\n",
      "  if not is_categorical(df_full[k]):\n",
      "/Users/fairliereese/miniconda3/lib/python3.7/site-packages/anndata/_core/anndata.py:1056: FutureWarning: is_categorical is deprecated and will be removed in a future version.  Use is_categorical_dtype instead\n",
      "  if not is_categorical(df_full[k]):\n",
      "/Users/fairliereese/miniconda3/lib/python3.7/site-packages/anndata/_core/anndata.py:1056: FutureWarning: is_categorical is deprecated and will be removed in a future version.  Use is_categorical_dtype instead\n",
      "  if not is_categorical(df_full[k]):\n",
      "/Users/fairliereese/miniconda3/lib/python3.7/site-packages/anndata/_core/anndata.py:1056: FutureWarning: is_categorical is deprecated and will be removed in a future version.  Use is_categorical_dtype instead\n",
      "  if not is_categorical(df_full[k]):\n",
      "/Users/fairliereese/miniconda3/lib/python3.7/site-packages/anndata/_core/anndata.py:1056: FutureWarning: is_categorical is deprecated and will be removed in a future version.  Use is_categorical_dtype instead\n",
      "  if not is_categorical(df_full[k]):\n"
     ]
    }
   ],
   "source": [
    "# conditions = ['PB65_B017', 'PB65_B018', 'D12']\n",
    "# cond = 'dataset'\n",
    "cond = 'cluster'\n",
    "\n",
    "# first set default assay to counts\n",
    "sg.adata.X = sg.adata.layers['counts']\n",
    "\n",
    "for g in sg.t_df.gid.unique():\n",
    "    tids = sg.t_df.loc[sg.t_df.gid == g, 'tid'].tolist()\n",
    "    temp = sg.adata[:, tids]\n",
    "    temp = pd.DataFrame(data=temp.X, index=temp.obs[cond].tolist(), columns=temp.var.index.tolist())\n",
    "    \n",
    "    temp = temp.groupby(level=0).sum()\n",
    "    conditions = temp.index.tolist()\n",
    "    print(temp)\n",
    "    temp = temp.transpose()\n",
    "    \n",
    "    # aggregate on conditions\n",
    "    pi_cols = []\n",
    "    for c in conditions:\n",
    "        total_col = '{}_total'.format(c)\n",
    "        pi_col = '{}_pi'.format(c)\n",
    "        total_count = temp[c].sum()\n",
    "        temp[total_col] = total_count\n",
    "        temp[pi_col] = (temp[c]/temp[total_col])*100\n",
    "        pi_cols.append(pi_col)\n",
    "        \n",
    "    # fill nans (no expression) with 0\n",
    "    temp.fillna(0, inplace=True)\n",
    "    \n",
    "    # only pi columns\n",
    "    temp = temp[pi_cols]"
   ]
  },
  {
   "cell_type": "code",
   "execution_count": 128,
   "id": "olympic-greek",
   "metadata": {
    "collapsed": true,
    "jupyter": {
     "outputs_hidden": true,
     "source_hidden": true
    }
   },
   "outputs": [
    {
     "data": {
      "text/plain": [
       "Index(['ENCODE-mouseT000008451', 'ENCODE-mouseT000008453',\n",
       "       'ENCODE-mouseT000008454', 'ENCODE-mouseT000008455',\n",
       "       'ENCODE-mouseT000008456', 'ENCODE-mouseT000008457',\n",
       "       'ENCODE-mouseT000008458', 'ENCODE-mouseT000008459',\n",
       "       'ENSMUST00000020637.8', 'ENSMUST00000020741.10',\n",
       "       'ENSMUST00000105344.6'],\n",
       "      dtype='object', name='tid')"
      ]
     },
     "execution_count": 128,
     "metadata": {},
     "output_type": "execute_result"
    }
   ],
   "source": [
    "# calc pi\n",
    "\n",
    "cond = 'dataset'\n",
    "df = pd.DataFrame(data=sg.adata.X, index=sg.adata.obs[cond].tolist(), columns=sg.adata.var.index.tolist())\n",
    "\n",
    "# add up values on condition (row)\n",
    "# print(df.head())\n",
    "df = df.groupby(level=0).sum()\n",
    "# print(df.head())\n",
    "conditions = df.index.unique().tolist()\n",
    "# print(conditions)\n",
    "df = df.transpose()\n",
    "\n",
    "# add gid \n",
    "df = df.merge(sg.t_df['gid'], how='left', left_index=True, right_index=True)\n",
    "\n",
    "# calculate total number of reads per gene per condition\n",
    "# print(df.loc[df.gid == 'ENSMUSG00000020167.13'])\n",
    "temp = df.copy(deep=True)\n",
    "temp.reset_index(drop=True, inplace=True)\n",
    "totals = temp.groupby('gid').sum().reset_index()\n",
    "# print(totals.head())\n",
    "\n",
    "# merge back in \n",
    "df.reset_index(inplace=True)\n",
    "df.rename({'index':'tid'}, axis=1, inplace=True)\n",
    "df = df.merge(totals, on='gid', suffixes=(None, '_total'))\n",
    "# print(df.head())\n",
    "del totals\n",
    "\n",
    "# calculate percent iso exp for each gene / transcript / condition\n",
    "pi_cols = []\n",
    "for c in conditions:\n",
    "    cond_col = '{}_pi'.format(c)\n",
    "    total_col = '{}_total'.format(c)\n",
    "    df[cond_col] = (df[c]/df[total_col])*100\n",
    "    pi_cols.append(cond_col)\n",
    "    \n",
    "# fill nans with 0 \n",
    "df.fillna(0, inplace=True)\n",
    "# print(df.head())\n",
    "# \n",
    "# formatting\n",
    "df.set_index('tid', inplace=True)\n",
    "df = df[pi_cols]\n",
    "for col in pi_cols:\n",
    "    new_col = col[:-3]\n",
    "    df.rename({col: new_col}, axis=1, inplace=True)\n",
    "df = df.transpose()\n",
    "# df.set_index('tid', inplace=True)\n",
    "\n",
    "# reorder in sg.adata.var / sg.t_df order\n",
    "df = df[sg.t_df.tid.tolist()]\n",
    "\n"
   ]
  },
  {
   "cell_type": "code",
   "execution_count": 136,
   "id": "nervous-prefix",
   "metadata": {
    "collapsed": true,
    "jupyter": {
     "outputs_hidden": true,
     "source_hidden": true
    }
   },
   "outputs": [
    {
     "data": {
      "text/html": [
       "<div>\n",
       "<style scoped>\n",
       "    .dataframe tbody tr th:only-of-type {\n",
       "        vertical-align: middle;\n",
       "    }\n",
       "\n",
       "    .dataframe tbody tr th {\n",
       "        vertical-align: top;\n",
       "    }\n",
       "\n",
       "    .dataframe thead th {\n",
       "        text-align: right;\n",
       "    }\n",
       "</style>\n",
       "<table border=\"1\" class=\"dataframe\">\n",
       "  <thead>\n",
       "    <tr style=\"text-align: right;\">\n",
       "      <th>tid</th>\n",
       "      <th>ENCODE-mouseT000008451</th>\n",
       "      <th>ENCODE-mouseT000008453</th>\n",
       "      <th>ENCODE-mouseT000008454</th>\n",
       "      <th>ENCODE-mouseT000008455</th>\n",
       "      <th>ENCODE-mouseT000008456</th>\n",
       "      <th>ENCODE-mouseT000008457</th>\n",
       "      <th>ENCODE-mouseT000008458</th>\n",
       "      <th>ENCODE-mouseT000008459</th>\n",
       "      <th>ENSMUST00000020637.8</th>\n",
       "      <th>ENSMUST00000020741.10</th>\n",
       "      <th>ENSMUST00000105344.6</th>\n",
       "    </tr>\n",
       "  </thead>\n",
       "  <tbody>\n",
       "    <tr>\n",
       "      <th>D12</th>\n",
       "      <td>100.0</td>\n",
       "      <td>0.0</td>\n",
       "      <td>0.0</td>\n",
       "      <td>0.0</td>\n",
       "      <td>100.0</td>\n",
       "      <td>25.0</td>\n",
       "      <td>25.0</td>\n",
       "      <td>25.0</td>\n",
       "      <td>25.0</td>\n",
       "      <td>0.0</td>\n",
       "      <td>0.0</td>\n",
       "    </tr>\n",
       "    <tr>\n",
       "      <th>PB65_B017</th>\n",
       "      <td>100.0</td>\n",
       "      <td>50.0</td>\n",
       "      <td>100.0</td>\n",
       "      <td>100.0</td>\n",
       "      <td>0.0</td>\n",
       "      <td>0.0</td>\n",
       "      <td>0.0</td>\n",
       "      <td>0.0</td>\n",
       "      <td>0.0</td>\n",
       "      <td>50.0</td>\n",
       "      <td>0.0</td>\n",
       "    </tr>\n",
       "    <tr>\n",
       "      <th>PB65_B018</th>\n",
       "      <td>50.0</td>\n",
       "      <td>100.0</td>\n",
       "      <td>0.0</td>\n",
       "      <td>0.0</td>\n",
       "      <td>0.0</td>\n",
       "      <td>0.0</td>\n",
       "      <td>0.0</td>\n",
       "      <td>0.0</td>\n",
       "      <td>0.0</td>\n",
       "      <td>0.0</td>\n",
       "      <td>50.0</td>\n",
       "    </tr>\n",
       "  </tbody>\n",
       "</table>\n",
       "</div>"
      ],
      "text/plain": [
       "tid        ENCODE-mouseT000008451  ENCODE-mouseT000008453  \\\n",
       "D12                         100.0                     0.0   \n",
       "PB65_B017                   100.0                    50.0   \n",
       "PB65_B018                    50.0                   100.0   \n",
       "\n",
       "tid        ENCODE-mouseT000008454  ENCODE-mouseT000008455  \\\n",
       "D12                           0.0                     0.0   \n",
       "PB65_B017                   100.0                   100.0   \n",
       "PB65_B018                     0.0                     0.0   \n",
       "\n",
       "tid        ENCODE-mouseT000008456  ENCODE-mouseT000008457  \\\n",
       "D12                         100.0                    25.0   \n",
       "PB65_B017                     0.0                     0.0   \n",
       "PB65_B018                     0.0                     0.0   \n",
       "\n",
       "tid        ENCODE-mouseT000008458  ENCODE-mouseT000008459  \\\n",
       "D12                          25.0                    25.0   \n",
       "PB65_B017                     0.0                     0.0   \n",
       "PB65_B018                     0.0                     0.0   \n",
       "\n",
       "tid        ENSMUST00000020637.8  ENSMUST00000020741.10  ENSMUST00000105344.6  \n",
       "D12                        25.0                    0.0                   0.0  \n",
       "PB65_B017                   0.0                   50.0                   0.0  \n",
       "PB65_B018                   0.0                    0.0                  50.0  "
      ]
     },
     "execution_count": 136,
     "metadata": {},
     "output_type": "execute_result"
    }
   ],
   "source": [
    "df.head()"
   ]
  },
  {
   "cell_type": "code",
   "execution_count": 135,
   "id": "healthy-emperor",
   "metadata": {
    "jupyter": {
     "source_hidden": true
    }
   },
   "outputs": [],
   "source": [
    "# make pi layer\n",
    "sg.adata.layers['pi'] = df.to_numpy()"
   ]
  },
  {
   "cell_type": "code",
   "execution_count": 134,
   "id": "pregnant-respect",
   "metadata": {
    "collapsed": true,
    "jupyter": {
     "outputs_hidden": true,
     "source_hidden": true
    }
   },
   "outputs": [
    {
     "name": "stdout",
     "output_type": "stream",
     "text": [
      "(3, 11)\n",
      "(3, 11)\n"
     ]
    }
   ],
   "source": [
    "print(np.shape(df.to_numpy()))\n",
    "print(np.shape(sg.adata.X))"
   ]
  },
  {
   "cell_type": "code",
   "execution_count": 130,
   "id": "employed-metallic",
   "metadata": {},
   "outputs": [
    {
     "name": "stdout",
     "output_type": "stream",
     "text": [
      "11\n",
      "11\n",
      "True\n",
      "['ENCODE-mouseT000008451', 'ENCODE-mouseT000008453', 'ENCODE-mouseT000008454', 'ENCODE-mouseT000008455', 'ENCODE-mouseT000008456', 'ENCODE-mouseT000008457', 'ENCODE-mouseT000008458', 'ENCODE-mouseT000008459', 'ENSMUST00000020637.8', 'ENSMUST00000020741.10', 'ENSMUST00000105344.6']\n",
      "\n",
      "['ENCODE-mouseT000008451', 'ENCODE-mouseT000008453', 'ENCODE-mouseT000008454', 'ENCODE-mouseT000008455', 'ENCODE-mouseT000008456', 'ENCODE-mouseT000008457', 'ENCODE-mouseT000008458', 'ENCODE-mouseT000008459', 'ENSMUST00000020637.8', 'ENSMUST00000020741.10', 'ENSMUST00000105344.6']\n",
      "\n",
      "['ENCODE-mouseT000008451', 'ENCODE-mouseT000008453', 'ENCODE-mouseT000008454', 'ENCODE-mouseT000008455', 'ENCODE-mouseT000008456', 'ENCODE-mouseT000008457', 'ENCODE-mouseT000008458', 'ENCODE-mouseT000008459', 'ENSMUST00000020637.8', 'ENSMUST00000020741.10', 'ENSMUST00000105344.6']\n",
      "True\n"
     ]
    }
   ],
   "source": [
    "# check that the orders are the same across t_df, new layer, and adata.obs\n",
    "print(len(df.columns))\n",
    "print(len(sg.adata.var.index.tolist()))\n",
    "print(df.columns.tolist() == sg.adata.var.index.tolist())\n",
    "print(df.columns.tolist())\n",
    "print()\n",
    "print(sg.adata.var.index.tolist())\n",
    "print()\n",
    "print(sg.t_df.index.tolist())\n",
    "print(sg.adata.var.index.tolist()==sg.t_df.index.tolist())"
   ]
  },
  {
   "cell_type": "code",
   "execution_count": 110,
   "id": "improved-lingerie",
   "metadata": {},
   "outputs": [
    {
     "name": "stdout",
     "output_type": "stream",
     "text": [
      "(11, 1)\n",
      "(3, 11)\n",
      "(3, 3)\n"
     ]
    }
   ],
   "source": [
    "print(np.shape(sg.adata.var))\n",
    "print(np.shape(sg.adata.X))\n",
    "print(np.shape(sg.adata.obs))"
   ]
  },
  {
   "cell_type": "raw",
   "id": "copyrighted-valuation",
   "metadata": {},
   "source": [
    "temp.X"
   ]
  },
  {
   "cell_type": "markdown",
   "id": "touched-quarter",
   "metadata": {},
   "source": [
    "#### test - add metadata one after another with dupe values, don't overwrite"
   ]
  },
  {
   "cell_type": "code",
   "execution_count": 2,
   "id": "formed-monroe",
   "metadata": {},
   "outputs": [
    {
     "name": "stdout",
     "output_type": "stream",
     "text": [
      "\n",
      "Adding annotation to the SwanGraph\n"
     ]
    },
    {
     "name": "stderr",
     "output_type": "stream",
     "text": [
      "Processing transcripts:  99%|█████████▉| 8400/8450 [00:02<00:00, 4166.37it/s]\n"
     ]
    },
    {
     "name": "stdout",
     "output_type": "stream",
     "text": [
      "Reindexing and sorting entries on genomic location...\n"
     ]
    },
    {
     "name": "stderr",
     "output_type": "stream",
     "text": [
      "Reindexing vertices: 100%|█████████▉| 50000/50074 [00:00<00:00, 970872.24it/s] \n",
      "Reindexing edges:  98%|█████████▊| 49000/50074 [00:00<00:00, 628898.53it/s]\n",
      "Reindexing transcripts:  99%|█████████▉| 8400/8450 [00:00<00:00, 147347.67it/s]\n"
     ]
    },
    {
     "name": "stdout",
     "output_type": "stream",
     "text": [
      "\n",
      "Annotation to the SwanGraph\n",
      "\n",
      "Adding transcriptome to the SwanGraph\n"
     ]
    },
    {
     "name": "stderr",
     "output_type": "stream",
     "text": [
      "AnnData expects .obs.index to contain strings, but your first indices are: Int64Index([0, 1], dtype='int64'), …\n",
      "AnnData expects .obs.index to contain strings, but your first indices are: Int64Index([0, 1], dtype='int64'), …\n"
     ]
    },
    {
     "name": "stdout",
     "output_type": "stream",
     "text": [
      "\n",
      "Adding abundance for datasets PB65_B017, PB65_B018, D12 to SwanGraph.\n"
     ]
    }
   ],
   "source": [
    "sg = swan.SwanGraph()\n",
    "# just gencode vM21 chr 11 and tcf3\n",
    "gtf = 'data/chr11_and_Tcf3.gtf'\n",
    "sg.add_annotation(gtf, verbose=True)\n",
    "db = 'data/chr11_and_Tcf3_no_gname.db'\n",
    "sg.add_transcriptome(db)\n",
    "ab = 'data/chr11_and_Tcf3_talon_abundance.tsv'\n",
    "sg.add_abundance(ab)\n",
    "meta = 'data/chr11_and_Tcf3_metadata.tsv'\n",
    "sg.add_metadata(meta)\n",
    "meta = 'data/chr11_and_Tcf3_metadata_dupecols.tsv'\n",
    "sg.add_metadata(meta, overwrite=False)"
   ]
  },
  {
   "cell_type": "code",
   "execution_count": 3,
   "id": "activated-manchester",
   "metadata": {},
   "outputs": [
    {
     "data": {
      "text/html": [
       "<div>\n",
       "<style scoped>\n",
       "    .dataframe tbody tr th:only-of-type {\n",
       "        vertical-align: middle;\n",
       "    }\n",
       "\n",
       "    .dataframe tbody tr th {\n",
       "        vertical-align: top;\n",
       "    }\n",
       "\n",
       "    .dataframe thead th {\n",
       "        text-align: right;\n",
       "    }\n",
       "</style>\n",
       "<table border=\"1\" class=\"dataframe\">\n",
       "  <thead>\n",
       "    <tr style=\"text-align: right;\">\n",
       "      <th></th>\n",
       "      <th>dataset</th>\n",
       "      <th>cluster</th>\n",
       "      <th>sample</th>\n",
       "      <th>cell_state</th>\n",
       "    </tr>\n",
       "    <tr>\n",
       "      <th>index</th>\n",
       "      <th></th>\n",
       "      <th></th>\n",
       "      <th></th>\n",
       "      <th></th>\n",
       "    </tr>\n",
       "  </thead>\n",
       "  <tbody>\n",
       "    <tr>\n",
       "      <th>PB65_B017</th>\n",
       "      <td>PB65_B017</td>\n",
       "      <td>2</td>\n",
       "      <td>GM12878</td>\n",
       "      <td>M</td>\n",
       "    </tr>\n",
       "    <tr>\n",
       "      <th>PB65_B018</th>\n",
       "      <td>PB65_B018</td>\n",
       "      <td>2</td>\n",
       "      <td>GM12878</td>\n",
       "      <td>S</td>\n",
       "    </tr>\n",
       "    <tr>\n",
       "      <th>D12</th>\n",
       "      <td>D12</td>\n",
       "      <td>1</td>\n",
       "      <td>K562</td>\n",
       "      <td>G0</td>\n",
       "    </tr>\n",
       "  </tbody>\n",
       "</table>\n",
       "</div>"
      ],
      "text/plain": [
       "             dataset cluster   sample cell_state\n",
       "index                                           \n",
       "PB65_B017  PB65_B017       2  GM12878          M\n",
       "PB65_B018  PB65_B018       2  GM12878          S\n",
       "D12              D12       1     K562         G0"
      ]
     },
     "execution_count": 3,
     "metadata": {},
     "output_type": "execute_result"
    }
   ],
   "source": [
    "sg.adata.obs # clusters should be 1 and 2"
   ]
  },
  {
   "cell_type": "markdown",
   "id": "coastal-compensation",
   "metadata": {},
   "source": [
    "#### test - add metadata one after another with dupe values, overwrite"
   ]
  },
  {
   "cell_type": "code",
   "execution_count": 4,
   "id": "coated-munich",
   "metadata": {},
   "outputs": [
    {
     "name": "stdout",
     "output_type": "stream",
     "text": [
      "\n",
      "Adding annotation to the SwanGraph\n"
     ]
    },
    {
     "name": "stderr",
     "output_type": "stream",
     "text": [
      "Processing transcripts:  99%|█████████▉| 8400/8450 [00:01<00:00, 4455.59it/s]\n"
     ]
    },
    {
     "name": "stdout",
     "output_type": "stream",
     "text": [
      "Reindexing and sorting entries on genomic location...\n"
     ]
    },
    {
     "name": "stderr",
     "output_type": "stream",
     "text": [
      "Reindexing vertices: 100%|█████████▉| 50000/50074 [00:00<00:00, 1261475.16it/s]\n",
      "Reindexing edges:  98%|█████████▊| 49000/50074 [00:00<00:00, 685053.67it/s]\n",
      "Reindexing transcripts:  99%|█████████▉| 8400/8450 [00:00<00:00, 155110.70it/s]\n"
     ]
    },
    {
     "name": "stdout",
     "output_type": "stream",
     "text": [
      "\n",
      "Annotation to the SwanGraph\n",
      "\n",
      "Adding transcriptome to the SwanGraph\n"
     ]
    },
    {
     "name": "stderr",
     "output_type": "stream",
     "text": [
      "AnnData expects .obs.index to contain strings, but your first indices are: Int64Index([0, 1], dtype='int64'), …\n",
      "AnnData expects .obs.index to contain strings, but your first indices are: Int64Index([0, 1], dtype='int64'), …\n"
     ]
    },
    {
     "name": "stdout",
     "output_type": "stream",
     "text": [
      "\n",
      "Adding abundance for datasets PB65_B017, PB65_B018, D12 to SwanGraph.\n"
     ]
    }
   ],
   "source": [
    "sg = swan.SwanGraph()\n",
    "# just gencode vM21 chr 11 and tcf3\n",
    "gtf = 'data/chr11_and_Tcf3.gtf'\n",
    "sg.add_annotation(gtf, verbose=True)\n",
    "db = 'data/chr11_and_Tcf3_no_gname.db'\n",
    "sg.add_transcriptome(db)\n",
    "ab = 'data/chr11_and_Tcf3_talon_abundance.tsv'\n",
    "sg.add_abundance(ab)\n",
    "meta = 'data/chr11_and_Tcf3_metadata.tsv'\n",
    "sg.add_metadata(meta)\n",
    "meta = 'data/chr11_and_Tcf3_metadata_dupecols.tsv'\n",
    "sg.add_metadata(meta, overwrite=True)"
   ]
  },
  {
   "cell_type": "code",
   "execution_count": 5,
   "id": "interim-addition",
   "metadata": {},
   "outputs": [
    {
     "data": {
      "text/html": [
       "<div>\n",
       "<style scoped>\n",
       "    .dataframe tbody tr th:only-of-type {\n",
       "        vertical-align: middle;\n",
       "    }\n",
       "\n",
       "    .dataframe tbody tr th {\n",
       "        vertical-align: top;\n",
       "    }\n",
       "\n",
       "    .dataframe thead th {\n",
       "        text-align: right;\n",
       "    }\n",
       "</style>\n",
       "<table border=\"1\" class=\"dataframe\">\n",
       "  <thead>\n",
       "    <tr style=\"text-align: right;\">\n",
       "      <th></th>\n",
       "      <th>dataset</th>\n",
       "      <th>sample</th>\n",
       "      <th>cell_state</th>\n",
       "      <th>cluster</th>\n",
       "    </tr>\n",
       "    <tr>\n",
       "      <th>index</th>\n",
       "      <th></th>\n",
       "      <th></th>\n",
       "      <th></th>\n",
       "      <th></th>\n",
       "    </tr>\n",
       "  </thead>\n",
       "  <tbody>\n",
       "    <tr>\n",
       "      <th>PB65_B017</th>\n",
       "      <td>PB65_B017</td>\n",
       "      <td>GM12878</td>\n",
       "      <td>M</td>\n",
       "      <td>3</td>\n",
       "    </tr>\n",
       "    <tr>\n",
       "      <th>PB65_B018</th>\n",
       "      <td>PB65_B018</td>\n",
       "      <td>GM12878</td>\n",
       "      <td>S</td>\n",
       "      <td>4</td>\n",
       "    </tr>\n",
       "    <tr>\n",
       "      <th>D12</th>\n",
       "      <td>D12</td>\n",
       "      <td>K562</td>\n",
       "      <td>G0</td>\n",
       "      <td>3</td>\n",
       "    </tr>\n",
       "  </tbody>\n",
       "</table>\n",
       "</div>"
      ],
      "text/plain": [
       "             dataset   sample cell_state cluster\n",
       "index                                           \n",
       "PB65_B017  PB65_B017  GM12878          M       3\n",
       "PB65_B018  PB65_B018  GM12878          S       4\n",
       "D12              D12     K562         G0       3"
      ]
     },
     "execution_count": 5,
     "metadata": {},
     "output_type": "execute_result"
    }
   ],
   "source": [
    "sg.adata.obs # clusters should be 3 and 4 now"
   ]
  },
  {
   "cell_type": "markdown",
   "id": "emerging-honolulu",
   "metadata": {},
   "source": [
    "#### test - add metadata one after another to obs table"
   ]
  },
  {
   "cell_type": "code",
   "execution_count": 6,
   "id": "seasonal-credits",
   "metadata": {},
   "outputs": [
    {
     "name": "stdout",
     "output_type": "stream",
     "text": [
      "['beep']\n",
      "['bop', 'beep']\n",
      "['beep']\n"
     ]
    }
   ],
   "source": [
    "a = ['dataset', 'beep']\n",
    "b = ['beep', 'bop', 'dataset']\n",
    "sg_cols = list(set(a)-set(['dataset']))\n",
    "meta_cols = list(set(b)-set(['dataset']))\n",
    "print(sg_cols) # should be ['beep']\n",
    "print(meta_cols) # should be ['beep', 'bop']\n",
    "dupe_cols = [c for c in meta_cols if c in sg_cols]\n",
    "print(dupe_cols) # should be ['beep']"
   ]
  },
  {
   "cell_type": "code",
   "execution_count": 7,
   "id": "thrown-absolute",
   "metadata": {},
   "outputs": [
    {
     "name": "stdout",
     "output_type": "stream",
     "text": [
      "\n",
      "Adding annotation to the SwanGraph\n"
     ]
    },
    {
     "name": "stderr",
     "output_type": "stream",
     "text": [
      "Processing transcripts:  99%|█████████▉| 8400/8450 [00:01<00:00, 4469.69it/s]\n"
     ]
    },
    {
     "name": "stdout",
     "output_type": "stream",
     "text": [
      "Reindexing and sorting entries on genomic location...\n"
     ]
    },
    {
     "name": "stderr",
     "output_type": "stream",
     "text": [
      "Reindexing vertices: 100%|█████████▉| 50000/50074 [00:00<00:00, 1200657.25it/s]\n",
      "Reindexing edges:  98%|█████████▊| 49000/50074 [00:00<00:00, 286162.69it/s]\n",
      "Reindexing transcripts:  99%|█████████▉| 8400/8450 [00:00<00:00, 148394.65it/s]\n"
     ]
    },
    {
     "name": "stdout",
     "output_type": "stream",
     "text": [
      "\n",
      "Annotation to the SwanGraph\n",
      "\n",
      "Adding transcriptome to the SwanGraph\n"
     ]
    },
    {
     "name": "stderr",
     "output_type": "stream",
     "text": [
      "AnnData expects .obs.index to contain strings, but your first indices are: Int64Index([0, 1], dtype='int64'), …\n",
      "AnnData expects .obs.index to contain strings, but your first indices are: Int64Index([0, 1], dtype='int64'), …\n"
     ]
    },
    {
     "name": "stdout",
     "output_type": "stream",
     "text": [
      "\n",
      "Adding abundance for datasets PB65_B017, PB65_B018, D12 to SwanGraph.\n"
     ]
    }
   ],
   "source": [
    "sg = swan.SwanGraph()\n",
    "# just gencode vM21 chr 11 and tcf3\n",
    "gtf = 'data/chr11_and_Tcf3.gtf'\n",
    "sg.add_annotation(gtf, verbose=True)\n",
    "db = 'data/chr11_and_Tcf3_no_gname.db'\n",
    "sg.add_transcriptome(db)\n",
    "ab = 'data/chr11_and_Tcf3_talon_abundance.tsv'\n",
    "sg.add_abundance(ab)\n",
    "meta = 'data/chr11_and_Tcf3_metadata.tsv'\n",
    "sg.add_metadata(meta)\n",
    "meta = 'data/chr11_and_Tcf3_metadata_2.tsv'\n",
    "sg.add_metadata(meta)"
   ]
  },
  {
   "cell_type": "code",
   "execution_count": 8,
   "id": "optical-locator",
   "metadata": {},
   "outputs": [
    {
     "data": {
      "text/html": [
       "<div>\n",
       "<style scoped>\n",
       "    .dataframe tbody tr th:only-of-type {\n",
       "        vertical-align: middle;\n",
       "    }\n",
       "\n",
       "    .dataframe tbody tr th {\n",
       "        vertical-align: top;\n",
       "    }\n",
       "\n",
       "    .dataframe thead th {\n",
       "        text-align: right;\n",
       "    }\n",
       "</style>\n",
       "<table border=\"1\" class=\"dataframe\">\n",
       "  <thead>\n",
       "    <tr style=\"text-align: right;\">\n",
       "      <th></th>\n",
       "      <th>dataset</th>\n",
       "      <th>cluster</th>\n",
       "      <th>sample</th>\n",
       "      <th>cell_state</th>\n",
       "    </tr>\n",
       "    <tr>\n",
       "      <th>index</th>\n",
       "      <th></th>\n",
       "      <th></th>\n",
       "      <th></th>\n",
       "      <th></th>\n",
       "    </tr>\n",
       "  </thead>\n",
       "  <tbody>\n",
       "    <tr>\n",
       "      <th>PB65_B017</th>\n",
       "      <td>PB65_B017</td>\n",
       "      <td>2</td>\n",
       "      <td>GM12878</td>\n",
       "      <td>M</td>\n",
       "    </tr>\n",
       "    <tr>\n",
       "      <th>PB65_B018</th>\n",
       "      <td>PB65_B018</td>\n",
       "      <td>2</td>\n",
       "      <td>GM12878</td>\n",
       "      <td>S</td>\n",
       "    </tr>\n",
       "    <tr>\n",
       "      <th>D12</th>\n",
       "      <td>D12</td>\n",
       "      <td>1</td>\n",
       "      <td>K562</td>\n",
       "      <td>G0</td>\n",
       "    </tr>\n",
       "  </tbody>\n",
       "</table>\n",
       "</div>"
      ],
      "text/plain": [
       "             dataset cluster   sample cell_state\n",
       "index                                           \n",
       "PB65_B017  PB65_B017       2  GM12878          M\n",
       "PB65_B018  PB65_B018       2  GM12878          S\n",
       "D12              D12       1     K562         G0"
      ]
     },
     "execution_count": 8,
     "metadata": {},
     "output_type": "execute_result"
    }
   ],
   "source": [
    "sg.adata.obs"
   ]
  },
  {
   "cell_type": "markdown",
   "id": "interstate-major",
   "metadata": {},
   "source": [
    "#### test - add metadata to obs table\n"
   ]
  },
  {
   "cell_type": "code",
   "execution_count": 11,
   "id": "running-reporter",
   "metadata": {},
   "outputs": [
    {
     "name": "stderr",
     "output_type": "stream",
     "text": [
      "AnnData expects .obs.index to contain strings, but your first indices are: Int64Index([0, 1], dtype='int64'), …\n"
     ]
    }
   ],
   "source": [
    "df = pd.read_csv(meta, sep='\\t')\n",
    "sg.adata.obs = sg.adata.obs.merge(df, how='left', on='dataset')"
   ]
  },
  {
   "cell_type": "code",
   "execution_count": 13,
   "id": "acceptable-currency",
   "metadata": {},
   "outputs": [
    {
     "name": "stdout",
     "output_type": "stream",
     "text": [
      "\n",
      "Adding annotation to the SwanGraph\n"
     ]
    },
    {
     "name": "stderr",
     "output_type": "stream",
     "text": [
      "Processing transcripts:  99%|█████████▉| 8400/8450 [00:01<00:00, 4477.48it/s]\n"
     ]
    },
    {
     "name": "stdout",
     "output_type": "stream",
     "text": [
      "Reindexing and sorting entries on genomic location...\n"
     ]
    },
    {
     "name": "stderr",
     "output_type": "stream",
     "text": [
      "Reindexing vertices: 100%|█████████▉| 50000/50074 [00:00<00:00, 1256133.16it/s]\n",
      "Reindexing edges:  98%|█████████▊| 49000/50074 [00:00<00:00, 676068.92it/s]\n",
      "Reindexing transcripts:  99%|█████████▉| 8400/8450 [00:00<00:00, 132285.60it/s]\n"
     ]
    },
    {
     "name": "stdout",
     "output_type": "stream",
     "text": [
      "\n",
      "Annotation to the SwanGraph\n",
      "\n",
      "Adding transcriptome to the SwanGraph\n"
     ]
    },
    {
     "name": "stderr",
     "output_type": "stream",
     "text": [
      "AnnData expects .obs.index to contain strings, but your first indices are: Int64Index([0, 1], dtype='int64'), …\n"
     ]
    },
    {
     "name": "stdout",
     "output_type": "stream",
     "text": [
      "\n",
      "Adding abundance for datasets PB65_B017, PB65_B018, D12 to SwanGraph.\n"
     ]
    }
   ],
   "source": [
    "sg = swan.SwanGraph()\n",
    "# just gencode vM21 chr 11 and tcf3\n",
    "gtf = 'data/chr11_and_Tcf3.gtf'\n",
    "sg.add_annotation(gtf, verbose=True)\n",
    "db = 'data/chr11_and_Tcf3_no_gname.db'\n",
    "sg.add_transcriptome(db)\n",
    "ab = 'data/chr11_and_Tcf3_talon_abundance.tsv'\n",
    "sg.add_abundance(ab)\n",
    "meta = 'data/chr11_and_Tcf3_metadata.tsv'\n",
    "sg.add_metadata(meta)"
   ]
  },
  {
   "cell_type": "code",
   "execution_count": 14,
   "id": "numerical-router",
   "metadata": {},
   "outputs": [
    {
     "data": {
      "text/html": [
       "<div>\n",
       "<style scoped>\n",
       "    .dataframe tbody tr th:only-of-type {\n",
       "        vertical-align: middle;\n",
       "    }\n",
       "\n",
       "    .dataframe tbody tr th {\n",
       "        vertical-align: top;\n",
       "    }\n",
       "\n",
       "    .dataframe thead th {\n",
       "        text-align: right;\n",
       "    }\n",
       "</style>\n",
       "<table border=\"1\" class=\"dataframe\">\n",
       "  <thead>\n",
       "    <tr style=\"text-align: right;\">\n",
       "      <th></th>\n",
       "      <th>dataset</th>\n",
       "      <th>cluster</th>\n",
       "      <th>sample</th>\n",
       "    </tr>\n",
       "    <tr>\n",
       "      <th>index</th>\n",
       "      <th></th>\n",
       "      <th></th>\n",
       "      <th></th>\n",
       "    </tr>\n",
       "  </thead>\n",
       "  <tbody>\n",
       "    <tr>\n",
       "      <th>PB65_B017</th>\n",
       "      <td>PB65_B017</td>\n",
       "      <td>2</td>\n",
       "      <td>GM12878</td>\n",
       "    </tr>\n",
       "    <tr>\n",
       "      <th>PB65_B018</th>\n",
       "      <td>PB65_B018</td>\n",
       "      <td>2</td>\n",
       "      <td>GM12878</td>\n",
       "    </tr>\n",
       "    <tr>\n",
       "      <th>D12</th>\n",
       "      <td>D12</td>\n",
       "      <td>1</td>\n",
       "      <td>K562</td>\n",
       "    </tr>\n",
       "  </tbody>\n",
       "</table>\n",
       "</div>"
      ],
      "text/plain": [
       "             dataset cluster   sample\n",
       "index                                \n",
       "PB65_B017  PB65_B017       2  GM12878\n",
       "PB65_B018  PB65_B018       2  GM12878\n",
       "D12              D12       1     K562"
      ]
     },
     "execution_count": 14,
     "metadata": {},
     "output_type": "execute_result"
    }
   ],
   "source": [
    "sg.adata.obs"
   ]
  },
  {
   "cell_type": "markdown",
   "id": "social-colonial",
   "metadata": {},
   "source": [
    "#### test - add abundance directly from TALON ab file"
   ]
  },
  {
   "cell_type": "code",
   "execution_count": 2,
   "id": "nutritional-context",
   "metadata": {},
   "outputs": [
    {
     "name": "stdout",
     "output_type": "stream",
     "text": [
      "\n",
      "Adding annotation to the SwanGraph\n"
     ]
    },
    {
     "name": "stderr",
     "output_type": "stream",
     "text": [
      "Processing transcripts:  99%|█████████▉| 8400/8450 [00:01<00:00, 4307.46it/s]\n"
     ]
    },
    {
     "name": "stdout",
     "output_type": "stream",
     "text": [
      "Reindexing and sorting entries on genomic location...\n"
     ]
    },
    {
     "name": "stderr",
     "output_type": "stream",
     "text": [
      "Reindexing vertices: 100%|█████████▉| 50000/50074 [00:00<00:00, 969933.77it/s] \n",
      "Reindexing edges:  98%|█████████▊| 49000/50074 [00:00<00:00, 633928.53it/s]\n",
      "Reindexing transcripts:  99%|█████████▉| 8400/8450 [00:00<00:00, 151474.25it/s]\n"
     ]
    },
    {
     "name": "stdout",
     "output_type": "stream",
     "text": [
      "\n",
      "Annotation to the SwanGraph\n",
      "\n",
      "Adding transcriptome to the SwanGraph\n",
      "['gene_ID', 'transcript_ID', 'annot_gene_id', 'annot_transcript_id', 'annot_gene_name', 'annot_transcript_name', 'n_exons', 'length', 'gene_novelty', 'transcript_novelty', 'ISM_subtype']\n",
      "['gene_ID', 'transcript_ID', 'annot_gene_id', 'annot_transcript_id', 'annot_gene_name', 'annot_transcript_name', 'n_exons', 'length', 'gene_novelty', 'transcript_novelty', 'ISM_subtype']\n",
      "hewwo?\n",
      "\n",
      "Adding abundance for datasets PB65_B017, PB65_B018, D12 to SwanGraph.\n"
     ]
    }
   ],
   "source": [
    "sg = swan.SwanGraph()\n",
    "# just gencode vM21 chr 11 and tcf3\n",
    "gtf = 'data/chr11_and_Tcf3.gtf'\n",
    "sg.add_annotation(gtf, verbose=True)\n",
    "db = 'data/chr11_and_Tcf3_no_gname.db'\n",
    "sg.add_transcriptome(db)\n",
    "ab = 'data/chr11_and_Tcf3_talon_abundance.tsv'\n",
    "sg.add_abundance(ab)"
   ]
  },
  {
   "cell_type": "code",
   "execution_count": 5,
   "id": "greatest-algeria",
   "metadata": {},
   "outputs": [
    {
     "data": {
      "text/plain": [
       "array([[1., 1., 1., 1., 0.],\n",
       "       [0., 1., 0., 0., 0.],\n",
       "       [0., 0., 0., 0., 1.]], dtype=float32)"
      ]
     },
     "execution_count": 5,
     "metadata": {},
     "output_type": "execute_result"
    }
   ],
   "source": [
    "sg.adata.layers['counts'][:5, :5]"
   ]
  },
  {
   "cell_type": "markdown",
   "id": "prescribed-assets",
   "metadata": {},
   "source": [
    "#### test - reformat talon ab"
   ]
  },
  {
   "cell_type": "code",
   "execution_count": 2,
   "id": "compressed-sequence",
   "metadata": {},
   "outputs": [],
   "source": [
    "ab = 'data/chr11_and_Tcf3_talon_abundance.tsv'\n",
    "new_ab = 'data/chr11_and_Tcf3_swan_abundance.tsv'\n",
    "swan.reformat_talon_abundance(ab, new_ab)"
   ]
  },
  {
   "cell_type": "markdown",
   "id": "strategic-testimony",
   "metadata": {},
   "source": [
    "#### test - add transcriptome from db and abundance from tsv"
   ]
  },
  {
   "cell_type": "code",
   "execution_count": 12,
   "id": "attended-conducting",
   "metadata": {},
   "outputs": [
    {
     "name": "stdout",
     "output_type": "stream",
     "text": [
      "\n",
      "Adding annotation to the SwanGraph\n"
     ]
    },
    {
     "name": "stderr",
     "output_type": "stream",
     "text": [
      "Processing transcripts:  99%|█████████▉| 8400/8450 [00:01<00:00, 4438.75it/s]\n"
     ]
    },
    {
     "name": "stdout",
     "output_type": "stream",
     "text": [
      "Reindexing and sorting entries on genomic location...\n"
     ]
    },
    {
     "name": "stderr",
     "output_type": "stream",
     "text": [
      "Reindexing vertices: 100%|█████████▉| 50000/50074 [00:00<00:00, 1183494.36it/s]\n",
      "Reindexing edges:  98%|█████████▊| 49000/50074 [00:00<00:00, 515513.75it/s]\n",
      "Reindexing transcripts:  99%|█████████▉| 8400/8450 [00:00<00:00, 112191.45it/s]\n"
     ]
    },
    {
     "name": "stdout",
     "output_type": "stream",
     "text": [
      "\n",
      "Annotation to the SwanGraph\n",
      "\n",
      "Adding transcriptome to the SwanGraph\n",
      "\n",
      "Adding abundance for datasets PB65_B017, PB65_B018, D12 to SwanGraph.\n"
     ]
    }
   ],
   "source": [
    "sg = swan.SwanGraph()\n",
    "# just gencode vM21 chr 11 and tcf3\n",
    "gtf = 'data/chr11_and_Tcf3.gtf'\n",
    "sg.add_annotation(gtf, verbose=True)\n",
    "db = 'data/chr11_and_Tcf3_no_gname.db'\n",
    "sg.add_transcriptome(db)\n",
    "new_ab = 'data/chr11_and_Tcf3_swan_abundance.tsv'\n",
    "sg.add_abundance(new_ab)"
   ]
  },
  {
   "cell_type": "code",
   "execution_count": 19,
   "id": "hazardous-channel",
   "metadata": {},
   "outputs": [
    {
     "data": {
      "text/html": [
       "<div>\n",
       "<style scoped>\n",
       "    .dataframe tbody tr th:only-of-type {\n",
       "        vertical-align: middle;\n",
       "    }\n",
       "\n",
       "    .dataframe tbody tr th {\n",
       "        vertical-align: top;\n",
       "    }\n",
       "\n",
       "    .dataframe thead th {\n",
       "        text-align: right;\n",
       "    }\n",
       "</style>\n",
       "<table border=\"1\" class=\"dataframe\">\n",
       "  <thead>\n",
       "    <tr style=\"text-align: right;\">\n",
       "      <th></th>\n",
       "      <th>tid</th>\n",
       "      <th>tname</th>\n",
       "      <th>gid</th>\n",
       "      <th>gname</th>\n",
       "      <th>path</th>\n",
       "      <th>annotation</th>\n",
       "      <th>novelty</th>\n",
       "    </tr>\n",
       "    <tr>\n",
       "      <th>tid</th>\n",
       "      <th></th>\n",
       "      <th></th>\n",
       "      <th></th>\n",
       "      <th></th>\n",
       "      <th></th>\n",
       "      <th></th>\n",
       "      <th></th>\n",
       "    </tr>\n",
       "  </thead>\n",
       "  <tbody>\n",
       "    <tr>\n",
       "      <th>ENST00000023939.8</th>\n",
       "      <td>ENST00000023939.8</td>\n",
       "      <td>RTF2-201</td>\n",
       "      <td>ENSG00000022277.12</td>\n",
       "      <td>RTF2</td>\n",
       "      <td>[9022, 9029, 9035, 9036, 9037, 9039, 9040, 904...</td>\n",
       "      <td>True</td>\n",
       "      <td>Known</td>\n",
       "    </tr>\n",
       "    <tr>\n",
       "      <th>ENST00000045083.6</th>\n",
       "      <td>ENST00000045083.6</td>\n",
       "      <td>RIPOR3-201</td>\n",
       "      <td>ENSG00000042062.11</td>\n",
       "      <td>RIPOR3</td>\n",
       "      <td>[13836, 13837, 13838, 13839, 13840, 13841, 138...</td>\n",
       "      <td>True</td>\n",
       "      <td>Known</td>\n",
       "    </tr>\n",
       "    <tr>\n",
       "      <th>ENST00000062104.3</th>\n",
       "      <td>ENST00000062104.3</td>\n",
       "      <td>NNAT-201</td>\n",
       "      <td>ENSG00000053438.9</td>\n",
       "      <td>NNAT</td>\n",
       "      <td>[5907, 5912, 5913, 5916, 5918, 5923]</td>\n",
       "      <td>True</td>\n",
       "      <td>Known</td>\n",
       "    </tr>\n",
       "    <tr>\n",
       "      <th>ENST00000064571.2</th>\n",
       "      <td>ENST00000064571.2</td>\n",
       "      <td>CBLN4-201</td>\n",
       "      <td>ENSG00000054803.3</td>\n",
       "      <td>CBLN4</td>\n",
       "      <td>[13398, 13399, 13400, 13401, 13402, 13403]</td>\n",
       "      <td>True</td>\n",
       "      <td>Known</td>\n",
       "    </tr>\n",
       "    <tr>\n",
       "      <th>ENST00000170150.3</th>\n",
       "      <td>ENST00000170150.3</td>\n",
       "      <td>BPIFB2-201</td>\n",
       "      <td>ENSG00000078898.6</td>\n",
       "      <td>BPIFB2</td>\n",
       "      <td>[4157, 4159, 4163, 4166, 4168, 4170, 4172, 417...</td>\n",
       "      <td>True</td>\n",
       "      <td>Known</td>\n",
       "    </tr>\n",
       "  </tbody>\n",
       "</table>\n",
       "</div>"
      ],
      "text/plain": [
       "                                 tid       tname                 gid   gname  \\\n",
       "tid                                                                            \n",
       "ENST00000023939.8  ENST00000023939.8    RTF2-201  ENSG00000022277.12    RTF2   \n",
       "ENST00000045083.6  ENST00000045083.6  RIPOR3-201  ENSG00000042062.11  RIPOR3   \n",
       "ENST00000062104.3  ENST00000062104.3    NNAT-201   ENSG00000053438.9    NNAT   \n",
       "ENST00000064571.2  ENST00000064571.2   CBLN4-201   ENSG00000054803.3   CBLN4   \n",
       "ENST00000170150.3  ENST00000170150.3  BPIFB2-201   ENSG00000078898.6  BPIFB2   \n",
       "\n",
       "                                                                path  \\\n",
       "tid                                                                    \n",
       "ENST00000023939.8  [9022, 9029, 9035, 9036, 9037, 9039, 9040, 904...   \n",
       "ENST00000045083.6  [13836, 13837, 13838, 13839, 13840, 13841, 138...   \n",
       "ENST00000062104.3               [5907, 5912, 5913, 5916, 5918, 5923]   \n",
       "ENST00000064571.2         [13398, 13399, 13400, 13401, 13402, 13403]   \n",
       "ENST00000170150.3  [4157, 4159, 4163, 4166, 4168, 4170, 4172, 417...   \n",
       "\n",
       "                   annotation novelty  \n",
       "tid                                    \n",
       "ENST00000023939.8        True   Known  \n",
       "ENST00000045083.6        True   Known  \n",
       "ENST00000062104.3        True   Known  \n",
       "ENST00000064571.2        True   Known  \n",
       "ENST00000170150.3        True   Known  "
      ]
     },
     "execution_count": 19,
     "metadata": {},
     "output_type": "execute_result"
    }
   ],
   "source": [
    "sg.t_df.head()"
   ]
  },
  {
   "cell_type": "code",
   "execution_count": 15,
   "id": "located-insert",
   "metadata": {},
   "outputs": [
    {
     "data": {
      "text/html": [
       "<div>\n",
       "<style scoped>\n",
       "    .dataframe tbody tr th:only-of-type {\n",
       "        vertical-align: middle;\n",
       "    }\n",
       "\n",
       "    .dataframe tbody tr th {\n",
       "        vertical-align: top;\n",
       "    }\n",
       "\n",
       "    .dataframe thead th {\n",
       "        text-align: right;\n",
       "    }\n",
       "</style>\n",
       "<table border=\"1\" class=\"dataframe\">\n",
       "  <thead>\n",
       "    <tr style=\"text-align: right;\">\n",
       "      <th></th>\n",
       "      <th>dataset</th>\n",
       "    </tr>\n",
       "  </thead>\n",
       "  <tbody>\n",
       "    <tr>\n",
       "      <th>PB65_B017</th>\n",
       "      <td>PB65_B017</td>\n",
       "    </tr>\n",
       "    <tr>\n",
       "      <th>PB65_B018</th>\n",
       "      <td>PB65_B018</td>\n",
       "    </tr>\n",
       "    <tr>\n",
       "      <th>D12</th>\n",
       "      <td>D12</td>\n",
       "    </tr>\n",
       "  </tbody>\n",
       "</table>\n",
       "</div>"
      ],
      "text/plain": [
       "             dataset\n",
       "PB65_B017  PB65_B017\n",
       "PB65_B018  PB65_B018\n",
       "D12              D12"
      ]
     },
     "execution_count": 15,
     "metadata": {},
     "output_type": "execute_result"
    }
   ],
   "source": [
    "sg.adata.obs.head()"
   ]
  },
  {
   "cell_type": "code",
   "execution_count": 4,
   "id": "destroyed-sacrifice",
   "metadata": {},
   "outputs": [
    {
     "data": {
      "text/plain": [
       "array([[1., 1., 1., 1., 0.],\n",
       "       [0., 1., 0., 0., 0.],\n",
       "       [0., 0., 0., 0., 1.]], dtype=float32)"
      ]
     },
     "execution_count": 4,
     "metadata": {},
     "output_type": "execute_result"
    }
   ],
   "source": [
    "sg.adata.X[:5, :5]"
   ]
  },
  {
   "cell_type": "markdown",
   "id": "starting-buddy",
   "metadata": {},
   "source": [
    "#### test - add transcriptome from db"
   ]
  },
  {
   "cell_type": "code",
   "execution_count": 2,
   "id": "reserved-policy",
   "metadata": {},
   "outputs": [
    {
     "name": "stdout",
     "output_type": "stream",
     "text": [
      "\n",
      "Adding annotation to the SwanGraph\n"
     ]
    },
    {
     "name": "stderr",
     "output_type": "stream",
     "text": [
      "Processing transcripts:  99%|█████████▉| 8400/8450 [00:01<00:00, 4304.85it/s]\n"
     ]
    },
    {
     "name": "stdout",
     "output_type": "stream",
     "text": [
      "Reindexing and sorting entries on genomic location...\n"
     ]
    },
    {
     "name": "stderr",
     "output_type": "stream",
     "text": [
      "Reindexing vertices: 100%|█████████▉| 50000/50074 [00:00<00:00, 968388.58it/s] \n",
      "Reindexing edges:  98%|█████████▊| 49000/50074 [00:00<00:00, 579532.86it/s]\n",
      "Reindexing transcripts:  99%|█████████▉| 8400/8450 [00:00<00:00, 146771.90it/s]\n"
     ]
    },
    {
     "name": "stdout",
     "output_type": "stream",
     "text": [
      "\n",
      "Annotation to the SwanGraph\n",
      "\n",
      "Adding transcriptome to the SwanGraph\n"
     ]
    }
   ],
   "source": [
    "sg = swan.SwanGraph()\n",
    "# just gencode vM21 chr 11 and tcf3\n",
    "gtf = 'data/chr11_and_Tcf3.gtf'\n",
    "sg.add_annotation(gtf, verbose=True)\n",
    "db = 'data/chr11_and_Tcf3_no_gname.db'\n",
    "sg.add_transcriptome(db)"
   ]
  },
  {
   "cell_type": "markdown",
   "id": "conditional-marshall",
   "metadata": {},
   "source": [
    "#### test - add some abundance and then more abundance"
   ]
  },
  {
   "cell_type": "code",
   "execution_count": 2,
   "id": "subjective-antarctica",
   "metadata": {},
   "outputs": [
    {
     "name": "stdout",
     "output_type": "stream",
     "text": [
      "\n",
      "Adding annotation to the SwanGraph\n",
      "\n",
      "Adding transcriptome to the SwanGraph\n",
      "\n",
      "Adding abundance for datasets hepg2_1_chr20, hepg2_2_chr20, hffc6_1_chr20, hffc6_2_chr20, hffc6_3_chr20 to SwanGraph.\n",
      "\n",
      "Adding abundance for datasets k562_1_chr20, k562_2_chr20 to SwanGraph.\n",
      "(2, 4555)\n",
      "(7, 4555)\n",
      "(2, 4555)\n",
      "(7, 4555)\n",
      "2\n",
      "7\n"
     ]
    }
   ],
   "source": [
    "sg = swan.SwanGraph()\n",
    "# just chr 20\n",
    "gtf = 'data/gencode.v29.annotation.gtf'\n",
    "sg.add_annotation(gtf)\n",
    "# transcriptome\n",
    "gtf = 'data/hepg2_1_talon.gtf'\n",
    "sg.add_transcriptome(gtf)\n",
    "# abundance - hffc6 and hepg2\n",
    "ab = 'data/all_talon_abundance_filtered_counts_hffc6_hepg2.tsv'\n",
    "sg.add_abundance(ab)\n",
    "ab = 'data/all_talon_abundance_filtered_counts_k562.tsv'\n",
    "sg.add_abundance(ab)"
   ]
  },
  {
   "cell_type": "code",
   "execution_count": 3,
   "id": "motivated-trainer",
   "metadata": {},
   "outputs": [
    {
     "data": {
      "text/plain": [
       "KeysView(Layers with keys: counts, tpm, pi)"
      ]
     },
     "execution_count": 3,
     "metadata": {},
     "output_type": "execute_result"
    }
   ],
   "source": [
    "sg.adata.layers.keys()"
   ]
  },
  {
   "cell_type": "code",
   "execution_count": 17,
   "id": "metric-drunk",
   "metadata": {},
   "outputs": [
    {
     "data": {
      "text/html": [
       "<div>\n",
       "<style scoped>\n",
       "    .dataframe tbody tr th:only-of-type {\n",
       "        vertical-align: middle;\n",
       "    }\n",
       "\n",
       "    .dataframe tbody tr th {\n",
       "        vertical-align: top;\n",
       "    }\n",
       "\n",
       "    .dataframe thead th {\n",
       "        text-align: right;\n",
       "    }\n",
       "</style>\n",
       "<table border=\"1\" class=\"dataframe\">\n",
       "  <thead>\n",
       "    <tr style=\"text-align: right;\">\n",
       "      <th></th>\n",
       "      <th>dataset</th>\n",
       "    </tr>\n",
       "  </thead>\n",
       "  <tbody>\n",
       "    <tr>\n",
       "      <th>hepg2_1_chr20</th>\n",
       "      <td>hepg2_1_chr20</td>\n",
       "    </tr>\n",
       "    <tr>\n",
       "      <th>hepg2_2_chr20</th>\n",
       "      <td>hepg2_2_chr20</td>\n",
       "    </tr>\n",
       "    <tr>\n",
       "      <th>hffc6_1_chr20</th>\n",
       "      <td>hffc6_1_chr20</td>\n",
       "    </tr>\n",
       "    <tr>\n",
       "      <th>hffc6_2_chr20</th>\n",
       "      <td>hffc6_2_chr20</td>\n",
       "    </tr>\n",
       "    <tr>\n",
       "      <th>hffc6_3_chr20</th>\n",
       "      <td>hffc6_3_chr20</td>\n",
       "    </tr>\n",
       "    <tr>\n",
       "      <th>k562_1_chr20</th>\n",
       "      <td>k562_1_chr20</td>\n",
       "    </tr>\n",
       "    <tr>\n",
       "      <th>k562_2_chr20</th>\n",
       "      <td>k562_2_chr20</td>\n",
       "    </tr>\n",
       "  </tbody>\n",
       "</table>\n",
       "</div>"
      ],
      "text/plain": [
       "                     dataset\n",
       "hepg2_1_chr20  hepg2_1_chr20\n",
       "hepg2_2_chr20  hepg2_2_chr20\n",
       "hffc6_1_chr20  hffc6_1_chr20\n",
       "hffc6_2_chr20  hffc6_2_chr20\n",
       "hffc6_3_chr20  hffc6_3_chr20\n",
       "k562_1_chr20    k562_1_chr20\n",
       "k562_2_chr20    k562_2_chr20"
      ]
     },
     "execution_count": 17,
     "metadata": {},
     "output_type": "execute_result"
    }
   ],
   "source": [
    "sg.adata.obs"
   ]
  },
  {
   "cell_type": "code",
   "execution_count": 18,
   "id": "advance-thong",
   "metadata": {},
   "outputs": [
    {
     "data": {
      "text/html": [
       "<div>\n",
       "<style scoped>\n",
       "    .dataframe tbody tr th:only-of-type {\n",
       "        vertical-align: middle;\n",
       "    }\n",
       "\n",
       "    .dataframe tbody tr th {\n",
       "        vertical-align: top;\n",
       "    }\n",
       "\n",
       "    .dataframe thead th {\n",
       "        text-align: right;\n",
       "    }\n",
       "</style>\n",
       "<table border=\"1\" class=\"dataframe\">\n",
       "  <thead>\n",
       "    <tr style=\"text-align: right;\">\n",
       "      <th></th>\n",
       "      <th>tid</th>\n",
       "    </tr>\n",
       "    <tr>\n",
       "      <th>tid</th>\n",
       "      <th></th>\n",
       "    </tr>\n",
       "  </thead>\n",
       "  <tbody>\n",
       "    <tr>\n",
       "      <th>ENST00000023939.8</th>\n",
       "      <td>ENST00000023939.8</td>\n",
       "    </tr>\n",
       "    <tr>\n",
       "      <th>ENST00000045083.6</th>\n",
       "      <td>ENST00000045083.6</td>\n",
       "    </tr>\n",
       "    <tr>\n",
       "      <th>ENST00000062104.3</th>\n",
       "      <td>ENST00000062104.3</td>\n",
       "    </tr>\n",
       "    <tr>\n",
       "      <th>ENST00000064571.2</th>\n",
       "      <td>ENST00000064571.2</td>\n",
       "    </tr>\n",
       "    <tr>\n",
       "      <th>ENST00000170150.3</th>\n",
       "      <td>ENST00000170150.3</td>\n",
       "    </tr>\n",
       "  </tbody>\n",
       "</table>\n",
       "</div>"
      ],
      "text/plain": [
       "                                 tid\n",
       "tid                                 \n",
       "ENST00000023939.8  ENST00000023939.8\n",
       "ENST00000045083.6  ENST00000045083.6\n",
       "ENST00000062104.3  ENST00000062104.3\n",
       "ENST00000064571.2  ENST00000064571.2\n",
       "ENST00000170150.3  ENST00000170150.3"
      ]
     },
     "execution_count": 18,
     "metadata": {},
     "output_type": "execute_result"
    }
   ],
   "source": [
    "sg.adata.var.head()"
   ]
  },
  {
   "cell_type": "code",
   "execution_count": 7,
   "id": "identical-surprise",
   "metadata": {},
   "outputs": [
    {
     "data": {
      "text/plain": [
       "array([[  0.,   0.,   0.,   0., 847.],\n",
       "       [  0.,   0.,   0.,   0., 800.],\n",
       "       [  2.,   0.,   0.,   0.,   0.],\n",
       "       [  2.,   0.,   0.,   0.,   0.],\n",
       "       [  2.,   0.,   0.,   0.,   0.],\n",
       "       [  1.,   0.,   0.,   0.,   0.],\n",
       "       [  1.,   0.,   0.,   0.,   0.]], dtype=float32)"
      ]
     },
     "execution_count": 7,
     "metadata": {},
     "output_type": "execute_result"
    }
   ],
   "source": [
    "sg.adata.X[:, :5]"
   ]
  },
  {
   "cell_type": "code",
   "execution_count": 8,
   "id": "obvious-exception",
   "metadata": {},
   "outputs": [
    {
     "ename": "KeyError",
     "evalue": "'tpm'",
     "output_type": "error",
     "traceback": [
      "\u001b[0;31m---------------------------------------------------------------------------\u001b[0m",
      "\u001b[0;31mKeyError\u001b[0m                                  Traceback (most recent call last)",
      "\u001b[0;32m<ipython-input-8-4f83231fd002>\u001b[0m in \u001b[0;36m<module>\u001b[0;34m\u001b[0m\n\u001b[0;32m----> 1\u001b[0;31m \u001b[0msg\u001b[0m\u001b[0;34m.\u001b[0m\u001b[0madata\u001b[0m\u001b[0;34m.\u001b[0m\u001b[0mlayers\u001b[0m\u001b[0;34m[\u001b[0m\u001b[0;34m'tpm'\u001b[0m\u001b[0;34m]\u001b[0m\u001b[0;34m[\u001b[0m\u001b[0;34m:\u001b[0m\u001b[0;34m,\u001b[0m \u001b[0;34m:\u001b[0m\u001b[0;36m5\u001b[0m\u001b[0;34m]\u001b[0m\u001b[0;34m\u001b[0m\u001b[0;34m\u001b[0m\u001b[0m\n\u001b[0m",
      "\u001b[0;32m~/miniconda3/lib/python3.7/site-packages/anndata/_core/aligned_mapping.py\u001b[0m in \u001b[0;36m__getitem__\u001b[0;34m(self, key)\u001b[0m\n\u001b[1;32m    145\u001b[0m \u001b[0;34m\u001b[0m\u001b[0m\n\u001b[1;32m    146\u001b[0m     \u001b[0;32mdef\u001b[0m \u001b[0m__getitem__\u001b[0m\u001b[0;34m(\u001b[0m\u001b[0mself\u001b[0m\u001b[0;34m,\u001b[0m \u001b[0mkey\u001b[0m\u001b[0;34m:\u001b[0m \u001b[0mstr\u001b[0m\u001b[0;34m)\u001b[0m \u001b[0;34m->\u001b[0m \u001b[0mV\u001b[0m\u001b[0;34m:\u001b[0m\u001b[0;34m\u001b[0m\u001b[0;34m\u001b[0m\u001b[0m\n\u001b[0;32m--> 147\u001b[0;31m         \u001b[0;32mreturn\u001b[0m \u001b[0mself\u001b[0m\u001b[0;34m.\u001b[0m\u001b[0m_data\u001b[0m\u001b[0;34m[\u001b[0m\u001b[0mkey\u001b[0m\u001b[0;34m]\u001b[0m\u001b[0;34m\u001b[0m\u001b[0;34m\u001b[0m\u001b[0m\n\u001b[0m\u001b[1;32m    148\u001b[0m \u001b[0;34m\u001b[0m\u001b[0m\n\u001b[1;32m    149\u001b[0m     \u001b[0;32mdef\u001b[0m \u001b[0m__setitem__\u001b[0m\u001b[0;34m(\u001b[0m\u001b[0mself\u001b[0m\u001b[0;34m,\u001b[0m \u001b[0mkey\u001b[0m\u001b[0;34m:\u001b[0m \u001b[0mstr\u001b[0m\u001b[0;34m,\u001b[0m \u001b[0mvalue\u001b[0m\u001b[0;34m:\u001b[0m \u001b[0mV\u001b[0m\u001b[0;34m)\u001b[0m\u001b[0;34m:\u001b[0m\u001b[0;34m\u001b[0m\u001b[0;34m\u001b[0m\u001b[0m\n",
      "\u001b[0;31mKeyError\u001b[0m: 'tpm'"
     ]
    }
   ],
   "source": [
    "sg.adata.layers['tpm'][:, :5]"
   ]
  },
  {
   "cell_type": "code",
   "execution_count": null,
   "id": "skilled-imperial",
   "metadata": {},
   "outputs": [],
   "source": [
    "sg.adata.obs.head()"
   ]
  },
  {
   "cell_type": "markdown",
   "id": "fourth-shooting",
   "metadata": {},
   "source": [
    "#### test - add abundance when trying to add more datasests that are already there"
   ]
  },
  {
   "cell_type": "code",
   "execution_count": 2,
   "id": "alien-clearing",
   "metadata": {},
   "outputs": [],
   "source": [
    "sg = swan.SwanGraph()"
   ]
  },
  {
   "cell_type": "code",
   "execution_count": 3,
   "id": "characteristic-kingdom",
   "metadata": {},
   "outputs": [
    {
     "name": "stdout",
     "output_type": "stream",
     "text": [
      "\n",
      "Adding annotation to the SwanGraph\n"
     ]
    }
   ],
   "source": [
    "# just chr 20\n",
    "gtf = 'data/gencode.v29.annotation.gtf'\n",
    "sg.add_annotation(gtf)"
   ]
  },
  {
   "cell_type": "code",
   "execution_count": 4,
   "id": "returning-wrestling",
   "metadata": {},
   "outputs": [
    {
     "name": "stdout",
     "output_type": "stream",
     "text": [
      "\n",
      "Adding transcriptome to the SwanGraph\n"
     ]
    }
   ],
   "source": [
    "# transcriptome\n",
    "gtf = 'data/hepg2_1_talon.gtf'\n",
    "sg.add_transcriptome(gtf)"
   ]
  },
  {
   "cell_type": "code",
   "execution_count": 5,
   "id": "physical-comparison",
   "metadata": {},
   "outputs": [
    {
     "name": "stdout",
     "output_type": "stream",
     "text": [
      "\n",
      "Adding abundance for datasets hepg2_1_chr20, hepg2_2_chr20, hffc6_1_chr20, hffc6_2_chr20, hffc6_3_chr20... (and 2 more) to SwanGraph\n"
     ]
    }
   ],
   "source": [
    "# abundance\n",
    "ab = 'data/all_talon_abundance_filtered_counts.tsv'\n",
    "sg.add_abundance(ab)"
   ]
  },
  {
   "cell_type": "code",
   "execution_count": 26,
   "id": "scientific-commission",
   "metadata": {},
   "outputs": [
    {
     "name": "stdout",
     "output_type": "stream",
     "text": [
      "counts\n",
      "tpm\n"
     ]
    }
   ],
   "source": [
    "for i in sg.adata.layers.keys():\n",
    "    print(i)"
   ]
  },
  {
   "cell_type": "code",
   "execution_count": 13,
   "id": "boxed-observer",
   "metadata": {},
   "outputs": [
    {
     "name": "stdout",
     "output_type": "stream",
     "text": [
      "Transcripts absent from abundance file will be assigned 0 counts.\n",
      "Transcripts found in abundance matrix that are not in the SwanGraph will not have expression added.\n"
     ]
    },
    {
     "ename": "ValueError",
     "evalue": "Dataset hepg2_1_chr20 already present in the SwanGraph.",
     "output_type": "error",
     "traceback": [
      "\u001b[0;31m---------------------------------------------------------------------------\u001b[0m",
      "\u001b[0;31mValueError\u001b[0m                                Traceback (most recent call last)",
      "\u001b[0;32m<ipython-input-13-6de16e8aed29>\u001b[0m in \u001b[0;36m<module>\u001b[0;34m\u001b[0m\n\u001b[1;32m      1\u001b[0m \u001b[0;31m# abundance\u001b[0m\u001b[0;34m\u001b[0m\u001b[0;34m\u001b[0m\u001b[0;34m\u001b[0m\u001b[0m\n\u001b[1;32m      2\u001b[0m \u001b[0mab\u001b[0m \u001b[0;34m=\u001b[0m \u001b[0;34m'data/all_talon_abundance_filtered_counts.tsv'\u001b[0m\u001b[0;34m\u001b[0m\u001b[0;34m\u001b[0m\u001b[0m\n\u001b[0;32m----> 3\u001b[0;31m \u001b[0msg\u001b[0m\u001b[0;34m.\u001b[0m\u001b[0madd_abundance\u001b[0m\u001b[0;34m(\u001b[0m\u001b[0mab\u001b[0m\u001b[0;34m)\u001b[0m\u001b[0;34m\u001b[0m\u001b[0;34m\u001b[0m\u001b[0m\n\u001b[0m",
      "\u001b[0;32m~/miniconda3/lib/python3.7/site-packages/swan_vis/swangraph.py\u001b[0m in \u001b[0;36madd_abundance\u001b[0;34m(self, counts_file)\u001b[0m\n\u001b[1;32m    321\u001b[0m                 \u001b[0;32mfor\u001b[0m \u001b[0md\u001b[0m \u001b[0;32min\u001b[0m \u001b[0mdatasets\u001b[0m\u001b[0;34m:\u001b[0m\u001b[0;34m\u001b[0m\u001b[0;34m\u001b[0m\u001b[0m\n\u001b[1;32m    322\u001b[0m                         \u001b[0;32mif\u001b[0m \u001b[0md\u001b[0m \u001b[0;32min\u001b[0m \u001b[0mself\u001b[0m\u001b[0;34m.\u001b[0m\u001b[0mdatasets\u001b[0m\u001b[0;34m:\u001b[0m\u001b[0;34m\u001b[0m\u001b[0;34m\u001b[0m\u001b[0m\n\u001b[0;32m--> 323\u001b[0;31m                                 \u001b[0;32mraise\u001b[0m \u001b[0mValueError\u001b[0m\u001b[0;34m(\u001b[0m\u001b[0;34m'Dataset {} already present in the SwanGraph.'\u001b[0m\u001b[0;34m.\u001b[0m\u001b[0mformat\u001b[0m\u001b[0;34m(\u001b[0m\u001b[0md\u001b[0m\u001b[0;34m)\u001b[0m\u001b[0;34m)\u001b[0m\u001b[0;34m\u001b[0m\u001b[0;34m\u001b[0m\u001b[0m\n\u001b[0m\u001b[1;32m    324\u001b[0m                 \u001b[0mself\u001b[0m\u001b[0;34m.\u001b[0m\u001b[0mdatasets\u001b[0m\u001b[0;34m.\u001b[0m\u001b[0mextend\u001b[0m\u001b[0;34m(\u001b[0m\u001b[0mdatasets\u001b[0m\u001b[0;34m)\u001b[0m\u001b[0;34m\u001b[0m\u001b[0;34m\u001b[0m\u001b[0m\n\u001b[1;32m    325\u001b[0m \u001b[0;34m\u001b[0m\u001b[0m\n",
      "\u001b[0;31mValueError\u001b[0m: Dataset hepg2_1_chr20 already present in the SwanGraph."
     ]
    }
   ],
   "source": [
    "# abundance\n",
    "ab = 'data/all_talon_abundance_filtered_counts.tsv'\n",
    "sg.add_abundance(ab)"
   ]
  },
  {
   "cell_type": "code",
   "execution_count": null,
   "id": "advance-distance",
   "metadata": {},
   "outputs": [],
   "source": [
    "sg.adata.X[:5,:5]"
   ]
  },
  {
   "cell_type": "code",
   "execution_count": null,
   "id": "fatty-watershed",
   "metadata": {},
   "outputs": [],
   "source": []
  },
  {
   "cell_type": "code",
   "execution_count": null,
   "id": "approved-deposit",
   "metadata": {},
   "outputs": [],
   "source": []
  },
  {
   "cell_type": "code",
   "execution_count": 5,
   "id": "immune-malpractice",
   "metadata": {},
   "outputs": [
    {
     "data": {
      "text/html": [
       "<div>\n",
       "<style scoped>\n",
       "    .dataframe tbody tr th:only-of-type {\n",
       "        vertical-align: middle;\n",
       "    }\n",
       "\n",
       "    .dataframe tbody tr th {\n",
       "        vertical-align: top;\n",
       "    }\n",
       "\n",
       "    .dataframe thead th {\n",
       "        text-align: right;\n",
       "    }\n",
       "</style>\n",
       "<table border=\"1\" class=\"dataframe\">\n",
       "  <thead>\n",
       "    <tr style=\"text-align: right;\">\n",
       "      <th></th>\n",
       "      <th>tid</th>\n",
       "      <th>tname</th>\n",
       "      <th>gid</th>\n",
       "      <th>gname</th>\n",
       "      <th>path</th>\n",
       "      <th>annotation</th>\n",
       "      <th>novelty</th>\n",
       "    </tr>\n",
       "    <tr>\n",
       "      <th>tid</th>\n",
       "      <th></th>\n",
       "      <th></th>\n",
       "      <th></th>\n",
       "      <th></th>\n",
       "      <th></th>\n",
       "      <th></th>\n",
       "      <th></th>\n",
       "    </tr>\n",
       "  </thead>\n",
       "  <tbody>\n",
       "    <tr>\n",
       "      <th>ENST00000023939.8</th>\n",
       "      <td>ENST00000023939.8</td>\n",
       "      <td>RTF2-201</td>\n",
       "      <td>ENSG00000022277.12</td>\n",
       "      <td>RTF2</td>\n",
       "      <td>[9022, 9029, 9035, 9036, 9037, 9039, 9040, 904...</td>\n",
       "      <td>True</td>\n",
       "      <td>Known</td>\n",
       "    </tr>\n",
       "    <tr>\n",
       "      <th>ENST00000045083.6</th>\n",
       "      <td>ENST00000045083.6</td>\n",
       "      <td>RIPOR3-201</td>\n",
       "      <td>ENSG00000042062.11</td>\n",
       "      <td>RIPOR3</td>\n",
       "      <td>[13836, 13837, 13838, 13839, 13840, 13841, 138...</td>\n",
       "      <td>True</td>\n",
       "      <td>Known</td>\n",
       "    </tr>\n",
       "    <tr>\n",
       "      <th>ENST00000062104.3</th>\n",
       "      <td>ENST00000062104.3</td>\n",
       "      <td>NNAT-201</td>\n",
       "      <td>ENSG00000053438.9</td>\n",
       "      <td>NNAT</td>\n",
       "      <td>[5907, 5912, 5913, 5916, 5918, 5923]</td>\n",
       "      <td>True</td>\n",
       "      <td>Known</td>\n",
       "    </tr>\n",
       "    <tr>\n",
       "      <th>ENST00000064571.2</th>\n",
       "      <td>ENST00000064571.2</td>\n",
       "      <td>CBLN4-201</td>\n",
       "      <td>ENSG00000054803.3</td>\n",
       "      <td>CBLN4</td>\n",
       "      <td>[13398, 13399, 13400, 13401, 13402, 13403]</td>\n",
       "      <td>True</td>\n",
       "      <td>Known</td>\n",
       "    </tr>\n",
       "    <tr>\n",
       "      <th>ENST00000170150.3</th>\n",
       "      <td>ENST00000170150.3</td>\n",
       "      <td>BPIFB2-201</td>\n",
       "      <td>ENSG00000078898.6</td>\n",
       "      <td>BPIFB2</td>\n",
       "      <td>[4157, 4159, 4163, 4166, 4168, 4170, 4172, 417...</td>\n",
       "      <td>True</td>\n",
       "      <td>Known</td>\n",
       "    </tr>\n",
       "  </tbody>\n",
       "</table>\n",
       "</div>"
      ],
      "text/plain": [
       "                                 tid       tname                 gid   gname  \\\n",
       "tid                                                                            \n",
       "ENST00000023939.8  ENST00000023939.8    RTF2-201  ENSG00000022277.12    RTF2   \n",
       "ENST00000045083.6  ENST00000045083.6  RIPOR3-201  ENSG00000042062.11  RIPOR3   \n",
       "ENST00000062104.3  ENST00000062104.3    NNAT-201   ENSG00000053438.9    NNAT   \n",
       "ENST00000064571.2  ENST00000064571.2   CBLN4-201   ENSG00000054803.3   CBLN4   \n",
       "ENST00000170150.3  ENST00000170150.3  BPIFB2-201   ENSG00000078898.6  BPIFB2   \n",
       "\n",
       "                                                                path  \\\n",
       "tid                                                                    \n",
       "ENST00000023939.8  [9022, 9029, 9035, 9036, 9037, 9039, 9040, 904...   \n",
       "ENST00000045083.6  [13836, 13837, 13838, 13839, 13840, 13841, 138...   \n",
       "ENST00000062104.3               [5907, 5912, 5913, 5916, 5918, 5923]   \n",
       "ENST00000064571.2         [13398, 13399, 13400, 13401, 13402, 13403]   \n",
       "ENST00000170150.3  [4157, 4159, 4163, 4166, 4168, 4170, 4172, 417...   \n",
       "\n",
       "                   annotation novelty  \n",
       "tid                                    \n",
       "ENST00000023939.8        True   Known  \n",
       "ENST00000045083.6        True   Known  \n",
       "ENST00000062104.3        True   Known  \n",
       "ENST00000064571.2        True   Known  \n",
       "ENST00000170150.3        True   Known  "
      ]
     },
     "execution_count": 5,
     "metadata": {},
     "output_type": "execute_result"
    }
   ],
   "source": [
    "sg.t_df.head()"
   ]
  },
  {
   "cell_type": "code",
   "execution_count": 8,
   "id": "elect-respondent",
   "metadata": {},
   "outputs": [
    {
     "data": {
      "text/html": [
       "<div>\n",
       "<style scoped>\n",
       "    .dataframe tbody tr th:only-of-type {\n",
       "        vertical-align: middle;\n",
       "    }\n",
       "\n",
       "    .dataframe tbody tr th {\n",
       "        vertical-align: top;\n",
       "    }\n",
       "\n",
       "    .dataframe thead th {\n",
       "        text-align: right;\n",
       "    }\n",
       "</style>\n",
       "<table border=\"1\" class=\"dataframe\">\n",
       "  <thead>\n",
       "    <tr style=\"text-align: right;\">\n",
       "      <th></th>\n",
       "      <th>tid</th>\n",
       "      <th>tname</th>\n",
       "      <th>gid</th>\n",
       "      <th>gname</th>\n",
       "      <th>path</th>\n",
       "      <th>annotation</th>\n",
       "      <th>novelty</th>\n",
       "    </tr>\n",
       "    <tr>\n",
       "      <th>tid</th>\n",
       "      <th></th>\n",
       "      <th></th>\n",
       "      <th></th>\n",
       "      <th></th>\n",
       "      <th></th>\n",
       "      <th></th>\n",
       "      <th></th>\n",
       "    </tr>\n",
       "  </thead>\n",
       "  <tbody>\n",
       "    <tr>\n",
       "      <th>TALONT000005280</th>\n",
       "      <td>TALONT000005280</td>\n",
       "      <td>TALONT000005280</td>\n",
       "      <td>ENSG00000198171.12</td>\n",
       "      <td>DDRGK1</td>\n",
       "      <td>[21055, 21057, 21059, 21061, 21063, 21065, 210...</td>\n",
       "      <td>False</td>\n",
       "      <td>NNC</td>\n",
       "    </tr>\n",
       "    <tr>\n",
       "      <th>TALONT000005555</th>\n",
       "      <td>TALONT000005555</td>\n",
       "      <td>TALONT000005555</td>\n",
       "      <td>ENSG00000125779.22</td>\n",
       "      <td>PANK2</td>\n",
       "      <td>[1020, 1022, 1038, 1040, 1045, 1048, 1050, 105...</td>\n",
       "      <td>False</td>\n",
       "      <td>NIC</td>\n",
       "    </tr>\n",
       "    <tr>\n",
       "      <th>TALONT000005727</th>\n",
       "      <td>TALONT000005727</td>\n",
       "      <td>TALONT000005727</td>\n",
       "      <td>ENSG00000089063.14</td>\n",
       "      <td>TMEM230</td>\n",
       "      <td>[20569, 20572, 20586, 20588, 20592, 20594, 205...</td>\n",
       "      <td>False</td>\n",
       "      <td>NNC</td>\n",
       "    </tr>\n",
       "    <tr>\n",
       "      <th>TALONT000006405</th>\n",
       "      <td>TALONT000006405</td>\n",
       "      <td>TALONT000006405</td>\n",
       "      <td>ENSG00000125868.15</td>\n",
       "      <td>DSTN</td>\n",
       "      <td>[2138, 2142, 2146, 2148, 2151, 2153, 2157, 2160]</td>\n",
       "      <td>False</td>\n",
       "      <td>NNC</td>\n",
       "    </tr>\n",
       "    <tr>\n",
       "      <th>TALONT000006566</th>\n",
       "      <td>TALONT000006566</td>\n",
       "      <td>TALONT000006566</td>\n",
       "      <td>ENSG00000089006.16</td>\n",
       "      <td>SNX5</td>\n",
       "      <td>[19444, 19447, 19456, 19458, 19472, 19477, 194...</td>\n",
       "      <td>False</td>\n",
       "      <td>NIC</td>\n",
       "    </tr>\n",
       "  </tbody>\n",
       "</table>\n",
       "</div>"
      ],
      "text/plain": [
       "                             tid            tname                 gid  \\\n",
       "tid                                                                     \n",
       "TALONT000005280  TALONT000005280  TALONT000005280  ENSG00000198171.12   \n",
       "TALONT000005555  TALONT000005555  TALONT000005555  ENSG00000125779.22   \n",
       "TALONT000005727  TALONT000005727  TALONT000005727  ENSG00000089063.14   \n",
       "TALONT000006405  TALONT000006405  TALONT000006405  ENSG00000125868.15   \n",
       "TALONT000006566  TALONT000006566  TALONT000006566  ENSG00000089006.16   \n",
       "\n",
       "                   gname                                               path  \\\n",
       "tid                                                                           \n",
       "TALONT000005280   DDRGK1  [21055, 21057, 21059, 21061, 21063, 21065, 210...   \n",
       "TALONT000005555    PANK2  [1020, 1022, 1038, 1040, 1045, 1048, 1050, 105...   \n",
       "TALONT000005727  TMEM230  [20569, 20572, 20586, 20588, 20592, 20594, 205...   \n",
       "TALONT000006405     DSTN   [2138, 2142, 2146, 2148, 2151, 2153, 2157, 2160]   \n",
       "TALONT000006566     SNX5  [19444, 19447, 19456, 19458, 19472, 19477, 194...   \n",
       "\n",
       "                 annotation novelty  \n",
       "tid                                  \n",
       "TALONT000005280       False     NNC  \n",
       "TALONT000005555       False     NIC  \n",
       "TALONT000005727       False     NNC  \n",
       "TALONT000006405       False     NNC  \n",
       "TALONT000006566       False     NIC  "
      ]
     },
     "execution_count": 8,
     "metadata": {},
     "output_type": "execute_result"
    }
   ],
   "source": [
    "sg.t_df.loc[sg.t_df.annotation==False].head()"
   ]
  },
  {
   "cell_type": "code",
   "execution_count": 7,
   "id": "expired-forwarding",
   "metadata": {},
   "outputs": [
    {
     "data": {
      "text/html": [
       "<div>\n",
       "<style scoped>\n",
       "    .dataframe tbody tr th:only-of-type {\n",
       "        vertical-align: middle;\n",
       "    }\n",
       "\n",
       "    .dataframe tbody tr th {\n",
       "        vertical-align: top;\n",
       "    }\n",
       "\n",
       "    .dataframe thead th {\n",
       "        text-align: right;\n",
       "    }\n",
       "</style>\n",
       "<table border=\"1\" class=\"dataframe\">\n",
       "  <thead>\n",
       "    <tr style=\"text-align: right;\">\n",
       "      <th></th>\n",
       "      <th>tid</th>\n",
       "      <th>tname</th>\n",
       "      <th>gid</th>\n",
       "      <th>gname</th>\n",
       "      <th>path</th>\n",
       "      <th>annotation</th>\n",
       "      <th>novelty</th>\n",
       "    </tr>\n",
       "    <tr>\n",
       "      <th>tid</th>\n",
       "      <th></th>\n",
       "      <th></th>\n",
       "      <th></th>\n",
       "      <th></th>\n",
       "      <th></th>\n",
       "      <th></th>\n",
       "      <th></th>\n",
       "    </tr>\n",
       "  </thead>\n",
       "  <tbody>\n",
       "    <tr>\n",
       "      <th>ENST00000023939.8</th>\n",
       "      <td>ENST00000023939.8</td>\n",
       "      <td>RTF2-201</td>\n",
       "      <td>ENSG00000022277.12</td>\n",
       "      <td>RTF2</td>\n",
       "      <td>[9022, 9029, 9035, 9036, 9037, 9039, 9040, 904...</td>\n",
       "      <td>True</td>\n",
       "      <td>Known</td>\n",
       "    </tr>\n",
       "    <tr>\n",
       "      <th>ENST00000045083.6</th>\n",
       "      <td>ENST00000045083.6</td>\n",
       "      <td>RIPOR3-201</td>\n",
       "      <td>ENSG00000042062.11</td>\n",
       "      <td>RIPOR3</td>\n",
       "      <td>[13836, 13837, 13838, 13839, 13840, 13841, 138...</td>\n",
       "      <td>True</td>\n",
       "      <td>Known</td>\n",
       "    </tr>\n",
       "    <tr>\n",
       "      <th>ENST00000062104.3</th>\n",
       "      <td>ENST00000062104.3</td>\n",
       "      <td>NNAT-201</td>\n",
       "      <td>ENSG00000053438.9</td>\n",
       "      <td>NNAT</td>\n",
       "      <td>[5907, 5912, 5913, 5916, 5918, 5923]</td>\n",
       "      <td>True</td>\n",
       "      <td>Known</td>\n",
       "    </tr>\n",
       "    <tr>\n",
       "      <th>ENST00000064571.2</th>\n",
       "      <td>ENST00000064571.2</td>\n",
       "      <td>CBLN4-201</td>\n",
       "      <td>ENSG00000054803.3</td>\n",
       "      <td>CBLN4</td>\n",
       "      <td>[13398, 13399, 13400, 13401, 13402, 13403]</td>\n",
       "      <td>True</td>\n",
       "      <td>Known</td>\n",
       "    </tr>\n",
       "    <tr>\n",
       "      <th>ENST00000170150.3</th>\n",
       "      <td>ENST00000170150.3</td>\n",
       "      <td>BPIFB2-201</td>\n",
       "      <td>ENSG00000078898.6</td>\n",
       "      <td>BPIFB2</td>\n",
       "      <td>[4157, 4159, 4163, 4166, 4168, 4170, 4172, 417...</td>\n",
       "      <td>True</td>\n",
       "      <td>Known</td>\n",
       "    </tr>\n",
       "    <tr>\n",
       "      <th>...</th>\n",
       "      <td>...</td>\n",
       "      <td>...</td>\n",
       "      <td>...</td>\n",
       "      <td>...</td>\n",
       "      <td>...</td>\n",
       "      <td>...</td>\n",
       "      <td>...</td>\n",
       "    </tr>\n",
       "    <tr>\n",
       "      <th>TALONT000013657</th>\n",
       "      <td>TALONT000013657</td>\n",
       "      <td>TALONT000013657</td>\n",
       "      <td>ENSG00000101187.15</td>\n",
       "      <td>SLCO4A1</td>\n",
       "      <td>[10403, 10405, 10408, 10412, 10421, 10424, 104...</td>\n",
       "      <td>False</td>\n",
       "      <td>NIC</td>\n",
       "    </tr>\n",
       "    <tr>\n",
       "      <th>TALONT000013998</th>\n",
       "      <td>TALONT000013998</td>\n",
       "      <td>TALONT000013998</td>\n",
       "      <td>ENSG00000101246.19</td>\n",
       "      <td>ARFRP1</td>\n",
       "      <td>[11745, 11747, 11754, 11756, 11759, 11761, 117...</td>\n",
       "      <td>False</td>\n",
       "      <td>NIC</td>\n",
       "    </tr>\n",
       "    <tr>\n",
       "      <th>TALONT000014162</th>\n",
       "      <td>TALONT000014162</td>\n",
       "      <td>TALONT000014162</td>\n",
       "      <td>ENSG00000198276.15</td>\n",
       "      <td>UCKL1</td>\n",
       "      <td>[11635, 11639, 11645, 11649, 11651, 11653, 116...</td>\n",
       "      <td>False</td>\n",
       "      <td>NNC</td>\n",
       "    </tr>\n",
       "    <tr>\n",
       "      <th>TALONT000014163</th>\n",
       "      <td>TALONT000014163</td>\n",
       "      <td>TALONT000014163</td>\n",
       "      <td>ENSG00000198276.15</td>\n",
       "      <td>UCKL1</td>\n",
       "      <td>[11635, 11639, 11646, 11649, 11651, 11653, 116...</td>\n",
       "      <td>False</td>\n",
       "      <td>NNC</td>\n",
       "    </tr>\n",
       "    <tr>\n",
       "      <th>TALONT000014329</th>\n",
       "      <td>TALONT000014329</td>\n",
       "      <td>TALONT000014329</td>\n",
       "      <td>ENSG00000196421.8</td>\n",
       "      <td>C20orf204</td>\n",
       "      <td>[11342, 11344, 11346, 11352, 11355, 11357]</td>\n",
       "      <td>False</td>\n",
       "      <td>NIC</td>\n",
       "    </tr>\n",
       "  </tbody>\n",
       "</table>\n",
       "<p>4555 rows × 7 columns</p>\n",
       "</div>"
      ],
      "text/plain": [
       "                                 tid            tname                 gid  \\\n",
       "tid                                                                         \n",
       "ENST00000023939.8  ENST00000023939.8         RTF2-201  ENSG00000022277.12   \n",
       "ENST00000045083.6  ENST00000045083.6       RIPOR3-201  ENSG00000042062.11   \n",
       "ENST00000062104.3  ENST00000062104.3         NNAT-201   ENSG00000053438.9   \n",
       "ENST00000064571.2  ENST00000064571.2        CBLN4-201   ENSG00000054803.3   \n",
       "ENST00000170150.3  ENST00000170150.3       BPIFB2-201   ENSG00000078898.6   \n",
       "...                              ...              ...                 ...   \n",
       "TALONT000013657      TALONT000013657  TALONT000013657  ENSG00000101187.15   \n",
       "TALONT000013998      TALONT000013998  TALONT000013998  ENSG00000101246.19   \n",
       "TALONT000014162      TALONT000014162  TALONT000014162  ENSG00000198276.15   \n",
       "TALONT000014163      TALONT000014163  TALONT000014163  ENSG00000198276.15   \n",
       "TALONT000014329      TALONT000014329  TALONT000014329   ENSG00000196421.8   \n",
       "\n",
       "                       gname  \\\n",
       "tid                            \n",
       "ENST00000023939.8       RTF2   \n",
       "ENST00000045083.6     RIPOR3   \n",
       "ENST00000062104.3       NNAT   \n",
       "ENST00000064571.2      CBLN4   \n",
       "ENST00000170150.3     BPIFB2   \n",
       "...                      ...   \n",
       "TALONT000013657      SLCO4A1   \n",
       "TALONT000013998       ARFRP1   \n",
       "TALONT000014162        UCKL1   \n",
       "TALONT000014163        UCKL1   \n",
       "TALONT000014329    C20orf204   \n",
       "\n",
       "                                                                path  \\\n",
       "tid                                                                    \n",
       "ENST00000023939.8  [9022, 9029, 9035, 9036, 9037, 9039, 9040, 904...   \n",
       "ENST00000045083.6  [13836, 13837, 13838, 13839, 13840, 13841, 138...   \n",
       "ENST00000062104.3               [5907, 5912, 5913, 5916, 5918, 5923]   \n",
       "ENST00000064571.2         [13398, 13399, 13400, 13401, 13402, 13403]   \n",
       "ENST00000170150.3  [4157, 4159, 4163, 4166, 4168, 4170, 4172, 417...   \n",
       "...                                                              ...   \n",
       "TALONT000013657    [10403, 10405, 10408, 10412, 10421, 10424, 104...   \n",
       "TALONT000013998    [11745, 11747, 11754, 11756, 11759, 11761, 117...   \n",
       "TALONT000014162    [11635, 11639, 11645, 11649, 11651, 11653, 116...   \n",
       "TALONT000014163    [11635, 11639, 11646, 11649, 11651, 11653, 116...   \n",
       "TALONT000014329           [11342, 11344, 11346, 11352, 11355, 11357]   \n",
       "\n",
       "                   annotation novelty  \n",
       "tid                                    \n",
       "ENST00000023939.8        True   Known  \n",
       "ENST00000045083.6        True   Known  \n",
       "ENST00000062104.3        True   Known  \n",
       "ENST00000064571.2        True   Known  \n",
       "ENST00000170150.3        True   Known  \n",
       "...                       ...     ...  \n",
       "TALONT000013657         False     NIC  \n",
       "TALONT000013998         False     NIC  \n",
       "TALONT000014162         False     NNC  \n",
       "TALONT000014163         False     NNC  \n",
       "TALONT000014329         False     NIC  \n",
       "\n",
       "[4555 rows x 7 columns]"
      ]
     },
     "execution_count": 7,
     "metadata": {},
     "output_type": "execute_result"
    }
   ],
   "source": [
    "sg.t_df.loc[sg.t_df.novelty!=False]"
   ]
  },
  {
   "cell_type": "code",
   "execution_count": 6,
   "id": "threatened-swing",
   "metadata": {},
   "outputs": [
    {
     "data": {
      "text/html": [
       "<div>\n",
       "<style scoped>\n",
       "    .dataframe tbody tr th:only-of-type {\n",
       "        vertical-align: middle;\n",
       "    }\n",
       "\n",
       "    .dataframe tbody tr th {\n",
       "        vertical-align: top;\n",
       "    }\n",
       "\n",
       "    .dataframe thead th {\n",
       "        text-align: right;\n",
       "    }\n",
       "</style>\n",
       "<table border=\"1\" class=\"dataframe\">\n",
       "  <thead>\n",
       "    <tr style=\"text-align: right;\">\n",
       "      <th></th>\n",
       "      <th>edge_type</th>\n",
       "      <th>strand</th>\n",
       "      <th>v1</th>\n",
       "      <th>v2</th>\n",
       "      <th>edge_id</th>\n",
       "    </tr>\n",
       "    <tr>\n",
       "      <th>edge_id</th>\n",
       "      <th></th>\n",
       "      <th></th>\n",
       "      <th></th>\n",
       "      <th></th>\n",
       "      <th></th>\n",
       "    </tr>\n",
       "  </thead>\n",
       "  <tbody>\n",
       "    <tr>\n",
       "      <th>(0, 1)</th>\n",
       "      <td>exon</td>\n",
       "      <td>+</td>\n",
       "      <td>0</td>\n",
       "      <td>1</td>\n",
       "      <td>(0, 1)</td>\n",
       "    </tr>\n",
       "    <tr>\n",
       "      <th>(1, 4)</th>\n",
       "      <td>intron</td>\n",
       "      <td>+</td>\n",
       "      <td>1</td>\n",
       "      <td>4</td>\n",
       "      <td>(1, 4)</td>\n",
       "    </tr>\n",
       "    <tr>\n",
       "      <th>(2, 3)</th>\n",
       "      <td>exon</td>\n",
       "      <td>+</td>\n",
       "      <td>2</td>\n",
       "      <td>3</td>\n",
       "      <td>(2, 3)</td>\n",
       "    </tr>\n",
       "    <tr>\n",
       "      <th>(3, 4)</th>\n",
       "      <td>intron</td>\n",
       "      <td>+</td>\n",
       "      <td>3</td>\n",
       "      <td>4</td>\n",
       "      <td>(3, 4)</td>\n",
       "    </tr>\n",
       "    <tr>\n",
       "      <th>(4, 5)</th>\n",
       "      <td>exon</td>\n",
       "      <td>+</td>\n",
       "      <td>4</td>\n",
       "      <td>5</td>\n",
       "      <td>(4, 5)</td>\n",
       "    </tr>\n",
       "  </tbody>\n",
       "</table>\n",
       "</div>"
      ],
      "text/plain": [
       "        edge_type strand  v1  v2 edge_id\n",
       "edge_id                                 \n",
       "(0, 1)       exon      +   0   1  (0, 1)\n",
       "(1, 4)     intron      +   1   4  (1, 4)\n",
       "(2, 3)       exon      +   2   3  (2, 3)\n",
       "(3, 4)     intron      +   3   4  (3, 4)\n",
       "(4, 5)       exon      +   4   5  (4, 5)"
      ]
     },
     "execution_count": 6,
     "metadata": {},
     "output_type": "execute_result"
    }
   ],
   "source": [
    "sg.edge_df.head()"
   ]
  },
  {
   "cell_type": "code",
   "execution_count": 7,
   "id": "mathematical-disease",
   "metadata": {},
   "outputs": [
    {
     "data": {
      "text/html": [
       "<div>\n",
       "<style scoped>\n",
       "    .dataframe tbody tr th:only-of-type {\n",
       "        vertical-align: middle;\n",
       "    }\n",
       "\n",
       "    .dataframe tbody tr th {\n",
       "        vertical-align: top;\n",
       "    }\n",
       "\n",
       "    .dataframe thead th {\n",
       "        text-align: right;\n",
       "    }\n",
       "</style>\n",
       "<table border=\"1\" class=\"dataframe\">\n",
       "  <thead>\n",
       "    <tr style=\"text-align: right;\">\n",
       "      <th></th>\n",
       "      <th>chrom</th>\n",
       "      <th>coord</th>\n",
       "      <th>strand</th>\n",
       "      <th>vertex_id</th>\n",
       "      <th>TSS</th>\n",
       "      <th>TES</th>\n",
       "      <th>internal</th>\n",
       "    </tr>\n",
       "    <tr>\n",
       "      <th>vertex_id</th>\n",
       "      <th></th>\n",
       "      <th></th>\n",
       "      <th></th>\n",
       "      <th></th>\n",
       "      <th></th>\n",
       "      <th></th>\n",
       "      <th></th>\n",
       "    </tr>\n",
       "  </thead>\n",
       "  <tbody>\n",
       "    <tr>\n",
       "      <th>0</th>\n",
       "      <td>chr20</td>\n",
       "      <td>87250</td>\n",
       "      <td>+</td>\n",
       "      <td>0</td>\n",
       "      <td>True</td>\n",
       "      <td>False</td>\n",
       "      <td>False</td>\n",
       "    </tr>\n",
       "    <tr>\n",
       "      <th>1</th>\n",
       "      <td>chr20</td>\n",
       "      <td>87359</td>\n",
       "      <td>+</td>\n",
       "      <td>1</td>\n",
       "      <td>False</td>\n",
       "      <td>False</td>\n",
       "      <td>True</td>\n",
       "    </tr>\n",
       "    <tr>\n",
       "      <th>2</th>\n",
       "      <td>chr20</td>\n",
       "      <td>87710</td>\n",
       "      <td>+</td>\n",
       "      <td>2</td>\n",
       "      <td>True</td>\n",
       "      <td>False</td>\n",
       "      <td>False</td>\n",
       "    </tr>\n",
       "    <tr>\n",
       "      <th>3</th>\n",
       "      <td>chr20</td>\n",
       "      <td>87767</td>\n",
       "      <td>+</td>\n",
       "      <td>3</td>\n",
       "      <td>False</td>\n",
       "      <td>False</td>\n",
       "      <td>True</td>\n",
       "    </tr>\n",
       "    <tr>\n",
       "      <th>4</th>\n",
       "      <td>chr20</td>\n",
       "      <td>96005</td>\n",
       "      <td>+</td>\n",
       "      <td>4</td>\n",
       "      <td>False</td>\n",
       "      <td>False</td>\n",
       "      <td>True</td>\n",
       "    </tr>\n",
       "  </tbody>\n",
       "</table>\n",
       "</div>"
      ],
      "text/plain": [
       "           chrom  coord strand  vertex_id    TSS    TES  internal\n",
       "vertex_id                                                        \n",
       "0          chr20  87250      +          0   True  False     False\n",
       "1          chr20  87359      +          1  False  False      True\n",
       "2          chr20  87710      +          2   True  False     False\n",
       "3          chr20  87767      +          3  False  False      True\n",
       "4          chr20  96005      +          4  False  False      True"
      ]
     },
     "execution_count": 7,
     "metadata": {},
     "output_type": "execute_result"
    }
   ],
   "source": [
    "sg.loc_df.head()"
   ]
  },
  {
   "cell_type": "code",
   "execution_count": null,
   "id": "bright-diamond",
   "metadata": {},
   "outputs": [],
   "source": []
  },
  {
   "cell_type": "code",
   "execution_count": 9,
   "id": "recognized-tulsa",
   "metadata": {},
   "outputs": [
    {
     "data": {
      "text/html": [
       "<div>\n",
       "<style scoped>\n",
       "    .dataframe tbody tr th:only-of-type {\n",
       "        vertical-align: middle;\n",
       "    }\n",
       "\n",
       "    .dataframe tbody tr th {\n",
       "        vertical-align: top;\n",
       "    }\n",
       "\n",
       "    .dataframe thead th {\n",
       "        text-align: right;\n",
       "    }\n",
       "</style>\n",
       "<table border=\"1\" class=\"dataframe\">\n",
       "  <thead>\n",
       "    <tr style=\"text-align: right;\">\n",
       "      <th></th>\n",
       "      <th>tid</th>\n",
       "      <th>tname</th>\n",
       "      <th>gid</th>\n",
       "      <th>gname</th>\n",
       "      <th>path</th>\n",
       "      <th>annotation</th>\n",
       "      <th>novelty</th>\n",
       "    </tr>\n",
       "    <tr>\n",
       "      <th>tid</th>\n",
       "      <th></th>\n",
       "      <th></th>\n",
       "      <th></th>\n",
       "      <th></th>\n",
       "      <th></th>\n",
       "      <th></th>\n",
       "      <th></th>\n",
       "    </tr>\n",
       "  </thead>\n",
       "  <tbody>\n",
       "    <tr>\n",
       "      <th>ENST00000023939.8</th>\n",
       "      <td>ENST00000023939.8</td>\n",
       "      <td>RTF2-201</td>\n",
       "      <td>ENSG00000022277.12</td>\n",
       "      <td>RTF2</td>\n",
       "      <td>[9022, 9029, 9035, 9036, 9037, 9039, 9040, 904...</td>\n",
       "      <td>True</td>\n",
       "      <td>Known</td>\n",
       "    </tr>\n",
       "    <tr>\n",
       "      <th>ENST00000045083.6</th>\n",
       "      <td>ENST00000045083.6</td>\n",
       "      <td>RIPOR3-201</td>\n",
       "      <td>ENSG00000042062.11</td>\n",
       "      <td>RIPOR3</td>\n",
       "      <td>[13836, 13837, 13838, 13839, 13840, 13841, 138...</td>\n",
       "      <td>True</td>\n",
       "      <td>Known</td>\n",
       "    </tr>\n",
       "    <tr>\n",
       "      <th>ENST00000062104.3</th>\n",
       "      <td>ENST00000062104.3</td>\n",
       "      <td>NNAT-201</td>\n",
       "      <td>ENSG00000053438.9</td>\n",
       "      <td>NNAT</td>\n",
       "      <td>[5907, 5912, 5913, 5916, 5918, 5923]</td>\n",
       "      <td>True</td>\n",
       "      <td>Known</td>\n",
       "    </tr>\n",
       "    <tr>\n",
       "      <th>ENST00000064571.2</th>\n",
       "      <td>ENST00000064571.2</td>\n",
       "      <td>CBLN4-201</td>\n",
       "      <td>ENSG00000054803.3</td>\n",
       "      <td>CBLN4</td>\n",
       "      <td>[13398, 13399, 13400, 13401, 13402, 13403]</td>\n",
       "      <td>True</td>\n",
       "      <td>Known</td>\n",
       "    </tr>\n",
       "    <tr>\n",
       "      <th>ENST00000170150.3</th>\n",
       "      <td>ENST00000170150.3</td>\n",
       "      <td>BPIFB2-201</td>\n",
       "      <td>ENSG00000078898.6</td>\n",
       "      <td>BPIFB2</td>\n",
       "      <td>[4157, 4159, 4163, 4166, 4168, 4170, 4172, 417...</td>\n",
       "      <td>True</td>\n",
       "      <td>Known</td>\n",
       "    </tr>\n",
       "  </tbody>\n",
       "</table>\n",
       "</div>"
      ],
      "text/plain": [
       "                                 tid       tname                 gid   gname  \\\n",
       "tid                                                                            \n",
       "ENST00000023939.8  ENST00000023939.8    RTF2-201  ENSG00000022277.12    RTF2   \n",
       "ENST00000045083.6  ENST00000045083.6  RIPOR3-201  ENSG00000042062.11  RIPOR3   \n",
       "ENST00000062104.3  ENST00000062104.3    NNAT-201   ENSG00000053438.9    NNAT   \n",
       "ENST00000064571.2  ENST00000064571.2   CBLN4-201   ENSG00000054803.3   CBLN4   \n",
       "ENST00000170150.3  ENST00000170150.3  BPIFB2-201   ENSG00000078898.6  BPIFB2   \n",
       "\n",
       "                                                                path  \\\n",
       "tid                                                                    \n",
       "ENST00000023939.8  [9022, 9029, 9035, 9036, 9037, 9039, 9040, 904...   \n",
       "ENST00000045083.6  [13836, 13837, 13838, 13839, 13840, 13841, 138...   \n",
       "ENST00000062104.3               [5907, 5912, 5913, 5916, 5918, 5923]   \n",
       "ENST00000064571.2         [13398, 13399, 13400, 13401, 13402, 13403]   \n",
       "ENST00000170150.3  [4157, 4159, 4163, 4166, 4168, 4170, 4172, 417...   \n",
       "\n",
       "                   annotation novelty  \n",
       "tid                                    \n",
       "ENST00000023939.8        True   Known  \n",
       "ENST00000045083.6        True   Known  \n",
       "ENST00000062104.3        True   Known  \n",
       "ENST00000064571.2        True   Known  \n",
       "ENST00000170150.3        True   Known  "
      ]
     },
     "execution_count": 9,
     "metadata": {},
     "output_type": "execute_result"
    }
   ],
   "source": [
    "sg.t_df.head()"
   ]
  },
  {
   "cell_type": "code",
   "execution_count": 9,
   "id": "peripheral-financing",
   "metadata": {},
   "outputs": [],
   "source": [
    "df = pd.read_csv('data/all_talon_abundance_filtered_counts.tsv', sep='\\t')\n",
    "\n",
    "# rename first column \n",
    "col = df.columns[0]\n",
    "df.rename({col: 'tid'}, axis=1, inplace=True)"
   ]
  },
  {
   "cell_type": "code",
   "execution_count": 29,
   "id": "settled-basin",
   "metadata": {},
   "outputs": [],
   "source": [
    "import numpy as np"
   ]
  },
  {
   "cell_type": "code",
   "execution_count": 8,
   "id": "adopted-qualification",
   "metadata": {},
   "outputs": [
    {
     "ename": "NameError",
     "evalue": "name 'ab_tids' is not defined",
     "output_type": "error",
     "traceback": [
      "\u001b[0;31m---------------------------------------------------------------------------\u001b[0m",
      "\u001b[0;31mNameError\u001b[0m                                 Traceback (most recent call last)",
      "\u001b[0;32m<ipython-input-8-fbb545520f63>\u001b[0m in \u001b[0;36m<module>\u001b[0;34m\u001b[0m\n\u001b[0;32m----> 1\u001b[0;31m \u001b[0mdf\u001b[0m\u001b[0;34m.\u001b[0m\u001b[0mloc\u001b[0m\u001b[0;34m[\u001b[0m\u001b[0mdf\u001b[0m\u001b[0;34m.\u001b[0m\u001b[0mtid\u001b[0m\u001b[0;34m.\u001b[0m\u001b[0misin\u001b[0m\u001b[0;34m(\u001b[0m\u001b[0mlist\u001b[0m\u001b[0;34m(\u001b[0m\u001b[0mset\u001b[0m\u001b[0;34m(\u001b[0m\u001b[0mab_tids\u001b[0m\u001b[0;34m)\u001b[0m\u001b[0;34m-\u001b[0m\u001b[0mset\u001b[0m\u001b[0;34m(\u001b[0m\u001b[0msg_tids\u001b[0m\u001b[0;34m)\u001b[0m\u001b[0;34m)\u001b[0m\u001b[0;34m)\u001b[0m\u001b[0;34m]\u001b[0m\u001b[0;34m\u001b[0m\u001b[0;34m\u001b[0m\u001b[0m\n\u001b[0m",
      "\u001b[0;31mNameError\u001b[0m: name 'ab_tids' is not defined"
     ]
    }
   ],
   "source": [
    "df.loc[df.tid.isin(list(set(ab_tids)-set(sg_tids)))]"
   ]
  },
  {
   "cell_type": "code",
   "execution_count": 10,
   "id": "opposed-childhood",
   "metadata": {},
   "outputs": [
    {
     "name": "stdout",
     "output_type": "stream",
     "text": [
      "Transcripts absent from abundance file will be assigned 0 counts.\n",
      "Transcripts found in abundance matrix that are not in the SwanGraph will not have expression added.\n"
     ]
    }
   ],
   "source": [
    "# limit to just the transcripts already in the graph\n",
    "sg_tids = sg.t_df.tid.tolist()\n",
    "ab_tids = df.tid.tolist()\n",
    "\n",
    "if len(set(sg_tids)-set(ab_tids)) != 0:\n",
    "    print('Transcripts absent from abundance file will be assigned 0 counts.')\n",
    "if len(set(ab_tids)-set(sg_tids)) != 0:\n",
    "    print('Transcripts found in abundance matrix that are not in the SwanGraph will not have expression added.')\n",
    "\n",
    "    \n",
    "# right merge to keep everything in the t_df already\n",
    "df = df.merge(sg.t_df['tid'].to_frame(), how='right', left_on='tid', right_index=True)\n",
    "df.drop(['tid_x', 'tid_y'], axis=1, inplace=True)"
   ]
  },
  {
   "cell_type": "code",
   "execution_count": 12,
   "id": "angry-aruba",
   "metadata": {},
   "outputs": [],
   "source": [
    "df.fillna(0, inplace=True)\n",
    "df.set_index('tid', inplace=True)"
   ]
  },
  {
   "cell_type": "code",
   "execution_count": 30,
   "id": "distinguished-correspondence",
   "metadata": {},
   "outputs": [
    {
     "name": "stdout",
     "output_type": "stream",
     "text": [
      "(7, 4555)\n"
     ]
    }
   ],
   "source": [
    "tpm_df = df.index.to_frame()\n",
    "tpm_df.head()\n",
    "for c in df.columns.tolist():\n",
    "    total_counts = df[c].sum()    \n",
    "    tpm_df[c] = (df[c]*1000000)/total_counts\n",
    "tpm_df.drop('tid', axis=1, inplace=True)\n",
    "tpm_df = tpm_df.T\n",
    "tpm_X = tpm_df.to_numpy()\n",
    "print(np.shape(tpm_X))"
   ]
  },
  {
   "cell_type": "code",
   "execution_count": 31,
   "id": "exotic-leader",
   "metadata": {},
   "outputs": [
    {
     "data": {
      "text/html": [
       "<div>\n",
       "<style scoped>\n",
       "    .dataframe tbody tr th:only-of-type {\n",
       "        vertical-align: middle;\n",
       "    }\n",
       "\n",
       "    .dataframe tbody tr th {\n",
       "        vertical-align: top;\n",
       "    }\n",
       "\n",
       "    .dataframe thead th {\n",
       "        text-align: right;\n",
       "    }\n",
       "</style>\n",
       "<table border=\"1\" class=\"dataframe\">\n",
       "  <thead>\n",
       "    <tr style=\"text-align: right;\">\n",
       "      <th>tid</th>\n",
       "      <th>ENST00000023939.8</th>\n",
       "      <th>ENST00000045083.6</th>\n",
       "      <th>ENST00000062104.3</th>\n",
       "      <th>ENST00000064571.2</th>\n",
       "      <th>ENST00000170150.3</th>\n",
       "      <th>ENST00000190983.4</th>\n",
       "      <th>ENST00000191018.9</th>\n",
       "      <th>ENST00000201031.2</th>\n",
       "      <th>ENST00000201961.6</th>\n",
       "      <th>ENST00000201963.3</th>\n",
       "      <th>...</th>\n",
       "      <th>TALONT000013147</th>\n",
       "      <th>TALONT000013148</th>\n",
       "      <th>TALONT000013454</th>\n",
       "      <th>TALONT000013557</th>\n",
       "      <th>TALONT000013655</th>\n",
       "      <th>TALONT000013657</th>\n",
       "      <th>TALONT000013998</th>\n",
       "      <th>TALONT000014162</th>\n",
       "      <th>TALONT000014163</th>\n",
       "      <th>TALONT000014329</th>\n",
       "    </tr>\n",
       "  </thead>\n",
       "  <tbody>\n",
       "    <tr>\n",
       "      <th>hepg2_1_chr20</th>\n",
       "      <td>0.000000</td>\n",
       "      <td>0.0</td>\n",
       "      <td>0.0</td>\n",
       "      <td>0.0</td>\n",
       "      <td>53914.704010</td>\n",
       "      <td>0.0</td>\n",
       "      <td>254.614895</td>\n",
       "      <td>0.000000</td>\n",
       "      <td>0.0</td>\n",
       "      <td>0.0</td>\n",
       "      <td>...</td>\n",
       "      <td>572.883514</td>\n",
       "      <td>381.922342</td>\n",
       "      <td>891.152132</td>\n",
       "      <td>700.190961</td>\n",
       "      <td>700.190961</td>\n",
       "      <td>381.922342</td>\n",
       "      <td>572.883514</td>\n",
       "      <td>1145.767027</td>\n",
       "      <td>1082.113304</td>\n",
       "      <td>318.268619</td>\n",
       "    </tr>\n",
       "    <tr>\n",
       "      <th>hepg2_2_chr20</th>\n",
       "      <td>0.000000</td>\n",
       "      <td>0.0</td>\n",
       "      <td>0.0</td>\n",
       "      <td>0.0</td>\n",
       "      <td>29204.541306</td>\n",
       "      <td>0.0</td>\n",
       "      <td>255.539736</td>\n",
       "      <td>0.000000</td>\n",
       "      <td>0.0</td>\n",
       "      <td>0.0</td>\n",
       "      <td>...</td>\n",
       "      <td>985.653269</td>\n",
       "      <td>292.045413</td>\n",
       "      <td>985.653269</td>\n",
       "      <td>511.079473</td>\n",
       "      <td>365.056766</td>\n",
       "      <td>401.562443</td>\n",
       "      <td>876.136239</td>\n",
       "      <td>2190.340598</td>\n",
       "      <td>876.136239</td>\n",
       "      <td>328.551090</td>\n",
       "    </tr>\n",
       "    <tr>\n",
       "      <th>hffc6_1_chr20</th>\n",
       "      <td>130.182907</td>\n",
       "      <td>0.0</td>\n",
       "      <td>0.0</td>\n",
       "      <td>0.0</td>\n",
       "      <td>0.000000</td>\n",
       "      <td>0.0</td>\n",
       "      <td>325.457267</td>\n",
       "      <td>0.000000</td>\n",
       "      <td>0.0</td>\n",
       "      <td>0.0</td>\n",
       "      <td>...</td>\n",
       "      <td>325.457267</td>\n",
       "      <td>130.182907</td>\n",
       "      <td>1236.737616</td>\n",
       "      <td>520.731628</td>\n",
       "      <td>0.000000</td>\n",
       "      <td>0.000000</td>\n",
       "      <td>1497.103430</td>\n",
       "      <td>585.823081</td>\n",
       "      <td>65.091453</td>\n",
       "      <td>0.000000</td>\n",
       "    </tr>\n",
       "    <tr>\n",
       "      <th>hffc6_2_chr20</th>\n",
       "      <td>107.717994</td>\n",
       "      <td>0.0</td>\n",
       "      <td>0.0</td>\n",
       "      <td>0.0</td>\n",
       "      <td>0.000000</td>\n",
       "      <td>0.0</td>\n",
       "      <td>592.448969</td>\n",
       "      <td>161.576991</td>\n",
       "      <td>0.0</td>\n",
       "      <td>0.0</td>\n",
       "      <td>...</td>\n",
       "      <td>107.717994</td>\n",
       "      <td>107.717994</td>\n",
       "      <td>969.461949</td>\n",
       "      <td>377.012980</td>\n",
       "      <td>0.000000</td>\n",
       "      <td>0.000000</td>\n",
       "      <td>969.461949</td>\n",
       "      <td>1023.320946</td>\n",
       "      <td>377.012980</td>\n",
       "      <td>0.000000</td>\n",
       "    </tr>\n",
       "    <tr>\n",
       "      <th>hffc6_3_chr20</th>\n",
       "      <td>138.504155</td>\n",
       "      <td>0.0</td>\n",
       "      <td>0.0</td>\n",
       "      <td>0.0</td>\n",
       "      <td>0.000000</td>\n",
       "      <td>0.0</td>\n",
       "      <td>900.277008</td>\n",
       "      <td>0.000000</td>\n",
       "      <td>0.0</td>\n",
       "      <td>0.0</td>\n",
       "      <td>...</td>\n",
       "      <td>415.512465</td>\n",
       "      <td>138.504155</td>\n",
       "      <td>1038.781163</td>\n",
       "      <td>277.008310</td>\n",
       "      <td>0.000000</td>\n",
       "      <td>0.000000</td>\n",
       "      <td>1177.285319</td>\n",
       "      <td>900.277008</td>\n",
       "      <td>346.260388</td>\n",
       "      <td>0.000000</td>\n",
       "    </tr>\n",
       "  </tbody>\n",
       "</table>\n",
       "<p>5 rows × 4555 columns</p>\n",
       "</div>"
      ],
      "text/plain": [
       "tid            ENST00000023939.8  ENST00000045083.6  ENST00000062104.3  \\\n",
       "hepg2_1_chr20           0.000000                0.0                0.0   \n",
       "hepg2_2_chr20           0.000000                0.0                0.0   \n",
       "hffc6_1_chr20         130.182907                0.0                0.0   \n",
       "hffc6_2_chr20         107.717994                0.0                0.0   \n",
       "hffc6_3_chr20         138.504155                0.0                0.0   \n",
       "\n",
       "tid            ENST00000064571.2  ENST00000170150.3  ENST00000190983.4  \\\n",
       "hepg2_1_chr20                0.0       53914.704010                0.0   \n",
       "hepg2_2_chr20                0.0       29204.541306                0.0   \n",
       "hffc6_1_chr20                0.0           0.000000                0.0   \n",
       "hffc6_2_chr20                0.0           0.000000                0.0   \n",
       "hffc6_3_chr20                0.0           0.000000                0.0   \n",
       "\n",
       "tid            ENST00000191018.9  ENST00000201031.2  ENST00000201961.6  \\\n",
       "hepg2_1_chr20         254.614895           0.000000                0.0   \n",
       "hepg2_2_chr20         255.539736           0.000000                0.0   \n",
       "hffc6_1_chr20         325.457267           0.000000                0.0   \n",
       "hffc6_2_chr20         592.448969         161.576991                0.0   \n",
       "hffc6_3_chr20         900.277008           0.000000                0.0   \n",
       "\n",
       "tid            ENST00000201963.3  ...  TALONT000013147  TALONT000013148  \\\n",
       "hepg2_1_chr20                0.0  ...       572.883514       381.922342   \n",
       "hepg2_2_chr20                0.0  ...       985.653269       292.045413   \n",
       "hffc6_1_chr20                0.0  ...       325.457267       130.182907   \n",
       "hffc6_2_chr20                0.0  ...       107.717994       107.717994   \n",
       "hffc6_3_chr20                0.0  ...       415.512465       138.504155   \n",
       "\n",
       "tid            TALONT000013454  TALONT000013557  TALONT000013655  \\\n",
       "hepg2_1_chr20       891.152132       700.190961       700.190961   \n",
       "hepg2_2_chr20       985.653269       511.079473       365.056766   \n",
       "hffc6_1_chr20      1236.737616       520.731628         0.000000   \n",
       "hffc6_2_chr20       969.461949       377.012980         0.000000   \n",
       "hffc6_3_chr20      1038.781163       277.008310         0.000000   \n",
       "\n",
       "tid            TALONT000013657  TALONT000013998  TALONT000014162  \\\n",
       "hepg2_1_chr20       381.922342       572.883514      1145.767027   \n",
       "hepg2_2_chr20       401.562443       876.136239      2190.340598   \n",
       "hffc6_1_chr20         0.000000      1497.103430       585.823081   \n",
       "hffc6_2_chr20         0.000000       969.461949      1023.320946   \n",
       "hffc6_3_chr20         0.000000      1177.285319       900.277008   \n",
       "\n",
       "tid            TALONT000014163  TALONT000014329  \n",
       "hepg2_1_chr20      1082.113304       318.268619  \n",
       "hepg2_2_chr20       876.136239       328.551090  \n",
       "hffc6_1_chr20        65.091453         0.000000  \n",
       "hffc6_2_chr20       377.012980         0.000000  \n",
       "hffc6_3_chr20       346.260388         0.000000  \n",
       "\n",
       "[5 rows x 4555 columns]"
      ]
     },
     "execution_count": 31,
     "metadata": {},
     "output_type": "execute_result"
    }
   ],
   "source": [
    "tpm_df.head()"
   ]
  },
  {
   "cell_type": "code",
   "execution_count": 32,
   "id": "competitive-party",
   "metadata": {},
   "outputs": [
    {
     "data": {
      "text/html": [
       "<div>\n",
       "<style scoped>\n",
       "    .dataframe tbody tr th:only-of-type {\n",
       "        vertical-align: middle;\n",
       "    }\n",
       "\n",
       "    .dataframe tbody tr th {\n",
       "        vertical-align: top;\n",
       "    }\n",
       "\n",
       "    .dataframe thead th {\n",
       "        text-align: right;\n",
       "    }\n",
       "</style>\n",
       "<table border=\"1\" class=\"dataframe\">\n",
       "  <thead>\n",
       "    <tr style=\"text-align: right;\">\n",
       "      <th></th>\n",
       "      <th>hepg2_1_chr20</th>\n",
       "      <th>hepg2_2_chr20</th>\n",
       "      <th>hffc6_1_chr20</th>\n",
       "      <th>hffc6_2_chr20</th>\n",
       "      <th>hffc6_3_chr20</th>\n",
       "      <th>k562_1_chr20</th>\n",
       "      <th>k562_2_chr20</th>\n",
       "    </tr>\n",
       "    <tr>\n",
       "      <th>tid</th>\n",
       "      <th></th>\n",
       "      <th></th>\n",
       "      <th></th>\n",
       "      <th></th>\n",
       "      <th></th>\n",
       "      <th></th>\n",
       "      <th></th>\n",
       "    </tr>\n",
       "  </thead>\n",
       "  <tbody>\n",
       "    <tr>\n",
       "      <th>ENST00000023939.8</th>\n",
       "      <td>0.0</td>\n",
       "      <td>0.0</td>\n",
       "      <td>2.0</td>\n",
       "      <td>2.0</td>\n",
       "      <td>2.0</td>\n",
       "      <td>1.0</td>\n",
       "      <td>1.0</td>\n",
       "    </tr>\n",
       "    <tr>\n",
       "      <th>ENST00000045083.6</th>\n",
       "      <td>0.0</td>\n",
       "      <td>0.0</td>\n",
       "      <td>0.0</td>\n",
       "      <td>0.0</td>\n",
       "      <td>0.0</td>\n",
       "      <td>0.0</td>\n",
       "      <td>0.0</td>\n",
       "    </tr>\n",
       "    <tr>\n",
       "      <th>ENST00000062104.3</th>\n",
       "      <td>0.0</td>\n",
       "      <td>0.0</td>\n",
       "      <td>0.0</td>\n",
       "      <td>0.0</td>\n",
       "      <td>0.0</td>\n",
       "      <td>0.0</td>\n",
       "      <td>0.0</td>\n",
       "    </tr>\n",
       "    <tr>\n",
       "      <th>ENST00000064571.2</th>\n",
       "      <td>0.0</td>\n",
       "      <td>0.0</td>\n",
       "      <td>0.0</td>\n",
       "      <td>0.0</td>\n",
       "      <td>0.0</td>\n",
       "      <td>0.0</td>\n",
       "      <td>0.0</td>\n",
       "    </tr>\n",
       "    <tr>\n",
       "      <th>ENST00000170150.3</th>\n",
       "      <td>847.0</td>\n",
       "      <td>800.0</td>\n",
       "      <td>0.0</td>\n",
       "      <td>0.0</td>\n",
       "      <td>0.0</td>\n",
       "      <td>0.0</td>\n",
       "      <td>0.0</td>\n",
       "    </tr>\n",
       "  </tbody>\n",
       "</table>\n",
       "</div>"
      ],
      "text/plain": [
       "                   hepg2_1_chr20  hepg2_2_chr20  hffc6_1_chr20  hffc6_2_chr20  \\\n",
       "tid                                                                             \n",
       "ENST00000023939.8            0.0            0.0            2.0            2.0   \n",
       "ENST00000045083.6            0.0            0.0            0.0            0.0   \n",
       "ENST00000062104.3            0.0            0.0            0.0            0.0   \n",
       "ENST00000064571.2            0.0            0.0            0.0            0.0   \n",
       "ENST00000170150.3          847.0          800.0            0.0            0.0   \n",
       "\n",
       "                   hffc6_3_chr20  k562_1_chr20  k562_2_chr20  \n",
       "tid                                                           \n",
       "ENST00000023939.8            2.0           1.0           1.0  \n",
       "ENST00000045083.6            0.0           0.0           0.0  \n",
       "ENST00000062104.3            0.0           0.0           0.0  \n",
       "ENST00000064571.2            0.0           0.0           0.0  \n",
       "ENST00000170150.3            0.0           0.0           0.0  "
      ]
     },
     "execution_count": 32,
     "metadata": {},
     "output_type": "execute_result"
    }
   ],
   "source": [
    "df.head()"
   ]
  },
  {
   "cell_type": "code",
   "execution_count": 33,
   "id": "occupational-opening",
   "metadata": {},
   "outputs": [],
   "source": [
    "\n",
    "df = df.T"
   ]
  },
  {
   "cell_type": "code",
   "execution_count": 34,
   "id": "integral-factory",
   "metadata": {},
   "outputs": [
    {
     "data": {
      "text/html": [
       "<div>\n",
       "<style scoped>\n",
       "    .dataframe tbody tr th:only-of-type {\n",
       "        vertical-align: middle;\n",
       "    }\n",
       "\n",
       "    .dataframe tbody tr th {\n",
       "        vertical-align: top;\n",
       "    }\n",
       "\n",
       "    .dataframe thead th {\n",
       "        text-align: right;\n",
       "    }\n",
       "</style>\n",
       "<table border=\"1\" class=\"dataframe\">\n",
       "  <thead>\n",
       "    <tr style=\"text-align: right;\">\n",
       "      <th>tid</th>\n",
       "      <th>ENST00000023939.8</th>\n",
       "      <th>ENST00000045083.6</th>\n",
       "      <th>ENST00000062104.3</th>\n",
       "      <th>ENST00000064571.2</th>\n",
       "      <th>ENST00000170150.3</th>\n",
       "      <th>ENST00000190983.4</th>\n",
       "      <th>ENST00000191018.9</th>\n",
       "      <th>ENST00000201031.2</th>\n",
       "      <th>ENST00000201961.6</th>\n",
       "      <th>ENST00000201963.3</th>\n",
       "      <th>...</th>\n",
       "      <th>TALONT000013147</th>\n",
       "      <th>TALONT000013148</th>\n",
       "      <th>TALONT000013454</th>\n",
       "      <th>TALONT000013557</th>\n",
       "      <th>TALONT000013655</th>\n",
       "      <th>TALONT000013657</th>\n",
       "      <th>TALONT000013998</th>\n",
       "      <th>TALONT000014162</th>\n",
       "      <th>TALONT000014163</th>\n",
       "      <th>TALONT000014329</th>\n",
       "    </tr>\n",
       "  </thead>\n",
       "  <tbody>\n",
       "    <tr>\n",
       "      <th>hepg2_1_chr20</th>\n",
       "      <td>0.0</td>\n",
       "      <td>0.0</td>\n",
       "      <td>0.0</td>\n",
       "      <td>0.0</td>\n",
       "      <td>847.0</td>\n",
       "      <td>0.0</td>\n",
       "      <td>4.0</td>\n",
       "      <td>0.0</td>\n",
       "      <td>0.0</td>\n",
       "      <td>0.0</td>\n",
       "      <td>...</td>\n",
       "      <td>9.0</td>\n",
       "      <td>6.0</td>\n",
       "      <td>14.0</td>\n",
       "      <td>11.0</td>\n",
       "      <td>11.0</td>\n",
       "      <td>6.0</td>\n",
       "      <td>9.0</td>\n",
       "      <td>18.0</td>\n",
       "      <td>17.0</td>\n",
       "      <td>5.0</td>\n",
       "    </tr>\n",
       "    <tr>\n",
       "      <th>hepg2_2_chr20</th>\n",
       "      <td>0.0</td>\n",
       "      <td>0.0</td>\n",
       "      <td>0.0</td>\n",
       "      <td>0.0</td>\n",
       "      <td>800.0</td>\n",
       "      <td>0.0</td>\n",
       "      <td>7.0</td>\n",
       "      <td>0.0</td>\n",
       "      <td>0.0</td>\n",
       "      <td>0.0</td>\n",
       "      <td>...</td>\n",
       "      <td>27.0</td>\n",
       "      <td>8.0</td>\n",
       "      <td>27.0</td>\n",
       "      <td>14.0</td>\n",
       "      <td>10.0</td>\n",
       "      <td>11.0</td>\n",
       "      <td>24.0</td>\n",
       "      <td>60.0</td>\n",
       "      <td>24.0</td>\n",
       "      <td>9.0</td>\n",
       "    </tr>\n",
       "    <tr>\n",
       "      <th>hffc6_1_chr20</th>\n",
       "      <td>2.0</td>\n",
       "      <td>0.0</td>\n",
       "      <td>0.0</td>\n",
       "      <td>0.0</td>\n",
       "      <td>0.0</td>\n",
       "      <td>0.0</td>\n",
       "      <td>5.0</td>\n",
       "      <td>0.0</td>\n",
       "      <td>0.0</td>\n",
       "      <td>0.0</td>\n",
       "      <td>...</td>\n",
       "      <td>5.0</td>\n",
       "      <td>2.0</td>\n",
       "      <td>19.0</td>\n",
       "      <td>8.0</td>\n",
       "      <td>0.0</td>\n",
       "      <td>0.0</td>\n",
       "      <td>23.0</td>\n",
       "      <td>9.0</td>\n",
       "      <td>1.0</td>\n",
       "      <td>0.0</td>\n",
       "    </tr>\n",
       "    <tr>\n",
       "      <th>hffc6_2_chr20</th>\n",
       "      <td>2.0</td>\n",
       "      <td>0.0</td>\n",
       "      <td>0.0</td>\n",
       "      <td>0.0</td>\n",
       "      <td>0.0</td>\n",
       "      <td>0.0</td>\n",
       "      <td>11.0</td>\n",
       "      <td>3.0</td>\n",
       "      <td>0.0</td>\n",
       "      <td>0.0</td>\n",
       "      <td>...</td>\n",
       "      <td>2.0</td>\n",
       "      <td>2.0</td>\n",
       "      <td>18.0</td>\n",
       "      <td>7.0</td>\n",
       "      <td>0.0</td>\n",
       "      <td>0.0</td>\n",
       "      <td>18.0</td>\n",
       "      <td>19.0</td>\n",
       "      <td>7.0</td>\n",
       "      <td>0.0</td>\n",
       "    </tr>\n",
       "    <tr>\n",
       "      <th>hffc6_3_chr20</th>\n",
       "      <td>2.0</td>\n",
       "      <td>0.0</td>\n",
       "      <td>0.0</td>\n",
       "      <td>0.0</td>\n",
       "      <td>0.0</td>\n",
       "      <td>0.0</td>\n",
       "      <td>13.0</td>\n",
       "      <td>0.0</td>\n",
       "      <td>0.0</td>\n",
       "      <td>0.0</td>\n",
       "      <td>...</td>\n",
       "      <td>6.0</td>\n",
       "      <td>2.0</td>\n",
       "      <td>15.0</td>\n",
       "      <td>4.0</td>\n",
       "      <td>0.0</td>\n",
       "      <td>0.0</td>\n",
       "      <td>17.0</td>\n",
       "      <td>13.0</td>\n",
       "      <td>5.0</td>\n",
       "      <td>0.0</td>\n",
       "    </tr>\n",
       "  </tbody>\n",
       "</table>\n",
       "<p>5 rows × 4555 columns</p>\n",
       "</div>"
      ],
      "text/plain": [
       "tid            ENST00000023939.8  ENST00000045083.6  ENST00000062104.3  \\\n",
       "hepg2_1_chr20                0.0                0.0                0.0   \n",
       "hepg2_2_chr20                0.0                0.0                0.0   \n",
       "hffc6_1_chr20                2.0                0.0                0.0   \n",
       "hffc6_2_chr20                2.0                0.0                0.0   \n",
       "hffc6_3_chr20                2.0                0.0                0.0   \n",
       "\n",
       "tid            ENST00000064571.2  ENST00000170150.3  ENST00000190983.4  \\\n",
       "hepg2_1_chr20                0.0              847.0                0.0   \n",
       "hepg2_2_chr20                0.0              800.0                0.0   \n",
       "hffc6_1_chr20                0.0                0.0                0.0   \n",
       "hffc6_2_chr20                0.0                0.0                0.0   \n",
       "hffc6_3_chr20                0.0                0.0                0.0   \n",
       "\n",
       "tid            ENST00000191018.9  ENST00000201031.2  ENST00000201961.6  \\\n",
       "hepg2_1_chr20                4.0                0.0                0.0   \n",
       "hepg2_2_chr20                7.0                0.0                0.0   \n",
       "hffc6_1_chr20                5.0                0.0                0.0   \n",
       "hffc6_2_chr20               11.0                3.0                0.0   \n",
       "hffc6_3_chr20               13.0                0.0                0.0   \n",
       "\n",
       "tid            ENST00000201963.3  ...  TALONT000013147  TALONT000013148  \\\n",
       "hepg2_1_chr20                0.0  ...              9.0              6.0   \n",
       "hepg2_2_chr20                0.0  ...             27.0              8.0   \n",
       "hffc6_1_chr20                0.0  ...              5.0              2.0   \n",
       "hffc6_2_chr20                0.0  ...              2.0              2.0   \n",
       "hffc6_3_chr20                0.0  ...              6.0              2.0   \n",
       "\n",
       "tid            TALONT000013454  TALONT000013557  TALONT000013655  \\\n",
       "hepg2_1_chr20             14.0             11.0             11.0   \n",
       "hepg2_2_chr20             27.0             14.0             10.0   \n",
       "hffc6_1_chr20             19.0              8.0              0.0   \n",
       "hffc6_2_chr20             18.0              7.0              0.0   \n",
       "hffc6_3_chr20             15.0              4.0              0.0   \n",
       "\n",
       "tid            TALONT000013657  TALONT000013998  TALONT000014162  \\\n",
       "hepg2_1_chr20              6.0              9.0             18.0   \n",
       "hepg2_2_chr20             11.0             24.0             60.0   \n",
       "hffc6_1_chr20              0.0             23.0              9.0   \n",
       "hffc6_2_chr20              0.0             18.0             19.0   \n",
       "hffc6_3_chr20              0.0             17.0             13.0   \n",
       "\n",
       "tid            TALONT000014163  TALONT000014329  \n",
       "hepg2_1_chr20             17.0              5.0  \n",
       "hepg2_2_chr20             24.0              9.0  \n",
       "hffc6_1_chr20              1.0              0.0  \n",
       "hffc6_2_chr20              7.0              0.0  \n",
       "hffc6_3_chr20              5.0              0.0  \n",
       "\n",
       "[5 rows x 4555 columns]"
      ]
     },
     "execution_count": 34,
     "metadata": {},
     "output_type": "execute_result"
    }
   ],
   "source": [
    "df.head()"
   ]
  },
  {
   "cell_type": "code",
   "execution_count": 35,
   "id": "pretty-hungary",
   "metadata": {},
   "outputs": [
    {
     "data": {
      "text/html": [
       "<div>\n",
       "<style scoped>\n",
       "    .dataframe tbody tr th:only-of-type {\n",
       "        vertical-align: middle;\n",
       "    }\n",
       "\n",
       "    .dataframe tbody tr th {\n",
       "        vertical-align: top;\n",
       "    }\n",
       "\n",
       "    .dataframe thead th {\n",
       "        text-align: right;\n",
       "    }\n",
       "</style>\n",
       "<table border=\"1\" class=\"dataframe\">\n",
       "  <thead>\n",
       "    <tr style=\"text-align: right;\">\n",
       "      <th></th>\n",
       "      <th>tid</th>\n",
       "    </tr>\n",
       "    <tr>\n",
       "      <th>tid</th>\n",
       "      <th></th>\n",
       "    </tr>\n",
       "  </thead>\n",
       "  <tbody>\n",
       "    <tr>\n",
       "      <th>ENST00000023939.8</th>\n",
       "      <td>ENST00000023939.8</td>\n",
       "    </tr>\n",
       "    <tr>\n",
       "      <th>ENST00000045083.6</th>\n",
       "      <td>ENST00000045083.6</td>\n",
       "    </tr>\n",
       "    <tr>\n",
       "      <th>ENST00000062104.3</th>\n",
       "      <td>ENST00000062104.3</td>\n",
       "    </tr>\n",
       "    <tr>\n",
       "      <th>ENST00000064571.2</th>\n",
       "      <td>ENST00000064571.2</td>\n",
       "    </tr>\n",
       "    <tr>\n",
       "      <th>ENST00000170150.3</th>\n",
       "      <td>ENST00000170150.3</td>\n",
       "    </tr>\n",
       "  </tbody>\n",
       "</table>\n",
       "</div>"
      ],
      "text/plain": [
       "                                 tid\n",
       "tid                                 \n",
       "ENST00000023939.8  ENST00000023939.8\n",
       "ENST00000045083.6  ENST00000045083.6\n",
       "ENST00000062104.3  ENST00000062104.3\n",
       "ENST00000064571.2  ENST00000064571.2\n",
       "ENST00000170150.3  ENST00000170150.3"
      ]
     },
     "execution_count": 35,
     "metadata": {},
     "output_type": "execute_result"
    }
   ],
   "source": [
    "var = df.columns.to_frame()\n",
    "var.columns = ['tid']\n",
    "var.head()"
   ]
  },
  {
   "cell_type": "code",
   "execution_count": 36,
   "id": "coastal-romantic",
   "metadata": {},
   "outputs": [
    {
     "name": "stdout",
     "output_type": "stream",
     "text": [
      "ENST00000023939.8\n",
      "ENST00000045083.6\n",
      "ENST00000062104.3\n",
      "ENST00000064571.2\n",
      "ENST00000170150.3\n"
     ]
    }
   ],
   "source": [
    "for v in var.tid.tolist()[:5]:\n",
    "    print(v)"
   ]
  },
  {
   "cell_type": "code",
   "execution_count": 37,
   "id": "composed-justice",
   "metadata": {},
   "outputs": [
    {
     "data": {
      "text/html": [
       "<div>\n",
       "<style scoped>\n",
       "    .dataframe tbody tr th:only-of-type {\n",
       "        vertical-align: middle;\n",
       "    }\n",
       "\n",
       "    .dataframe tbody tr th {\n",
       "        vertical-align: top;\n",
       "    }\n",
       "\n",
       "    .dataframe thead th {\n",
       "        text-align: right;\n",
       "    }\n",
       "</style>\n",
       "<table border=\"1\" class=\"dataframe\">\n",
       "  <thead>\n",
       "    <tr style=\"text-align: right;\">\n",
       "      <th></th>\n",
       "      <th>dataset</th>\n",
       "    </tr>\n",
       "  </thead>\n",
       "  <tbody>\n",
       "    <tr>\n",
       "      <th>hepg2_1_chr20</th>\n",
       "      <td>hepg2_1_chr20</td>\n",
       "    </tr>\n",
       "    <tr>\n",
       "      <th>hepg2_2_chr20</th>\n",
       "      <td>hepg2_2_chr20</td>\n",
       "    </tr>\n",
       "    <tr>\n",
       "      <th>hffc6_1_chr20</th>\n",
       "      <td>hffc6_1_chr20</td>\n",
       "    </tr>\n",
       "    <tr>\n",
       "      <th>hffc6_2_chr20</th>\n",
       "      <td>hffc6_2_chr20</td>\n",
       "    </tr>\n",
       "    <tr>\n",
       "      <th>hffc6_3_chr20</th>\n",
       "      <td>hffc6_3_chr20</td>\n",
       "    </tr>\n",
       "  </tbody>\n",
       "</table>\n",
       "</div>"
      ],
      "text/plain": [
       "                     dataset\n",
       "hepg2_1_chr20  hepg2_1_chr20\n",
       "hepg2_2_chr20  hepg2_2_chr20\n",
       "hffc6_1_chr20  hffc6_1_chr20\n",
       "hffc6_2_chr20  hffc6_2_chr20\n",
       "hffc6_3_chr20  hffc6_3_chr20"
      ]
     },
     "execution_count": 37,
     "metadata": {},
     "output_type": "execute_result"
    }
   ],
   "source": [
    "obs = df.index.to_frame()\n",
    "obs.columns = ['dataset']\n",
    "obs.head()"
   ]
  },
  {
   "cell_type": "code",
   "execution_count": 38,
   "id": "commercial-intent",
   "metadata": {},
   "outputs": [
    {
     "name": "stdout",
     "output_type": "stream",
     "text": [
      "hepg2_1_chr20\n",
      "hepg2_2_chr20\n",
      "hffc6_1_chr20\n",
      "hffc6_2_chr20\n",
      "hffc6_3_chr20\n"
     ]
    }
   ],
   "source": [
    "for o in obs.dataset.tolist()[:5]:\n",
    "    print(o)"
   ]
  },
  {
   "cell_type": "code",
   "execution_count": 39,
   "id": "bronze-wheel",
   "metadata": {},
   "outputs": [],
   "source": [
    "sg.datasets.extend(obs.dataset.tolist())"
   ]
  },
  {
   "cell_type": "code",
   "execution_count": 40,
   "id": "visible-projector",
   "metadata": {},
   "outputs": [
    {
     "data": {
      "text/plain": [
       "['hepg2_1_chr20',\n",
       " 'hepg2_2_chr20',\n",
       " 'hffc6_1_chr20',\n",
       " 'hffc6_2_chr20',\n",
       " 'hffc6_3_chr20',\n",
       " 'k562_1_chr20',\n",
       " 'k562_2_chr20',\n",
       " 'hepg2_1_chr20',\n",
       " 'hepg2_2_chr20',\n",
       " 'hffc6_1_chr20',\n",
       " 'hffc6_2_chr20',\n",
       " 'hffc6_3_chr20',\n",
       " 'k562_1_chr20',\n",
       " 'k562_2_chr20']"
      ]
     },
     "execution_count": 40,
     "metadata": {},
     "output_type": "execute_result"
    }
   ],
   "source": [
    "sg.datasets"
   ]
  },
  {
   "cell_type": "code",
   "execution_count": 41,
   "id": "legitimate-narrow",
   "metadata": {},
   "outputs": [],
   "source": [
    "X = df.to_numpy()"
   ]
  },
  {
   "cell_type": "code",
   "execution_count": 42,
   "id": "applicable-crystal",
   "metadata": {},
   "outputs": [],
   "source": [
    "adata = anndata.AnnData(obs=obs, var=var, X=X)"
   ]
  },
  {
   "cell_type": "code",
   "execution_count": 45,
   "id": "joint-craft",
   "metadata": {},
   "outputs": [
    {
     "data": {
      "text/html": [
       "<div>\n",
       "<style scoped>\n",
       "    .dataframe tbody tr th:only-of-type {\n",
       "        vertical-align: middle;\n",
       "    }\n",
       "\n",
       "    .dataframe tbody tr th {\n",
       "        vertical-align: top;\n",
       "    }\n",
       "\n",
       "    .dataframe thead th {\n",
       "        text-align: right;\n",
       "    }\n",
       "</style>\n",
       "<table border=\"1\" class=\"dataframe\">\n",
       "  <thead>\n",
       "    <tr style=\"text-align: right;\">\n",
       "      <th></th>\n",
       "      <th>dataset</th>\n",
       "    </tr>\n",
       "  </thead>\n",
       "  <tbody>\n",
       "    <tr>\n",
       "      <th>hepg2_1_chr20</th>\n",
       "      <td>hepg2_1_chr20</td>\n",
       "    </tr>\n",
       "    <tr>\n",
       "      <th>hepg2_2_chr20</th>\n",
       "      <td>hepg2_2_chr20</td>\n",
       "    </tr>\n",
       "    <tr>\n",
       "      <th>hffc6_1_chr20</th>\n",
       "      <td>hffc6_1_chr20</td>\n",
       "    </tr>\n",
       "    <tr>\n",
       "      <th>hffc6_2_chr20</th>\n",
       "      <td>hffc6_2_chr20</td>\n",
       "    </tr>\n",
       "    <tr>\n",
       "      <th>hffc6_3_chr20</th>\n",
       "      <td>hffc6_3_chr20</td>\n",
       "    </tr>\n",
       "    <tr>\n",
       "      <th>k562_1_chr20</th>\n",
       "      <td>k562_1_chr20</td>\n",
       "    </tr>\n",
       "    <tr>\n",
       "      <th>k562_2_chr20</th>\n",
       "      <td>k562_2_chr20</td>\n",
       "    </tr>\n",
       "  </tbody>\n",
       "</table>\n",
       "</div>"
      ],
      "text/plain": [
       "                     dataset\n",
       "hepg2_1_chr20  hepg2_1_chr20\n",
       "hepg2_2_chr20  hepg2_2_chr20\n",
       "hffc6_1_chr20  hffc6_1_chr20\n",
       "hffc6_2_chr20  hffc6_2_chr20\n",
       "hffc6_3_chr20  hffc6_3_chr20\n",
       "k562_1_chr20    k562_1_chr20\n",
       "k562_2_chr20    k562_2_chr20"
      ]
     },
     "execution_count": 45,
     "metadata": {},
     "output_type": "execute_result"
    }
   ],
   "source": [
    "adata.obs"
   ]
  },
  {
   "cell_type": "code",
   "execution_count": 46,
   "id": "congressional-zoning",
   "metadata": {},
   "outputs": [
    {
     "data": {
      "text/html": [
       "<div>\n",
       "<style scoped>\n",
       "    .dataframe tbody tr th:only-of-type {\n",
       "        vertical-align: middle;\n",
       "    }\n",
       "\n",
       "    .dataframe tbody tr th {\n",
       "        vertical-align: top;\n",
       "    }\n",
       "\n",
       "    .dataframe thead th {\n",
       "        text-align: right;\n",
       "    }\n",
       "</style>\n",
       "<table border=\"1\" class=\"dataframe\">\n",
       "  <thead>\n",
       "    <tr style=\"text-align: right;\">\n",
       "      <th></th>\n",
       "      <th>tid</th>\n",
       "    </tr>\n",
       "    <tr>\n",
       "      <th>tid</th>\n",
       "      <th></th>\n",
       "    </tr>\n",
       "  </thead>\n",
       "  <tbody>\n",
       "    <tr>\n",
       "      <th>ENST00000023939.8</th>\n",
       "      <td>ENST00000023939.8</td>\n",
       "    </tr>\n",
       "    <tr>\n",
       "      <th>ENST00000045083.6</th>\n",
       "      <td>ENST00000045083.6</td>\n",
       "    </tr>\n",
       "    <tr>\n",
       "      <th>ENST00000062104.3</th>\n",
       "      <td>ENST00000062104.3</td>\n",
       "    </tr>\n",
       "    <tr>\n",
       "      <th>ENST00000064571.2</th>\n",
       "      <td>ENST00000064571.2</td>\n",
       "    </tr>\n",
       "    <tr>\n",
       "      <th>ENST00000170150.3</th>\n",
       "      <td>ENST00000170150.3</td>\n",
       "    </tr>\n",
       "  </tbody>\n",
       "</table>\n",
       "</div>"
      ],
      "text/plain": [
       "                                 tid\n",
       "tid                                 \n",
       "ENST00000023939.8  ENST00000023939.8\n",
       "ENST00000045083.6  ENST00000045083.6\n",
       "ENST00000062104.3  ENST00000062104.3\n",
       "ENST00000064571.2  ENST00000064571.2\n",
       "ENST00000170150.3  ENST00000170150.3"
      ]
     },
     "execution_count": 46,
     "metadata": {},
     "output_type": "execute_result"
    }
   ],
   "source": [
    "adata.var.head()"
   ]
  },
  {
   "cell_type": "code",
   "execution_count": 47,
   "id": "exotic-healing",
   "metadata": {},
   "outputs": [],
   "source": [
    "sg.adata = adata"
   ]
  },
  {
   "cell_type": "code",
   "execution_count": 48,
   "id": "another-democrat",
   "metadata": {},
   "outputs": [
    {
     "data": {
      "text/plain": [
       "array([[  0.,   0.,   0.,   0., 847.],\n",
       "       [  0.,   0.,   0.,   0., 800.],\n",
       "       [  2.,   0.,   0.,   0.,   0.],\n",
       "       [  2.,   0.,   0.,   0.,   0.],\n",
       "       [  2.,   0.,   0.,   0.,   0.]])"
      ]
     },
     "execution_count": 48,
     "metadata": {},
     "output_type": "execute_result"
    }
   ],
   "source": [
    "X[:5, :5]"
   ]
  },
  {
   "cell_type": "code",
   "execution_count": 49,
   "id": "caring-affairs",
   "metadata": {},
   "outputs": [
    {
     "data": {
      "text/html": [
       "<div>\n",
       "<style scoped>\n",
       "    .dataframe tbody tr th:only-of-type {\n",
       "        vertical-align: middle;\n",
       "    }\n",
       "\n",
       "    .dataframe tbody tr th {\n",
       "        vertical-align: top;\n",
       "    }\n",
       "\n",
       "    .dataframe thead th {\n",
       "        text-align: right;\n",
       "    }\n",
       "</style>\n",
       "<table border=\"1\" class=\"dataframe\">\n",
       "  <thead>\n",
       "    <tr style=\"text-align: right;\">\n",
       "      <th></th>\n",
       "      <th>tid</th>\n",
       "    </tr>\n",
       "    <tr>\n",
       "      <th>tid</th>\n",
       "      <th></th>\n",
       "    </tr>\n",
       "  </thead>\n",
       "  <tbody>\n",
       "    <tr>\n",
       "      <th>ENST00000023939.8</th>\n",
       "      <td>ENST00000023939.8</td>\n",
       "    </tr>\n",
       "    <tr>\n",
       "      <th>ENST00000045083.6</th>\n",
       "      <td>ENST00000045083.6</td>\n",
       "    </tr>\n",
       "    <tr>\n",
       "      <th>ENST00000062104.3</th>\n",
       "      <td>ENST00000062104.3</td>\n",
       "    </tr>\n",
       "    <tr>\n",
       "      <th>ENST00000064571.2</th>\n",
       "      <td>ENST00000064571.2</td>\n",
       "    </tr>\n",
       "    <tr>\n",
       "      <th>ENST00000170150.3</th>\n",
       "      <td>ENST00000170150.3</td>\n",
       "    </tr>\n",
       "  </tbody>\n",
       "</table>\n",
       "</div>"
      ],
      "text/plain": [
       "                                 tid\n",
       "tid                                 \n",
       "ENST00000023939.8  ENST00000023939.8\n",
       "ENST00000045083.6  ENST00000045083.6\n",
       "ENST00000062104.3  ENST00000062104.3\n",
       "ENST00000064571.2  ENST00000064571.2\n",
       "ENST00000170150.3  ENST00000170150.3"
      ]
     },
     "execution_count": 49,
     "metadata": {},
     "output_type": "execute_result"
    }
   ],
   "source": [
    "var[:5]"
   ]
  },
  {
   "cell_type": "code",
   "execution_count": 50,
   "id": "painted-outside",
   "metadata": {},
   "outputs": [
    {
     "data": {
      "text/html": [
       "<div>\n",
       "<style scoped>\n",
       "    .dataframe tbody tr th:only-of-type {\n",
       "        vertical-align: middle;\n",
       "    }\n",
       "\n",
       "    .dataframe tbody tr th {\n",
       "        vertical-align: top;\n",
       "    }\n",
       "\n",
       "    .dataframe thead th {\n",
       "        text-align: right;\n",
       "    }\n",
       "</style>\n",
       "<table border=\"1\" class=\"dataframe\">\n",
       "  <thead>\n",
       "    <tr style=\"text-align: right;\">\n",
       "      <th></th>\n",
       "      <th>dataset</th>\n",
       "    </tr>\n",
       "  </thead>\n",
       "  <tbody>\n",
       "    <tr>\n",
       "      <th>hepg2_1_chr20</th>\n",
       "      <td>hepg2_1_chr20</td>\n",
       "    </tr>\n",
       "    <tr>\n",
       "      <th>hepg2_2_chr20</th>\n",
       "      <td>hepg2_2_chr20</td>\n",
       "    </tr>\n",
       "    <tr>\n",
       "      <th>hffc6_1_chr20</th>\n",
       "      <td>hffc6_1_chr20</td>\n",
       "    </tr>\n",
       "    <tr>\n",
       "      <th>hffc6_2_chr20</th>\n",
       "      <td>hffc6_2_chr20</td>\n",
       "    </tr>\n",
       "    <tr>\n",
       "      <th>hffc6_3_chr20</th>\n",
       "      <td>hffc6_3_chr20</td>\n",
       "    </tr>\n",
       "  </tbody>\n",
       "</table>\n",
       "</div>"
      ],
      "text/plain": [
       "                     dataset\n",
       "hepg2_1_chr20  hepg2_1_chr20\n",
       "hepg2_2_chr20  hepg2_2_chr20\n",
       "hffc6_1_chr20  hffc6_1_chr20\n",
       "hffc6_2_chr20  hffc6_2_chr20\n",
       "hffc6_3_chr20  hffc6_3_chr20"
      ]
     },
     "execution_count": 50,
     "metadata": {},
     "output_type": "execute_result"
    }
   ],
   "source": [
    "obs[:5]"
   ]
  },
  {
   "cell_type": "code",
   "execution_count": 51,
   "id": "simple-creature",
   "metadata": {},
   "outputs": [
    {
     "data": {
      "text/html": [
       "<div>\n",
       "<style scoped>\n",
       "    .dataframe tbody tr th:only-of-type {\n",
       "        vertical-align: middle;\n",
       "    }\n",
       "\n",
       "    .dataframe tbody tr th {\n",
       "        vertical-align: top;\n",
       "    }\n",
       "\n",
       "    .dataframe thead th {\n",
       "        text-align: right;\n",
       "    }\n",
       "</style>\n",
       "<table border=\"1\" class=\"dataframe\">\n",
       "  <thead>\n",
       "    <tr style=\"text-align: right;\">\n",
       "      <th>tid</th>\n",
       "      <th>ENST00000023939.8</th>\n",
       "      <th>ENST00000045083.6</th>\n",
       "      <th>ENST00000062104.3</th>\n",
       "      <th>ENST00000064571.2</th>\n",
       "      <th>ENST00000170150.3</th>\n",
       "      <th>ENST00000190983.4</th>\n",
       "      <th>ENST00000191018.9</th>\n",
       "      <th>ENST00000201031.2</th>\n",
       "      <th>ENST00000201961.6</th>\n",
       "      <th>ENST00000201963.3</th>\n",
       "      <th>...</th>\n",
       "      <th>TALONT000013147</th>\n",
       "      <th>TALONT000013148</th>\n",
       "      <th>TALONT000013454</th>\n",
       "      <th>TALONT000013557</th>\n",
       "      <th>TALONT000013655</th>\n",
       "      <th>TALONT000013657</th>\n",
       "      <th>TALONT000013998</th>\n",
       "      <th>TALONT000014162</th>\n",
       "      <th>TALONT000014163</th>\n",
       "      <th>TALONT000014329</th>\n",
       "    </tr>\n",
       "  </thead>\n",
       "  <tbody>\n",
       "    <tr>\n",
       "      <th>hepg2_1_chr20</th>\n",
       "      <td>0.0</td>\n",
       "      <td>0.0</td>\n",
       "      <td>0.0</td>\n",
       "      <td>0.0</td>\n",
       "      <td>847.0</td>\n",
       "      <td>0.0</td>\n",
       "      <td>4.0</td>\n",
       "      <td>0.0</td>\n",
       "      <td>0.0</td>\n",
       "      <td>0.0</td>\n",
       "      <td>...</td>\n",
       "      <td>9.0</td>\n",
       "      <td>6.0</td>\n",
       "      <td>14.0</td>\n",
       "      <td>11.0</td>\n",
       "      <td>11.0</td>\n",
       "      <td>6.0</td>\n",
       "      <td>9.0</td>\n",
       "      <td>18.0</td>\n",
       "      <td>17.0</td>\n",
       "      <td>5.0</td>\n",
       "    </tr>\n",
       "    <tr>\n",
       "      <th>hepg2_2_chr20</th>\n",
       "      <td>0.0</td>\n",
       "      <td>0.0</td>\n",
       "      <td>0.0</td>\n",
       "      <td>0.0</td>\n",
       "      <td>800.0</td>\n",
       "      <td>0.0</td>\n",
       "      <td>7.0</td>\n",
       "      <td>0.0</td>\n",
       "      <td>0.0</td>\n",
       "      <td>0.0</td>\n",
       "      <td>...</td>\n",
       "      <td>27.0</td>\n",
       "      <td>8.0</td>\n",
       "      <td>27.0</td>\n",
       "      <td>14.0</td>\n",
       "      <td>10.0</td>\n",
       "      <td>11.0</td>\n",
       "      <td>24.0</td>\n",
       "      <td>60.0</td>\n",
       "      <td>24.0</td>\n",
       "      <td>9.0</td>\n",
       "    </tr>\n",
       "    <tr>\n",
       "      <th>hffc6_1_chr20</th>\n",
       "      <td>2.0</td>\n",
       "      <td>0.0</td>\n",
       "      <td>0.0</td>\n",
       "      <td>0.0</td>\n",
       "      <td>0.0</td>\n",
       "      <td>0.0</td>\n",
       "      <td>5.0</td>\n",
       "      <td>0.0</td>\n",
       "      <td>0.0</td>\n",
       "      <td>0.0</td>\n",
       "      <td>...</td>\n",
       "      <td>5.0</td>\n",
       "      <td>2.0</td>\n",
       "      <td>19.0</td>\n",
       "      <td>8.0</td>\n",
       "      <td>0.0</td>\n",
       "      <td>0.0</td>\n",
       "      <td>23.0</td>\n",
       "      <td>9.0</td>\n",
       "      <td>1.0</td>\n",
       "      <td>0.0</td>\n",
       "    </tr>\n",
       "    <tr>\n",
       "      <th>hffc6_2_chr20</th>\n",
       "      <td>2.0</td>\n",
       "      <td>0.0</td>\n",
       "      <td>0.0</td>\n",
       "      <td>0.0</td>\n",
       "      <td>0.0</td>\n",
       "      <td>0.0</td>\n",
       "      <td>11.0</td>\n",
       "      <td>3.0</td>\n",
       "      <td>0.0</td>\n",
       "      <td>0.0</td>\n",
       "      <td>...</td>\n",
       "      <td>2.0</td>\n",
       "      <td>2.0</td>\n",
       "      <td>18.0</td>\n",
       "      <td>7.0</td>\n",
       "      <td>0.0</td>\n",
       "      <td>0.0</td>\n",
       "      <td>18.0</td>\n",
       "      <td>19.0</td>\n",
       "      <td>7.0</td>\n",
       "      <td>0.0</td>\n",
       "    </tr>\n",
       "    <tr>\n",
       "      <th>hffc6_3_chr20</th>\n",
       "      <td>2.0</td>\n",
       "      <td>0.0</td>\n",
       "      <td>0.0</td>\n",
       "      <td>0.0</td>\n",
       "      <td>0.0</td>\n",
       "      <td>0.0</td>\n",
       "      <td>13.0</td>\n",
       "      <td>0.0</td>\n",
       "      <td>0.0</td>\n",
       "      <td>0.0</td>\n",
       "      <td>...</td>\n",
       "      <td>6.0</td>\n",
       "      <td>2.0</td>\n",
       "      <td>15.0</td>\n",
       "      <td>4.0</td>\n",
       "      <td>0.0</td>\n",
       "      <td>0.0</td>\n",
       "      <td>17.0</td>\n",
       "      <td>13.0</td>\n",
       "      <td>5.0</td>\n",
       "      <td>0.0</td>\n",
       "    </tr>\n",
       "  </tbody>\n",
       "</table>\n",
       "<p>5 rows × 4555 columns</p>\n",
       "</div>"
      ],
      "text/plain": [
       "tid            ENST00000023939.8  ENST00000045083.6  ENST00000062104.3  \\\n",
       "hepg2_1_chr20                0.0                0.0                0.0   \n",
       "hepg2_2_chr20                0.0                0.0                0.0   \n",
       "hffc6_1_chr20                2.0                0.0                0.0   \n",
       "hffc6_2_chr20                2.0                0.0                0.0   \n",
       "hffc6_3_chr20                2.0                0.0                0.0   \n",
       "\n",
       "tid            ENST00000064571.2  ENST00000170150.3  ENST00000190983.4  \\\n",
       "hepg2_1_chr20                0.0              847.0                0.0   \n",
       "hepg2_2_chr20                0.0              800.0                0.0   \n",
       "hffc6_1_chr20                0.0                0.0                0.0   \n",
       "hffc6_2_chr20                0.0                0.0                0.0   \n",
       "hffc6_3_chr20                0.0                0.0                0.0   \n",
       "\n",
       "tid            ENST00000191018.9  ENST00000201031.2  ENST00000201961.6  \\\n",
       "hepg2_1_chr20                4.0                0.0                0.0   \n",
       "hepg2_2_chr20                7.0                0.0                0.0   \n",
       "hffc6_1_chr20                5.0                0.0                0.0   \n",
       "hffc6_2_chr20               11.0                3.0                0.0   \n",
       "hffc6_3_chr20               13.0                0.0                0.0   \n",
       "\n",
       "tid            ENST00000201963.3  ...  TALONT000013147  TALONT000013148  \\\n",
       "hepg2_1_chr20                0.0  ...              9.0              6.0   \n",
       "hepg2_2_chr20                0.0  ...             27.0              8.0   \n",
       "hffc6_1_chr20                0.0  ...              5.0              2.0   \n",
       "hffc6_2_chr20                0.0  ...              2.0              2.0   \n",
       "hffc6_3_chr20                0.0  ...              6.0              2.0   \n",
       "\n",
       "tid            TALONT000013454  TALONT000013557  TALONT000013655  \\\n",
       "hepg2_1_chr20             14.0             11.0             11.0   \n",
       "hepg2_2_chr20             27.0             14.0             10.0   \n",
       "hffc6_1_chr20             19.0              8.0              0.0   \n",
       "hffc6_2_chr20             18.0              7.0              0.0   \n",
       "hffc6_3_chr20             15.0              4.0              0.0   \n",
       "\n",
       "tid            TALONT000013657  TALONT000013998  TALONT000014162  \\\n",
       "hepg2_1_chr20              6.0              9.0             18.0   \n",
       "hepg2_2_chr20             11.0             24.0             60.0   \n",
       "hffc6_1_chr20              0.0             23.0              9.0   \n",
       "hffc6_2_chr20              0.0             18.0             19.0   \n",
       "hffc6_3_chr20              0.0             17.0             13.0   \n",
       "\n",
       "tid            TALONT000014163  TALONT000014329  \n",
       "hepg2_1_chr20             17.0              5.0  \n",
       "hepg2_2_chr20             24.0              9.0  \n",
       "hffc6_1_chr20              1.0              0.0  \n",
       "hffc6_2_chr20              7.0              0.0  \n",
       "hffc6_3_chr20              5.0              0.0  \n",
       "\n",
       "[5 rows x 4555 columns]"
      ]
     },
     "execution_count": 51,
     "metadata": {},
     "output_type": "execute_result"
    }
   ],
   "source": [
    "df.head()"
   ]
  },
  {
   "cell_type": "code",
   "execution_count": 52,
   "id": "prompt-declaration",
   "metadata": {},
   "outputs": [
    {
     "data": {
      "text/plain": [
       "array([[  0.,   0.,   0.,   0., 847.],\n",
       "       [  0.,   0.,   0.,   0., 800.],\n",
       "       [  2.,   0.,   0.,   0.,   0.],\n",
       "       [  2.,   0.,   0.,   0.,   0.],\n",
       "       [  2.,   0.,   0.,   0.,   0.]], dtype=float32)"
      ]
     },
     "execution_count": 52,
     "metadata": {},
     "output_type": "execute_result"
    }
   ],
   "source": [
    "sg.adata.X[:5,:5]"
   ]
  },
  {
   "cell_type": "code",
   "execution_count": 54,
   "id": "lesbian-inquiry",
   "metadata": {},
   "outputs": [],
   "source": [
    "sg.adata.layers['tpm'] = tpm_X"
   ]
  },
  {
   "cell_type": "code",
   "execution_count": 55,
   "id": "major-fetish",
   "metadata": {},
   "outputs": [
    {
     "data": {
      "text/plain": [
       "array([[    0.        ,     0.        ,     0.        ,     0.        ,\n",
       "        53914.70401018],\n",
       "       [    0.        ,     0.        ,     0.        ,     0.        ,\n",
       "        29204.54130617],\n",
       "       [  130.18290698,     0.        ,     0.        ,     0.        ,\n",
       "            0.        ],\n",
       "       [  107.71799429,     0.        ,     0.        ,     0.        ,\n",
       "            0.        ],\n",
       "       [  138.50415512,     0.        ,     0.        ,     0.        ,\n",
       "            0.        ]])"
      ]
     },
     "execution_count": 55,
     "metadata": {},
     "output_type": "execute_result"
    }
   ],
   "source": [
    "sg.adata.X = sg.adata.layers['tpm']\n",
    "sg.adata.X[:5,:5]"
   ]
  },
  {
   "cell_type": "code",
   "execution_count": null,
   "id": "raised-given",
   "metadata": {},
   "outputs": [],
   "source": []
  }
 ],
 "metadata": {
  "kernelspec": {
   "display_name": "Python 3",
   "language": "python",
   "name": "python3"
  },
  "language_info": {
   "codemirror_mode": {
    "name": "ipython",
    "version": 3
   },
   "file_extension": ".py",
   "mimetype": "text/x-python",
   "name": "python",
   "nbconvert_exporter": "python",
   "pygments_lexer": "ipython3",
   "version": "3.7.4"
  }
 },
 "nbformat": 4,
 "nbformat_minor": 5
}
