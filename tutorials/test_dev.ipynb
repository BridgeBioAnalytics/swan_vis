{
 "cells": [
  {
   "cell_type": "code",
   "execution_count": 1,
   "id": "australian-january",
   "metadata": {},
   "outputs": [
    {
     "name": "stderr",
     "output_type": "stream",
     "text": [
      "/Users/fairliereese/miniconda3/lib/python3.7/site-packages/anndata/_core/anndata.py:21: FutureWarning: pandas.core.index is deprecated and will be removed in a future version.  The public classes are available in the top-level namespace.\n",
      "  from pandas.core.index import RangeIndex\n"
     ]
    }
   ],
   "source": [
    "import swan_vis as swan\n",
    "import pandas as pd\n",
    "import anndata\n",
    "import numpy as np\n",
    "from statsmodels.stats.multitest import multipletests\n",
    "import scipy.stats as st"
   ]
  },
  {
   "cell_type": "markdown",
   "id": "executive-ambassador",
   "metadata": {},
   "source": [
    "#### test - create_dfs - swangraph with data, duplicate transcript being added\n",
    "* also tests that old data (novelty in this case) is not overwritten"
   ]
  },
  {
   "cell_type": "code",
   "execution_count": 4,
   "id": "impressed-peoples",
   "metadata": {},
   "outputs": [
    {
     "name": "stdout",
     "output_type": "stream",
     "text": [
      "           chrom  coord  vertex_id\n",
      "vertex_id                         \n",
      "0           True   True       True\n",
      "1           True   True       True\n",
      "2           True   True       True\n",
      "3           True   True       True\n",
      "4           True   True       True\n",
      "5           True   True       True\n",
      "6           True   True       True\n",
      "7           True   True       True\n",
      "8           True   True       True\n",
      "9           True   True       True\n",
      "10          True   True       True\n",
      "11          True   True       True\n",
      "12          True   True       True\n",
      "           v1    v2  strand  edge_type  edge_id\n",
      "edge_id                                        \n",
      "0        True  True    True       True     True\n",
      "1        True  True    True       True     True\n",
      "2        True  True    True       True     True\n",
      "3        True  True    True       True     True\n",
      "4        True  True    True       True     True\n",
      "5        True  True    True       True     True\n",
      "6        True  True    True       True     True\n",
      "7        True  True    True       True     True\n",
      "8        True  True    True       True     True\n",
      "9        True  True    True       True     True\n",
      "10       True  True    True       True     True\n",
      "11       True  True    True       True     True\n",
      "12       True  True    True       True     True\n",
      "13       True  True    True       True     True\n",
      "14       True  True    True       True     True\n",
      "       tname   gid  gname  path   tid  novelty\n",
      "tid                                           \n",
      "test1   True  True   True  True  True    False\n",
      "test2   True  True   True  True  True     True\n",
      "test3   True  True   True  True  True    False\n",
      "test4   True  True   True  True  True    False\n",
      "test5   True  True   True  True  True    False\n"
     ]
    }
   ],
   "source": [
    "transcripts, exons = get_test_transcript_exon_dicts()\n",
    "sg = swan.SwanGraph()\n",
    "\n",
    "# add dummy data\n",
    "\n",
    "# loc_df - format\n",
    "loc_df = pd.read_csv('data/test_preexisting_loc_df.tsv', sep='\\t')\n",
    "loc_df.set_index('vertex_id_index', inplace=True)\n",
    "loc_df.index.name = 'vertex_id'\n",
    "\n",
    "# edge_df - format and remove the columns that are there \n",
    "# just for debugging purposes\n",
    "edge_df = pd.read_csv('data/test_preexisting_edge_df.tsv', sep='\\t')\n",
    "edge_df.drop(['v2_coord', 'v1_coord'], axis=1, inplace=True)\n",
    "edge_df.set_index('edge_id_index', inplace=True)\n",
    "edge_df.index.name = 'edge_id'\n",
    "\n",
    "# t_df - remove and reformat columns that are there for debugging\n",
    "t_df = pd.read_csv('data/test_preexisting_t_df.tsv', sep='\\t')\n",
    "t_df.set_index('tid_index', inplace=True)\n",
    "t_df.index.name = 'tid'\n",
    "t_df.drop(['loc_path'], axis=1, inplace=True)\n",
    "t_df.rename({'edge_path': 'path'}, axis=1, inplace=True)\n",
    "t_df['path'] = t_df.apply(lambda x: [int(n) for n in x.path.split(',')], axis=1)\n",
    "t_df = t_df[t_df.columns]\n",
    "\n",
    "sg.loc_df = loc_df\n",
    "sg.edge_df = edge_df\n",
    "sg.t_df = t_df\n",
    "\n",
    "loc_df, edge_df, t_df = sg.create_dfs(transcripts, exons, False)\n",
    "\n",
    "\n",
    "# control data\n",
    "\n",
    "# loc_df - format\n",
    "ctrl_loc_df = pd.read_csv('data/test_preexisting_result_loc_df.tsv', sep='\\t')\n",
    "ctrl_loc_df.set_index('vertex_id_index', inplace=True)\n",
    "ctrl_loc_df.index.name = 'vertex_id'\n",
    "\n",
    "# edge_df - format and remove the columns that are there \n",
    "# just for debugging purposes\n",
    "ctrl_edge_df = pd.read_csv('data/test_preexisting_result_edge_df.tsv', sep='\\t')\n",
    "ctrl_edge_df.drop(['v2_coord', 'v1_coord'], axis=1, inplace=True)\n",
    "ctrl_edge_df.set_index('edge_id_index', inplace=True)\n",
    "ctrl_edge_df.index.name = 'edge_id'\n",
    "\n",
    "# t_df - remove and reformat columns that are there for debugging\n",
    "ctrl_t_df = pd.read_csv('data/test_preexisting_result_t_df.tsv', sep='\\t')\n",
    "ctrl_t_df.set_index('tid_index', inplace=True)\n",
    "ctrl_t_df.index.name = 'tid'\n",
    "ctrl_t_df.drop(['loc_path'], axis=1, inplace=True)\n",
    "ctrl_t_df.rename({'edge_path': 'path'}, axis=1, inplace=True)\n",
    "ctrl_t_df['path'] = ctrl_t_df.apply(lambda x: [int(n) for n in x.path.split(',')], axis=1)\n",
    "ctrl_t_df = ctrl_t_df[t_df.columns]\n",
    "\n",
    "# remove novelty for entries that are new \n",
    "new_tids = ['test1', 'test3', 'test4', 'test5']\n",
    "ctrl_t_df.loc[ctrl_t_df.tid.isin(new_tids), 'novelty'] = 'Undefined'\n",
    "\n",
    "# sort all values by their IDs\n",
    "loc_df.sort_index(inplace=True)\n",
    "edge_df.sort_index(inplace=True)\n",
    "t_df.sort_index(inplace=True)\n",
    "ctrl_loc_df.sort_index(inplace=True)\n",
    "ctrl_edge_df.sort_index(inplace=True)\n",
    "ctrl_t_df.sort_index(inplace=True)\n",
    "\n",
    "# bc I'm dumb, convert to integers\n",
    "loc_df.coord = loc_df.coord.astype('int')\n",
    "\n",
    "# print('test')\n",
    "# print(loc_df)\n",
    "# print('control')\n",
    "# print(ctrl_loc_df)\n",
    "print(ctrl_loc_df == loc_df)\n",
    "\n",
    "# print('test')\n",
    "# print(edge_df)\n",
    "# print('control')\n",
    "# print(ctrl_edge_df)\n",
    "print(ctrl_edge_df == edge_df)\n",
    "\n",
    "# print('test')\n",
    "# print(t_df)\n",
    "# print('control')\n",
    "# print(ctrl_t_df)\n",
    "print(ctrl_t_df == t_df)\n",
    "\n",
    "# test_paths = t_df.path.tolist()\n",
    "# ctrl_paths = ctrl_t_df.path.tolist()\n",
    "# for t, c in zip(test_paths, ctrl_paths):\n",
    "#     pass"
   ]
  },
  {
   "cell_type": "markdown",
   "id": "turned-cleaners",
   "metadata": {},
   "source": [
    "#### test - create_dfs - swangraph with data, mixed novelty content"
   ]
  },
  {
   "cell_type": "code",
   "execution_count": 4,
   "id": "fossil-world",
   "metadata": {},
   "outputs": [
    {
     "name": "stdout",
     "output_type": "stream",
     "text": [
      "           chrom  coord  vertex_id\n",
      "vertex_id                         \n",
      "0           True   True       True\n",
      "1           True   True       True\n",
      "2           True   True       True\n",
      "3           True   True       True\n",
      "4           True   True       True\n",
      "5           True   True       True\n",
      "6           True   True       True\n",
      "7           True   True       True\n",
      "8           True   True       True\n",
      "9           True   True       True\n",
      "10          True   True       True\n",
      "11          True   True       True\n",
      "12          True   True       True\n",
      "           v1    v2  strand  edge_type  edge_id\n",
      "edge_id                                        \n",
      "0        True  True    True       True     True\n",
      "1        True  True    True       True     True\n",
      "2        True  True    True       True     True\n",
      "3        True  True    True       True     True\n",
      "4        True  True    True       True     True\n",
      "5        True  True    True       True     True\n",
      "6        True  True    True       True     True\n",
      "7        True  True    True       True     True\n",
      "8        True  True    True       True     True\n",
      "9        True  True    True       True     True\n",
      "10       True  True    True       True     True\n",
      "11       True  True    True       True     True\n",
      "12       True  True    True       True     True\n",
      "13       True  True    True       True     True\n",
      "14       True  True    True       True     True\n",
      "test\n",
      "             tname        gid        gname               path    tid  \\\n",
      "tid                                                                    \n",
      "test1  test1_tname  test1_gid  test1_gname    [5, 6, 7, 8, 9]  test1   \n",
      "test2  test2_tname  test2_gid  test2_gname    [0, 1, 2, 3, 4]  test2   \n",
      "test3  test3_tname  test2_gid  test2_gname  [0, 1, 10, 11, 4]  test3   \n",
      "test4  test4_tname  test4_gid  test4_gname               [12]  test4   \n",
      "test5  test5_tname  test2_gid  test2_gname        [0, 13, 14]  test5   \n",
      "\n",
      "         novelty  \n",
      "tid               \n",
      "test1  Undefined  \n",
      "test2      Known  \n",
      "test3  Undefined  \n",
      "test4  Undefined  \n",
      "test5  Undefined  \n",
      "control\n",
      "             tname        gid        gname               path    tid  \\\n",
      "tid                                                                    \n",
      "test1  test1_tname  test1_gid  test1_gname    [5, 6, 7, 8, 9]  test1   \n",
      "test2  test2_tname  test2_gid  test2_gname    [0, 1, 2, 3, 4]  test2   \n",
      "test3  test3_tname  test2_gid  test2_gname  [0, 1, 10, 11, 4]  test3   \n",
      "test4  test4_tname  test4_gid  test4_gname               [12]  test4   \n",
      "test5  test5_tname  test2_gid  test2_gname        [0, 13, 14]  test5   \n",
      "\n",
      "         novelty  \n",
      "tid               \n",
      "test1  Undefined  \n",
      "test2      Known  \n",
      "test3  Undefined  \n",
      "test4  Undefined  \n",
      "test5  Undefined  \n",
      "       tname   gid  gname  path   tid  novelty\n",
      "tid                                           \n",
      "test1   True  True   True  True  True     True\n",
      "test2   True  True   True  True  True     True\n",
      "test3   True  True   True  True  True     True\n",
      "test4   True  True   True  True  True     True\n",
      "test5   True  True   True  True  True     True\n"
     ]
    }
   ],
   "source": [
    "transcripts, exons = get_test_transcript_exon_dicts()\n",
    "\n",
    "# to do - remove transcript that's already there\n",
    "sg = swan.SwanGraph()\n",
    "\n",
    "# add dummy data\n",
    "\n",
    "# loc_df - format\n",
    "loc_df = pd.read_csv('data/test_preexisting_loc_df.tsv', sep='\\t')\n",
    "loc_df.set_index('vertex_id_index', inplace=True)\n",
    "loc_df.index.name = 'vertex_id'\n",
    "\n",
    "# edge_df - format and remove the columns that are there \n",
    "# just for debugging purposes\n",
    "edge_df = pd.read_csv('data/test_preexisting_edge_df.tsv', sep='\\t')\n",
    "edge_df.drop(['v2_coord', 'v1_coord'], axis=1, inplace=True)\n",
    "edge_df.set_index('edge_id_index', inplace=True)\n",
    "edge_df.index.name = 'edge_id'\n",
    "\n",
    "# t_df - remove and reformat columns that are there for debugging\n",
    "t_df = pd.read_csv('data/test_preexisting_t_df.tsv', sep='\\t')\n",
    "t_df.set_index('tid_index', inplace=True)\n",
    "t_df.index.name = 'tid'\n",
    "t_df.drop(['loc_path'], axis=1, inplace=True)\n",
    "t_df.rename({'edge_path': 'path'}, axis=1, inplace=True)\n",
    "t_df['path'] = t_df.apply(lambda x: [int(n) for n in x.path.split(',')], axis=1)\n",
    "t_df = t_df[t_df.columns]\n",
    "\n",
    "sg.loc_df = loc_df\n",
    "sg.edge_df = edge_df\n",
    "sg.t_df = t_df\n",
    "\n",
    "loc_df, edge_df, t_df = sg.create_dfs(transcripts, exons, False)\n",
    "\n",
    "\n",
    "# control data\n",
    "\n",
    "# loc_df - format\n",
    "ctrl_loc_df = pd.read_csv('data/test_preexisting_result_loc_df.tsv', sep='\\t')\n",
    "ctrl_loc_df.set_index('vertex_id_index', inplace=True)\n",
    "ctrl_loc_df.index.name = 'vertex_id'\n",
    "\n",
    "# edge_df - format and remove the columns that are there \n",
    "# just for debugging purposes\n",
    "ctrl_edge_df = pd.read_csv('data/test_preexisting_result_edge_df.tsv', sep='\\t')\n",
    "ctrl_edge_df.drop(['v2_coord', 'v1_coord'], axis=1, inplace=True)\n",
    "ctrl_edge_df.set_index('edge_id_index', inplace=True)\n",
    "ctrl_edge_df.index.name = 'edge_id'\n",
    "\n",
    "# t_df - remove and reformat columns that are there for debugging\n",
    "ctrl_t_df = pd.read_csv('data/test_preexisting_result_t_df.tsv', sep='\\t')\n",
    "ctrl_t_df.set_index('tid_index', inplace=True)\n",
    "ctrl_t_df.index.name = 'tid'\n",
    "ctrl_t_df.drop(['loc_path'], axis=1, inplace=True)\n",
    "ctrl_t_df.rename({'edge_path': 'path'}, axis=1, inplace=True)\n",
    "ctrl_t_df['path'] = ctrl_t_df.apply(lambda x: [int(n) for n in x.path.split(',')], axis=1)\n",
    "ctrl_t_df = ctrl_t_df[t_df.columns]\n",
    "\n",
    "# remove novelty for entries that are new \n",
    "new_tids = ['test1', 'test3', 'test4', 'test5']\n",
    "ctrl_t_df.loc[ctrl_t_df.tid.isin(new_tids), 'novelty'] = 'Undefined'\n",
    "\n",
    "# sort all values by their IDs\n",
    "loc_df.sort_index(inplace=True)\n",
    "edge_df.sort_index(inplace=True)\n",
    "t_df.sort_index(inplace=True)\n",
    "ctrl_loc_df.sort_index(inplace=True)\n",
    "ctrl_edge_df.sort_index(inplace=True)\n",
    "ctrl_t_df.sort_index(inplace=True)\n",
    "\n",
    "# bc I'm dumb, convert to integers\n",
    "loc_df.coord = loc_df.coord.astype('int')\n",
    "\n",
    "# print('test')\n",
    "# print(loc_df)\n",
    "# print('control')\n",
    "# print(ctrl_loc_df)\n",
    "print(ctrl_loc_df == loc_df)\n",
    "\n",
    "# print('test')\n",
    "# print(edge_df)\n",
    "# print('control')\n",
    "# print(ctrl_edge_df)\n",
    "print(ctrl_edge_df == edge_df)\n",
    "\n",
    "# print('test')\n",
    "# print(t_df)\n",
    "# print('control')\n",
    "# print(ctrl_t_df)\n",
    "print(ctrl_t_df == t_df)\n",
    "\n",
    "# test_paths = t_df.path.tolist()\n",
    "# ctrl_paths = ctrl_t_df.path.tolist()\n",
    "# for t, c in zip(test_paths, ctrl_paths):\n",
    "#     pass"
   ]
  },
  {
   "cell_type": "markdown",
   "id": "entertaining-planner",
   "metadata": {},
   "source": [
    "#### test - create_dfs - swangraph with data"
   ]
  },
  {
   "cell_type": "code",
   "execution_count": 13,
   "id": "atlantic-spine",
   "metadata": {},
   "outputs": [
    {
     "name": "stdout",
     "output_type": "stream",
     "text": [
      "           chrom  coord  vertex_id\n",
      "vertex_id                         \n",
      "0           True   True       True\n",
      "1           True   True       True\n",
      "2           True   True       True\n",
      "3           True   True       True\n",
      "4           True   True       True\n",
      "5           True   True       True\n",
      "6           True   True       True\n",
      "7           True   True       True\n",
      "8           True   True       True\n",
      "9           True   True       True\n",
      "10          True   True       True\n",
      "11          True   True       True\n",
      "12          True   True       True\n",
      "           v1    v2  strand  edge_type  edge_id\n",
      "edge_id                                        \n",
      "0        True  True    True       True     True\n",
      "1        True  True    True       True     True\n",
      "2        True  True    True       True     True\n",
      "3        True  True    True       True     True\n",
      "4        True  True    True       True     True\n",
      "5        True  True    True       True     True\n",
      "6        True  True    True       True     True\n",
      "7        True  True    True       True     True\n",
      "8        True  True    True       True     True\n",
      "9        True  True    True       True     True\n",
      "10       True  True    True       True     True\n",
      "11       True  True    True       True     True\n",
      "12       True  True    True       True     True\n",
      "13       True  True    True       True     True\n",
      "14       True  True    True       True     True\n",
      "       tname   gid  gname  path   tid  novelty\n",
      "tid                                           \n",
      "test1   True  True   True  True  True     True\n",
      "test2   True  True   True  True  True     True\n",
      "test3   True  True   True  True  True     True\n",
      "test4   True  True   True  True  True     True\n",
      "test5   True  True   True  True  True     True\n"
     ]
    }
   ],
   "source": [
    "transcripts, exons = get_test_transcript_exon_dicts()\n",
    "\n",
    "# to do - remove transcript that's already there\n",
    "del transcripts['test2']\n",
    "sg = swan.SwanGraph()\n",
    "\n",
    "# add dummy data\n",
    "\n",
    "# loc_df - format\n",
    "loc_df = pd.read_csv('data/test_preexisting_loc_df.tsv', sep='\\t')\n",
    "loc_df.set_index('vertex_id_index', inplace=True)\n",
    "loc_df.index.name = 'vertex_id'\n",
    "\n",
    "# edge_df - format and remove the columns that are there \n",
    "# just for debugging purposes\n",
    "edge_df = pd.read_csv('data/test_preexisting_edge_df.tsv', sep='\\t')\n",
    "edge_df.drop(['v2_coord', 'v1_coord'], axis=1, inplace=True)\n",
    "edge_df.set_index('edge_id_index', inplace=True)\n",
    "edge_df.index.name = 'edge_id'\n",
    "\n",
    "# t_df - remove and reformat columns that are there for debugging\n",
    "t_df = pd.read_csv('data/test_preexisting_t_df.tsv', sep='\\t')\n",
    "t_df.set_index('tid_index', inplace=True)\n",
    "t_df.index.name = 'tid'\n",
    "t_df.drop(['loc_path'], axis=1, inplace=True)\n",
    "t_df.rename({'edge_path': 'path'}, axis=1, inplace=True)\n",
    "t_df['path'] = t_df.apply(lambda x: [int(n) for n in x.path.split(',')], axis=1)\n",
    "t_df = t_df[t_df.columns]\n",
    "\n",
    "sg.loc_df = loc_df\n",
    "sg.edge_df = edge_df\n",
    "sg.t_df = t_df\n",
    "\n",
    "loc_df, edge_df, t_df = sg.create_dfs(transcripts, exons, True)\n",
    "\n",
    "\n",
    "# control data\n",
    "\n",
    "# loc_df - format\n",
    "ctrl_loc_df = pd.read_csv('data/test_preexisting_result_loc_df.tsv', sep='\\t')\n",
    "ctrl_loc_df.set_index('vertex_id_index', inplace=True)\n",
    "ctrl_loc_df.index.name = 'vertex_id'\n",
    "\n",
    "# edge_df - format and remove the columns that are there \n",
    "# just for debugging purposes\n",
    "ctrl_edge_df = pd.read_csv('data/test_preexisting_result_edge_df.tsv', sep='\\t')\n",
    "ctrl_edge_df.drop(['v2_coord', 'v1_coord'], axis=1, inplace=True)\n",
    "ctrl_edge_df.set_index('edge_id_index', inplace=True)\n",
    "ctrl_edge_df.index.name = 'edge_id'\n",
    "\n",
    "# t_df - remove and reformat columns that are there for debugging\n",
    "ctrl_t_df = pd.read_csv('data/test_preexisting_result_t_df.tsv', sep='\\t')\n",
    "ctrl_t_df.set_index('tid_index', inplace=True)\n",
    "ctrl_t_df.index.name = 'tid'\n",
    "ctrl_t_df.drop(['loc_path'], axis=1, inplace=True)\n",
    "ctrl_t_df.rename({'edge_path': 'path'}, axis=1, inplace=True)\n",
    "ctrl_t_df['path'] = ctrl_t_df.apply(lambda x: [int(n) for n in x.path.split(',')], axis=1)\n",
    "ctrl_t_df = ctrl_t_df[t_df.columns]\n",
    "\n",
    "# sort all values by their IDs\n",
    "loc_df.sort_index(inplace=True)\n",
    "edge_df.sort_index(inplace=True)\n",
    "t_df.sort_index(inplace=True)\n",
    "ctrl_loc_df.sort_index(inplace=True)\n",
    "ctrl_edge_df.sort_index(inplace=True)\n",
    "ctrl_t_df.sort_index(inplace=True)\n",
    "\n",
    "# and order columns the same way\n",
    "ctrl_loc_df = ctrl_loc_df[loc_df.columns]\n",
    "ctrl_edge_df = ctrl_edge_df[edge_df.columns]\n",
    "ctrl_t_df = ctrl_t_df[t_df.columns]\n",
    "\n",
    "# bc I'm dumb, convert to integers\n",
    "loc_df.coord = loc_df.coord.astype('int')\n",
    "\n",
    "# print('test')\n",
    "# print(loc_df)\n",
    "# print('control')\n",
    "# print(ctrl_loc_df)\n",
    "print(ctrl_loc_df == loc_df)\n",
    "\n",
    "# print('test')\n",
    "# print(edge_df)\n",
    "# print('control')\n",
    "# print(ctrl_edge_df)\n",
    "print(ctrl_edge_df == edge_df)\n",
    "\n",
    "# print('test')\n",
    "# print(t_df)\n",
    "# print('control')\n",
    "# print(ctrl_t_df)\n",
    "print(ctrl_t_df == t_df)\n",
    "\n",
    "# test_paths = t_df.path.tolist()\n",
    "# ctrl_paths = ctrl_t_df.path.tolist()\n",
    "# for t, c in zip(test_paths, ctrl_paths):\n",
    "#     pass"
   ]
  },
  {
   "cell_type": "markdown",
   "id": "documentary-turkey",
   "metadata": {},
   "source": [
    "#### test - create_dfs - from_talon = True"
   ]
  },
  {
   "cell_type": "code",
   "execution_count": 12,
   "id": "joined-romania",
   "metadata": {},
   "outputs": [
    {
     "name": "stdout",
     "output_type": "stream",
     "text": [
      "           chrom  coord  vertex_id\n",
      "vertex_id                         \n",
      "0           True   True       True\n",
      "1           True   True       True\n",
      "2           True   True       True\n",
      "3           True   True       True\n",
      "4           True   True       True\n",
      "5           True   True       True\n",
      "6           True   True       True\n",
      "7           True   True       True\n",
      "8           True   True       True\n",
      "9           True   True       True\n",
      "10          True   True       True\n",
      "11          True   True       True\n",
      "12          True   True       True\n",
      "           v1    v2  strand  edge_type  edge_id\n",
      "edge_id                                        \n",
      "0        True  True    True       True     True\n",
      "1        True  True    True       True     True\n",
      "2        True  True    True       True     True\n",
      "3        True  True    True       True     True\n",
      "4        True  True    True       True     True\n",
      "5        True  True    True       True     True\n",
      "6        True  True    True       True     True\n",
      "7        True  True    True       True     True\n",
      "8        True  True    True       True     True\n",
      "9        True  True    True       True     True\n",
      "10       True  True    True       True     True\n",
      "11       True  True    True       True     True\n",
      "12       True  True    True       True     True\n",
      "13       True  True    True       True     True\n",
      "14       True  True    True       True     True\n",
      "        tid  tname   gid  gname  path  novelty\n",
      "tid                                           \n",
      "test1  True   True  True   True  True     True\n",
      "test2  True   True  True   True  True     True\n",
      "test3  True   True  True   True  True     True\n",
      "test4  True   True  True   True  True     True\n",
      "test5  True   True  True   True  True     True\n"
     ]
    }
   ],
   "source": [
    "transcripts, exons = get_test_transcript_exon_dicts()\n",
    "sg = swan.SwanGraph()\n",
    "\n",
    "loc_df, edge_df, t_df = sg.create_dfs(transcripts, exons, True)\n",
    "\n",
    "ctrl_loc_df = pd.read_csv('data/test_loc_df.tsv', sep='\\t')\n",
    "ctrl_loc_df.set_index('vertex_id_index', inplace=True)\n",
    "ctrl_loc_df.index.name = 'vertex_id'\n",
    "\n",
    "# remove the columns that are there just for debugging purposes\n",
    "ctrl_edge_df = pd.read_csv('data/test_edge_df.tsv', sep='\\t')\n",
    "ctrl_edge_df.drop(['v2_coord', 'v1_coord'], axis=1, inplace=True)\n",
    "ctrl_edge_df.set_index('edge_id_index', inplace=True)\n",
    "ctrl_edge_df.index.name = 'edge_id'\n",
    "\n",
    "# again, remove and reformat columns that are there for debugging\n",
    "ctrl_t_df = pd.read_csv('data/test_t_df.tsv', sep='\\t')\n",
    "ctrl_t_df.set_index('tid_index', inplace=True)\n",
    "ctrl_t_df.index.name = 'tid'\n",
    "ctrl_t_df.drop(['loc_path'], axis=1, inplace=True)\n",
    "ctrl_t_df.rename({'edge_path': 'path'}, axis=1, inplace=True)\n",
    "ctrl_t_df['path'] = ctrl_t_df.apply(lambda x: [int(n) for n in x.path.split(',')], axis=1)\n",
    "ctrl_t_df = ctrl_t_df[t_df.columns]\n",
    "\n",
    "# sort all values by their IDs\n",
    "loc_df.sort_index(inplace=True)\n",
    "edge_df.sort_index(inplace=True)\n",
    "t_df.sort_index(inplace=True)\n",
    "ctrl_loc_df.sort_index(inplace=True)\n",
    "ctrl_edge_df.sort_index(inplace=True)\n",
    "ctrl_t_df.sort_index(inplace=True)\n",
    "\n",
    "# and order columns the same way\n",
    "ctrl_loc_df = ctrl_loc_df[loc_df.columns]\n",
    "ctrl_edge_df = ctrl_edge_df[edge_df.columns]\n",
    "ctrl_t_df = ctrl_t_df[t_df.columns]\n",
    "\n",
    "\n",
    "# bc I'm dumb, convert to integers\n",
    "loc_df.coord = loc_df.coord.astype('int')\n",
    "\n",
    "# print('test')\n",
    "# print(loc_df)\n",
    "# print('control')\n",
    "# print(ctrl_loc_df)\n",
    "print(ctrl_loc_df == loc_df)\n",
    "\n",
    "# print('test')\n",
    "# print(edge_df)\n",
    "# print('control')\n",
    "# print(ctrl_edge_df)\n",
    "print(ctrl_edge_df == edge_df)\n",
    "\n",
    "# print('test')\n",
    "# print(t_df)\n",
    "# print('control')\n",
    "# print(ctrl_t_df)\n",
    "print(ctrl_t_df == t_df)\n",
    "\n",
    "# test_paths = t_df.path.tolist()\n",
    "# ctrl_paths = ctrl_t_df.path.tolist()\n",
    "# for t, c in zip(test_paths, ctrl_paths):\n",
    "#     pass"
   ]
  },
  {
   "cell_type": "markdown",
   "id": "selected-sullivan",
   "metadata": {},
   "source": [
    "#### test - create_dfs - empty swangraph\n",
    "* make sure that the emtpy dict -> df -> dict conversion doesn't screw up"
   ]
  },
  {
   "cell_type": "code",
   "execution_count": 3,
   "id": "smart-thanks",
   "metadata": {},
   "outputs": [
    {
     "name": "stdout",
     "output_type": "stream",
     "text": [
      "           chrom  coord  vertex_id\n",
      "vertex_id                         \n",
      "0           True   True       True\n",
      "1           True   True       True\n",
      "2           True   True       True\n",
      "3           True   True       True\n",
      "4           True   True       True\n",
      "5           True   True       True\n",
      "6           True   True       True\n",
      "7           True   True       True\n",
      "8           True   True       True\n",
      "9           True   True       True\n",
      "10          True   True       True\n",
      "11          True   True       True\n",
      "12          True   True       True\n",
      "           v1    v2  strand  edge_type  edge_id\n",
      "edge_id                                        \n",
      "0        True  True    True       True     True\n",
      "1        True  True    True       True     True\n",
      "2        True  True    True       True     True\n",
      "3        True  True    True       True     True\n",
      "4        True  True    True       True     True\n",
      "5        True  True    True       True     True\n",
      "6        True  True    True       True     True\n",
      "7        True  True    True       True     True\n",
      "8        True  True    True       True     True\n",
      "9        True  True    True       True     True\n",
      "10       True  True    True       True     True\n",
      "11       True  True    True       True     True\n",
      "12       True  True    True       True     True\n",
      "13       True  True    True       True     True\n",
      "14       True  True    True       True     True\n",
      "       tname   gid  gname  path   tid\n",
      "tid                                  \n",
      "test1   True  True   True  True  True\n",
      "test2   True  True   True  True  True\n",
      "test3   True  True   True  True  True\n",
      "test4   True  True   True  True  True\n",
      "test5   True  True   True  True  True\n"
     ]
    }
   ],
   "source": [
    "transcripts, exons = get_test_transcript_exon_dicts()\n",
    "sg = swan.SwanGraph()\n",
    "\n",
    "loc_df, edge_df, t_df = sg.create_dfs(transcripts, exons, False)\n",
    "\n",
    "ctrl_loc_df = pd.read_csv('data/test_loc_df.tsv', sep='\\t')\n",
    "ctrl_loc_df.set_index('vertex_id_index', inplace=True)\n",
    "ctrl_loc_df.index.name = 'vertex_id'\n",
    "\n",
    "# remove the columns that are there just for debugging purposes\n",
    "ctrl_edge_df = pd.read_csv('data/test_edge_df.tsv', sep='\\t')\n",
    "ctrl_edge_df.drop(['v2_coord', 'v1_coord'], axis=1, inplace=True)\n",
    "ctrl_edge_df.set_index('edge_id_index', inplace=True)\n",
    "ctrl_edge_df.index.name = 'edge_id'\n",
    "\n",
    "# again, remove and reformat columns that are there for debugging\n",
    "ctrl_t_df = pd.read_csv('data/test_t_df.tsv', sep='\\t')\n",
    "ctrl_t_df.set_index('tid_index', inplace=True)\n",
    "ctrl_t_df.index.name = 'tid'\n",
    "ctrl_t_df.drop(['loc_path', 'novelty'], axis=1, inplace=True)\n",
    "ctrl_t_df.rename({'edge_path': 'path'}, axis=1, inplace=True)\n",
    "ctrl_t_df['path'] = ctrl_t_df.apply(lambda x: [int(n) for n in x.path.split(',')], axis=1)\n",
    "\n",
    "# sort all values by their IDs\n",
    "loc_df.sort_index(inplace=True)\n",
    "edge_df.sort_index(inplace=True)\n",
    "t_df.sort_index(inplace=True)\n",
    "ctrl_loc_df.sort_index(inplace=True)\n",
    "ctrl_edge_df.sort_index(inplace=True)\n",
    "ctrl_t_df.sort_index(inplace=True)\n",
    "\n",
    "# and order columns the same way\n",
    "ctrl_loc_df = ctrl_loc_df[loc_df.columns]\n",
    "ctrl_edge_df = ctrl_edge_df[edge_df.columns]\n",
    "ctrl_t_df = ctrl_t_df[t_df.columns]\n",
    "\n",
    "# bc I'm dumb, convert to integers\n",
    "loc_df.coord = loc_df.coord.astype('int')\n",
    "\n",
    "# print('test')\n",
    "# print(loc_df)\n",
    "# print('control')\n",
    "# print(ctrl_loc_df)\n",
    "print(ctrl_loc_df == loc_df)\n",
    "\n",
    "# print('test')\n",
    "# print(edge_df)\n",
    "# print('control')\n",
    "# print(ctrl_edge_df)\n",
    "print(ctrl_edge_df == edge_df)\n",
    "\n",
    "# print('test')\n",
    "# print(t_df)\n",
    "# print('control')\n",
    "# print(ctrl_t_df)\n",
    "print(ctrl_t_df == t_df)\n",
    "\n",
    "# test_paths = t_df.path.tolist()\n",
    "# ctrl_paths = ctrl_t_df.path.tolist()\n",
    "# for t, c in zip(test_paths, ctrl_paths):\n",
    "#     pass"
   ]
  },
  {
   "cell_type": "markdown",
   "id": "yellow-annual",
   "metadata": {},
   "source": [
    "#### test - create_transcript_edge_dict - transcripts already exist in swangraph"
   ]
  },
  {
   "cell_type": "code",
   "execution_count": null,
   "id": "polish-matrix",
   "metadata": {},
   "outputs": [],
   "source": [
    "# TODO"
   ]
  },
  {
   "cell_type": "markdown",
   "id": "criminal-meter",
   "metadata": {},
   "source": [
    "#### test - create_transcript_edge_dict - edges already exist in swangraph"
   ]
  },
  {
   "cell_type": "code",
   "execution_count": 8,
   "id": "flying-patrol",
   "metadata": {},
   "outputs": [
    {
     "name": "stdout",
     "output_type": "stream",
     "text": [
      "True\n",
      "True\n"
     ]
    }
   ],
   "source": [
    "transcripts, exons = get_test_transcript_exon_dicts()\n",
    "\n",
    "# add some dummy data\n",
    "sg = swan.SwanGraph()\n",
    "\n",
    "data = [[0, 'chr1', 1],\n",
    "        [1, 'chr2', 20], \n",
    "        [2, 'chr2', 100],\n",
    "        [3, 'chr2', 80]]\n",
    "columns = ['vertex_id', 'chrom', 'coord']\n",
    "sg.loc_df = pd.DataFrame(data=data, columns=columns)\n",
    "locs = sg.create_loc_dict(exons)\n",
    "\n",
    "data = [[0, 0, 1, '+', 'exon'],\n",
    "        [1, 2, 3, '-', 'exon']]\n",
    "columns = ['edge_id', 'v1', 'v2', 'strand', 'edge_type']\n",
    "sg.edge_df = pd.DataFrame(data=data, columns=columns)\n",
    "\n",
    "transcripts, edges = sg.create_transcript_edge_dicts(transcripts, exons, locs)\n",
    "\n",
    "# just compare the paths for the transcripts, which is the only \n",
    "# part modified by this function\n",
    "transcripts = dict([(key, item['path']) for key, item in transcripts.items()])\n",
    "ctrl_transcript_paths = {\n",
    "    'test1': [0,2,3,4,5],\n",
    "    'test2': [1,6,7,8,9],\n",
    "    'test3': [1,6,10,11,9],\n",
    "    'test4': [12],\n",
    "    'test5': [1,13,14]\n",
    "}\n",
    "\n",
    "print(transcripts == ctrl_transcript_paths)\n",
    "\n",
    "ctrl_edges = {\n",
    "    ('chr1', 1, 20, '+', 'exon'): {\n",
    "        'edge_id': 0,\n",
    "        'edge_type': 'exon',\n",
    "        'v1': 0,\n",
    "        'v2': 1\n",
    "    },\n",
    "    ('chr1', 20, 25, '+', 'intron'): {\n",
    "        'edge_id': 2,\n",
    "        'edge_type': 'intron',\n",
    "        'v1': 4,\n",
    "        'v2': 5\n",
    "    },\n",
    "    ('chr1', 25, 30, '+', 'exon'): {\n",
    "        'edge_id': 3,\n",
    "        'edge_type': 'exon', \n",
    "        'v1': 5,\n",
    "        'v2': 6\n",
    "    },\n",
    "    ('chr1', 30, 35, '+', 'intron'): {\n",
    "        'edge_id': 4,\n",
    "        'edge_type': 'intron', \n",
    "        'v1': 6,\n",
    "        'v2': 7\n",
    "    },\n",
    "    ('chr1', 35, 40, '+', 'exon'): {\n",
    "        'edge_id': 5,\n",
    "        'edge_type': 'exon', \n",
    "        'v1': 7,\n",
    "        'v2': 8\n",
    "    },\n",
    "    ('chr2', 100, 80, '-', 'exon'): {\n",
    "        'edge_id': 1,\n",
    "        'edge_type': 'exon', \n",
    "        'v1': 2,\n",
    "        'v2': 3\n",
    "    },\n",
    "    ('chr2', 80, 75, '-', 'intron'): {\n",
    "        'edge_id': 6,\n",
    "        'edge_type': 'intron', \n",
    "        'v1': 3,\n",
    "        'v2': 9\n",
    "    },\n",
    "    ('chr2', 75, 60, '-', 'exon'): {\n",
    "        'edge_id': 7,\n",
    "        'edge_type': 'exon' , \n",
    "        'v1': 9,\n",
    "        'v2': 10\n",
    "    },\n",
    "    ('chr2', 60, 50, '-', 'intron'): {\n",
    "        'edge_id': 8,\n",
    "        'edge_type': 'intron', \n",
    "        'v1': 10,\n",
    "        'v2': 11\n",
    "    },\n",
    "    ('chr2', 50, 45, '-', 'exon'): {\n",
    "        'edge_id': 9,\n",
    "        'edge_type': 'exon', \n",
    "        'v1': 11,\n",
    "        'v2': 12\n",
    "    },\n",
    "    ('chr2', 75, 65, '-', 'exon'): {\n",
    "        'edge_id': 10,\n",
    "        'edge_type': 'exon', \n",
    "        'v1': 9,\n",
    "        'v2': 13\n",
    "    },\n",
    "    ('chr2', 65, 50, '-', 'intron'): {\n",
    "        'edge_id': 11,\n",
    "        'edge_type': 'intron', \n",
    "        'v1': 13,\n",
    "        'v2': 11\n",
    "    },\n",
    "    ('chr2', 45, 50, '+', 'exon'): {\n",
    "        'edge_id': 12,\n",
    "        'edge_type': 'exon', \n",
    "        'v1': 12,\n",
    "        'v2': 11\n",
    "    },\n",
    "    ('chr2', 80, 60, '-', 'intron'): {\n",
    "        'edge_id': 13,\n",
    "        'edge_type': 'intron', \n",
    "        'v1': 3,\n",
    "        'v2': 10\n",
    "    },\n",
    "    ('chr2', 60, 50, '-', 'exon'): {\n",
    "        'edge_id': 14,\n",
    "        'edge_type': 'exon', \n",
    "        'v1': 10,\n",
    "        'v2': 11\n",
    "    }\n",
    "}\n",
    "\n",
    "print(edges == ctrl_edges)\n",
    "\n",
    "# print(locs)\n",
    "# for key, _ in edges.items():\n",
    "#     print()\n",
    "#     print(key)\n",
    "#     print('test item')\n",
    "#     print(edges[key])\n",
    "#     print('ctrl item')\n",
    "#     print(ctrl_edges[key])"
   ]
  },
  {
   "cell_type": "markdown",
   "id": "covered-williams",
   "metadata": {},
   "source": [
    "#### test - create_transcript_edge_dict - empty swangraph"
   ]
  },
  {
   "cell_type": "code",
   "execution_count": 7,
   "id": "raising-characterization",
   "metadata": {},
   "outputs": [
    {
     "name": "stdout",
     "output_type": "stream",
     "text": [
      "True\n",
      "True\n"
     ]
    }
   ],
   "source": [
    "transcripts, exons = get_test_transcript_exon_dicts()\n",
    "\n",
    "sg = swan.SwanGraph()\n",
    "locs = sg.create_loc_dict(exons)\n",
    "\n",
    "transcripts, edges = sg.create_transcript_edge_dicts(transcripts, exons, locs)\n",
    "\n",
    "# just compare the paths for the transcripts, which is the only \n",
    "# part modified by this function\n",
    "transcripts = dict([(key, item['path']) for key, item in transcripts.items()])\n",
    "ctrl_transcript_paths = {\n",
    "    'test1': [0,1,2,3,4],\n",
    "    'test2': [5,6,7,8,9],\n",
    "    'test3': [5,6,10,11,9],\n",
    "    'test4': [12],\n",
    "    'test5': [5,13,14]\n",
    "}\n",
    "\n",
    "print(transcripts == ctrl_transcript_paths)\n",
    "\n",
    "ctrl_edges = {\n",
    "    ('chr1', 1, 20, '+', 'exon'): {\n",
    "        'edge_id': 0,\n",
    "        'edge_type': 'exon',\n",
    "        'v1': 0,\n",
    "        'v2': 1\n",
    "    },\n",
    "    ('chr1', 20, 25, '+', 'intron'): {\n",
    "        'edge_id': 1,\n",
    "        'edge_type': 'intron',\n",
    "        'v1': 1,\n",
    "        'v2': 2\n",
    "    },\n",
    "    ('chr1', 25, 30, '+', 'exon'): {\n",
    "        'edge_id': 2,\n",
    "        'edge_type': 'exon', \n",
    "        'v1': 2,\n",
    "        'v2': 3\n",
    "    },\n",
    "    ('chr1', 30, 35, '+', 'intron'): {\n",
    "        'edge_id': 3,\n",
    "        'edge_type': 'intron', \n",
    "        'v1': 3,\n",
    "        'v2': 4\n",
    "    },\n",
    "    ('chr1', 35, 40, '+', 'exon'): {\n",
    "        'edge_id': 4,\n",
    "        'edge_type': 'exon', \n",
    "        'v1': 4,\n",
    "        'v2': 5\n",
    "    },\n",
    "    ('chr2', 100, 80, '-', 'exon'): {\n",
    "        'edge_id': 5,\n",
    "        'edge_type': 'exon', \n",
    "        'v1': 6,\n",
    "        'v2': 7\n",
    "    },\n",
    "    ('chr2', 80, 75, '-', 'intron'): {\n",
    "        'edge_id': 6,\n",
    "        'edge_type': 'intron', \n",
    "        'v1': 7,\n",
    "        'v2': 8\n",
    "    },\n",
    "    ('chr2', 75, 60, '-', 'exon'): {\n",
    "        'edge_id': 7,\n",
    "        'edge_type': 'exon' , \n",
    "        'v1': 8,\n",
    "        'v2': 9\n",
    "    },\n",
    "    ('chr2', 60, 50, '-', 'intron'): {\n",
    "        'edge_id': 8,\n",
    "        'edge_type': 'intron', \n",
    "        'v1': 9,\n",
    "        'v2': 10\n",
    "    },\n",
    "    ('chr2', 50, 45, '-', 'exon'): {\n",
    "        'edge_id': 9,\n",
    "        'edge_type': 'exon', \n",
    "        'v1': 10,\n",
    "        'v2': 11\n",
    "    },\n",
    "    ('chr2', 75, 65, '-', 'exon'): {\n",
    "        'edge_id': 10,\n",
    "        'edge_type': 'exon', \n",
    "        'v1': 8,\n",
    "        'v2': 12\n",
    "    },\n",
    "    ('chr2', 65, 50, '-', 'intron'): {\n",
    "        'edge_id': 11,\n",
    "        'edge_type': 'intron', \n",
    "        'v1': 12,\n",
    "        'v2': 10\n",
    "    },\n",
    "    ('chr2', 45, 50, '+', 'exon'): {\n",
    "        'edge_id': 12,\n",
    "        'edge_type': 'exon', \n",
    "        'v1': 11,\n",
    "        'v2': 10\n",
    "    },\n",
    "    ('chr2', 80, 60, '-', 'intron'): {\n",
    "        'edge_id': 13,\n",
    "        'edge_type': 'intron', \n",
    "        'v1': 7,\n",
    "        'v2': 9\n",
    "    },\n",
    "    ('chr2', 60, 50, '-', 'exon'): {\n",
    "        'edge_id': 14,\n",
    "        'edge_type': 'exon', \n",
    "        'v1': 9,\n",
    "        'v2': 10\n",
    "    }\n",
    "}\n",
    "\n",
    "print(edges == ctrl_edges)"
   ]
  },
  {
   "cell_type": "markdown",
   "id": "existing-popularity",
   "metadata": {},
   "source": [
    "#### test - create_loc_dict - locs already exist in swangraph"
   ]
  },
  {
   "cell_type": "code",
   "execution_count": 6,
   "id": "sporting-person",
   "metadata": {},
   "outputs": [
    {
     "name": "stdout",
     "output_type": "stream",
     "text": [
      "True\n"
     ]
    }
   ],
   "source": [
    "_, exons = get_test_transcript_exon_dicts()\n",
    "\n",
    "# dummy preexisting data\n",
    "sg = swan.SwanGraph()\n",
    "data = [[0, 'chr1', 1], [1, 'chr2', 80]]\n",
    "columns = ['vertex_id', 'chrom', 'coord']\n",
    "sg.loc_df = pd.DataFrame(data=data, columns=columns)\n",
    "\n",
    "locs = sg.create_loc_dict(exons)\n",
    "\n",
    "ctrl_locs = {('chr1', 1):0,\n",
    "    ('chr2', 80): 1,\n",
    "    ('chr1', 20): 2,\n",
    "    ('chr1', 25): 3,\n",
    "    ('chr1', 30): 4,\n",
    "    ('chr1', 35): 5,\n",
    "    ('chr1', 40): 6,\n",
    "    ('chr2', 100): 7,\n",
    "    ('chr2', 75): 8,\n",
    "    ('chr2', 60): 9,\n",
    "    ('chr2', 50): 10,\n",
    "    ('chr2', 45): 11,\n",
    "    ('chr2', 65): 12\n",
    "     }\n",
    "\n",
    "print(ctrl_locs == locs)"
   ]
  },
  {
   "cell_type": "markdown",
   "id": "logical-amount",
   "metadata": {},
   "source": [
    "#### test - create_loc_dict - empty swangraph\n",
    "* also checks to make sure that exons with the same location as one of their splice sites aren't duplicated"
   ]
  },
  {
   "cell_type": "code",
   "execution_count": 5,
   "id": "bibliographic-surgery",
   "metadata": {},
   "outputs": [
    {
     "name": "stdout",
     "output_type": "stream",
     "text": [
      "True\n"
     ]
    }
   ],
   "source": [
    "_, exons = get_test_transcript_exon_dicts()\n",
    "\n",
    "sg = swan.SwanGraph()\n",
    "locs = sg.create_loc_dict(exons)\n",
    "ctrl_locs = {('chr1',1): 0, \n",
    "    ('chr1', 20): 1,\n",
    "    ('chr1', 25): 2,\n",
    "    ('chr1', 30): 3,\n",
    "    ('chr1', 35): 4,\n",
    "    ('chr1', 40): 5,\n",
    "    ('chr2', 100): 6,\n",
    "    ('chr2', 80): 7,\n",
    "    ('chr2', 75): 8,\n",
    "    ('chr2', 60): 9,\n",
    "    ('chr2', 50): 10,\n",
    "    ('chr2', 45): 11,\n",
    "    ('chr2', 65): 12\n",
    "     }\n",
    "print(ctrl_locs == locs)"
   ]
  },
  {
   "cell_type": "code",
   "execution_count": 4,
   "id": "variable-perception",
   "metadata": {},
   "outputs": [],
   "source": [
    "def get_test_transcript_exon_dicts():\n",
    "\n",
    "    # features: \n",
    "    # exons that are \"out of order\"\n",
    "    # two transcripts from the same gene\n",
    "    # transcripts from - strand\n",
    "    # transcripts from + strand\n",
    "    transcripts = {\n",
    "        'test1': { # + strand\n",
    "            'gid': 'test1_gid',\n",
    "            'gname': 'test1_gname',\n",
    "            'tid': 'test1',\n",
    "            'tname': 'test1_tname',\n",
    "            'strand': '+',\n",
    "            'novelty': 'Known',\n",
    "            'exons': ['chr1_1_20_+_exon',\n",
    "                      'chr1_35_40_+_exon', # out of order exon (+)\n",
    "                      'chr1_25_30_+_exon',] # out of order exon (+)\n",
    "        },\n",
    "        'test2': { # - strand\n",
    "            'gid': 'test2_gid',\n",
    "            'gname': 'test2_gname',\n",
    "            'tid': 'test2',\n",
    "            'tname': 'test2_tname',\n",
    "            'strand': '-', \n",
    "            'novelty': 'Known',\n",
    "            'exons': ['chr2_100_80_-_exon', # duplicated exon/locations\n",
    "                      'chr2_75_60_-_exon', # same edge but intron vs. exon\n",
    "                      'chr2_50_45_-_exon'] # duplicated exon/locations, same exon different strand\n",
    "        },\n",
    "        'test3': { # - strand\n",
    "            'gid': 'test2_gid',\n",
    "            'gname': 'test2_gname',\n",
    "            'tid': 'test3',\n",
    "            'tname': 'test3_tname',\n",
    "            'strand': '-', \n",
    "            'novelty': 'NIC',\n",
    "            'exons': ['chr2_100_80_-_exon', # duplicated exon/locations\n",
    "                      'chr2_50_45_-_exon', # out of order exon (-), duplicated exon/locations\n",
    "                      'chr2_75_65_-_exon'] # out of order exon (-)\n",
    "        },\n",
    "        'test4': { # + strand\n",
    "            'gid': 'test4_gid',\n",
    "            'gname': 'test4_gname', \n",
    "            'tid': 'test4', \n",
    "            'tname': 'test4_tname',\n",
    "            'strand': '+',\n",
    "            'novelty': 'Known',\n",
    "            'exons': ['chr2_45_50_+_exon'] # same exon different strand\n",
    "        },\n",
    "        'test5': { # - strand\n",
    "            'gid': 'test2_gid',\n",
    "            'gname': 'test2_gname',\n",
    "            'tid': 'test5',\n",
    "            'tname': 'test5_tname',\n",
    "            'strand': '-', \n",
    "            'novelty': 'ISM',\n",
    "            'exons': ['chr2_100_80_-_exon', # duplicated exon/locations\n",
    "                      'chr2_60_50_-_exon'] # same edge but intron vs. exon\n",
    "        },\n",
    "    }\n",
    "\n",
    "    # features\n",
    "    # locations that are shared across exons\n",
    "    exons = {\n",
    "        'chr1_1_20_+_exon': {\n",
    "            'eid': 'chr1_1_20_+_exon',\n",
    "            'chrom': 'chr1',\n",
    "            'v1': 1,\n",
    "            'v2': 20,\n",
    "            'strand': '+', \n",
    "            'edge_type': 'exon'\n",
    "        },\n",
    "        'chr1_25_30_+_exon': {\n",
    "            'eid': 'chr1_25_30_+_exon',\n",
    "            'chrom': 'chr1',\n",
    "            'v1': 25,\n",
    "            'v2': 30,\n",
    "            'strand': '+', \n",
    "            'edge_type': 'exon'\n",
    "        },\n",
    "        'chr1_35_40_+_exon': {\n",
    "            'eid': 'chr1_35_40_+_exon',\n",
    "            'chrom': 'chr1',\n",
    "            'v1': 35,\n",
    "            'v2': 40,\n",
    "            'strand': '+', \n",
    "            'edge_type': 'exon'\n",
    "        },\n",
    "        'chr2_100_80_-_exon': {\n",
    "            'eid': 'chr2_100_80_-_exon',\n",
    "            'chrom': 'chr2',\n",
    "            'v1': 100,\n",
    "            'v2': 80,\n",
    "            'strand': '-', \n",
    "            'edge_type': 'exon'\n",
    "        },\n",
    "        'chr2_75_60_-_exon': {\n",
    "            'eid': 'chr2_75_60_-_exon',\n",
    "            'chrom': 'chr2',\n",
    "            'v1': 75,\n",
    "            'v2': 60,\n",
    "            'strand': '-', \n",
    "            'edge_type': 'exon'\n",
    "        },\n",
    "        'chr2_50_45_-_exon': {\n",
    "            'eid': 'chr2_50_45_-_exon',\n",
    "            'chrom': 'chr2',\n",
    "            'v1': 50,\n",
    "            'v2': 45,\n",
    "            'strand': '-', \n",
    "            'edge_type': 'exon'\n",
    "        },\n",
    "        'chr2_75_65_-_exon': {\n",
    "            'eid': 'chr2_75_60_-_exon',\n",
    "            'chrom': 'chr2',\n",
    "            'v1': 75,\n",
    "            'v2': 65,\n",
    "            'strand': '-', \n",
    "            'edge_type': 'exon'\n",
    "        }, \n",
    "        'chr2_45_50_+_exon': {\n",
    "            'eid': 'chr2_45_50_+_exon',\n",
    "            'chrom': 'chr2',\n",
    "            'v1': 45,\n",
    "            'v2': 50,\n",
    "            'strand': '+',\n",
    "            'edge_type': 'exon'\n",
    "            },\n",
    "        'chr2_100_80_-_exon': {\n",
    "            'eid': 'chr2_100_80_-_exon',\n",
    "            'chrom': 'chr2',\n",
    "            'v1': 100,\n",
    "            'v2': 80,\n",
    "            'strand': '-',\n",
    "            'edge_type': 'exon'\n",
    "        },\n",
    "        'chr2_60_50_-_exon': {\n",
    "            'eid': 'chr2_60_50_-_exon',\n",
    "            'chrom': 'chr2',\n",
    "            'v1': 60,\n",
    "            'v2': 50,\n",
    "            'strand': '-'\n",
    "        }\n",
    "    }\n",
    "\n",
    "    return transcripts, exons"
   ]
  },
  {
   "cell_type": "markdown",
   "id": "adaptive-delaware",
   "metadata": {},
   "source": [
    "#### test - get_current_edges - swangraph with data"
   ]
  },
  {
   "cell_type": "code",
   "execution_count": 6,
   "id": "altered-specific",
   "metadata": {},
   "outputs": [
    {
     "name": "stdout",
     "output_type": "stream",
     "text": [
      "True\n",
      "True\n"
     ]
    }
   ],
   "source": [
    "sg = swan.SwanGraph()\n",
    "\n",
    "cols = ['vertex_id', 'chrom', 'coord']\n",
    "data = [[0, 1, 2], [1, 1, 3], [2, 1, 50]]\n",
    "sg.loc_df = pd.DataFrame(data=data, columns=cols)\n",
    "\n",
    "cols = ['edge_id', 'v1', 'v2', 'strand', 'edge_type']\n",
    "data = [[0, 0, 1, '+', 'exon'],\n",
    "        [1, 1, 2, '+', 'intron']]\n",
    "sg.edge_df = pd.DataFrame(data=data, columns=cols)\n",
    "\n",
    "edges, n = sg.get_current_edges()\n",
    "ctrl = {(1,2,3,'+','exon'): {'edge_id': 0, \n",
    "                             'edge_type': 'exon',\n",
    "                             'v1': 0 ,\n",
    "                             'v2': 1},\n",
    "        (1,3,50,'+','intron'): {'edge_id': 1,\n",
    "                                'edge_type': 'intron',\n",
    "                                'v1': 1,\n",
    "                                'v2': 2}}\n",
    "print(edges == ctrl)\n",
    "print(n == 1)"
   ]
  },
  {
   "cell_type": "markdown",
   "id": "leading-dutch",
   "metadata": {},
   "source": [
    "#### test - get_current_edges - empty swangraph"
   ]
  },
  {
   "cell_type": "code",
   "execution_count": 22,
   "id": "handed-hazard",
   "metadata": {},
   "outputs": [
    {
     "name": "stdout",
     "output_type": "stream",
     "text": [
      "True\n",
      "True\n"
     ]
    }
   ],
   "source": [
    "sg = swan.SwanGraph()\n",
    "edges, n = sg.get_current_edges()\n",
    "\n",
    "print(edges == {})\n",
    "print(n == -1)"
   ]
  },
  {
   "cell_type": "markdown",
   "id": "tropical-candle",
   "metadata": {},
   "source": [
    "#### test - get_current_locs - swangraph with data"
   ]
  },
  {
   "cell_type": "code",
   "execution_count": 21,
   "id": "demonstrated-radius",
   "metadata": {},
   "outputs": [
    {
     "name": "stdout",
     "output_type": "stream",
     "text": [
      "True\n",
      "True\n"
     ]
    }
   ],
   "source": [
    "sg = swan.SwanGraph()\n",
    "cols = ['vertex_id', 'chrom', 'coord']\n",
    "data = [[0, 1, 2], [1, 1, 3], [2, 3, 50]]\n",
    "sg.loc_df = pd.DataFrame(data=data, columns=cols)\n",
    "locs, n = sg.get_current_locs()\n",
    "\n",
    "ctrl_locs = {(1,2):0, (1,3):1, (3,50):2}\n",
    "print(locs == ctrl_locs)\n",
    "print(n == 2)"
   ]
  },
  {
   "cell_type": "markdown",
   "id": "fatty-panama",
   "metadata": {},
   "source": [
    "#### test - get_current_locs - empty swangraph"
   ]
  },
  {
   "cell_type": "code",
   "execution_count": 9,
   "id": "accompanied-halloween",
   "metadata": {},
   "outputs": [
    {
     "name": "stdout",
     "output_type": "stream",
     "text": [
      "True\n",
      "True\n"
     ]
    }
   ],
   "source": [
    "sg = swan.SwanGraph()\n",
    "locs, n = sg.get_current_locs()\n",
    "\n",
    "print(locs == {})\n",
    "print(n == -1)"
   ]
  },
  {
   "cell_type": "markdown",
   "id": "military-impossible",
   "metadata": {},
   "source": [
    "#### test - parse_gtf"
   ]
  },
  {
   "cell_type": "code",
   "execution_count": 7,
   "id": "starting-theory",
   "metadata": {},
   "outputs": [
    {
     "data": {
      "text/html": [
       "<div>\n",
       "<style scoped>\n",
       "    .dataframe tbody tr th:only-of-type {\n",
       "        vertical-align: middle;\n",
       "    }\n",
       "\n",
       "    .dataframe tbody tr th {\n",
       "        vertical-align: top;\n",
       "    }\n",
       "\n",
       "    .dataframe thead th {\n",
       "        text-align: right;\n",
       "    }\n",
       "</style>\n",
       "<table border=\"1\" class=\"dataframe\">\n",
       "  <thead>\n",
       "    <tr style=\"text-align: right;\">\n",
       "      <th></th>\n",
       "      <th>gid</th>\n",
       "      <th>gname</th>\n",
       "      <th>tid</th>\n",
       "      <th>tname</th>\n",
       "      <th>strand</th>\n",
       "      <th>exons</th>\n",
       "    </tr>\n",
       "    <tr>\n",
       "      <th>tid_index</th>\n",
       "      <th></th>\n",
       "      <th></th>\n",
       "      <th></th>\n",
       "      <th></th>\n",
       "      <th></th>\n",
       "      <th></th>\n",
       "    </tr>\n",
       "  </thead>\n",
       "  <tbody>\n",
       "    <tr>\n",
       "      <th>ENSMUST00000020637.8</th>\n",
       "      <td>True</td>\n",
       "      <td>True</td>\n",
       "      <td>True</td>\n",
       "      <td>True</td>\n",
       "      <td>True</td>\n",
       "      <td>True</td>\n",
       "    </tr>\n",
       "    <tr>\n",
       "      <th>ENSMUST00000146979.1</th>\n",
       "      <td>True</td>\n",
       "      <td>True</td>\n",
       "      <td>True</td>\n",
       "      <td>True</td>\n",
       "      <td>True</td>\n",
       "      <td>True</td>\n",
       "    </tr>\n",
       "    <tr>\n",
       "      <th>ENSMUST00000153068.1</th>\n",
       "      <td>True</td>\n",
       "      <td>True</td>\n",
       "      <td>True</td>\n",
       "      <td>True</td>\n",
       "      <td>True</td>\n",
       "      <td>True</td>\n",
       "    </tr>\n",
       "    <tr>\n",
       "      <th>ENSMUST00000155801.1</th>\n",
       "      <td>True</td>\n",
       "      <td>True</td>\n",
       "      <td>True</td>\n",
       "      <td>True</td>\n",
       "      <td>True</td>\n",
       "      <td>True</td>\n",
       "    </tr>\n",
       "    <tr>\n",
       "      <th>ENSMUST00000179865.6</th>\n",
       "      <td>True</td>\n",
       "      <td>True</td>\n",
       "      <td>True</td>\n",
       "      <td>True</td>\n",
       "      <td>True</td>\n",
       "      <td>True</td>\n",
       "    </tr>\n",
       "  </tbody>\n",
       "</table>\n",
       "</div>"
      ],
      "text/plain": [
       "                       gid  gname   tid  tname  strand  exons\n",
       "tid_index                                                    \n",
       "ENSMUST00000020637.8  True   True  True   True    True   True\n",
       "ENSMUST00000146979.1  True   True  True   True    True   True\n",
       "ENSMUST00000153068.1  True   True  True   True    True   True\n",
       "ENSMUST00000155801.1  True   True  True   True    True   True\n",
       "ENSMUST00000179865.6  True   True  True   True    True   True"
      ]
     },
     "execution_count": 7,
     "metadata": {},
     "output_type": "execute_result"
    }
   ],
   "source": [
    "# canx gtf - no gene names, from talon\n",
    "gtf_file = '../testing/input_files/Canx.gtf'\n",
    "t_df, exon_df, from_talon = swan.parse_gtf(gtf_file, False)\n",
    "\n",
    "t_df.index.name = 'tid_index'\n",
    "t_df = t_df.sort_values(by='tid_index')\n",
    "\n",
    "ctrl_t_df = pd.read_csv('../testing/input_files/Canx_transcript.tsv',sep='\\t')\n",
    "ctrl_t_df.set_index('tid_index', inplace=True)\n",
    "ctrl_t_df = ctrl_t_df.sort_values(by='tid_index')\n",
    "\n",
    "ctrl_exons = ctrl_t_df.exons.tolist()\n",
    "ctrl_exons = [exons.split(',') for exons in ctrl_exons]\n",
    "ctrl_t_df['exons'] = ctrl_exons\n",
    "\n",
    "t_df == ctrl_t_df"
   ]
  },
  {
   "cell_type": "markdown",
   "id": "opened-archives",
   "metadata": {},
   "source": [
    "#### test - create_dfs_gtf - edge used as intron and exon\n",
    "* TODO - do I still need to do this now that I've chunked stuff down>? "
   ]
  },
  {
   "cell_type": "markdown",
   "id": "verified-flour",
   "metadata": {},
   "source": [
    "#### test - create_dfs_gtf - all of Canx.gtf\n",
    "* transcript that uses a preexisting location\n",
    "* TODO - do I stil lneed to do this now that I've chunked stuff down?"
   ]
  },
  {
   "cell_type": "code",
   "execution_count": 11,
   "id": "confident-mortgage",
   "metadata": {},
   "outputs": [
    {
     "name": "stderr",
     "output_type": "stream",
     "text": [
      "  0%|          | 0/5 [00:00<?, ?it/s]"
     ]
    }
   ],
   "source": [
    "sg = swan.SwanGraph()\n",
    "gtf_file = '../testing/input_files/Canx.gtf'\n",
    "sg.create_dfs_gtf(gtf_file, verbose=True)"
   ]
  },
  {
   "cell_type": "markdown",
   "id": "multiple-johns",
   "metadata": {},
   "source": [
    "#### test - 2x create_dfs_gtf, where second round contains edges/locations already in the SwanGraph\n",
    "* TODO - do I still need to do this now that I've chunked stuff down? "
   ]
  },
  {
   "cell_type": "markdown",
   "id": "humanitarian-rebound",
   "metadata": {},
   "source": [
    "### DIE tests"
   ]
  },
  {
   "cell_type": "markdown",
   "id": "emerging-encounter",
   "metadata": {},
   "source": [
    "#### test get_die_gene_table\n",
    "    1. limit to isoforms with > 0 exp in at least one condition\n",
    "    2. limit to genes with more than 1 isoform\n",
    "    3. aggregate the last n - 11 isoforms\n",
    "    4. gene that doesn't have enough rc reads\n",
    "    5. gene with 11 > n isoforms > 1\n",
    "    6. gene with no expressed isoforms\n",
    "    7. gene that meets rc "
   ]
  },
  {
   "cell_type": "code",
   "execution_count": 128,
   "id": "excessive-tuner",
   "metadata": {},
   "outputs": [
    {
     "name": "stdout",
     "output_type": "stream",
     "text": [
      "     gid  cond1  cond2  total_counts  cond1_counts  cond2_counts  dpi\n",
      "tid                                                                  \n",
      "1      1    0.5    0.5            20            10            10  0.0\n",
      "2      1    0.5    0.5            20            10            10  0.0\n",
      "     gid  cond1  cond2  total_counts  cond1_counts  cond2_counts  dpi\n",
      "tid                                                                  \n",
      "1      1    0.5    0.5            20            10            10    0\n",
      "2      1    0.5    0.5            20            10            10    0\n"
     ]
    },
    {
     "data": {
      "text/html": [
       "<div>\n",
       "<style scoped>\n",
       "    .dataframe tbody tr th:only-of-type {\n",
       "        vertical-align: middle;\n",
       "    }\n",
       "\n",
       "    .dataframe tbody tr th {\n",
       "        vertical-align: top;\n",
       "    }\n",
       "\n",
       "    .dataframe thead th {\n",
       "        text-align: right;\n",
       "    }\n",
       "</style>\n",
       "<table border=\"1\" class=\"dataframe\">\n",
       "  <thead>\n",
       "    <tr style=\"text-align: right;\">\n",
       "      <th></th>\n",
       "      <th>gid</th>\n",
       "      <th>cond1</th>\n",
       "      <th>cond2</th>\n",
       "      <th>total_counts</th>\n",
       "      <th>cond1_counts</th>\n",
       "      <th>cond2_counts</th>\n",
       "      <th>dpi</th>\n",
       "    </tr>\n",
       "    <tr>\n",
       "      <th>tid</th>\n",
       "      <th></th>\n",
       "      <th></th>\n",
       "      <th></th>\n",
       "      <th></th>\n",
       "      <th></th>\n",
       "      <th></th>\n",
       "      <th></th>\n",
       "    </tr>\n",
       "  </thead>\n",
       "  <tbody>\n",
       "    <tr>\n",
       "      <th>1</th>\n",
       "      <td>True</td>\n",
       "      <td>True</td>\n",
       "      <td>True</td>\n",
       "      <td>True</td>\n",
       "      <td>True</td>\n",
       "      <td>True</td>\n",
       "      <td>True</td>\n",
       "    </tr>\n",
       "    <tr>\n",
       "      <th>2</th>\n",
       "      <td>True</td>\n",
       "      <td>True</td>\n",
       "      <td>True</td>\n",
       "      <td>True</td>\n",
       "      <td>True</td>\n",
       "      <td>True</td>\n",
       "      <td>True</td>\n",
       "    </tr>\n",
       "  </tbody>\n",
       "</table>\n",
       "</div>"
      ],
      "text/plain": [
       "      gid  cond1  cond2  total_counts  cond1_counts  cond2_counts   dpi\n",
       "tid                                                                    \n",
       "1    True   True   True          True          True          True  True\n",
       "2    True   True   True          True          True          True  True"
      ]
     },
     "execution_count": 128,
     "metadata": {},
     "output_type": "execute_result"
    }
   ],
   "source": [
    "columns = ['tid', 'gid', 'cond1', 'cond2', 'total_counts', 'cond1_counts', 'cond2_counts']\n",
    "data = [[1, 1, .5, .5, 20, 10, 10], \n",
    "        [2, 1, .5, .5, 20, 10, 10]]\n",
    "df = pd.DataFrame(data=data, columns=columns)\n",
    "conditions = ['cond1', 'cond2']\n",
    "df.set_index('tid', inplace=True)\n",
    "df\n",
    "\n",
    "df = swan.get_die_gene_table(df, conditions, rc=15)\n",
    "\n",
    "columns = ['tid', 'gid', 'cond1', 'cond2', 'total_counts', 'cond1_counts', 'cond2_counts', 'dpi']\n",
    "data = [[1, 1, .5, .5, 20, 10, 10, 0], \n",
    "        [2, 1, .5, .5, 20, 10, 10, 0]]\n",
    "ctrl = pd.DataFrame(data=data, columns=columns)\n",
    "ctrl.set_index('tid', inplace=True)\n",
    "print(df)\n",
    "print(ctrl)\n",
    "\n",
    "ctrl == df"
   ]
  },
  {
   "cell_type": "markdown",
   "id": "taken-mapping",
   "metadata": {},
   "source": [
    "Tests 5"
   ]
  },
  {
   "cell_type": "code",
   "execution_count": 129,
   "id": "studied-street",
   "metadata": {},
   "outputs": [
    {
     "name": "stdout",
     "output_type": "stream",
     "text": [
      "     gid  cond1  cond2  total_counts  cond1_counts  cond2_counts  dpi\n",
      "tid                                                                  \n",
      "1      1    0.5    0.5            20            10            10  0.0\n",
      "2      1    0.5    0.5            20            10            10  0.0\n",
      "     gid  cond1  cond2  total_counts  cond1_counts  cond2_counts  dpi\n",
      "tid                                                                  \n",
      "1      1    0.5    0.5            20            10            10    0\n",
      "2      1    0.5    0.5            20            10            10    0\n"
     ]
    },
    {
     "data": {
      "text/html": [
       "<div>\n",
       "<style scoped>\n",
       "    .dataframe tbody tr th:only-of-type {\n",
       "        vertical-align: middle;\n",
       "    }\n",
       "\n",
       "    .dataframe tbody tr th {\n",
       "        vertical-align: top;\n",
       "    }\n",
       "\n",
       "    .dataframe thead th {\n",
       "        text-align: right;\n",
       "    }\n",
       "</style>\n",
       "<table border=\"1\" class=\"dataframe\">\n",
       "  <thead>\n",
       "    <tr style=\"text-align: right;\">\n",
       "      <th></th>\n",
       "      <th>gid</th>\n",
       "      <th>cond1</th>\n",
       "      <th>cond2</th>\n",
       "      <th>total_counts</th>\n",
       "      <th>cond1_counts</th>\n",
       "      <th>cond2_counts</th>\n",
       "      <th>dpi</th>\n",
       "    </tr>\n",
       "    <tr>\n",
       "      <th>tid</th>\n",
       "      <th></th>\n",
       "      <th></th>\n",
       "      <th></th>\n",
       "      <th></th>\n",
       "      <th></th>\n",
       "      <th></th>\n",
       "      <th></th>\n",
       "    </tr>\n",
       "  </thead>\n",
       "  <tbody>\n",
       "    <tr>\n",
       "      <th>1</th>\n",
       "      <td>True</td>\n",
       "      <td>True</td>\n",
       "      <td>True</td>\n",
       "      <td>True</td>\n",
       "      <td>True</td>\n",
       "      <td>True</td>\n",
       "      <td>True</td>\n",
       "    </tr>\n",
       "    <tr>\n",
       "      <th>2</th>\n",
       "      <td>True</td>\n",
       "      <td>True</td>\n",
       "      <td>True</td>\n",
       "      <td>True</td>\n",
       "      <td>True</td>\n",
       "      <td>True</td>\n",
       "      <td>True</td>\n",
       "    </tr>\n",
       "  </tbody>\n",
       "</table>\n",
       "</div>"
      ],
      "text/plain": [
       "      gid  cond1  cond2  total_counts  cond1_counts  cond2_counts   dpi\n",
       "tid                                                                    \n",
       "1    True   True   True          True          True          True  True\n",
       "2    True   True   True          True          True          True  True"
      ]
     },
     "execution_count": 129,
     "metadata": {},
     "output_type": "execute_result"
    }
   ],
   "source": [
    "columns = ['tid', 'gid', 'cond1', 'cond2', 'total_counts', 'cond1_counts', 'cond2_counts']\n",
    "data = [[1, 1, .5, .5, 20, 10, 10], \n",
    "        [2, 1, .5, .5, 20, 10, 10]]\n",
    "df = pd.DataFrame(data=data, columns=columns)\n",
    "conditions = ['cond1', 'cond2']\n",
    "df.set_index('tid', inplace=True)\n",
    "df\n",
    "\n",
    "df = swan.get_die_gene_table(df, conditions, rc=0)\n",
    "\n",
    "columns = ['tid', 'gid', 'cond1', 'cond2', 'total_counts', 'cond1_counts', 'cond2_counts', 'dpi']\n",
    "data = [[1, 1, .5, .5, 20, 10, 10, 0], \n",
    "        [2, 1, .5, .5, 20, 10, 10, 0]]\n",
    "ctrl = pd.DataFrame(data=data, columns=columns)\n",
    "ctrl.set_index('tid', inplace=True)\n",
    "print(df)\n",
    "print(ctrl)\n",
    "\n",
    "ctrl == df"
   ]
  },
  {
   "cell_type": "markdown",
   "id": "narrow-front",
   "metadata": {},
   "source": [
    "Tests 6 - this one is kinda handled upstream in multiple capacities"
   ]
  },
  {
   "cell_type": "code",
   "execution_count": 130,
   "id": "further-worse",
   "metadata": {},
   "outputs": [
    {
     "name": "stdout",
     "output_type": "stream",
     "text": [
      "test - not enough isoforms\n"
     ]
    },
    {
     "data": {
      "text/plain": [
       "True"
      ]
     },
     "execution_count": 130,
     "metadata": {},
     "output_type": "execute_result"
    }
   ],
   "source": [
    "columns = ['tid', 'gid', 'cond1', 'cond2', 'total_counts', 'cond1_counts', 'cond2_counts']\n",
    "data = [[1, 1, 0, 0, 0, 0, 0], \n",
    "        [2, 1, 0, 0, 0, 0, 0]]\n",
    "df = pd.DataFrame(data=data, columns=columns)\n",
    "conditions = ['cond1', 'cond2']\n",
    "df.set_index('tid', inplace=True)\n",
    "df\n",
    "\n",
    "df = swan.get_die_gene_table(df, conditions, rc=0)\n",
    "df == None "
   ]
  },
  {
   "cell_type": "markdown",
   "id": "simplified-finder",
   "metadata": {},
   "source": [
    "Tests 4"
   ]
  },
  {
   "cell_type": "code",
   "execution_count": 131,
   "id": "cordless-uzbekistan",
   "metadata": {},
   "outputs": [
    {
     "name": "stdout",
     "output_type": "stream",
     "text": [
      "test - not enough reads per condition\n"
     ]
    },
    {
     "data": {
      "text/plain": [
       "True"
      ]
     },
     "execution_count": 131,
     "metadata": {},
     "output_type": "execute_result"
    }
   ],
   "source": [
    "columns = ['tid', 'gid', 'cond1', 'cond2', 'total_counts', 'cond1_counts', 'cond2_counts']\n",
    "data = [[1, 1, .5, .5, 20, 10, 10], \n",
    "        [2, 1, .5, .5, 20, 10, 10]]\n",
    "df = pd.DataFrame(data=data, columns=columns)\n",
    "conditions = ['cond1', 'cond2']\n",
    "df.set_index('tid', inplace=True)\n",
    "df\n",
    "\n",
    "df = swan.get_die_gene_table(df, conditions, rc=30)\n",
    "df == None "
   ]
  },
  {
   "cell_type": "markdown",
   "id": "gross-hunter",
   "metadata": {},
   "source": [
    "Tests 2"
   ]
  },
  {
   "cell_type": "code",
   "execution_count": 132,
   "id": "endangered-doctrine",
   "metadata": {},
   "outputs": [
    {
     "name": "stdout",
     "output_type": "stream",
     "text": [
      "test - not enough isoforms\n"
     ]
    },
    {
     "data": {
      "text/plain": [
       "True"
      ]
     },
     "execution_count": 132,
     "metadata": {},
     "output_type": "execute_result"
    }
   ],
   "source": [
    "columns = ['tid', 'gid', 'cond1', 'cond2', 'total_counts', 'cond1_counts', 'cond2_counts', 'dpi']\n",
    "data = [1, 1, 1, 1, 30, 15, 15, 0]\n",
    "df = pd.DataFrame(data=[data], columns=columns)\n",
    "conditions = ['cond1', 'cond2']\n",
    "df.set_index('tid', inplace=True)\n",
    "df\n",
    "\n",
    "df = swan.get_die_gene_table(df, conditions, rc=0)\n",
    "df == None "
   ]
  },
  {
   "cell_type": "markdown",
   "id": "structured-pierce",
   "metadata": {},
   "source": [
    "Tests 1. and 3. "
   ]
  },
  {
   "cell_type": "code",
   "execution_count": 133,
   "id": "organic-trust",
   "metadata": {},
   "outputs": [
    {
     "data": {
      "text/html": [
       "<div>\n",
       "<style scoped>\n",
       "    .dataframe tbody tr th:only-of-type {\n",
       "        vertical-align: middle;\n",
       "    }\n",
       "\n",
       "    .dataframe tbody tr th {\n",
       "        vertical-align: top;\n",
       "    }\n",
       "\n",
       "    .dataframe thead th {\n",
       "        text-align: right;\n",
       "    }\n",
       "</style>\n",
       "<table border=\"1\" class=\"dataframe\">\n",
       "  <thead>\n",
       "    <tr style=\"text-align: right;\">\n",
       "      <th></th>\n",
       "      <th>gid</th>\n",
       "      <th>cond1</th>\n",
       "      <th>cond2</th>\n",
       "      <th>total_counts</th>\n",
       "      <th>cond1_counts</th>\n",
       "      <th>cond2_counts</th>\n",
       "      <th>dpi</th>\n",
       "    </tr>\n",
       "    <tr>\n",
       "      <th>tid</th>\n",
       "      <th></th>\n",
       "      <th></th>\n",
       "      <th></th>\n",
       "      <th></th>\n",
       "      <th></th>\n",
       "      <th></th>\n",
       "      <th></th>\n",
       "    </tr>\n",
       "  </thead>\n",
       "  <tbody>\n",
       "    <tr>\n",
       "      <th>3</th>\n",
       "      <td>True</td>\n",
       "      <td>True</td>\n",
       "      <td>True</td>\n",
       "      <td>True</td>\n",
       "      <td>True</td>\n",
       "      <td>True</td>\n",
       "      <td>True</td>\n",
       "    </tr>\n",
       "    <tr>\n",
       "      <th>1</th>\n",
       "      <td>True</td>\n",
       "      <td>True</td>\n",
       "      <td>True</td>\n",
       "      <td>True</td>\n",
       "      <td>True</td>\n",
       "      <td>True</td>\n",
       "      <td>True</td>\n",
       "    </tr>\n",
       "    <tr>\n",
       "      <th>12</th>\n",
       "      <td>True</td>\n",
       "      <td>True</td>\n",
       "      <td>True</td>\n",
       "      <td>True</td>\n",
       "      <td>True</td>\n",
       "      <td>True</td>\n",
       "      <td>True</td>\n",
       "    </tr>\n",
       "    <tr>\n",
       "      <th>8</th>\n",
       "      <td>True</td>\n",
       "      <td>True</td>\n",
       "      <td>True</td>\n",
       "      <td>True</td>\n",
       "      <td>True</td>\n",
       "      <td>True</td>\n",
       "      <td>False</td>\n",
       "    </tr>\n",
       "    <tr>\n",
       "      <th>7</th>\n",
       "      <td>True</td>\n",
       "      <td>True</td>\n",
       "      <td>True</td>\n",
       "      <td>True</td>\n",
       "      <td>True</td>\n",
       "      <td>True</td>\n",
       "      <td>False</td>\n",
       "    </tr>\n",
       "    <tr>\n",
       "      <th>5</th>\n",
       "      <td>True</td>\n",
       "      <td>True</td>\n",
       "      <td>True</td>\n",
       "      <td>True</td>\n",
       "      <td>True</td>\n",
       "      <td>True</td>\n",
       "      <td>True</td>\n",
       "    </tr>\n",
       "    <tr>\n",
       "      <th>6</th>\n",
       "      <td>True</td>\n",
       "      <td>True</td>\n",
       "      <td>True</td>\n",
       "      <td>True</td>\n",
       "      <td>True</td>\n",
       "      <td>True</td>\n",
       "      <td>True</td>\n",
       "    </tr>\n",
       "    <tr>\n",
       "      <th>11</th>\n",
       "      <td>True</td>\n",
       "      <td>True</td>\n",
       "      <td>True</td>\n",
       "      <td>True</td>\n",
       "      <td>True</td>\n",
       "      <td>True</td>\n",
       "      <td>True</td>\n",
       "    </tr>\n",
       "    <tr>\n",
       "      <th>4</th>\n",
       "      <td>True</td>\n",
       "      <td>True</td>\n",
       "      <td>True</td>\n",
       "      <td>True</td>\n",
       "      <td>True</td>\n",
       "      <td>True</td>\n",
       "      <td>False</td>\n",
       "    </tr>\n",
       "    <tr>\n",
       "      <th>13</th>\n",
       "      <td>True</td>\n",
       "      <td>True</td>\n",
       "      <td>True</td>\n",
       "      <td>True</td>\n",
       "      <td>True</td>\n",
       "      <td>True</td>\n",
       "      <td>True</td>\n",
       "    </tr>\n",
       "    <tr>\n",
       "      <th>all_other</th>\n",
       "      <td>False</td>\n",
       "      <td>True</td>\n",
       "      <td>True</td>\n",
       "      <td>True</td>\n",
       "      <td>True</td>\n",
       "      <td>True</td>\n",
       "      <td>False</td>\n",
       "    </tr>\n",
       "  </tbody>\n",
       "</table>\n",
       "</div>"
      ],
      "text/plain": [
       "             gid  cond1  cond2  total_counts  cond1_counts  cond2_counts  \\\n",
       "tid                                                                        \n",
       "3           True   True   True          True          True          True   \n",
       "1           True   True   True          True          True          True   \n",
       "12          True   True   True          True          True          True   \n",
       "8           True   True   True          True          True          True   \n",
       "7           True   True   True          True          True          True   \n",
       "5           True   True   True          True          True          True   \n",
       "6           True   True   True          True          True          True   \n",
       "11          True   True   True          True          True          True   \n",
       "4           True   True   True          True          True          True   \n",
       "13          True   True   True          True          True          True   \n",
       "all_other  False   True   True          True          True          True   \n",
       "\n",
       "             dpi  \n",
       "tid               \n",
       "3           True  \n",
       "1           True  \n",
       "12          True  \n",
       "8          False  \n",
       "7          False  \n",
       "5           True  \n",
       "6           True  \n",
       "11          True  \n",
       "4          False  \n",
       "13          True  \n",
       "all_other  False  "
      ]
     },
     "execution_count": 133,
     "metadata": {},
     "output_type": "execute_result"
    }
   ],
   "source": [
    "conditions = ['cond1', 'cond2']\n",
    "df = pd.read_csv('data/test_pi_1.tsv', sep='\\t')\n",
    "df.set_index('tid', inplace=True)\n",
    "df = swan.get_die_gene_table(df, conditions, rc=0)\n",
    "df.tid = df.tid.astype('str')\n",
    "df.set_index('tid', inplace=True)\n",
    "# print(df.dtypes)\n",
    "# print(df)\n",
    "\n",
    "ctrl = pd.read_csv('data/test_pi_1_reference.tsv', sep='\\t')\n",
    "ctrl.tid = ctrl.tid.astype('str')\n",
    "ctrl.set_index('tid', inplace=True)\n",
    "# print(ctrl.dtypes)\n",
    "ctrl = ctrl[df.columns]\n",
    "\n",
    "# print(ctrl)\n",
    "\n",
    "\n",
    "# print(df.columns)\n",
    "# print(ctrl.columns)\n",
    "# print(df.columns == ctrl.columns)\n",
    "# print(df.index == ctrl.index)\n",
    "df == ctrl\n",
    "\n",
    "# still need better way to test this rip"
   ]
  },
  {
   "cell_type": "markdown",
   "id": "western-block",
   "metadata": {},
   "source": [
    "#### test test_gene\n",
    "1. 2 up 2 down\n",
    "2. < 2 up, < 2 down\n",
    "3. all 0"
   ]
  },
  {
   "cell_type": "markdown",
   "id": "parallel-youth",
   "metadata": {},
   "source": [
    "tests 3"
   ]
  },
  {
   "cell_type": "code",
   "execution_count": 156,
   "id": "tired-subdivision",
   "metadata": {},
   "outputs": [
    {
     "name": "stdout",
     "output_type": "stream",
     "text": [
      "0.0\n",
      "0\n"
     ]
    }
   ],
   "source": [
    "columns = ['tid', 'gid', 'cond1', 'cond2', 'total_counts', 'cond1_counts', 'cond2_counts']\n",
    "data = [[1, 1, .5, .5, 20, 10, 10], \n",
    "        [2, 1, .5, .5, 20, 10, 10]]\n",
    "df = pd.DataFrame(data=data, columns=columns)\n",
    "conditions = ['cond1', 'cond2']\n",
    "df.set_index('tid', inplace=True)\n",
    "df = get_die_gene_table(df, conditions, rc=0)\n",
    "ctrl_gene_dpi = 0\n",
    "\n",
    "pval, gene_dpi = test_gene(df, conditions)\n",
    "\n",
    "print(gene_dpi)\n",
    "print(ctrl_gene_dpi)"
   ]
  },
  {
   "cell_type": "markdown",
   "id": "protecting-penetration",
   "metadata": {},
   "source": [
    "tests 2"
   ]
  },
  {
   "cell_type": "code",
   "execution_count": 153,
   "id": "embedded-talent",
   "metadata": {},
   "outputs": [
    {
     "name": "stdout",
     "output_type": "stream",
     "text": [
      "0.22\n",
      "0.22\n"
     ]
    }
   ],
   "source": [
    "conditions = ['cond1', 'cond2']\n",
    "df = pd.read_csv('data/test_pi_1.tsv', sep='\\t')\n",
    "df.set_index('tid', inplace=True)\n",
    "df = swan.get_die_gene_table(df, conditions, rc=0)\n",
    "ctrl_gene_dpi = 0.22\n",
    "\n",
    "tids = [3, 1]\n",
    "df = df.loc[df.tid.isin(tids)]\n",
    "\n",
    "pval, gene_dpi = swan.test_gene(df, conditions)\n",
    "\n",
    "print(ctrl_gene_dpi)\n",
    "print(gene_dpi)"
   ]
  },
  {
   "cell_type": "markdown",
   "id": "differential-pulse",
   "metadata": {},
   "source": [
    "tests 1."
   ]
  },
  {
   "cell_type": "code",
   "execution_count": 149,
   "id": "juvenile-treaty",
   "metadata": {},
   "outputs": [
    {
     "name": "stdout",
     "output_type": "stream",
     "text": [
      "0.41000000000000003\n",
      "0.41\n"
     ]
    }
   ],
   "source": [
    "conditions = ['cond1', 'cond2']\n",
    "df = pd.read_csv('data/test_pi_1.tsv', sep='\\t')\n",
    "df.set_index('tid', inplace=True)\n",
    "df = swan.get_die_gene_table(df, conditions, rc=0)\n",
    "ctrl_gene_dpi = 0.41\n",
    "\n",
    "pval, gene_dpi = test_gene(df, conditions)\n",
    "# print(gene_dpi)\n",
    "# print(pval)\n",
    "\n",
    "print(gene_dpi)\n",
    "print(ctrl_gene_dpi)"
   ]
  },
  {
   "cell_type": "code",
   "execution_count": 2,
   "id": "north-shower",
   "metadata": {},
   "outputs": [
    {
     "name": "stdout",
     "output_type": "stream",
     "text": [
      "\n",
      "Adding annotation to the SwanGraph\n"
     ]
    },
    {
     "name": "stderr",
     "output_type": "stream",
     "text": [
      "Processing transcripts:  99%|█████████▉| 8400/8450 [00:02<00:00, 4170.51it/s]\n"
     ]
    },
    {
     "name": "stdout",
     "output_type": "stream",
     "text": [
      "Reindexing and sorting entries on genomic location...\n"
     ]
    },
    {
     "name": "stderr",
     "output_type": "stream",
     "text": [
      "Reindexing vertices: 100%|█████████▉| 50000/50074 [00:00<00:00, 1057058.90it/s]\n",
      "Reindexing edges:  98%|█████████▊| 49000/50074 [00:00<00:00, 593869.17it/s]\n",
      "Reindexing transcripts:  99%|█████████▉| 8400/8450 [00:00<00:00, 161367.41it/s]\n"
     ]
    },
    {
     "name": "stdout",
     "output_type": "stream",
     "text": [
      "\n",
      "Annotation to the SwanGraph\n",
      "\n",
      "Adding transcriptome to the SwanGraph\n"
     ]
    },
    {
     "name": "stderr",
     "output_type": "stream",
     "text": [
      "AnnData expects .obs.index to contain strings, but your first indices are: Int64Index([0, 1], dtype='int64'), …\n"
     ]
    },
    {
     "name": "stdout",
     "output_type": "stream",
     "text": [
      "\n",
      "Adding abundance for datasets PB65_B017, PB65_B018 to SwanGraph.\n",
      "\n",
      "Adding abundance for datasets D12 to SwanGraph.\n"
     ]
    }
   ],
   "source": [
    "sg = swan.SwanGraph()\n",
    "# just gencode vM21 chr 11 and tcf3\n",
    "gtf = 'data/chr11_and_Tcf3.gtf'\n",
    "sg.add_annotation(gtf, verbose=True)\n",
    "db = 'data/chr11_and_Tcf3_no_gname.db'\n",
    "sg.add_transcriptome(db, include_isms=True)\n",
    "ab = 'data/chr11_and_Tcf3_talon_abundance_PB65.tsv'\n",
    "sg.add_abundance(ab)\n",
    "ab = 'data/chr11_and_Tcf3_talon_abundance_D12.tsv'\n",
    "sg.add_abundance(ab)\n",
    "meta = 'data/chr11_and_Tcf3_metadata.tsv'\n",
    "sg.add_metadata(meta)"
   ]
  },
  {
   "cell_type": "markdown",
   "id": "neither-mailman",
   "metadata": {},
   "source": [
    "#### test - get DIE, obs_col has more than 2 values and obs_conditions not given"
   ]
  },
  {
   "cell_type": "code",
   "execution_count": 4,
   "id": "younger-giving",
   "metadata": {},
   "outputs": [],
   "source": [
    "obs_col = 'dataset'\n",
    "id_col = 'tid'\n",
    "obs_conditions = ['D12']\n",
    "\n",
    "# commented out so I dont have to look at error for the time bean\n",
    "# test = sg.get_die_genes(obs_col=obs_col, obs_conditions=obs_conditions, rc_thresh=1)\n",
    "# should say \"obs_conditions must have exactly 2 values\""
   ]
  },
  {
   "cell_type": "markdown",
   "id": "offshore-fiction",
   "metadata": {},
   "source": [
    "#### test - get DIE, obs_col w/o 2 elements given "
   ]
  },
  {
   "cell_type": "code",
   "execution_count": 11,
   "id": "competitive-portugal",
   "metadata": {},
   "outputs": [],
   "source": [
    "obs_col = 'dataset'\n",
    "id_col = 'tid'\n",
    "\n",
    "# test = sg.get_die_genes(obs_col=obs_col, rc_thresh=1)\n",
    "# should say \"Must provide obs_conditions argument when obs_col has>2 unique values\""
   ]
  },
  {
   "cell_type": "code",
   "execution_count": 4,
   "id": "velvet-sierra",
   "metadata": {},
   "outputs": [
    {
     "data": {
      "text/plain": [
       "tid\n",
       "ENCODE-mouseT000008451    ENCODE-mouseT000008451\n",
       "ENCODE-mouseT000008452    ENCODE-mouseT000008452\n",
       "ENCODE-mouseT000008453    ENCODE-mouseT000008453\n",
       "ENCODE-mouseT000008454    ENCODE-mouseT000008454\n",
       "ENCODE-mouseT000008455    ENCODE-mouseT000008455\n",
       "ENCODE-mouseT000008456    ENCODE-mouseT000008456\n",
       "ENCODE-mouseT000008457    ENCODE-mouseT000008457\n",
       "ENCODE-mouseT000008458    ENCODE-mouseT000008458\n",
       "ENCODE-mouseT000008459    ENCODE-mouseT000008459\n",
       "ENCODE-mouseT000008460    ENCODE-mouseT000008460\n",
       "ENCODE-mouseT000008461    ENCODE-mouseT000008461\n",
       "ENCODE-mouseT000008462    ENCODE-mouseT000008462\n",
       "ENSMUST00000020637.8        ENSMUST00000020637.8\n",
       "ENSMUST00000020741.10      ENSMUST00000020741.10\n",
       "ENSMUST00000105344.6        ENSMUST00000105344.6\n",
       "Name: tid, dtype: object"
      ]
     },
     "execution_count": 4,
     "metadata": {},
     "output_type": "execute_result"
    }
   ],
   "source": [
    "sg.t_df.tid"
   ]
  },
  {
   "cell_type": "markdown",
   "id": "published-promotion",
   "metadata": {},
   "source": [
    "#### test - get DIE between two clusters (non 'dataset' condition)"
   ]
  },
  {
   "cell_type": "code",
   "execution_count": 13,
   "id": "reserved-society",
   "metadata": {},
   "outputs": [
    {
     "name": "stdout",
     "output_type": "stream",
     "text": [
      "                     gid        dpi\n",
      "0  ENSMUSG00000020167.13  33.333333\n",
      "1  ENSMUSG00000020368.14  66.666667\n",
      "                     gid        dpi\n",
      "0  ENSMUSG00000020167.13  33.333333\n",
      "1  ENSMUSG00000020368.14  66.666667\n"
     ]
    },
    {
     "data": {
      "text/html": [
       "<div>\n",
       "<style scoped>\n",
       "    .dataframe tbody tr th:only-of-type {\n",
       "        vertical-align: middle;\n",
       "    }\n",
       "\n",
       "    .dataframe tbody tr th {\n",
       "        vertical-align: top;\n",
       "    }\n",
       "\n",
       "    .dataframe thead th {\n",
       "        text-align: right;\n",
       "    }\n",
       "</style>\n",
       "<table border=\"1\" class=\"dataframe\">\n",
       "  <thead>\n",
       "    <tr style=\"text-align: right;\">\n",
       "      <th></th>\n",
       "      <th>gid</th>\n",
       "      <th>dpi</th>\n",
       "    </tr>\n",
       "  </thead>\n",
       "  <tbody>\n",
       "    <tr>\n",
       "      <th>0</th>\n",
       "      <td>True</td>\n",
       "      <td>False</td>\n",
       "    </tr>\n",
       "    <tr>\n",
       "      <th>1</th>\n",
       "      <td>True</td>\n",
       "      <td>False</td>\n",
       "    </tr>\n",
       "  </tbody>\n",
       "</table>\n",
       "</div>"
      ],
      "text/plain": [
       "    gid    dpi\n",
       "0  True  False\n",
       "1  True  False"
      ]
     },
     "execution_count": 13,
     "metadata": {},
     "output_type": "execute_result"
    }
   ],
   "source": [
    "obs_col = 'cluster'\n",
    "id_col = 'tid'\n",
    "\n",
    "test = sg.get_die_genes(obs_col=obs_col, rc_thresh=1)\n",
    "\n",
    "# don't test p vals cause that's tough \n",
    "test.drop(['p_val', 'adj_p_val'], axis=1, inplace=True)\n",
    "\n",
    "ctrl = pd.read_csv('data/chr11_and_Tcf3_cluster_dpi.tsv', sep='\\t')\n",
    "print(ctrl)\n",
    "print(test)\n",
    "ctrl == test"
   ]
  },
  {
   "cell_type": "markdown",
   "id": "crude-anthony",
   "metadata": {},
   "source": [
    "#### test - get DIE between two datasets "
   ]
  },
  {
   "cell_type": "code",
   "execution_count": 10,
   "id": "worse-smooth",
   "metadata": {},
   "outputs": [
    {
     "name": "stdout",
     "output_type": "stream",
     "text": [
      "0    ENSMUSG00000020167.13\n",
      "1    ENSMUSG00000020457.12\n",
      "2    ENSMUSG00000020368.14\n",
      "Name: gid, dtype: object\n"
     ]
    }
   ],
   "source": [
    "obs_col = 'dataset'\n",
    "obs_conditions = ['PB65_B017', 'PB65_B018']\n",
    "id_col = 'tid'\n",
    "\n",
    "test = sg.get_die_genes(obs_col=obs_col, obs_conditions=obs_conditions, rc_thresh=1)\n",
    "\n",
    "# don't test p vals cause that's tough \n",
    "test.drop(['p_val', 'adj_p_val'], axis=1, inplace=True)\n",
    "\n",
    "ctrl = pd.read_csv('data/chr11_and_Tcf3_PB65_B017_B018_dpi.tsv', sep='\\t')\n",
    "test == ctrl\n",
    "print(test.gid)"
   ]
  },
  {
   "cell_type": "markdown",
   "id": "commercial-contractor",
   "metadata": {},
   "source": [
    "#### test - calc TPM for condition that is not \"dataset\""
   ]
  },
  {
   "cell_type": "code",
   "execution_count": 2,
   "id": "happy-textbook",
   "metadata": {},
   "outputs": [
    {
     "name": "stdout",
     "output_type": "stream",
     "text": [
      "\n",
      "Adding annotation to the SwanGraph\n"
     ]
    },
    {
     "name": "stderr",
     "output_type": "stream",
     "text": [
      "Processing transcripts:  99%|█████████▉| 8400/8450 [00:01<00:00, 4279.71it/s]\n"
     ]
    },
    {
     "name": "stdout",
     "output_type": "stream",
     "text": [
      "Reindexing and sorting entries on genomic location...\n"
     ]
    },
    {
     "name": "stderr",
     "output_type": "stream",
     "text": [
      "Reindexing vertices: 100%|█████████▉| 50000/50074 [00:00<00:00, 996096.65it/s] \n",
      "Reindexing edges:  98%|█████████▊| 49000/50074 [00:00<00:00, 654539.74it/s]\n",
      "Reindexing transcripts:  99%|█████████▉| 8400/8450 [00:00<00:00, 157417.82it/s]\n"
     ]
    },
    {
     "name": "stdout",
     "output_type": "stream",
     "text": [
      "\n",
      "Annotation to the SwanGraph\n",
      "\n",
      "Adding transcriptome to the SwanGraph\n"
     ]
    },
    {
     "name": "stderr",
     "output_type": "stream",
     "text": [
      "AnnData expects .obs.index to contain strings, but your first indices are: Int64Index([0, 1], dtype='int64'), …\n"
     ]
    },
    {
     "name": "stdout",
     "output_type": "stream",
     "text": [
      "\n",
      "Adding abundance for datasets PB65_B017, PB65_B018 to SwanGraph.\n",
      "\n",
      "Adding abundance for datasets D12 to SwanGraph.\n"
     ]
    }
   ],
   "source": [
    "sg = swan.SwanGraph()\n",
    "# just gencode vM21 chr 11 and tcf3\n",
    "gtf = 'data/chr11_and_Tcf3.gtf'\n",
    "sg.add_annotation(gtf, verbose=True)\n",
    "db = 'data/chr11_and_Tcf3_no_gname.db'\n",
    "sg.add_transcriptome(db, include_isms=True)\n",
    "ab = 'data/chr11_and_Tcf3_talon_abundance_PB65.tsv'\n",
    "sg.add_abundance(ab)\n",
    "ab = 'data/chr11_and_Tcf3_talon_abundance_D12.tsv'\n",
    "sg.add_abundance(ab)\n",
    "meta = 'data/chr11_and_Tcf3_metadata.tsv'\n",
    "sg.add_metadata(meta)"
   ]
  },
  {
   "cell_type": "code",
   "execution_count": 3,
   "id": "green-nylon",
   "metadata": {},
   "outputs": [
    {
     "name": "stdout",
     "output_type": "stream",
     "text": [
      "                                    2              1\n",
      "tid                                                 \n",
      "ENCODE-mouseT000008451  285714.285714  285714.285714\n",
      "ENCODE-mouseT000008452   71428.571429       0.000000\n",
      "ENCODE-mouseT000008453  142857.142857       0.000000\n",
      "ENCODE-mouseT000008454   71428.571429       0.000000\n",
      "ENCODE-mouseT000008455   71428.571429       0.000000\n",
      "ENCODE-mouseT000008456       0.000000  142857.142857\n",
      "ENCODE-mouseT000008457       0.000000  142857.142857\n",
      "ENCODE-mouseT000008458       0.000000  142857.142857\n",
      "ENCODE-mouseT000008459       0.000000  142857.142857\n",
      "ENCODE-mouseT000008460   71428.571429       0.000000\n",
      "ENCODE-mouseT000008461   71428.571429       0.000000\n",
      "ENCODE-mouseT000008462   71428.571429       0.000000\n",
      "ENSMUST00000020637.8         0.000000  142857.142857\n",
      "ENSMUST00000020741.10    71428.571429       0.000000\n",
      "ENSMUST00000105344.6     71428.571429       0.000000\n",
      "Index(['2', '1'], dtype='object')\n",
      "                                   2            1\n",
      "tid                                              \n",
      "ENCODE-mouseT000008451  285714.28570  285714.2857\n",
      "ENCODE-mouseT000008452   71428.57143       0.0000\n",
      "ENCODE-mouseT000008453  142857.14290       0.0000\n",
      "ENCODE-mouseT000008454   71428.57143       0.0000\n",
      "ENCODE-mouseT000008455   71428.57143       0.0000\n",
      "ENCODE-mouseT000008456       0.00000  142857.1429\n",
      "ENCODE-mouseT000008457       0.00000  142857.1429\n",
      "ENCODE-mouseT000008458       0.00000  142857.1429\n",
      "ENCODE-mouseT000008459       0.00000  142857.1429\n",
      "ENCODE-mouseT000008460   71428.57143       0.0000\n",
      "ENCODE-mouseT000008461   71428.57143       0.0000\n",
      "ENCODE-mouseT000008462   71428.57143       0.0000\n",
      "ENSMUST00000020637.8         0.00000  142857.1429\n",
      "ENSMUST00000020741.10    71428.57143       0.0000\n",
      "ENSMUST00000105344.6     71428.57143       0.0000\n"
     ]
    },
    {
     "data": {
      "text/html": [
       "<div>\n",
       "<style scoped>\n",
       "    .dataframe tbody tr th:only-of-type {\n",
       "        vertical-align: middle;\n",
       "    }\n",
       "\n",
       "    .dataframe tbody tr th {\n",
       "        vertical-align: top;\n",
       "    }\n",
       "\n",
       "    .dataframe thead th {\n",
       "        text-align: right;\n",
       "    }\n",
       "</style>\n",
       "<table border=\"1\" class=\"dataframe\">\n",
       "  <thead>\n",
       "    <tr style=\"text-align: right;\">\n",
       "      <th></th>\n",
       "      <th>2</th>\n",
       "      <th>1</th>\n",
       "    </tr>\n",
       "    <tr>\n",
       "      <th>tid</th>\n",
       "      <th></th>\n",
       "      <th></th>\n",
       "    </tr>\n",
       "  </thead>\n",
       "  <tbody>\n",
       "    <tr>\n",
       "      <th>ENCODE-mouseT000008451</th>\n",
       "      <td>False</td>\n",
       "      <td>False</td>\n",
       "    </tr>\n",
       "    <tr>\n",
       "      <th>ENCODE-mouseT000008452</th>\n",
       "      <td>False</td>\n",
       "      <td>True</td>\n",
       "    </tr>\n",
       "    <tr>\n",
       "      <th>ENCODE-mouseT000008453</th>\n",
       "      <td>False</td>\n",
       "      <td>True</td>\n",
       "    </tr>\n",
       "    <tr>\n",
       "      <th>ENCODE-mouseT000008454</th>\n",
       "      <td>False</td>\n",
       "      <td>True</td>\n",
       "    </tr>\n",
       "    <tr>\n",
       "      <th>ENCODE-mouseT000008455</th>\n",
       "      <td>False</td>\n",
       "      <td>True</td>\n",
       "    </tr>\n",
       "    <tr>\n",
       "      <th>ENCODE-mouseT000008456</th>\n",
       "      <td>True</td>\n",
       "      <td>False</td>\n",
       "    </tr>\n",
       "    <tr>\n",
       "      <th>ENCODE-mouseT000008457</th>\n",
       "      <td>True</td>\n",
       "      <td>False</td>\n",
       "    </tr>\n",
       "    <tr>\n",
       "      <th>ENCODE-mouseT000008458</th>\n",
       "      <td>True</td>\n",
       "      <td>False</td>\n",
       "    </tr>\n",
       "    <tr>\n",
       "      <th>ENCODE-mouseT000008459</th>\n",
       "      <td>True</td>\n",
       "      <td>False</td>\n",
       "    </tr>\n",
       "    <tr>\n",
       "      <th>ENCODE-mouseT000008460</th>\n",
       "      <td>False</td>\n",
       "      <td>True</td>\n",
       "    </tr>\n",
       "    <tr>\n",
       "      <th>ENCODE-mouseT000008461</th>\n",
       "      <td>False</td>\n",
       "      <td>True</td>\n",
       "    </tr>\n",
       "    <tr>\n",
       "      <th>ENCODE-mouseT000008462</th>\n",
       "      <td>False</td>\n",
       "      <td>True</td>\n",
       "    </tr>\n",
       "    <tr>\n",
       "      <th>ENSMUST00000020637.8</th>\n",
       "      <td>True</td>\n",
       "      <td>False</td>\n",
       "    </tr>\n",
       "    <tr>\n",
       "      <th>ENSMUST00000020741.10</th>\n",
       "      <td>False</td>\n",
       "      <td>True</td>\n",
       "    </tr>\n",
       "    <tr>\n",
       "      <th>ENSMUST00000105344.6</th>\n",
       "      <td>False</td>\n",
       "      <td>True</td>\n",
       "    </tr>\n",
       "  </tbody>\n",
       "</table>\n",
       "</div>"
      ],
      "text/plain": [
       "                            2      1\n",
       "tid                                 \n",
       "ENCODE-mouseT000008451  False  False\n",
       "ENCODE-mouseT000008452  False   True\n",
       "ENCODE-mouseT000008453  False   True\n",
       "ENCODE-mouseT000008454  False   True\n",
       "ENCODE-mouseT000008455  False   True\n",
       "ENCODE-mouseT000008456   True  False\n",
       "ENCODE-mouseT000008457   True  False\n",
       "ENCODE-mouseT000008458   True  False\n",
       "ENCODE-mouseT000008459   True  False\n",
       "ENCODE-mouseT000008460  False   True\n",
       "ENCODE-mouseT000008461  False   True\n",
       "ENCODE-mouseT000008462  False   True\n",
       "ENSMUST00000020637.8     True  False\n",
       "ENSMUST00000020741.10   False   True\n",
       "ENSMUST00000105344.6    False   True"
      ]
     },
     "execution_count": 3,
     "metadata": {},
     "output_type": "execute_result"
    }
   ],
   "source": [
    "df = swan.calc_tpm(sg.adata, sg.t_df, obs_col='cluster')\n",
    "\n",
    "# test\n",
    "df = df.transpose()\n",
    "df.index.name = 'tid'\n",
    "df.sort_values(by='tid', inplace=True)\n",
    "print(df)\n",
    "print(df.columns)\n",
    "\n",
    "# ctrl\n",
    "ctrl = pd.read_csv('data/chr11_and_Tcf3_talon_abundance_clusters_tpm.tsv', sep='\\t')\n",
    "ctrl.set_index('tid', inplace=True)\n",
    "ctrl.sort_values(by='tid', inplace=True)\n",
    "print(ctrl)\n",
    "\n",
    "ctrl == df\n",
    "\n",
    "# need better way to test this bc of rounding, but it works.. "
   ]
  },
  {
   "cell_type": "markdown",
   "id": "banned-cheese",
   "metadata": {},
   "source": [
    "#### test - calc TPM from 2 abundance files"
   ]
  },
  {
   "cell_type": "code",
   "execution_count": 4,
   "id": "adjacent-trail",
   "metadata": {},
   "outputs": [
    {
     "name": "stdout",
     "output_type": "stream",
     "text": [
      "\n",
      "Adding annotation to the SwanGraph\n"
     ]
    },
    {
     "name": "stderr",
     "output_type": "stream",
     "text": [
      "Processing transcripts:  99%|█████████▉| 8400/8450 [00:01<00:00, 4557.87it/s]\n"
     ]
    },
    {
     "name": "stdout",
     "output_type": "stream",
     "text": [
      "Reindexing and sorting entries on genomic location...\n"
     ]
    },
    {
     "name": "stderr",
     "output_type": "stream",
     "text": [
      "Reindexing vertices: 100%|█████████▉| 50000/50074 [00:00<00:00, 1261353.77it/s]\n",
      "Reindexing edges:  98%|█████████▊| 49000/50074 [00:00<00:00, 708470.43it/s]\n",
      "Reindexing transcripts:  99%|█████████▉| 8400/8450 [00:00<00:00, 157610.77it/s]\n"
     ]
    },
    {
     "name": "stdout",
     "output_type": "stream",
     "text": [
      "\n",
      "Annotation to the SwanGraph\n",
      "\n",
      "Adding transcriptome to the SwanGraph\n"
     ]
    },
    {
     "name": "stderr",
     "output_type": "stream",
     "text": [
      "AnnData expects .obs.index to contain strings, but your first indices are: Int64Index([0, 1], dtype='int64'), …\n"
     ]
    },
    {
     "name": "stdout",
     "output_type": "stream",
     "text": [
      "\n",
      "Adding abundance for datasets PB65_B017, PB65_B018 to SwanGraph.\n",
      "\n",
      "Adding abundance for datasets D12 to SwanGraph.\n"
     ]
    }
   ],
   "source": [
    "sg = swan.SwanGraph()\n",
    "# just gencode vM21 chr 11 and tcf3\n",
    "gtf = 'data/chr11_and_Tcf3.gtf'\n",
    "sg.add_annotation(gtf, verbose=True)\n",
    "db = 'data/chr11_and_Tcf3_no_gname.db'\n",
    "sg.add_transcriptome(db, include_isms=True)\n",
    "ab = 'data/chr11_and_Tcf3_talon_abundance_PB65.tsv'\n",
    "sg.add_abundance(ab)\n",
    "ab = 'data/chr11_and_Tcf3_talon_abundance_D12.tsv'\n",
    "sg.add_abundance(ab)\n",
    "meta = 'data/chr11_and_Tcf3_metadata.tsv'\n",
    "sg.add_metadata(meta)"
   ]
  },
  {
   "cell_type": "code",
   "execution_count": 5,
   "id": "established-narrow",
   "metadata": {},
   "outputs": [
    {
     "name": "stdout",
     "output_type": "stream",
     "text": [
      "                        PB65_B017  PB65_B018            D12\n",
      "tid                                                        \n",
      "ENCODE-mouseT000008451   300000.0   250000.0  285714.285714\n",
      "ENCODE-mouseT000008452   100000.0        0.0       0.000000\n",
      "ENCODE-mouseT000008453   100000.0   250000.0       0.000000\n",
      "ENCODE-mouseT000008454   100000.0        0.0       0.000000\n",
      "ENCODE-mouseT000008455   100000.0        0.0       0.000000\n",
      "ENCODE-mouseT000008456        0.0        0.0  142857.142857\n",
      "ENCODE-mouseT000008457        0.0        0.0  142857.142857\n",
      "ENCODE-mouseT000008458        0.0        0.0  142857.142857\n",
      "ENCODE-mouseT000008459        0.0        0.0  142857.142857\n",
      "ENCODE-mouseT000008460        0.0   250000.0       0.000000\n",
      "ENCODE-mouseT000008461   100000.0        0.0       0.000000\n",
      "ENCODE-mouseT000008462   100000.0        0.0       0.000000\n",
      "ENSMUST00000020637.8          0.0        0.0  142857.142857\n",
      "ENSMUST00000020741.10    100000.0        0.0       0.000000\n",
      "ENSMUST00000105344.6          0.0   250000.0       0.000000\n",
      "                        PB65_B017  PB65_B018          D12\n",
      "tid                                                      \n",
      "ENCODE-mouseT000008451     300000     250000  285714.2857\n",
      "ENCODE-mouseT000008452     100000          0       0.0000\n",
      "ENCODE-mouseT000008453     100000     250000       0.0000\n",
      "ENCODE-mouseT000008454     100000          0       0.0000\n",
      "ENCODE-mouseT000008455     100000          0       0.0000\n",
      "ENCODE-mouseT000008456          0          0  142857.1429\n",
      "ENCODE-mouseT000008457          0          0  142857.1429\n",
      "ENCODE-mouseT000008458          0          0  142857.1429\n",
      "ENCODE-mouseT000008459          0          0  142857.1429\n",
      "ENCODE-mouseT000008460          0     250000       0.0000\n",
      "ENCODE-mouseT000008461     100000          0       0.0000\n",
      "ENCODE-mouseT000008462     100000          0       0.0000\n",
      "ENSMUST00000020637.8            0          0  142857.1429\n",
      "ENSMUST00000020741.10      100000          0       0.0000\n",
      "ENSMUST00000105344.6            0     250000       0.0000\n"
     ]
    },
    {
     "data": {
      "text/html": [
       "<div>\n",
       "<style scoped>\n",
       "    .dataframe tbody tr th:only-of-type {\n",
       "        vertical-align: middle;\n",
       "    }\n",
       "\n",
       "    .dataframe tbody tr th {\n",
       "        vertical-align: top;\n",
       "    }\n",
       "\n",
       "    .dataframe thead th {\n",
       "        text-align: right;\n",
       "    }\n",
       "</style>\n",
       "<table border=\"1\" class=\"dataframe\">\n",
       "  <thead>\n",
       "    <tr style=\"text-align: right;\">\n",
       "      <th></th>\n",
       "      <th>PB65_B017</th>\n",
       "      <th>PB65_B018</th>\n",
       "      <th>D12</th>\n",
       "    </tr>\n",
       "    <tr>\n",
       "      <th>tid</th>\n",
       "      <th></th>\n",
       "      <th></th>\n",
       "      <th></th>\n",
       "    </tr>\n",
       "  </thead>\n",
       "  <tbody>\n",
       "    <tr>\n",
       "      <th>ENCODE-mouseT000008451</th>\n",
       "      <td>True</td>\n",
       "      <td>True</td>\n",
       "      <td>False</td>\n",
       "    </tr>\n",
       "    <tr>\n",
       "      <th>ENCODE-mouseT000008452</th>\n",
       "      <td>True</td>\n",
       "      <td>True</td>\n",
       "      <td>True</td>\n",
       "    </tr>\n",
       "    <tr>\n",
       "      <th>ENCODE-mouseT000008453</th>\n",
       "      <td>True</td>\n",
       "      <td>True</td>\n",
       "      <td>True</td>\n",
       "    </tr>\n",
       "    <tr>\n",
       "      <th>ENCODE-mouseT000008454</th>\n",
       "      <td>True</td>\n",
       "      <td>True</td>\n",
       "      <td>True</td>\n",
       "    </tr>\n",
       "    <tr>\n",
       "      <th>ENCODE-mouseT000008455</th>\n",
       "      <td>True</td>\n",
       "      <td>True</td>\n",
       "      <td>True</td>\n",
       "    </tr>\n",
       "    <tr>\n",
       "      <th>ENCODE-mouseT000008456</th>\n",
       "      <td>True</td>\n",
       "      <td>True</td>\n",
       "      <td>False</td>\n",
       "    </tr>\n",
       "    <tr>\n",
       "      <th>ENCODE-mouseT000008457</th>\n",
       "      <td>True</td>\n",
       "      <td>True</td>\n",
       "      <td>False</td>\n",
       "    </tr>\n",
       "    <tr>\n",
       "      <th>ENCODE-mouseT000008458</th>\n",
       "      <td>True</td>\n",
       "      <td>True</td>\n",
       "      <td>False</td>\n",
       "    </tr>\n",
       "    <tr>\n",
       "      <th>ENCODE-mouseT000008459</th>\n",
       "      <td>True</td>\n",
       "      <td>True</td>\n",
       "      <td>False</td>\n",
       "    </tr>\n",
       "    <tr>\n",
       "      <th>ENCODE-mouseT000008460</th>\n",
       "      <td>True</td>\n",
       "      <td>True</td>\n",
       "      <td>True</td>\n",
       "    </tr>\n",
       "    <tr>\n",
       "      <th>ENCODE-mouseT000008461</th>\n",
       "      <td>True</td>\n",
       "      <td>True</td>\n",
       "      <td>True</td>\n",
       "    </tr>\n",
       "    <tr>\n",
       "      <th>ENCODE-mouseT000008462</th>\n",
       "      <td>True</td>\n",
       "      <td>True</td>\n",
       "      <td>True</td>\n",
       "    </tr>\n",
       "    <tr>\n",
       "      <th>ENSMUST00000020637.8</th>\n",
       "      <td>True</td>\n",
       "      <td>True</td>\n",
       "      <td>False</td>\n",
       "    </tr>\n",
       "    <tr>\n",
       "      <th>ENSMUST00000020741.10</th>\n",
       "      <td>True</td>\n",
       "      <td>True</td>\n",
       "      <td>True</td>\n",
       "    </tr>\n",
       "    <tr>\n",
       "      <th>ENSMUST00000105344.6</th>\n",
       "      <td>True</td>\n",
       "      <td>True</td>\n",
       "      <td>True</td>\n",
       "    </tr>\n",
       "  </tbody>\n",
       "</table>\n",
       "</div>"
      ],
      "text/plain": [
       "                        PB65_B017  PB65_B018    D12\n",
       "tid                                                \n",
       "ENCODE-mouseT000008451       True       True  False\n",
       "ENCODE-mouseT000008452       True       True   True\n",
       "ENCODE-mouseT000008453       True       True   True\n",
       "ENCODE-mouseT000008454       True       True   True\n",
       "ENCODE-mouseT000008455       True       True   True\n",
       "ENCODE-mouseT000008456       True       True  False\n",
       "ENCODE-mouseT000008457       True       True  False\n",
       "ENCODE-mouseT000008458       True       True  False\n",
       "ENCODE-mouseT000008459       True       True  False\n",
       "ENCODE-mouseT000008460       True       True   True\n",
       "ENCODE-mouseT000008461       True       True   True\n",
       "ENCODE-mouseT000008462       True       True   True\n",
       "ENSMUST00000020637.8         True       True  False\n",
       "ENSMUST00000020741.10        True       True   True\n",
       "ENSMUST00000105344.6         True       True   True"
      ]
     },
     "execution_count": 5,
     "metadata": {},
     "output_type": "execute_result"
    }
   ],
   "source": [
    "# test\n",
    "df = pd.DataFrame(data=sg.adata.layers['tpm'], \\\n",
    "                  columns=sg.adata.var.index.tolist(), \\\n",
    "                  index=sg.adata.obs.index.tolist())\n",
    "df = df.transpose()\n",
    "df.index.name = 'tid'\n",
    "df.sort_values(by='tid', inplace=True)\n",
    "print(df)\n",
    "\n",
    "# ctrl\n",
    "ctrl = pd.read_csv('data/chr11_and_Tcf3_talon_abundance_tpm.tsv', sep='\\t')\n",
    "ctrl.set_index('tid', inplace=True)\n",
    "ctrl.sort_values(by='tid', inplace=True)\n",
    "print(ctrl)\n",
    "\n",
    "ctrl == df"
   ]
  },
  {
   "cell_type": "markdown",
   "id": "provincial-anchor",
   "metadata": {},
   "source": [
    "#### test - calc TPM from 1 abundance file"
   ]
  },
  {
   "cell_type": "code",
   "execution_count": 6,
   "id": "diagnostic-demographic",
   "metadata": {},
   "outputs": [
    {
     "name": "stdout",
     "output_type": "stream",
     "text": [
      "\n",
      "Adding annotation to the SwanGraph\n"
     ]
    },
    {
     "name": "stderr",
     "output_type": "stream",
     "text": [
      "Processing transcripts:  99%|█████████▉| 8400/8450 [00:01<00:00, 4478.18it/s]\n"
     ]
    },
    {
     "name": "stdout",
     "output_type": "stream",
     "text": [
      "Reindexing and sorting entries on genomic location...\n"
     ]
    },
    {
     "name": "stderr",
     "output_type": "stream",
     "text": [
      "Reindexing vertices: 100%|█████████▉| 50000/50074 [00:00<00:00, 1219593.50it/s]\n",
      "Reindexing edges:  98%|█████████▊| 49000/50074 [00:00<00:00, 280590.31it/s]\n",
      "Reindexing transcripts:  99%|█████████▉| 8400/8450 [00:00<00:00, 140783.89it/s]\n"
     ]
    },
    {
     "name": "stdout",
     "output_type": "stream",
     "text": [
      "\n",
      "Annotation to the SwanGraph\n",
      "\n",
      "Adding transcriptome to the SwanGraph\n"
     ]
    },
    {
     "name": "stderr",
     "output_type": "stream",
     "text": [
      "AnnData expects .obs.index to contain strings, but your first indices are: Int64Index([0, 1], dtype='int64'), …\n"
     ]
    },
    {
     "name": "stdout",
     "output_type": "stream",
     "text": [
      "\n",
      "Adding abundance for datasets PB65_B017, PB65_B018, D12 to SwanGraph.\n"
     ]
    }
   ],
   "source": [
    "sg = swan.SwanGraph()\n",
    "# just gencode vM21 chr 11 and tcf3\n",
    "gtf = 'data/chr11_and_Tcf3.gtf'\n",
    "sg.add_annotation(gtf, verbose=True)\n",
    "db = 'data/chr11_and_Tcf3_no_gname.db'\n",
    "sg.add_transcriptome(db, include_isms=True)\n",
    "ab = 'data/chr11_and_Tcf3_talon_abundance.tsv'\n",
    "sg.add_abundance(ab)\n",
    "meta = 'data/chr11_and_Tcf3_metadata.tsv'\n",
    "sg.add_metadata(meta)"
   ]
  },
  {
   "cell_type": "code",
   "execution_count": 7,
   "id": "pretty-divide",
   "metadata": {},
   "outputs": [
    {
     "name": "stdout",
     "output_type": "stream",
     "text": [
      "                        PB65_B017  PB65_B018            D12\n",
      "tid                                                        \n",
      "ENCODE-mouseT000008451   300000.0   250000.0  285714.285714\n",
      "ENCODE-mouseT000008452   100000.0        0.0       0.000000\n",
      "ENCODE-mouseT000008453   100000.0   250000.0       0.000000\n",
      "ENCODE-mouseT000008454   100000.0        0.0       0.000000\n",
      "ENCODE-mouseT000008455   100000.0        0.0       0.000000\n",
      "ENCODE-mouseT000008456        0.0        0.0  142857.142857\n",
      "ENCODE-mouseT000008457        0.0        0.0  142857.142857\n",
      "ENCODE-mouseT000008458        0.0        0.0  142857.142857\n",
      "ENCODE-mouseT000008459        0.0        0.0  142857.142857\n",
      "ENCODE-mouseT000008460        0.0   250000.0       0.000000\n",
      "ENCODE-mouseT000008461   100000.0        0.0       0.000000\n",
      "ENCODE-mouseT000008462   100000.0        0.0       0.000000\n",
      "ENSMUST00000020637.8          0.0        0.0  142857.142857\n",
      "ENSMUST00000020741.10    100000.0        0.0       0.000000\n",
      "ENSMUST00000105344.6          0.0   250000.0       0.000000\n",
      "                        PB65_B017  PB65_B018          D12\n",
      "tid                                                      \n",
      "ENCODE-mouseT000008451     300000     250000  285714.2857\n",
      "ENCODE-mouseT000008452     100000          0       0.0000\n",
      "ENCODE-mouseT000008453     100000     250000       0.0000\n",
      "ENCODE-mouseT000008454     100000          0       0.0000\n",
      "ENCODE-mouseT000008455     100000          0       0.0000\n",
      "ENCODE-mouseT000008456          0          0  142857.1429\n",
      "ENCODE-mouseT000008457          0          0  142857.1429\n",
      "ENCODE-mouseT000008458          0          0  142857.1429\n",
      "ENCODE-mouseT000008459          0          0  142857.1429\n",
      "ENCODE-mouseT000008460          0     250000       0.0000\n",
      "ENCODE-mouseT000008461     100000          0       0.0000\n",
      "ENCODE-mouseT000008462     100000          0       0.0000\n",
      "ENSMUST00000020637.8            0          0  142857.1429\n",
      "ENSMUST00000020741.10      100000          0       0.0000\n",
      "ENSMUST00000105344.6            0     250000       0.0000\n"
     ]
    },
    {
     "data": {
      "text/html": [
       "<div>\n",
       "<style scoped>\n",
       "    .dataframe tbody tr th:only-of-type {\n",
       "        vertical-align: middle;\n",
       "    }\n",
       "\n",
       "    .dataframe tbody tr th {\n",
       "        vertical-align: top;\n",
       "    }\n",
       "\n",
       "    .dataframe thead th {\n",
       "        text-align: right;\n",
       "    }\n",
       "</style>\n",
       "<table border=\"1\" class=\"dataframe\">\n",
       "  <thead>\n",
       "    <tr style=\"text-align: right;\">\n",
       "      <th></th>\n",
       "      <th>PB65_B017</th>\n",
       "      <th>PB65_B018</th>\n",
       "      <th>D12</th>\n",
       "    </tr>\n",
       "    <tr>\n",
       "      <th>tid</th>\n",
       "      <th></th>\n",
       "      <th></th>\n",
       "      <th></th>\n",
       "    </tr>\n",
       "  </thead>\n",
       "  <tbody>\n",
       "    <tr>\n",
       "      <th>ENCODE-mouseT000008451</th>\n",
       "      <td>True</td>\n",
       "      <td>True</td>\n",
       "      <td>False</td>\n",
       "    </tr>\n",
       "    <tr>\n",
       "      <th>ENCODE-mouseT000008452</th>\n",
       "      <td>True</td>\n",
       "      <td>True</td>\n",
       "      <td>True</td>\n",
       "    </tr>\n",
       "    <tr>\n",
       "      <th>ENCODE-mouseT000008453</th>\n",
       "      <td>True</td>\n",
       "      <td>True</td>\n",
       "      <td>True</td>\n",
       "    </tr>\n",
       "    <tr>\n",
       "      <th>ENCODE-mouseT000008454</th>\n",
       "      <td>True</td>\n",
       "      <td>True</td>\n",
       "      <td>True</td>\n",
       "    </tr>\n",
       "    <tr>\n",
       "      <th>ENCODE-mouseT000008455</th>\n",
       "      <td>True</td>\n",
       "      <td>True</td>\n",
       "      <td>True</td>\n",
       "    </tr>\n",
       "    <tr>\n",
       "      <th>ENCODE-mouseT000008456</th>\n",
       "      <td>True</td>\n",
       "      <td>True</td>\n",
       "      <td>False</td>\n",
       "    </tr>\n",
       "    <tr>\n",
       "      <th>ENCODE-mouseT000008457</th>\n",
       "      <td>True</td>\n",
       "      <td>True</td>\n",
       "      <td>False</td>\n",
       "    </tr>\n",
       "    <tr>\n",
       "      <th>ENCODE-mouseT000008458</th>\n",
       "      <td>True</td>\n",
       "      <td>True</td>\n",
       "      <td>False</td>\n",
       "    </tr>\n",
       "    <tr>\n",
       "      <th>ENCODE-mouseT000008459</th>\n",
       "      <td>True</td>\n",
       "      <td>True</td>\n",
       "      <td>False</td>\n",
       "    </tr>\n",
       "    <tr>\n",
       "      <th>ENCODE-mouseT000008460</th>\n",
       "      <td>True</td>\n",
       "      <td>True</td>\n",
       "      <td>True</td>\n",
       "    </tr>\n",
       "    <tr>\n",
       "      <th>ENCODE-mouseT000008461</th>\n",
       "      <td>True</td>\n",
       "      <td>True</td>\n",
       "      <td>True</td>\n",
       "    </tr>\n",
       "    <tr>\n",
       "      <th>ENCODE-mouseT000008462</th>\n",
       "      <td>True</td>\n",
       "      <td>True</td>\n",
       "      <td>True</td>\n",
       "    </tr>\n",
       "    <tr>\n",
       "      <th>ENSMUST00000020637.8</th>\n",
       "      <td>True</td>\n",
       "      <td>True</td>\n",
       "      <td>False</td>\n",
       "    </tr>\n",
       "    <tr>\n",
       "      <th>ENSMUST00000020741.10</th>\n",
       "      <td>True</td>\n",
       "      <td>True</td>\n",
       "      <td>True</td>\n",
       "    </tr>\n",
       "    <tr>\n",
       "      <th>ENSMUST00000105344.6</th>\n",
       "      <td>True</td>\n",
       "      <td>True</td>\n",
       "      <td>True</td>\n",
       "    </tr>\n",
       "  </tbody>\n",
       "</table>\n",
       "</div>"
      ],
      "text/plain": [
       "                        PB65_B017  PB65_B018    D12\n",
       "tid                                                \n",
       "ENCODE-mouseT000008451       True       True  False\n",
       "ENCODE-mouseT000008452       True       True   True\n",
       "ENCODE-mouseT000008453       True       True   True\n",
       "ENCODE-mouseT000008454       True       True   True\n",
       "ENCODE-mouseT000008455       True       True   True\n",
       "ENCODE-mouseT000008456       True       True  False\n",
       "ENCODE-mouseT000008457       True       True  False\n",
       "ENCODE-mouseT000008458       True       True  False\n",
       "ENCODE-mouseT000008459       True       True  False\n",
       "ENCODE-mouseT000008460       True       True   True\n",
       "ENCODE-mouseT000008461       True       True   True\n",
       "ENCODE-mouseT000008462       True       True   True\n",
       "ENSMUST00000020637.8         True       True  False\n",
       "ENSMUST00000020741.10        True       True   True\n",
       "ENSMUST00000105344.6         True       True   True"
      ]
     },
     "execution_count": 7,
     "metadata": {},
     "output_type": "execute_result"
    }
   ],
   "source": [
    "# test\n",
    "df = pd.DataFrame(data=sg.adata.layers['tpm'], \\\n",
    "                  columns=sg.adata.var.index.tolist(), \\\n",
    "                  index=sg.adata.obs.index.tolist())\n",
    "df = df.transpose()\n",
    "df.index.name = 'tid'\n",
    "df.sort_values(by='tid', inplace=True)\n",
    "print(df)\n",
    "\n",
    "# ctrl\n",
    "ctrl = pd.read_csv('data/chr11_and_Tcf3_talon_abundance_tpm.tsv', sep='\\t')\n",
    "ctrl.set_index('tid', inplace=True)\n",
    "ctrl.sort_values(by='tid', inplace=True)\n",
    "print(ctrl)\n",
    "\n",
    "ctrl == df"
   ]
  },
  {
   "cell_type": "markdown",
   "id": "temporal-dealer",
   "metadata": {},
   "source": [
    "#### test - calc PI for a condition that is not 'dataset'"
   ]
  },
  {
   "cell_type": "code",
   "execution_count": 1,
   "id": "involved-provincial",
   "metadata": {},
   "outputs": [
    {
     "name": "stderr",
     "output_type": "stream",
     "text": [
      "/Users/fairliereese/miniconda3/lib/python3.7/site-packages/anndata/_core/anndata.py:21: FutureWarning: pandas.core.index is deprecated and will be removed in a future version.  The public classes are available in the top-level namespace.\n",
      "  from pandas.core.index import RangeIndex\n"
     ]
    }
   ],
   "source": [
    "import swan_vis as swan\n",
    "import pandas as pd"
   ]
  },
  {
   "cell_type": "code",
   "execution_count": 2,
   "id": "searching-leader",
   "metadata": {},
   "outputs": [
    {
     "name": "stdout",
     "output_type": "stream",
     "text": [
      "\n",
      "Adding annotation to the SwanGraph\n"
     ]
    },
    {
     "name": "stderr",
     "output_type": "stream",
     "text": [
      "Processing transcripts:  99%|█████████▉| 8400/8450 [00:01<00:00, 4330.09it/s]\n"
     ]
    },
    {
     "name": "stdout",
     "output_type": "stream",
     "text": [
      "Reindexing and sorting entries on genomic location...\n"
     ]
    },
    {
     "name": "stderr",
     "output_type": "stream",
     "text": [
      "Reindexing vertices: 100%|█████████▉| 50000/50074 [00:00<00:00, 1006803.71it/s]\n",
      "Reindexing edges:  98%|█████████▊| 49000/50074 [00:00<00:00, 669436.09it/s]\n",
      "Reindexing transcripts:  99%|█████████▉| 8400/8450 [00:00<00:00, 157577.64it/s]\n"
     ]
    },
    {
     "name": "stdout",
     "output_type": "stream",
     "text": [
      "\n",
      "Annotation to the SwanGraph\n",
      "\n",
      "Adding transcriptome to the SwanGraph\n"
     ]
    },
    {
     "name": "stderr",
     "output_type": "stream",
     "text": [
      "AnnData expects .obs.index to contain strings, but your first indices are: Int64Index([0, 1], dtype='int64'), …\n"
     ]
    },
    {
     "name": "stdout",
     "output_type": "stream",
     "text": [
      "\n",
      "Adding abundance for datasets PB65_B017, PB65_B018, D12 to SwanGraph.\n"
     ]
    }
   ],
   "source": [
    "sg = swan.SwanGraph()\n",
    "# just gencode vM21 chr 11 and tcf3\n",
    "gtf = 'data/chr11_and_Tcf3.gtf'\n",
    "sg.add_annotation(gtf, verbose=True)\n",
    "db = 'data/chr11_and_Tcf3_no_gname.db'\n",
    "sg.add_transcriptome(db, include_isms=True)\n",
    "ab = 'data/chr11_and_Tcf3_talon_abundance.tsv'\n",
    "sg.add_abundance(ab)\n",
    "meta = 'data/chr11_and_Tcf3_metadata.tsv'\n",
    "sg.add_metadata(meta)"
   ]
  },
  {
   "cell_type": "code",
   "execution_count": 3,
   "id": "noted-consumption",
   "metadata": {},
   "outputs": [
    {
     "name": "stdout",
     "output_type": "stream",
     "text": [
      "                                 2      1\n",
      "tid                                      \n",
      "ENCODE-mouseT000008451   66.666672  100.0\n",
      "ENCODE-mouseT000008452   16.666668    0.0\n",
      "ENCODE-mouseT000008453   66.666672    0.0\n",
      "ENCODE-mouseT000008454  100.000000    0.0\n",
      "ENCODE-mouseT000008455  100.000000    0.0\n",
      "ENCODE-mouseT000008456    0.000000  100.0\n",
      "ENCODE-mouseT000008457    0.000000   25.0\n",
      "ENCODE-mouseT000008458    0.000000   25.0\n",
      "ENCODE-mouseT000008459    0.000000   25.0\n",
      "ENCODE-mouseT000008460   33.333336    0.0\n",
      "ENCODE-mouseT000008461   33.333336    0.0\n",
      "ENCODE-mouseT000008462   33.333336    0.0\n",
      "ENSMUST00000020637.8      0.000000   25.0\n",
      "ENSMUST00000020741.10    33.333336    0.0\n",
      "ENSMUST00000105344.6     16.666668    0.0\n",
      "Index(['2', '1'], dtype='object')\n",
      "                                 2    1\n",
      "tid                                    \n",
      "ENCODE-mouseT000008451   66.666672  100\n",
      "ENCODE-mouseT000008452   16.666668    0\n",
      "ENCODE-mouseT000008453   66.666672    0\n",
      "ENCODE-mouseT000008454  100.000000    0\n",
      "ENCODE-mouseT000008455  100.000000    0\n",
      "ENCODE-mouseT000008456    0.000000  100\n",
      "ENCODE-mouseT000008457    0.000000   25\n",
      "ENCODE-mouseT000008458    0.000000   25\n",
      "ENCODE-mouseT000008459    0.000000   25\n",
      "ENCODE-mouseT000008460   33.333336    0\n",
      "ENCODE-mouseT000008461   33.333336    0\n",
      "ENCODE-mouseT000008462   33.333336    0\n",
      "ENSMUST00000020637.8      0.000000   25\n",
      "ENSMUST00000020741.10    33.333336    0\n",
      "ENSMUST00000105344.6     16.666668    0\n"
     ]
    },
    {
     "data": {
      "text/html": [
       "<div>\n",
       "<style scoped>\n",
       "    .dataframe tbody tr th:only-of-type {\n",
       "        vertical-align: middle;\n",
       "    }\n",
       "\n",
       "    .dataframe tbody tr th {\n",
       "        vertical-align: top;\n",
       "    }\n",
       "\n",
       "    .dataframe thead th {\n",
       "        text-align: right;\n",
       "    }\n",
       "</style>\n",
       "<table border=\"1\" class=\"dataframe\">\n",
       "  <thead>\n",
       "    <tr style=\"text-align: right;\">\n",
       "      <th></th>\n",
       "      <th>2</th>\n",
       "      <th>1</th>\n",
       "    </tr>\n",
       "    <tr>\n",
       "      <th>tid</th>\n",
       "      <th></th>\n",
       "      <th></th>\n",
       "    </tr>\n",
       "  </thead>\n",
       "  <tbody>\n",
       "    <tr>\n",
       "      <th>ENCODE-mouseT000008451</th>\n",
       "      <td>False</td>\n",
       "      <td>True</td>\n",
       "    </tr>\n",
       "    <tr>\n",
       "      <th>ENCODE-mouseT000008452</th>\n",
       "      <td>False</td>\n",
       "      <td>True</td>\n",
       "    </tr>\n",
       "    <tr>\n",
       "      <th>ENCODE-mouseT000008453</th>\n",
       "      <td>False</td>\n",
       "      <td>True</td>\n",
       "    </tr>\n",
       "    <tr>\n",
       "      <th>ENCODE-mouseT000008454</th>\n",
       "      <td>True</td>\n",
       "      <td>True</td>\n",
       "    </tr>\n",
       "    <tr>\n",
       "      <th>ENCODE-mouseT000008455</th>\n",
       "      <td>True</td>\n",
       "      <td>True</td>\n",
       "    </tr>\n",
       "    <tr>\n",
       "      <th>ENCODE-mouseT000008456</th>\n",
       "      <td>True</td>\n",
       "      <td>True</td>\n",
       "    </tr>\n",
       "    <tr>\n",
       "      <th>ENCODE-mouseT000008457</th>\n",
       "      <td>True</td>\n",
       "      <td>True</td>\n",
       "    </tr>\n",
       "    <tr>\n",
       "      <th>ENCODE-mouseT000008458</th>\n",
       "      <td>True</td>\n",
       "      <td>True</td>\n",
       "    </tr>\n",
       "    <tr>\n",
       "      <th>ENCODE-mouseT000008459</th>\n",
       "      <td>True</td>\n",
       "      <td>True</td>\n",
       "    </tr>\n",
       "    <tr>\n",
       "      <th>ENCODE-mouseT000008460</th>\n",
       "      <td>False</td>\n",
       "      <td>True</td>\n",
       "    </tr>\n",
       "    <tr>\n",
       "      <th>ENCODE-mouseT000008461</th>\n",
       "      <td>False</td>\n",
       "      <td>True</td>\n",
       "    </tr>\n",
       "    <tr>\n",
       "      <th>ENCODE-mouseT000008462</th>\n",
       "      <td>False</td>\n",
       "      <td>True</td>\n",
       "    </tr>\n",
       "    <tr>\n",
       "      <th>ENSMUST00000020637.8</th>\n",
       "      <td>True</td>\n",
       "      <td>True</td>\n",
       "    </tr>\n",
       "    <tr>\n",
       "      <th>ENSMUST00000020741.10</th>\n",
       "      <td>False</td>\n",
       "      <td>True</td>\n",
       "    </tr>\n",
       "    <tr>\n",
       "      <th>ENSMUST00000105344.6</th>\n",
       "      <td>False</td>\n",
       "      <td>True</td>\n",
       "    </tr>\n",
       "  </tbody>\n",
       "</table>\n",
       "</div>"
      ],
      "text/plain": [
       "                            2     1\n",
       "tid                                \n",
       "ENCODE-mouseT000008451  False  True\n",
       "ENCODE-mouseT000008452  False  True\n",
       "ENCODE-mouseT000008453  False  True\n",
       "ENCODE-mouseT000008454   True  True\n",
       "ENCODE-mouseT000008455   True  True\n",
       "ENCODE-mouseT000008456   True  True\n",
       "ENCODE-mouseT000008457   True  True\n",
       "ENCODE-mouseT000008458   True  True\n",
       "ENCODE-mouseT000008459   True  True\n",
       "ENCODE-mouseT000008460  False  True\n",
       "ENCODE-mouseT000008461  False  True\n",
       "ENCODE-mouseT000008462  False  True\n",
       "ENSMUST00000020637.8     True  True\n",
       "ENSMUST00000020741.10   False  True\n",
       "ENSMUST00000105344.6    False  True"
      ]
     },
     "execution_count": 3,
     "metadata": {},
     "output_type": "execute_result"
    }
   ],
   "source": [
    "df = swan.calc_pi(sg.adata, sg.t_df, obs_col='cluster')\n",
    "\n",
    "# test\n",
    "df = df.transpose()\n",
    "df.index.name = 'tid'\n",
    "df.sort_values(by='tid', inplace=True)\n",
    "print(df)\n",
    "print(df.columns)\n",
    "\n",
    "# ctrl\n",
    "ctrl = pd.read_csv('data/chr11_and_Tcf3_talon_abundance_clusters_pi.tsv', sep='\\t')\n",
    "ctrl.set_index('tid', inplace=True)\n",
    "ctrl.sort_values(by='tid', inplace=True)\n",
    "print(ctrl)\n",
    "\n",
    "ctrl == df\n",
    "\n",
    "# need better way to test this bc of rounding, but it works.. "
   ]
  },
  {
   "cell_type": "markdown",
   "id": "stupid-resident",
   "metadata": {},
   "source": [
    "#### test - add abundance and then more abundance and calc pi (in add_abundance)"
   ]
  },
  {
   "cell_type": "code",
   "execution_count": 4,
   "id": "direct-judges",
   "metadata": {},
   "outputs": [
    {
     "name": "stdout",
     "output_type": "stream",
     "text": [
      "\n",
      "Adding annotation to the SwanGraph\n"
     ]
    },
    {
     "name": "stderr",
     "output_type": "stream",
     "text": [
      "Processing transcripts:  99%|█████████▉| 8400/8450 [00:01<00:00, 4514.86it/s]\n"
     ]
    },
    {
     "name": "stdout",
     "output_type": "stream",
     "text": [
      "Reindexing and sorting entries on genomic location...\n"
     ]
    },
    {
     "name": "stderr",
     "output_type": "stream",
     "text": [
      "Reindexing vertices: 100%|█████████▉| 50000/50074 [00:00<00:00, 1288659.76it/s]\n",
      "Reindexing edges:  98%|█████████▊| 49000/50074 [00:00<00:00, 704468.36it/s]\n",
      "Reindexing transcripts:  99%|█████████▉| 8400/8450 [00:00<00:00, 157235.16it/s]\n"
     ]
    },
    {
     "name": "stdout",
     "output_type": "stream",
     "text": [
      "\n",
      "Annotation to the SwanGraph\n",
      "\n",
      "Adding transcriptome to the SwanGraph\n"
     ]
    },
    {
     "name": "stderr",
     "output_type": "stream",
     "text": [
      "AnnData expects .obs.index to contain strings, but your first indices are: Int64Index([0, 1], dtype='int64'), …\n"
     ]
    },
    {
     "name": "stdout",
     "output_type": "stream",
     "text": [
      "\n",
      "Adding abundance for datasets PB65_B017, PB65_B018 to SwanGraph.\n",
      "\n",
      "Adding abundance for datasets D12 to SwanGraph.\n"
     ]
    }
   ],
   "source": [
    "sg = swan.SwanGraph()\n",
    "# just gencode vM21 chr 11 and tcf3\n",
    "gtf = 'data/chr11_and_Tcf3.gtf'\n",
    "sg.add_annotation(gtf, verbose=True)\n",
    "db = 'data/chr11_and_Tcf3_no_gname.db'\n",
    "sg.add_transcriptome(db, include_isms=True)\n",
    "ab = 'data/chr11_and_Tcf3_talon_abundance_PB65.tsv'\n",
    "sg.add_abundance(ab)\n",
    "ab = 'data/chr11_and_Tcf3_talon_abundance_D12.tsv'\n",
    "sg.add_abundance(ab)\n",
    "meta = 'data/chr11_and_Tcf3_metadata.tsv'\n",
    "sg.add_metadata(meta)"
   ]
  },
  {
   "cell_type": "code",
   "execution_count": 5,
   "id": "organic-beads",
   "metadata": {},
   "outputs": [
    {
     "name": "stdout",
     "output_type": "stream",
     "text": [
      "                        PB65_B017  PB65_B018    D12\n",
      "tid                                                \n",
      "ENCODE-mouseT000008451       75.0       50.0  100.0\n",
      "ENCODE-mouseT000008452       25.0        0.0    0.0\n",
      "ENCODE-mouseT000008453       50.0      100.0    0.0\n",
      "ENCODE-mouseT000008454      100.0        0.0    0.0\n",
      "ENCODE-mouseT000008455      100.0        0.0    0.0\n",
      "ENCODE-mouseT000008456        0.0        0.0  100.0\n",
      "ENCODE-mouseT000008457        0.0        0.0   25.0\n",
      "ENCODE-mouseT000008458        0.0        0.0   25.0\n",
      "ENCODE-mouseT000008459        0.0        0.0   25.0\n",
      "ENCODE-mouseT000008460        0.0      100.0    0.0\n",
      "ENCODE-mouseT000008461       50.0        0.0    0.0\n",
      "ENCODE-mouseT000008462       50.0        0.0    0.0\n",
      "ENSMUST00000020637.8          0.0        0.0   25.0\n",
      "ENSMUST00000020741.10        50.0        0.0    0.0\n",
      "ENSMUST00000105344.6          0.0       50.0    0.0\n",
      "                        PB65_B017  PB65_B018  D12\n",
      "tid                                              \n",
      "ENCODE-mouseT000008451         75         50  100\n",
      "ENCODE-mouseT000008452         25          0    0\n",
      "ENCODE-mouseT000008453         50        100    0\n",
      "ENCODE-mouseT000008454        100          0    0\n",
      "ENCODE-mouseT000008455        100          0    0\n",
      "ENCODE-mouseT000008456          0          0  100\n",
      "ENCODE-mouseT000008457          0          0   25\n",
      "ENCODE-mouseT000008458          0          0   25\n",
      "ENCODE-mouseT000008459          0          0   25\n",
      "ENCODE-mouseT000008460          0        100    0\n",
      "ENCODE-mouseT000008461         50          0    0\n",
      "ENCODE-mouseT000008462         50          0    0\n",
      "ENSMUST00000020637.8            0          0   25\n",
      "ENSMUST00000020741.10          50          0    0\n",
      "ENSMUST00000105344.6            0         50    0\n"
     ]
    },
    {
     "data": {
      "text/html": [
       "<div>\n",
       "<style scoped>\n",
       "    .dataframe tbody tr th:only-of-type {\n",
       "        vertical-align: middle;\n",
       "    }\n",
       "\n",
       "    .dataframe tbody tr th {\n",
       "        vertical-align: top;\n",
       "    }\n",
       "\n",
       "    .dataframe thead th {\n",
       "        text-align: right;\n",
       "    }\n",
       "</style>\n",
       "<table border=\"1\" class=\"dataframe\">\n",
       "  <thead>\n",
       "    <tr style=\"text-align: right;\">\n",
       "      <th></th>\n",
       "      <th>PB65_B017</th>\n",
       "      <th>PB65_B018</th>\n",
       "      <th>D12</th>\n",
       "    </tr>\n",
       "    <tr>\n",
       "      <th>tid</th>\n",
       "      <th></th>\n",
       "      <th></th>\n",
       "      <th></th>\n",
       "    </tr>\n",
       "  </thead>\n",
       "  <tbody>\n",
       "    <tr>\n",
       "      <th>ENCODE-mouseT000008451</th>\n",
       "      <td>True</td>\n",
       "      <td>True</td>\n",
       "      <td>True</td>\n",
       "    </tr>\n",
       "    <tr>\n",
       "      <th>ENCODE-mouseT000008452</th>\n",
       "      <td>True</td>\n",
       "      <td>True</td>\n",
       "      <td>True</td>\n",
       "    </tr>\n",
       "    <tr>\n",
       "      <th>ENCODE-mouseT000008453</th>\n",
       "      <td>True</td>\n",
       "      <td>True</td>\n",
       "      <td>True</td>\n",
       "    </tr>\n",
       "    <tr>\n",
       "      <th>ENCODE-mouseT000008454</th>\n",
       "      <td>True</td>\n",
       "      <td>True</td>\n",
       "      <td>True</td>\n",
       "    </tr>\n",
       "    <tr>\n",
       "      <th>ENCODE-mouseT000008455</th>\n",
       "      <td>True</td>\n",
       "      <td>True</td>\n",
       "      <td>True</td>\n",
       "    </tr>\n",
       "    <tr>\n",
       "      <th>ENCODE-mouseT000008456</th>\n",
       "      <td>True</td>\n",
       "      <td>True</td>\n",
       "      <td>True</td>\n",
       "    </tr>\n",
       "    <tr>\n",
       "      <th>ENCODE-mouseT000008457</th>\n",
       "      <td>True</td>\n",
       "      <td>True</td>\n",
       "      <td>True</td>\n",
       "    </tr>\n",
       "    <tr>\n",
       "      <th>ENCODE-mouseT000008458</th>\n",
       "      <td>True</td>\n",
       "      <td>True</td>\n",
       "      <td>True</td>\n",
       "    </tr>\n",
       "    <tr>\n",
       "      <th>ENCODE-mouseT000008459</th>\n",
       "      <td>True</td>\n",
       "      <td>True</td>\n",
       "      <td>True</td>\n",
       "    </tr>\n",
       "    <tr>\n",
       "      <th>ENCODE-mouseT000008460</th>\n",
       "      <td>True</td>\n",
       "      <td>True</td>\n",
       "      <td>True</td>\n",
       "    </tr>\n",
       "    <tr>\n",
       "      <th>ENCODE-mouseT000008461</th>\n",
       "      <td>True</td>\n",
       "      <td>True</td>\n",
       "      <td>True</td>\n",
       "    </tr>\n",
       "    <tr>\n",
       "      <th>ENCODE-mouseT000008462</th>\n",
       "      <td>True</td>\n",
       "      <td>True</td>\n",
       "      <td>True</td>\n",
       "    </tr>\n",
       "    <tr>\n",
       "      <th>ENSMUST00000020637.8</th>\n",
       "      <td>True</td>\n",
       "      <td>True</td>\n",
       "      <td>True</td>\n",
       "    </tr>\n",
       "    <tr>\n",
       "      <th>ENSMUST00000020741.10</th>\n",
       "      <td>True</td>\n",
       "      <td>True</td>\n",
       "      <td>True</td>\n",
       "    </tr>\n",
       "    <tr>\n",
       "      <th>ENSMUST00000105344.6</th>\n",
       "      <td>True</td>\n",
       "      <td>True</td>\n",
       "      <td>True</td>\n",
       "    </tr>\n",
       "  </tbody>\n",
       "</table>\n",
       "</div>"
      ],
      "text/plain": [
       "                        PB65_B017  PB65_B018   D12\n",
       "tid                                               \n",
       "ENCODE-mouseT000008451       True       True  True\n",
       "ENCODE-mouseT000008452       True       True  True\n",
       "ENCODE-mouseT000008453       True       True  True\n",
       "ENCODE-mouseT000008454       True       True  True\n",
       "ENCODE-mouseT000008455       True       True  True\n",
       "ENCODE-mouseT000008456       True       True  True\n",
       "ENCODE-mouseT000008457       True       True  True\n",
       "ENCODE-mouseT000008458       True       True  True\n",
       "ENCODE-mouseT000008459       True       True  True\n",
       "ENCODE-mouseT000008460       True       True  True\n",
       "ENCODE-mouseT000008461       True       True  True\n",
       "ENCODE-mouseT000008462       True       True  True\n",
       "ENSMUST00000020637.8         True       True  True\n",
       "ENSMUST00000020741.10        True       True  True\n",
       "ENSMUST00000105344.6         True       True  True"
      ]
     },
     "execution_count": 5,
     "metadata": {},
     "output_type": "execute_result"
    }
   ],
   "source": [
    "# test\n",
    "df = pd.DataFrame(data=sg.adata.layers['pi'], \\\n",
    "                  columns=sg.adata.var.index.tolist(), \\\n",
    "                  index=sg.adata.obs.index.tolist())\n",
    "df = df.transpose()\n",
    "df.index.name = 'tid'\n",
    "df.sort_values(by='tid', inplace=True)\n",
    "print(df)\n",
    "\n",
    "# ctrl\n",
    "ctrl = pd.read_csv('data/chr11_and_Tcf3_talon_abundance_pi.tsv', sep='\\t')\n",
    "ctrl.set_index('tid', inplace=True)\n",
    "ctrl.sort_values(by='tid', inplace=True)\n",
    "print(ctrl)\n",
    "\n",
    "ctrl == df"
   ]
  },
  {
   "cell_type": "markdown",
   "id": "abroad-advocate",
   "metadata": {},
   "source": [
    "#### test - calculate percent iso expression per gene (in add_abundance)"
   ]
  },
  {
   "cell_type": "code",
   "execution_count": 6,
   "id": "electrical-millennium",
   "metadata": {},
   "outputs": [
    {
     "name": "stdout",
     "output_type": "stream",
     "text": [
      "\n",
      "Adding annotation to the SwanGraph\n"
     ]
    },
    {
     "name": "stderr",
     "output_type": "stream",
     "text": [
      "Processing transcripts:  99%|█████████▉| 8400/8450 [00:01<00:00, 4535.96it/s]\n"
     ]
    },
    {
     "name": "stdout",
     "output_type": "stream",
     "text": [
      "Reindexing and sorting entries on genomic location...\n"
     ]
    },
    {
     "name": "stderr",
     "output_type": "stream",
     "text": [
      "Reindexing vertices: 100%|█████████▉| 50000/50074 [00:00<00:00, 1227711.37it/s]\n",
      "Reindexing edges:  98%|█████████▊| 49000/50074 [00:00<00:00, 280962.39it/s]\n",
      "Reindexing transcripts:  99%|█████████▉| 8400/8450 [00:00<00:00, 146053.94it/s]\n"
     ]
    },
    {
     "name": "stdout",
     "output_type": "stream",
     "text": [
      "\n",
      "Annotation to the SwanGraph\n",
      "\n",
      "Adding transcriptome to the SwanGraph\n"
     ]
    },
    {
     "name": "stderr",
     "output_type": "stream",
     "text": [
      "AnnData expects .obs.index to contain strings, but your first indices are: Int64Index([0, 1], dtype='int64'), …\n"
     ]
    },
    {
     "name": "stdout",
     "output_type": "stream",
     "text": [
      "\n",
      "Adding abundance for datasets PB65_B017, PB65_B018, D12 to SwanGraph.\n"
     ]
    }
   ],
   "source": [
    "sg = swan.SwanGraph()\n",
    "# just gencode vM21 chr 11 and tcf3\n",
    "gtf = 'data/chr11_and_Tcf3.gtf'\n",
    "sg.add_annotation(gtf, verbose=True)\n",
    "db = 'data/chr11_and_Tcf3_no_gname.db'\n",
    "sg.add_transcriptome(db, include_isms=True)\n",
    "ab = 'data/chr11_and_Tcf3_talon_abundance.tsv'\n",
    "sg.add_abundance(ab)\n",
    "meta = 'data/chr11_and_Tcf3_metadata.tsv'\n",
    "sg.add_metadata(meta)"
   ]
  },
  {
   "cell_type": "code",
   "execution_count": 7,
   "id": "neural-remark",
   "metadata": {},
   "outputs": [
    {
     "name": "stdout",
     "output_type": "stream",
     "text": [
      "             dataset cluster   sample\n",
      "index                                \n",
      "PB65_B017  PB65_B017       2  GM12878\n",
      "PB65_B018  PB65_B018       2  GM12878\n",
      "D12              D12       1     K562\n",
      "[[ 75.  25.  50. 100. 100.   0.   0.   0.   0.   0.  50.  50.   0.  50.\n",
      "    0.]\n",
      " [ 50.   0. 100.   0.   0.   0.   0.   0.   0. 100.   0.   0.   0.   0.\n",
      "   50.]\n",
      " [100.   0.   0.   0.   0. 100.  25.  25.  25.   0.   0.   0.  25.   0.\n",
      "    0.]]\n"
     ]
    }
   ],
   "source": [
    "print(sg.adata.obs)\n",
    "print(sg.adata.layers['pi'])"
   ]
  },
  {
   "cell_type": "markdown",
   "id": "affiliated-proxy",
   "metadata": {},
   "source": [
    "The following two should be equivalent"
   ]
  },
  {
   "cell_type": "code",
   "execution_count": 8,
   "id": "welsh-sapphire",
   "metadata": {},
   "outputs": [
    {
     "data": {
      "text/html": [
       "<div>\n",
       "<style scoped>\n",
       "    .dataframe tbody tr th:only-of-type {\n",
       "        vertical-align: middle;\n",
       "    }\n",
       "\n",
       "    .dataframe tbody tr th {\n",
       "        vertical-align: top;\n",
       "    }\n",
       "\n",
       "    .dataframe thead th {\n",
       "        text-align: right;\n",
       "    }\n",
       "</style>\n",
       "<table border=\"1\" class=\"dataframe\">\n",
       "  <thead>\n",
       "    <tr style=\"text-align: right;\">\n",
       "      <th></th>\n",
       "      <th>PB65_B017</th>\n",
       "      <th>PB65_B018</th>\n",
       "      <th>D12</th>\n",
       "    </tr>\n",
       "    <tr>\n",
       "      <th>tid</th>\n",
       "      <th></th>\n",
       "      <th></th>\n",
       "      <th></th>\n",
       "    </tr>\n",
       "  </thead>\n",
       "  <tbody>\n",
       "    <tr>\n",
       "      <th>ENCODE-mouseT000008451</th>\n",
       "      <td>75.0</td>\n",
       "      <td>50.0</td>\n",
       "      <td>100.0</td>\n",
       "    </tr>\n",
       "    <tr>\n",
       "      <th>ENCODE-mouseT000008452</th>\n",
       "      <td>25.0</td>\n",
       "      <td>0.0</td>\n",
       "      <td>0.0</td>\n",
       "    </tr>\n",
       "    <tr>\n",
       "      <th>ENCODE-mouseT000008453</th>\n",
       "      <td>50.0</td>\n",
       "      <td>100.0</td>\n",
       "      <td>0.0</td>\n",
       "    </tr>\n",
       "    <tr>\n",
       "      <th>ENCODE-mouseT000008454</th>\n",
       "      <td>100.0</td>\n",
       "      <td>0.0</td>\n",
       "      <td>0.0</td>\n",
       "    </tr>\n",
       "    <tr>\n",
       "      <th>ENCODE-mouseT000008455</th>\n",
       "      <td>100.0</td>\n",
       "      <td>0.0</td>\n",
       "      <td>0.0</td>\n",
       "    </tr>\n",
       "    <tr>\n",
       "      <th>ENCODE-mouseT000008456</th>\n",
       "      <td>0.0</td>\n",
       "      <td>0.0</td>\n",
       "      <td>100.0</td>\n",
       "    </tr>\n",
       "    <tr>\n",
       "      <th>ENCODE-mouseT000008457</th>\n",
       "      <td>0.0</td>\n",
       "      <td>0.0</td>\n",
       "      <td>25.0</td>\n",
       "    </tr>\n",
       "    <tr>\n",
       "      <th>ENCODE-mouseT000008458</th>\n",
       "      <td>0.0</td>\n",
       "      <td>0.0</td>\n",
       "      <td>25.0</td>\n",
       "    </tr>\n",
       "    <tr>\n",
       "      <th>ENCODE-mouseT000008459</th>\n",
       "      <td>0.0</td>\n",
       "      <td>0.0</td>\n",
       "      <td>25.0</td>\n",
       "    </tr>\n",
       "    <tr>\n",
       "      <th>ENCODE-mouseT000008460</th>\n",
       "      <td>0.0</td>\n",
       "      <td>100.0</td>\n",
       "      <td>0.0</td>\n",
       "    </tr>\n",
       "    <tr>\n",
       "      <th>ENCODE-mouseT000008461</th>\n",
       "      <td>50.0</td>\n",
       "      <td>0.0</td>\n",
       "      <td>0.0</td>\n",
       "    </tr>\n",
       "    <tr>\n",
       "      <th>ENCODE-mouseT000008462</th>\n",
       "      <td>50.0</td>\n",
       "      <td>0.0</td>\n",
       "      <td>0.0</td>\n",
       "    </tr>\n",
       "    <tr>\n",
       "      <th>ENSMUST00000020637.8</th>\n",
       "      <td>0.0</td>\n",
       "      <td>0.0</td>\n",
       "      <td>25.0</td>\n",
       "    </tr>\n",
       "    <tr>\n",
       "      <th>ENSMUST00000020741.10</th>\n",
       "      <td>50.0</td>\n",
       "      <td>0.0</td>\n",
       "      <td>0.0</td>\n",
       "    </tr>\n",
       "    <tr>\n",
       "      <th>ENSMUST00000105344.6</th>\n",
       "      <td>0.0</td>\n",
       "      <td>50.0</td>\n",
       "      <td>0.0</td>\n",
       "    </tr>\n",
       "  </tbody>\n",
       "</table>\n",
       "</div>"
      ],
      "text/plain": [
       "                        PB65_B017  PB65_B018    D12\n",
       "tid                                                \n",
       "ENCODE-mouseT000008451       75.0       50.0  100.0\n",
       "ENCODE-mouseT000008452       25.0        0.0    0.0\n",
       "ENCODE-mouseT000008453       50.0      100.0    0.0\n",
       "ENCODE-mouseT000008454      100.0        0.0    0.0\n",
       "ENCODE-mouseT000008455      100.0        0.0    0.0\n",
       "ENCODE-mouseT000008456        0.0        0.0  100.0\n",
       "ENCODE-mouseT000008457        0.0        0.0   25.0\n",
       "ENCODE-mouseT000008458        0.0        0.0   25.0\n",
       "ENCODE-mouseT000008459        0.0        0.0   25.0\n",
       "ENCODE-mouseT000008460        0.0      100.0    0.0\n",
       "ENCODE-mouseT000008461       50.0        0.0    0.0\n",
       "ENCODE-mouseT000008462       50.0        0.0    0.0\n",
       "ENSMUST00000020637.8          0.0        0.0   25.0\n",
       "ENSMUST00000020741.10        50.0        0.0    0.0\n",
       "ENSMUST00000105344.6          0.0       50.0    0.0"
      ]
     },
     "execution_count": 8,
     "metadata": {},
     "output_type": "execute_result"
    }
   ],
   "source": [
    "# df = pd.read_csv('data/chr11_and_Tcf3_talon_abundance_pi.tsv', sep='\\t')\n",
    "df = pd.DataFrame(data=sg.adata.layers['pi'], \\\n",
    "                  columns=sg.adata.var.index.tolist(), \\\n",
    "                  index=sg.adata.obs.index.tolist())\n",
    "df = df.transpose()\n",
    "df.index.name = 'tid'\n",
    "df.sort_values(by='tid', inplace=True)\n",
    "df"
   ]
  },
  {
   "cell_type": "code",
   "execution_count": 9,
   "id": "black-search",
   "metadata": {},
   "outputs": [
    {
     "data": {
      "text/html": [
       "<div>\n",
       "<style scoped>\n",
       "    .dataframe tbody tr th:only-of-type {\n",
       "        vertical-align: middle;\n",
       "    }\n",
       "\n",
       "    .dataframe tbody tr th {\n",
       "        vertical-align: top;\n",
       "    }\n",
       "\n",
       "    .dataframe thead th {\n",
       "        text-align: right;\n",
       "    }\n",
       "</style>\n",
       "<table border=\"1\" class=\"dataframe\">\n",
       "  <thead>\n",
       "    <tr style=\"text-align: right;\">\n",
       "      <th></th>\n",
       "      <th>PB65_B017</th>\n",
       "      <th>PB65_B018</th>\n",
       "      <th>D12</th>\n",
       "    </tr>\n",
       "    <tr>\n",
       "      <th>tid</th>\n",
       "      <th></th>\n",
       "      <th></th>\n",
       "      <th></th>\n",
       "    </tr>\n",
       "  </thead>\n",
       "  <tbody>\n",
       "    <tr>\n",
       "      <th>ENCODE-mouseT000008451</th>\n",
       "      <td>75</td>\n",
       "      <td>50</td>\n",
       "      <td>100</td>\n",
       "    </tr>\n",
       "    <tr>\n",
       "      <th>ENCODE-mouseT000008452</th>\n",
       "      <td>25</td>\n",
       "      <td>0</td>\n",
       "      <td>0</td>\n",
       "    </tr>\n",
       "    <tr>\n",
       "      <th>ENCODE-mouseT000008453</th>\n",
       "      <td>50</td>\n",
       "      <td>100</td>\n",
       "      <td>0</td>\n",
       "    </tr>\n",
       "    <tr>\n",
       "      <th>ENCODE-mouseT000008454</th>\n",
       "      <td>100</td>\n",
       "      <td>0</td>\n",
       "      <td>0</td>\n",
       "    </tr>\n",
       "    <tr>\n",
       "      <th>ENCODE-mouseT000008455</th>\n",
       "      <td>100</td>\n",
       "      <td>0</td>\n",
       "      <td>0</td>\n",
       "    </tr>\n",
       "    <tr>\n",
       "      <th>ENCODE-mouseT000008456</th>\n",
       "      <td>0</td>\n",
       "      <td>0</td>\n",
       "      <td>100</td>\n",
       "    </tr>\n",
       "    <tr>\n",
       "      <th>ENCODE-mouseT000008457</th>\n",
       "      <td>0</td>\n",
       "      <td>0</td>\n",
       "      <td>25</td>\n",
       "    </tr>\n",
       "    <tr>\n",
       "      <th>ENCODE-mouseT000008458</th>\n",
       "      <td>0</td>\n",
       "      <td>0</td>\n",
       "      <td>25</td>\n",
       "    </tr>\n",
       "    <tr>\n",
       "      <th>ENCODE-mouseT000008459</th>\n",
       "      <td>0</td>\n",
       "      <td>0</td>\n",
       "      <td>25</td>\n",
       "    </tr>\n",
       "    <tr>\n",
       "      <th>ENCODE-mouseT000008460</th>\n",
       "      <td>0</td>\n",
       "      <td>100</td>\n",
       "      <td>0</td>\n",
       "    </tr>\n",
       "    <tr>\n",
       "      <th>ENCODE-mouseT000008461</th>\n",
       "      <td>50</td>\n",
       "      <td>0</td>\n",
       "      <td>0</td>\n",
       "    </tr>\n",
       "    <tr>\n",
       "      <th>ENCODE-mouseT000008462</th>\n",
       "      <td>50</td>\n",
       "      <td>0</td>\n",
       "      <td>0</td>\n",
       "    </tr>\n",
       "    <tr>\n",
       "      <th>ENSMUST00000020637.8</th>\n",
       "      <td>0</td>\n",
       "      <td>0</td>\n",
       "      <td>25</td>\n",
       "    </tr>\n",
       "    <tr>\n",
       "      <th>ENSMUST00000020741.10</th>\n",
       "      <td>50</td>\n",
       "      <td>0</td>\n",
       "      <td>0</td>\n",
       "    </tr>\n",
       "    <tr>\n",
       "      <th>ENSMUST00000105344.6</th>\n",
       "      <td>0</td>\n",
       "      <td>50</td>\n",
       "      <td>0</td>\n",
       "    </tr>\n",
       "  </tbody>\n",
       "</table>\n",
       "</div>"
      ],
      "text/plain": [
       "                        PB65_B017  PB65_B018  D12\n",
       "tid                                              \n",
       "ENCODE-mouseT000008451         75         50  100\n",
       "ENCODE-mouseT000008452         25          0    0\n",
       "ENCODE-mouseT000008453         50        100    0\n",
       "ENCODE-mouseT000008454        100          0    0\n",
       "ENCODE-mouseT000008455        100          0    0\n",
       "ENCODE-mouseT000008456          0          0  100\n",
       "ENCODE-mouseT000008457          0          0   25\n",
       "ENCODE-mouseT000008458          0          0   25\n",
       "ENCODE-mouseT000008459          0          0   25\n",
       "ENCODE-mouseT000008460          0        100    0\n",
       "ENCODE-mouseT000008461         50          0    0\n",
       "ENCODE-mouseT000008462         50          0    0\n",
       "ENSMUST00000020637.8            0          0   25\n",
       "ENSMUST00000020741.10          50          0    0\n",
       "ENSMUST00000105344.6            0         50    0"
      ]
     },
     "execution_count": 9,
     "metadata": {},
     "output_type": "execute_result"
    }
   ],
   "source": [
    "# tests\n",
    "ctrl = pd.read_csv('data/chr11_and_Tcf3_talon_abundance_pi.tsv', sep='\\t')\n",
    "ctrl.set_index('tid', inplace=True)\n",
    "ctrl.sort_values(by='tid', inplace=True)\n",
    "ctrl"
   ]
  },
  {
   "cell_type": "code",
   "execution_count": 10,
   "id": "terminal-massage",
   "metadata": {},
   "outputs": [
    {
     "data": {
      "text/html": [
       "<div>\n",
       "<style scoped>\n",
       "    .dataframe tbody tr th:only-of-type {\n",
       "        vertical-align: middle;\n",
       "    }\n",
       "\n",
       "    .dataframe tbody tr th {\n",
       "        vertical-align: top;\n",
       "    }\n",
       "\n",
       "    .dataframe thead th {\n",
       "        text-align: right;\n",
       "    }\n",
       "</style>\n",
       "<table border=\"1\" class=\"dataframe\">\n",
       "  <thead>\n",
       "    <tr style=\"text-align: right;\">\n",
       "      <th></th>\n",
       "      <th>PB65_B017</th>\n",
       "      <th>PB65_B018</th>\n",
       "      <th>D12</th>\n",
       "    </tr>\n",
       "    <tr>\n",
       "      <th>tid</th>\n",
       "      <th></th>\n",
       "      <th></th>\n",
       "      <th></th>\n",
       "    </tr>\n",
       "  </thead>\n",
       "  <tbody>\n",
       "    <tr>\n",
       "      <th>ENCODE-mouseT000008451</th>\n",
       "      <td>True</td>\n",
       "      <td>True</td>\n",
       "      <td>True</td>\n",
       "    </tr>\n",
       "    <tr>\n",
       "      <th>ENCODE-mouseT000008452</th>\n",
       "      <td>True</td>\n",
       "      <td>True</td>\n",
       "      <td>True</td>\n",
       "    </tr>\n",
       "    <tr>\n",
       "      <th>ENCODE-mouseT000008453</th>\n",
       "      <td>True</td>\n",
       "      <td>True</td>\n",
       "      <td>True</td>\n",
       "    </tr>\n",
       "    <tr>\n",
       "      <th>ENCODE-mouseT000008454</th>\n",
       "      <td>True</td>\n",
       "      <td>True</td>\n",
       "      <td>True</td>\n",
       "    </tr>\n",
       "    <tr>\n",
       "      <th>ENCODE-mouseT000008455</th>\n",
       "      <td>True</td>\n",
       "      <td>True</td>\n",
       "      <td>True</td>\n",
       "    </tr>\n",
       "    <tr>\n",
       "      <th>ENCODE-mouseT000008456</th>\n",
       "      <td>True</td>\n",
       "      <td>True</td>\n",
       "      <td>True</td>\n",
       "    </tr>\n",
       "    <tr>\n",
       "      <th>ENCODE-mouseT000008457</th>\n",
       "      <td>True</td>\n",
       "      <td>True</td>\n",
       "      <td>True</td>\n",
       "    </tr>\n",
       "    <tr>\n",
       "      <th>ENCODE-mouseT000008458</th>\n",
       "      <td>True</td>\n",
       "      <td>True</td>\n",
       "      <td>True</td>\n",
       "    </tr>\n",
       "    <tr>\n",
       "      <th>ENCODE-mouseT000008459</th>\n",
       "      <td>True</td>\n",
       "      <td>True</td>\n",
       "      <td>True</td>\n",
       "    </tr>\n",
       "    <tr>\n",
       "      <th>ENCODE-mouseT000008460</th>\n",
       "      <td>True</td>\n",
       "      <td>True</td>\n",
       "      <td>True</td>\n",
       "    </tr>\n",
       "    <tr>\n",
       "      <th>ENCODE-mouseT000008461</th>\n",
       "      <td>True</td>\n",
       "      <td>True</td>\n",
       "      <td>True</td>\n",
       "    </tr>\n",
       "    <tr>\n",
       "      <th>ENCODE-mouseT000008462</th>\n",
       "      <td>True</td>\n",
       "      <td>True</td>\n",
       "      <td>True</td>\n",
       "    </tr>\n",
       "    <tr>\n",
       "      <th>ENSMUST00000020637.8</th>\n",
       "      <td>True</td>\n",
       "      <td>True</td>\n",
       "      <td>True</td>\n",
       "    </tr>\n",
       "    <tr>\n",
       "      <th>ENSMUST00000020741.10</th>\n",
       "      <td>True</td>\n",
       "      <td>True</td>\n",
       "      <td>True</td>\n",
       "    </tr>\n",
       "    <tr>\n",
       "      <th>ENSMUST00000105344.6</th>\n",
       "      <td>True</td>\n",
       "      <td>True</td>\n",
       "      <td>True</td>\n",
       "    </tr>\n",
       "  </tbody>\n",
       "</table>\n",
       "</div>"
      ],
      "text/plain": [
       "                        PB65_B017  PB65_B018   D12\n",
       "tid                                               \n",
       "ENCODE-mouseT000008451       True       True  True\n",
       "ENCODE-mouseT000008452       True       True  True\n",
       "ENCODE-mouseT000008453       True       True  True\n",
       "ENCODE-mouseT000008454       True       True  True\n",
       "ENCODE-mouseT000008455       True       True  True\n",
       "ENCODE-mouseT000008456       True       True  True\n",
       "ENCODE-mouseT000008457       True       True  True\n",
       "ENCODE-mouseT000008458       True       True  True\n",
       "ENCODE-mouseT000008459       True       True  True\n",
       "ENCODE-mouseT000008460       True       True  True\n",
       "ENCODE-mouseT000008461       True       True  True\n",
       "ENCODE-mouseT000008462       True       True  True\n",
       "ENSMUST00000020637.8         True       True  True\n",
       "ENSMUST00000020741.10        True       True  True\n",
       "ENSMUST00000105344.6         True       True  True"
      ]
     },
     "execution_count": 10,
     "metadata": {},
     "output_type": "execute_result"
    }
   ],
   "source": [
    "ctrl == df"
   ]
  },
  {
   "cell_type": "code",
   "execution_count": 3,
   "id": "earned-print",
   "metadata": {
    "collapsed": true,
    "jupyter": {
     "outputs_hidden": true
    }
   },
   "outputs": [
    {
     "data": {
      "text/plain": [
       "KeysView(Layers with keys: counts, tpm, pi)"
      ]
     },
     "execution_count": 3,
     "metadata": {},
     "output_type": "execute_result"
    }
   ],
   "source": [
    "sg.adata.layers.keys()"
   ]
  },
  {
   "cell_type": "code",
   "execution_count": 4,
   "id": "legendary-knife",
   "metadata": {
    "collapsed": true,
    "jupyter": {
     "outputs_hidden": true
    }
   },
   "outputs": [
    {
     "data": {
      "text/plain": [
       "array([[100.,   0.,   0.,   0., 100.,  25.,  25.,  25.,  25.,   0.,   0.],\n",
       "       [100.,  50., 100., 100.,   0.,   0.,   0.,   0.,   0.,  50.,   0.],\n",
       "       [ 50., 100.,   0.,   0.,   0.,   0.,   0.,   0.,   0.,   0.,  50.]],\n",
       "      dtype=float32)"
      ]
     },
     "execution_count": 4,
     "metadata": {},
     "output_type": "execute_result"
    }
   ],
   "source": [
    "sg.adata.layers['pi']"
   ]
  },
  {
   "cell_type": "code",
   "execution_count": 56,
   "id": "continental-audit",
   "metadata": {
    "collapsed": true,
    "jupyter": {
     "outputs_hidden": true
    }
   },
   "outputs": [
    {
     "name": "stdout",
     "output_type": "stream",
     "text": [
      "   ENCODE-mouseT000008451  ENSMUST00000105344.6\n",
      "1                     2.0                   0.0\n",
      "2                     4.0                   1.0\n",
      "                         1_pi  2_pi\n",
      "ENCODE-mouseT000008451  100.0  80.0\n",
      "ENSMUST00000105344.6      0.0  20.0\n",
      "\n",
      "\n",
      "   ENCODE-mouseT000008453  ENSMUST00000020741.10\n",
      "1                     0.0                    0.0\n",
      "2                     2.0                    1.0\n",
      "                        1_pi       2_pi\n",
      "ENCODE-mouseT000008453   0.0  66.666672\n",
      "ENSMUST00000020741.10    0.0  33.333336\n",
      "\n",
      "\n",
      "   ENCODE-mouseT000008454\n",
      "1                     0.0\n",
      "2                     1.0\n",
      "                        1_pi   2_pi\n",
      "ENCODE-mouseT000008454   0.0  100.0\n",
      "\n",
      "\n",
      "   ENCODE-mouseT000008455\n",
      "1                     0.0\n",
      "2                     1.0\n",
      "                        1_pi   2_pi\n",
      "ENCODE-mouseT000008455   0.0  100.0\n",
      "\n",
      "\n",
      "   ENCODE-mouseT000008456\n",
      "1                     1.0\n",
      "2                     0.0\n",
      "                         1_pi  2_pi\n",
      "ENCODE-mouseT000008456  100.0   0.0\n",
      "\n",
      "\n",
      "   ENCODE-mouseT000008457  ENCODE-mouseT000008458  ENCODE-mouseT000008459  \\\n",
      "1                     1.0                     1.0                     1.0   \n",
      "2                     0.0                     0.0                     0.0   \n",
      "\n",
      "   ENSMUST00000020637.8  \n",
      "1                   1.0  \n",
      "2                   0.0  \n",
      "                        1_pi  2_pi\n",
      "ENCODE-mouseT000008457  25.0   0.0\n",
      "ENCODE-mouseT000008458  25.0   0.0\n",
      "ENCODE-mouseT000008459  25.0   0.0\n",
      "ENSMUST00000020637.8    25.0   0.0\n",
      "\n",
      "\n"
     ]
    },
    {
     "name": "stderr",
     "output_type": "stream",
     "text": [
      "/Users/fairliereese/miniconda3/lib/python3.7/site-packages/anndata/_core/anndata.py:1056: FutureWarning: is_categorical is deprecated and will be removed in a future version.  Use is_categorical_dtype instead\n",
      "  if not is_categorical(df_full[k]):\n",
      "/Users/fairliereese/miniconda3/lib/python3.7/site-packages/anndata/_core/anndata.py:1056: FutureWarning: is_categorical is deprecated and will be removed in a future version.  Use is_categorical_dtype instead\n",
      "  if not is_categorical(df_full[k]):\n",
      "/Users/fairliereese/miniconda3/lib/python3.7/site-packages/anndata/_core/anndata.py:1056: FutureWarning: is_categorical is deprecated and will be removed in a future version.  Use is_categorical_dtype instead\n",
      "  if not is_categorical(df_full[k]):\n",
      "/Users/fairliereese/miniconda3/lib/python3.7/site-packages/anndata/_core/anndata.py:1056: FutureWarning: is_categorical is deprecated and will be removed in a future version.  Use is_categorical_dtype instead\n",
      "  if not is_categorical(df_full[k]):\n",
      "/Users/fairliereese/miniconda3/lib/python3.7/site-packages/anndata/_core/anndata.py:1056: FutureWarning: is_categorical is deprecated and will be removed in a future version.  Use is_categorical_dtype instead\n",
      "  if not is_categorical(df_full[k]):\n",
      "/Users/fairliereese/miniconda3/lib/python3.7/site-packages/anndata/_core/anndata.py:1056: FutureWarning: is_categorical is deprecated and will be removed in a future version.  Use is_categorical_dtype instead\n",
      "  if not is_categorical(df_full[k]):\n"
     ]
    }
   ],
   "source": [
    "# conditions = ['PB65_B017', 'PB65_B018', 'D12']\n",
    "# cond = 'dataset'\n",
    "cond = 'cluster'\n",
    "\n",
    "# first set default assay to counts\n",
    "sg.adata.X = sg.adata.layers['counts']\n",
    "\n",
    "for g in sg.t_df.gid.unique():\n",
    "    tids = sg.t_df.loc[sg.t_df.gid == g, 'tid'].tolist()\n",
    "    temp = sg.adata[:, tids]\n",
    "    temp = pd.DataFrame(data=temp.X, index=temp.obs[cond].tolist(), columns=temp.var.index.tolist())\n",
    "    \n",
    "    temp = temp.groupby(level=0).sum()\n",
    "    conditions = temp.index.tolist()\n",
    "    print(temp)\n",
    "    temp = temp.transpose()\n",
    "    \n",
    "    # aggregate on conditions\n",
    "    pi_cols = []\n",
    "    for c in conditions:\n",
    "        total_col = '{}_total'.format(c)\n",
    "        pi_col = '{}_pi'.format(c)\n",
    "        total_count = temp[c].sum()\n",
    "        temp[total_col] = total_count\n",
    "        temp[pi_col] = (temp[c]/temp[total_col])*100\n",
    "        pi_cols.append(pi_col)\n",
    "        \n",
    "    # fill nans (no expression) with 0\n",
    "    temp.fillna(0, inplace=True)\n",
    "    \n",
    "    # only pi columns\n",
    "    temp = temp[pi_cols]"
   ]
  },
  {
   "cell_type": "code",
   "execution_count": 32,
   "id": "generous-fault",
   "metadata": {},
   "outputs": [],
   "source": [
    "# calc pi\n",
    "\n",
    "cond = 'dataset'\n",
    "df = pd.DataFrame(data=sg.adata.X, index=sg.adata.obs[cond].tolist(), columns=sg.adata.var.index.tolist())\n",
    "\n",
    "# add up values on condition (row)\n",
    "# print(df.head())\n",
    "df = df.groupby(level=0).sum()\n",
    "# print(df.head())\n",
    "conditions = df.index.unique().tolist()\n",
    "# print(conditions)\n",
    "df = df.transpose()\n",
    "\n",
    "# add gid \n",
    "df = df.merge(sg.t_df['gid'], how='left', left_index=True, right_index=True)\n",
    "\n",
    "# calculate total number of reads per gene per condition\n",
    "# print(df.loc[df.gid == 'ENSMUSG00000020167.13'])\n",
    "temp = df.copy(deep=True)\n",
    "temp.reset_index(drop=True, inplace=True)\n",
    "totals = temp.groupby('gid').sum().reset_index()\n",
    "# print(totals.head())\n",
    "\n",
    "# merge back in \n",
    "df.reset_index(inplace=True)\n",
    "df.rename({'index':'tid'}, axis=1, inplace=True)\n",
    "df = df.merge(totals, on='gid', suffixes=(None, '_total'))\n",
    "# print(df.head())\n",
    "del totals\n",
    "\n",
    "# calculate percent iso exp for each gene / transcript / condition\n",
    "pi_cols = []\n",
    "for c in conditions:\n",
    "    cond_col = '{}_pi'.format(c)\n",
    "    total_col = '{}_total'.format(c)\n",
    "    df[cond_col] = (df[c]/df[total_col])*100\n",
    "    pi_cols.append(cond_col)\n",
    "    \n",
    "# fill nans with 0 \n",
    "df.fillna(0, inplace=True)\n",
    "# print(df.head())\n",
    "# \n",
    "# formatting\n",
    "df.set_index('tid', inplace=True)\n",
    "df = df[pi_cols]\n",
    "for col in pi_cols:\n",
    "    new_col = col[:-3]\n",
    "    df.rename({col: new_col}, axis=1, inplace=True)\n",
    "df = df.transpose()\n",
    "# df.set_index('tid', inplace=True)\n",
    "\n",
    "# reorder in sg.adata.var / sg.t_df order\n",
    "df = df[sg.t_df.tid.tolist()]\n",
    "\n"
   ]
  },
  {
   "cell_type": "code",
   "execution_count": 33,
   "id": "suffering-thousand",
   "metadata": {},
   "outputs": [
    {
     "data": {
      "text/html": [
       "<div>\n",
       "<style scoped>\n",
       "    .dataframe tbody tr th:only-of-type {\n",
       "        vertical-align: middle;\n",
       "    }\n",
       "\n",
       "    .dataframe tbody tr th {\n",
       "        vertical-align: top;\n",
       "    }\n",
       "\n",
       "    .dataframe thead th {\n",
       "        text-align: right;\n",
       "    }\n",
       "</style>\n",
       "<table border=\"1\" class=\"dataframe\">\n",
       "  <thead>\n",
       "    <tr style=\"text-align: right;\">\n",
       "      <th>tid</th>\n",
       "      <th>ENCODE-mouseT000008451</th>\n",
       "      <th>ENCODE-mouseT000008452</th>\n",
       "      <th>ENCODE-mouseT000008453</th>\n",
       "      <th>ENCODE-mouseT000008454</th>\n",
       "      <th>ENCODE-mouseT000008455</th>\n",
       "      <th>ENCODE-mouseT000008456</th>\n",
       "      <th>ENCODE-mouseT000008457</th>\n",
       "      <th>ENCODE-mouseT000008458</th>\n",
       "      <th>ENCODE-mouseT000008459</th>\n",
       "      <th>ENCODE-mouseT000008460</th>\n",
       "      <th>ENCODE-mouseT000008461</th>\n",
       "      <th>ENCODE-mouseT000008462</th>\n",
       "      <th>ENSMUST00000020637.8</th>\n",
       "      <th>ENSMUST00000020741.10</th>\n",
       "      <th>ENSMUST00000105344.6</th>\n",
       "    </tr>\n",
       "  </thead>\n",
       "  <tbody>\n",
       "    <tr>\n",
       "      <th>D12</th>\n",
       "      <td>100.0</td>\n",
       "      <td>0.0</td>\n",
       "      <td>0.0</td>\n",
       "      <td>0.0</td>\n",
       "      <td>0.0</td>\n",
       "      <td>100.0</td>\n",
       "      <td>25.0</td>\n",
       "      <td>25.0</td>\n",
       "      <td>25.0</td>\n",
       "      <td>0.0</td>\n",
       "      <td>0.0</td>\n",
       "      <td>0.0</td>\n",
       "      <td>25.0</td>\n",
       "      <td>0.0</td>\n",
       "      <td>0.0</td>\n",
       "    </tr>\n",
       "    <tr>\n",
       "      <th>PB65_B017</th>\n",
       "      <td>75.0</td>\n",
       "      <td>25.0</td>\n",
       "      <td>50.0</td>\n",
       "      <td>100.0</td>\n",
       "      <td>100.0</td>\n",
       "      <td>0.0</td>\n",
       "      <td>0.0</td>\n",
       "      <td>0.0</td>\n",
       "      <td>0.0</td>\n",
       "      <td>0.0</td>\n",
       "      <td>50.0</td>\n",
       "      <td>50.0</td>\n",
       "      <td>0.0</td>\n",
       "      <td>50.0</td>\n",
       "      <td>0.0</td>\n",
       "    </tr>\n",
       "    <tr>\n",
       "      <th>PB65_B018</th>\n",
       "      <td>50.0</td>\n",
       "      <td>0.0</td>\n",
       "      <td>100.0</td>\n",
       "      <td>0.0</td>\n",
       "      <td>0.0</td>\n",
       "      <td>0.0</td>\n",
       "      <td>0.0</td>\n",
       "      <td>0.0</td>\n",
       "      <td>0.0</td>\n",
       "      <td>100.0</td>\n",
       "      <td>0.0</td>\n",
       "      <td>0.0</td>\n",
       "      <td>0.0</td>\n",
       "      <td>0.0</td>\n",
       "      <td>50.0</td>\n",
       "    </tr>\n",
       "  </tbody>\n",
       "</table>\n",
       "</div>"
      ],
      "text/plain": [
       "tid        ENCODE-mouseT000008451  ENCODE-mouseT000008452  \\\n",
       "D12                         100.0                     0.0   \n",
       "PB65_B017                    75.0                    25.0   \n",
       "PB65_B018                    50.0                     0.0   \n",
       "\n",
       "tid        ENCODE-mouseT000008453  ENCODE-mouseT000008454  \\\n",
       "D12                           0.0                     0.0   \n",
       "PB65_B017                    50.0                   100.0   \n",
       "PB65_B018                   100.0                     0.0   \n",
       "\n",
       "tid        ENCODE-mouseT000008455  ENCODE-mouseT000008456  \\\n",
       "D12                           0.0                   100.0   \n",
       "PB65_B017                   100.0                     0.0   \n",
       "PB65_B018                     0.0                     0.0   \n",
       "\n",
       "tid        ENCODE-mouseT000008457  ENCODE-mouseT000008458  \\\n",
       "D12                          25.0                    25.0   \n",
       "PB65_B017                     0.0                     0.0   \n",
       "PB65_B018                     0.0                     0.0   \n",
       "\n",
       "tid        ENCODE-mouseT000008459  ENCODE-mouseT000008460  \\\n",
       "D12                          25.0                     0.0   \n",
       "PB65_B017                     0.0                     0.0   \n",
       "PB65_B018                     0.0                   100.0   \n",
       "\n",
       "tid        ENCODE-mouseT000008461  ENCODE-mouseT000008462  \\\n",
       "D12                           0.0                     0.0   \n",
       "PB65_B017                    50.0                    50.0   \n",
       "PB65_B018                     0.0                     0.0   \n",
       "\n",
       "tid        ENSMUST00000020637.8  ENSMUST00000020741.10  ENSMUST00000105344.6  \n",
       "D12                        25.0                    0.0                   0.0  \n",
       "PB65_B017                   0.0                   50.0                   0.0  \n",
       "PB65_B018                   0.0                    0.0                  50.0  "
      ]
     },
     "execution_count": 33,
     "metadata": {},
     "output_type": "execute_result"
    }
   ],
   "source": [
    "df.head()"
   ]
  },
  {
   "cell_type": "code",
   "execution_count": 135,
   "id": "changed-leonard",
   "metadata": {},
   "outputs": [],
   "source": [
    "# make pi layer\n",
    "sg.adata.layers['pi'] = df.to_numpy()"
   ]
  },
  {
   "cell_type": "code",
   "execution_count": 134,
   "id": "digital-cable",
   "metadata": {
    "collapsed": true,
    "jupyter": {
     "outputs_hidden": true
    }
   },
   "outputs": [
    {
     "name": "stdout",
     "output_type": "stream",
     "text": [
      "(3, 11)\n",
      "(3, 11)\n"
     ]
    }
   ],
   "source": [
    "print(np.shape(df.to_numpy()))\n",
    "print(np.shape(sg.adata.X))"
   ]
  },
  {
   "cell_type": "code",
   "execution_count": 130,
   "id": "unlike-dayton",
   "metadata": {},
   "outputs": [
    {
     "name": "stdout",
     "output_type": "stream",
     "text": [
      "11\n",
      "11\n",
      "True\n",
      "['ENCODE-mouseT000008451', 'ENCODE-mouseT000008453', 'ENCODE-mouseT000008454', 'ENCODE-mouseT000008455', 'ENCODE-mouseT000008456', 'ENCODE-mouseT000008457', 'ENCODE-mouseT000008458', 'ENCODE-mouseT000008459', 'ENSMUST00000020637.8', 'ENSMUST00000020741.10', 'ENSMUST00000105344.6']\n",
      "\n",
      "['ENCODE-mouseT000008451', 'ENCODE-mouseT000008453', 'ENCODE-mouseT000008454', 'ENCODE-mouseT000008455', 'ENCODE-mouseT000008456', 'ENCODE-mouseT000008457', 'ENCODE-mouseT000008458', 'ENCODE-mouseT000008459', 'ENSMUST00000020637.8', 'ENSMUST00000020741.10', 'ENSMUST00000105344.6']\n",
      "\n",
      "['ENCODE-mouseT000008451', 'ENCODE-mouseT000008453', 'ENCODE-mouseT000008454', 'ENCODE-mouseT000008455', 'ENCODE-mouseT000008456', 'ENCODE-mouseT000008457', 'ENCODE-mouseT000008458', 'ENCODE-mouseT000008459', 'ENSMUST00000020637.8', 'ENSMUST00000020741.10', 'ENSMUST00000105344.6']\n",
      "True\n"
     ]
    }
   ],
   "source": [
    "# check that the orders are the same across t_df, new layer, and adata.obs\n",
    "print(len(df.columns))\n",
    "print(len(sg.adata.var.index.tolist()))\n",
    "print(df.columns.tolist() == sg.adata.var.index.tolist())\n",
    "print(df.columns.tolist())\n",
    "print()\n",
    "print(sg.adata.var.index.tolist())\n",
    "print()\n",
    "print(sg.t_df.index.tolist())\n",
    "print(sg.adata.var.index.tolist()==sg.t_df.index.tolist())"
   ]
  },
  {
   "cell_type": "code",
   "execution_count": 110,
   "id": "greatest-heavy",
   "metadata": {},
   "outputs": [
    {
     "name": "stdout",
     "output_type": "stream",
     "text": [
      "(11, 1)\n",
      "(3, 11)\n",
      "(3, 3)\n"
     ]
    }
   ],
   "source": [
    "print(np.shape(sg.adata.var))\n",
    "print(np.shape(sg.adata.X))\n",
    "print(np.shape(sg.adata.obs))"
   ]
  },
  {
   "cell_type": "raw",
   "id": "postal-marks",
   "metadata": {},
   "source": [
    "temp.X"
   ]
  },
  {
   "cell_type": "markdown",
   "id": "killing-export",
   "metadata": {},
   "source": [
    "#### test - add metadata one after another with dupe values, don't overwrite"
   ]
  },
  {
   "cell_type": "code",
   "execution_count": 2,
   "id": "exempt-grain",
   "metadata": {},
   "outputs": [
    {
     "name": "stdout",
     "output_type": "stream",
     "text": [
      "\n",
      "Adding annotation to the SwanGraph\n"
     ]
    },
    {
     "name": "stderr",
     "output_type": "stream",
     "text": [
      "Processing transcripts:  99%|█████████▉| 8400/8450 [00:02<00:00, 4166.37it/s]\n"
     ]
    },
    {
     "name": "stdout",
     "output_type": "stream",
     "text": [
      "Reindexing and sorting entries on genomic location...\n"
     ]
    },
    {
     "name": "stderr",
     "output_type": "stream",
     "text": [
      "Reindexing vertices: 100%|█████████▉| 50000/50074 [00:00<00:00, 970872.24it/s] \n",
      "Reindexing edges:  98%|█████████▊| 49000/50074 [00:00<00:00, 628898.53it/s]\n",
      "Reindexing transcripts:  99%|█████████▉| 8400/8450 [00:00<00:00, 147347.67it/s]\n"
     ]
    },
    {
     "name": "stdout",
     "output_type": "stream",
     "text": [
      "\n",
      "Annotation to the SwanGraph\n",
      "\n",
      "Adding transcriptome to the SwanGraph\n"
     ]
    },
    {
     "name": "stderr",
     "output_type": "stream",
     "text": [
      "AnnData expects .obs.index to contain strings, but your first indices are: Int64Index([0, 1], dtype='int64'), …\n",
      "AnnData expects .obs.index to contain strings, but your first indices are: Int64Index([0, 1], dtype='int64'), …\n"
     ]
    },
    {
     "name": "stdout",
     "output_type": "stream",
     "text": [
      "\n",
      "Adding abundance for datasets PB65_B017, PB65_B018, D12 to SwanGraph.\n"
     ]
    }
   ],
   "source": [
    "sg = swan.SwanGraph()\n",
    "# just gencode vM21 chr 11 and tcf3\n",
    "gtf = 'data/chr11_and_Tcf3.gtf'\n",
    "sg.add_annotation(gtf, verbose=True)\n",
    "db = 'data/chr11_and_Tcf3_no_gname.db'\n",
    "sg.add_transcriptome(db)\n",
    "ab = 'data/chr11_and_Tcf3_talon_abundance.tsv'\n",
    "sg.add_abundance(ab)\n",
    "meta = 'data/chr11_and_Tcf3_metadata.tsv'\n",
    "sg.add_metadata(meta)\n",
    "meta = 'data/chr11_and_Tcf3_metadata_dupecols.tsv'\n",
    "sg.add_metadata(meta, overwrite=False)"
   ]
  },
  {
   "cell_type": "code",
   "execution_count": 3,
   "id": "valuable-houston",
   "metadata": {},
   "outputs": [
    {
     "data": {
      "text/html": [
       "<div>\n",
       "<style scoped>\n",
       "    .dataframe tbody tr th:only-of-type {\n",
       "        vertical-align: middle;\n",
       "    }\n",
       "\n",
       "    .dataframe tbody tr th {\n",
       "        vertical-align: top;\n",
       "    }\n",
       "\n",
       "    .dataframe thead th {\n",
       "        text-align: right;\n",
       "    }\n",
       "</style>\n",
       "<table border=\"1\" class=\"dataframe\">\n",
       "  <thead>\n",
       "    <tr style=\"text-align: right;\">\n",
       "      <th></th>\n",
       "      <th>dataset</th>\n",
       "      <th>cluster</th>\n",
       "      <th>sample</th>\n",
       "      <th>cell_state</th>\n",
       "    </tr>\n",
       "    <tr>\n",
       "      <th>index</th>\n",
       "      <th></th>\n",
       "      <th></th>\n",
       "      <th></th>\n",
       "      <th></th>\n",
       "    </tr>\n",
       "  </thead>\n",
       "  <tbody>\n",
       "    <tr>\n",
       "      <th>PB65_B017</th>\n",
       "      <td>PB65_B017</td>\n",
       "      <td>2</td>\n",
       "      <td>GM12878</td>\n",
       "      <td>M</td>\n",
       "    </tr>\n",
       "    <tr>\n",
       "      <th>PB65_B018</th>\n",
       "      <td>PB65_B018</td>\n",
       "      <td>2</td>\n",
       "      <td>GM12878</td>\n",
       "      <td>S</td>\n",
       "    </tr>\n",
       "    <tr>\n",
       "      <th>D12</th>\n",
       "      <td>D12</td>\n",
       "      <td>1</td>\n",
       "      <td>K562</td>\n",
       "      <td>G0</td>\n",
       "    </tr>\n",
       "  </tbody>\n",
       "</table>\n",
       "</div>"
      ],
      "text/plain": [
       "             dataset cluster   sample cell_state\n",
       "index                                           \n",
       "PB65_B017  PB65_B017       2  GM12878          M\n",
       "PB65_B018  PB65_B018       2  GM12878          S\n",
       "D12              D12       1     K562         G0"
      ]
     },
     "execution_count": 3,
     "metadata": {},
     "output_type": "execute_result"
    }
   ],
   "source": [
    "sg.adata.obs # clusters should be 1 and 2"
   ]
  },
  {
   "cell_type": "markdown",
   "id": "precise-memory",
   "metadata": {},
   "source": [
    "#### test - add metadata one after another with dupe values, overwrite"
   ]
  },
  {
   "cell_type": "code",
   "execution_count": 4,
   "id": "auburn-network",
   "metadata": {},
   "outputs": [
    {
     "name": "stdout",
     "output_type": "stream",
     "text": [
      "\n",
      "Adding annotation to the SwanGraph\n"
     ]
    },
    {
     "name": "stderr",
     "output_type": "stream",
     "text": [
      "Processing transcripts:  99%|█████████▉| 8400/8450 [00:01<00:00, 4455.59it/s]\n"
     ]
    },
    {
     "name": "stdout",
     "output_type": "stream",
     "text": [
      "Reindexing and sorting entries on genomic location...\n"
     ]
    },
    {
     "name": "stderr",
     "output_type": "stream",
     "text": [
      "Reindexing vertices: 100%|█████████▉| 50000/50074 [00:00<00:00, 1261475.16it/s]\n",
      "Reindexing edges:  98%|█████████▊| 49000/50074 [00:00<00:00, 685053.67it/s]\n",
      "Reindexing transcripts:  99%|█████████▉| 8400/8450 [00:00<00:00, 155110.70it/s]\n"
     ]
    },
    {
     "name": "stdout",
     "output_type": "stream",
     "text": [
      "\n",
      "Annotation to the SwanGraph\n",
      "\n",
      "Adding transcriptome to the SwanGraph\n"
     ]
    },
    {
     "name": "stderr",
     "output_type": "stream",
     "text": [
      "AnnData expects .obs.index to contain strings, but your first indices are: Int64Index([0, 1], dtype='int64'), …\n",
      "AnnData expects .obs.index to contain strings, but your first indices are: Int64Index([0, 1], dtype='int64'), …\n"
     ]
    },
    {
     "name": "stdout",
     "output_type": "stream",
     "text": [
      "\n",
      "Adding abundance for datasets PB65_B017, PB65_B018, D12 to SwanGraph.\n"
     ]
    }
   ],
   "source": [
    "sg = swan.SwanGraph()\n",
    "# just gencode vM21 chr 11 and tcf3\n",
    "gtf = 'data/chr11_and_Tcf3.gtf'\n",
    "sg.add_annotation(gtf, verbose=True)\n",
    "db = 'data/chr11_and_Tcf3_no_gname.db'\n",
    "sg.add_transcriptome(db)\n",
    "ab = 'data/chr11_and_Tcf3_talon_abundance.tsv'\n",
    "sg.add_abundance(ab)\n",
    "meta = 'data/chr11_and_Tcf3_metadata.tsv'\n",
    "sg.add_metadata(meta)\n",
    "meta = 'data/chr11_and_Tcf3_metadata_dupecols.tsv'\n",
    "sg.add_metadata(meta, overwrite=True)"
   ]
  },
  {
   "cell_type": "code",
   "execution_count": 5,
   "id": "auburn-retail",
   "metadata": {},
   "outputs": [
    {
     "data": {
      "text/html": [
       "<div>\n",
       "<style scoped>\n",
       "    .dataframe tbody tr th:only-of-type {\n",
       "        vertical-align: middle;\n",
       "    }\n",
       "\n",
       "    .dataframe tbody tr th {\n",
       "        vertical-align: top;\n",
       "    }\n",
       "\n",
       "    .dataframe thead th {\n",
       "        text-align: right;\n",
       "    }\n",
       "</style>\n",
       "<table border=\"1\" class=\"dataframe\">\n",
       "  <thead>\n",
       "    <tr style=\"text-align: right;\">\n",
       "      <th></th>\n",
       "      <th>dataset</th>\n",
       "      <th>sample</th>\n",
       "      <th>cell_state</th>\n",
       "      <th>cluster</th>\n",
       "    </tr>\n",
       "    <tr>\n",
       "      <th>index</th>\n",
       "      <th></th>\n",
       "      <th></th>\n",
       "      <th></th>\n",
       "      <th></th>\n",
       "    </tr>\n",
       "  </thead>\n",
       "  <tbody>\n",
       "    <tr>\n",
       "      <th>PB65_B017</th>\n",
       "      <td>PB65_B017</td>\n",
       "      <td>GM12878</td>\n",
       "      <td>M</td>\n",
       "      <td>3</td>\n",
       "    </tr>\n",
       "    <tr>\n",
       "      <th>PB65_B018</th>\n",
       "      <td>PB65_B018</td>\n",
       "      <td>GM12878</td>\n",
       "      <td>S</td>\n",
       "      <td>4</td>\n",
       "    </tr>\n",
       "    <tr>\n",
       "      <th>D12</th>\n",
       "      <td>D12</td>\n",
       "      <td>K562</td>\n",
       "      <td>G0</td>\n",
       "      <td>3</td>\n",
       "    </tr>\n",
       "  </tbody>\n",
       "</table>\n",
       "</div>"
      ],
      "text/plain": [
       "             dataset   sample cell_state cluster\n",
       "index                                           \n",
       "PB65_B017  PB65_B017  GM12878          M       3\n",
       "PB65_B018  PB65_B018  GM12878          S       4\n",
       "D12              D12     K562         G0       3"
      ]
     },
     "execution_count": 5,
     "metadata": {},
     "output_type": "execute_result"
    }
   ],
   "source": [
    "sg.adata.obs # clusters should be 3 and 4 now"
   ]
  },
  {
   "cell_type": "markdown",
   "id": "defined-depression",
   "metadata": {},
   "source": [
    "#### test - add metadata one after another to obs table"
   ]
  },
  {
   "cell_type": "code",
   "execution_count": 6,
   "id": "maritime-competition",
   "metadata": {},
   "outputs": [
    {
     "name": "stdout",
     "output_type": "stream",
     "text": [
      "['beep']\n",
      "['bop', 'beep']\n",
      "['beep']\n"
     ]
    }
   ],
   "source": [
    "a = ['dataset', 'beep']\n",
    "b = ['beep', 'bop', 'dataset']\n",
    "sg_cols = list(set(a)-set(['dataset']))\n",
    "meta_cols = list(set(b)-set(['dataset']))\n",
    "print(sg_cols) # should be ['beep']\n",
    "print(meta_cols) # should be ['beep', 'bop']\n",
    "dupe_cols = [c for c in meta_cols if c in sg_cols]\n",
    "print(dupe_cols) # should be ['beep']"
   ]
  },
  {
   "cell_type": "code",
   "execution_count": 7,
   "id": "mighty-haven",
   "metadata": {},
   "outputs": [
    {
     "name": "stdout",
     "output_type": "stream",
     "text": [
      "\n",
      "Adding annotation to the SwanGraph\n"
     ]
    },
    {
     "name": "stderr",
     "output_type": "stream",
     "text": [
      "Processing transcripts:  99%|█████████▉| 8400/8450 [00:01<00:00, 4469.69it/s]\n"
     ]
    },
    {
     "name": "stdout",
     "output_type": "stream",
     "text": [
      "Reindexing and sorting entries on genomic location...\n"
     ]
    },
    {
     "name": "stderr",
     "output_type": "stream",
     "text": [
      "Reindexing vertices: 100%|█████████▉| 50000/50074 [00:00<00:00, 1200657.25it/s]\n",
      "Reindexing edges:  98%|█████████▊| 49000/50074 [00:00<00:00, 286162.69it/s]\n",
      "Reindexing transcripts:  99%|█████████▉| 8400/8450 [00:00<00:00, 148394.65it/s]\n"
     ]
    },
    {
     "name": "stdout",
     "output_type": "stream",
     "text": [
      "\n",
      "Annotation to the SwanGraph\n",
      "\n",
      "Adding transcriptome to the SwanGraph\n"
     ]
    },
    {
     "name": "stderr",
     "output_type": "stream",
     "text": [
      "AnnData expects .obs.index to contain strings, but your first indices are: Int64Index([0, 1], dtype='int64'), …\n",
      "AnnData expects .obs.index to contain strings, but your first indices are: Int64Index([0, 1], dtype='int64'), …\n"
     ]
    },
    {
     "name": "stdout",
     "output_type": "stream",
     "text": [
      "\n",
      "Adding abundance for datasets PB65_B017, PB65_B018, D12 to SwanGraph.\n"
     ]
    }
   ],
   "source": [
    "sg = swan.SwanGraph()\n",
    "# just gencode vM21 chr 11 and tcf3\n",
    "gtf = 'data/chr11_and_Tcf3.gtf'\n",
    "sg.add_annotation(gtf, verbose=True)\n",
    "db = 'data/chr11_and_Tcf3_no_gname.db'\n",
    "sg.add_transcriptome(db)\n",
    "ab = 'data/chr11_and_Tcf3_talon_abundance.tsv'\n",
    "sg.add_abundance(ab)\n",
    "meta = 'data/chr11_and_Tcf3_metadata.tsv'\n",
    "sg.add_metadata(meta)\n",
    "meta = 'data/chr11_and_Tcf3_metadata_2.tsv'\n",
    "sg.add_metadata(meta)"
   ]
  },
  {
   "cell_type": "code",
   "execution_count": 8,
   "id": "concrete-increase",
   "metadata": {},
   "outputs": [
    {
     "data": {
      "text/html": [
       "<div>\n",
       "<style scoped>\n",
       "    .dataframe tbody tr th:only-of-type {\n",
       "        vertical-align: middle;\n",
       "    }\n",
       "\n",
       "    .dataframe tbody tr th {\n",
       "        vertical-align: top;\n",
       "    }\n",
       "\n",
       "    .dataframe thead th {\n",
       "        text-align: right;\n",
       "    }\n",
       "</style>\n",
       "<table border=\"1\" class=\"dataframe\">\n",
       "  <thead>\n",
       "    <tr style=\"text-align: right;\">\n",
       "      <th></th>\n",
       "      <th>dataset</th>\n",
       "      <th>cluster</th>\n",
       "      <th>sample</th>\n",
       "      <th>cell_state</th>\n",
       "    </tr>\n",
       "    <tr>\n",
       "      <th>index</th>\n",
       "      <th></th>\n",
       "      <th></th>\n",
       "      <th></th>\n",
       "      <th></th>\n",
       "    </tr>\n",
       "  </thead>\n",
       "  <tbody>\n",
       "    <tr>\n",
       "      <th>PB65_B017</th>\n",
       "      <td>PB65_B017</td>\n",
       "      <td>2</td>\n",
       "      <td>GM12878</td>\n",
       "      <td>M</td>\n",
       "    </tr>\n",
       "    <tr>\n",
       "      <th>PB65_B018</th>\n",
       "      <td>PB65_B018</td>\n",
       "      <td>2</td>\n",
       "      <td>GM12878</td>\n",
       "      <td>S</td>\n",
       "    </tr>\n",
       "    <tr>\n",
       "      <th>D12</th>\n",
       "      <td>D12</td>\n",
       "      <td>1</td>\n",
       "      <td>K562</td>\n",
       "      <td>G0</td>\n",
       "    </tr>\n",
       "  </tbody>\n",
       "</table>\n",
       "</div>"
      ],
      "text/plain": [
       "             dataset cluster   sample cell_state\n",
       "index                                           \n",
       "PB65_B017  PB65_B017       2  GM12878          M\n",
       "PB65_B018  PB65_B018       2  GM12878          S\n",
       "D12              D12       1     K562         G0"
      ]
     },
     "execution_count": 8,
     "metadata": {},
     "output_type": "execute_result"
    }
   ],
   "source": [
    "sg.adata.obs"
   ]
  },
  {
   "cell_type": "markdown",
   "id": "missing-digest",
   "metadata": {},
   "source": [
    "#### test - add metadata to obs table\n"
   ]
  },
  {
   "cell_type": "code",
   "execution_count": 11,
   "id": "infrared-quarter",
   "metadata": {},
   "outputs": [
    {
     "name": "stderr",
     "output_type": "stream",
     "text": [
      "AnnData expects .obs.index to contain strings, but your first indices are: Int64Index([0, 1], dtype='int64'), …\n"
     ]
    }
   ],
   "source": [
    "df = pd.read_csv(meta, sep='\\t')\n",
    "sg.adata.obs = sg.adata.obs.merge(df, how='left', on='dataset')"
   ]
  },
  {
   "cell_type": "code",
   "execution_count": 13,
   "id": "european-fever",
   "metadata": {},
   "outputs": [
    {
     "name": "stdout",
     "output_type": "stream",
     "text": [
      "\n",
      "Adding annotation to the SwanGraph\n"
     ]
    },
    {
     "name": "stderr",
     "output_type": "stream",
     "text": [
      "Processing transcripts:  99%|█████████▉| 8400/8450 [00:01<00:00, 4477.48it/s]\n"
     ]
    },
    {
     "name": "stdout",
     "output_type": "stream",
     "text": [
      "Reindexing and sorting entries on genomic location...\n"
     ]
    },
    {
     "name": "stderr",
     "output_type": "stream",
     "text": [
      "Reindexing vertices: 100%|█████████▉| 50000/50074 [00:00<00:00, 1256133.16it/s]\n",
      "Reindexing edges:  98%|█████████▊| 49000/50074 [00:00<00:00, 676068.92it/s]\n",
      "Reindexing transcripts:  99%|█████████▉| 8400/8450 [00:00<00:00, 132285.60it/s]\n"
     ]
    },
    {
     "name": "stdout",
     "output_type": "stream",
     "text": [
      "\n",
      "Annotation to the SwanGraph\n",
      "\n",
      "Adding transcriptome to the SwanGraph\n"
     ]
    },
    {
     "name": "stderr",
     "output_type": "stream",
     "text": [
      "AnnData expects .obs.index to contain strings, but your first indices are: Int64Index([0, 1], dtype='int64'), …\n"
     ]
    },
    {
     "name": "stdout",
     "output_type": "stream",
     "text": [
      "\n",
      "Adding abundance for datasets PB65_B017, PB65_B018, D12 to SwanGraph.\n"
     ]
    }
   ],
   "source": [
    "sg = swan.SwanGraph()\n",
    "# just gencode vM21 chr 11 and tcf3\n",
    "gtf = 'data/chr11_and_Tcf3.gtf'\n",
    "sg.add_annotation(gtf, verbose=True)\n",
    "db = 'data/chr11_and_Tcf3_no_gname.db'\n",
    "sg.add_transcriptome(db)\n",
    "ab = 'data/chr11_and_Tcf3_talon_abundance.tsv'\n",
    "sg.add_abundance(ab)\n",
    "meta = 'data/chr11_and_Tcf3_metadata.tsv'\n",
    "sg.add_metadata(meta)"
   ]
  },
  {
   "cell_type": "code",
   "execution_count": 14,
   "id": "temporal-louisville",
   "metadata": {},
   "outputs": [
    {
     "data": {
      "text/html": [
       "<div>\n",
       "<style scoped>\n",
       "    .dataframe tbody tr th:only-of-type {\n",
       "        vertical-align: middle;\n",
       "    }\n",
       "\n",
       "    .dataframe tbody tr th {\n",
       "        vertical-align: top;\n",
       "    }\n",
       "\n",
       "    .dataframe thead th {\n",
       "        text-align: right;\n",
       "    }\n",
       "</style>\n",
       "<table border=\"1\" class=\"dataframe\">\n",
       "  <thead>\n",
       "    <tr style=\"text-align: right;\">\n",
       "      <th></th>\n",
       "      <th>dataset</th>\n",
       "      <th>cluster</th>\n",
       "      <th>sample</th>\n",
       "    </tr>\n",
       "    <tr>\n",
       "      <th>index</th>\n",
       "      <th></th>\n",
       "      <th></th>\n",
       "      <th></th>\n",
       "    </tr>\n",
       "  </thead>\n",
       "  <tbody>\n",
       "    <tr>\n",
       "      <th>PB65_B017</th>\n",
       "      <td>PB65_B017</td>\n",
       "      <td>2</td>\n",
       "      <td>GM12878</td>\n",
       "    </tr>\n",
       "    <tr>\n",
       "      <th>PB65_B018</th>\n",
       "      <td>PB65_B018</td>\n",
       "      <td>2</td>\n",
       "      <td>GM12878</td>\n",
       "    </tr>\n",
       "    <tr>\n",
       "      <th>D12</th>\n",
       "      <td>D12</td>\n",
       "      <td>1</td>\n",
       "      <td>K562</td>\n",
       "    </tr>\n",
       "  </tbody>\n",
       "</table>\n",
       "</div>"
      ],
      "text/plain": [
       "             dataset cluster   sample\n",
       "index                                \n",
       "PB65_B017  PB65_B017       2  GM12878\n",
       "PB65_B018  PB65_B018       2  GM12878\n",
       "D12              D12       1     K562"
      ]
     },
     "execution_count": 14,
     "metadata": {},
     "output_type": "execute_result"
    }
   ],
   "source": [
    "sg.adata.obs"
   ]
  },
  {
   "cell_type": "markdown",
   "id": "enormous-greece",
   "metadata": {},
   "source": [
    "#### test - add abundance directly from TALON ab file"
   ]
  },
  {
   "cell_type": "code",
   "execution_count": 2,
   "id": "canadian-commercial",
   "metadata": {},
   "outputs": [
    {
     "name": "stdout",
     "output_type": "stream",
     "text": [
      "\n",
      "Adding annotation to the SwanGraph\n"
     ]
    },
    {
     "name": "stderr",
     "output_type": "stream",
     "text": [
      "Processing transcripts:  99%|█████████▉| 8400/8450 [00:01<00:00, 4307.46it/s]\n"
     ]
    },
    {
     "name": "stdout",
     "output_type": "stream",
     "text": [
      "Reindexing and sorting entries on genomic location...\n"
     ]
    },
    {
     "name": "stderr",
     "output_type": "stream",
     "text": [
      "Reindexing vertices: 100%|█████████▉| 50000/50074 [00:00<00:00, 969933.77it/s] \n",
      "Reindexing edges:  98%|█████████▊| 49000/50074 [00:00<00:00, 633928.53it/s]\n",
      "Reindexing transcripts:  99%|█████████▉| 8400/8450 [00:00<00:00, 151474.25it/s]\n"
     ]
    },
    {
     "name": "stdout",
     "output_type": "stream",
     "text": [
      "\n",
      "Annotation to the SwanGraph\n",
      "\n",
      "Adding transcriptome to the SwanGraph\n",
      "['gene_ID', 'transcript_ID', 'annot_gene_id', 'annot_transcript_id', 'annot_gene_name', 'annot_transcript_name', 'n_exons', 'length', 'gene_novelty', 'transcript_novelty', 'ISM_subtype']\n",
      "['gene_ID', 'transcript_ID', 'annot_gene_id', 'annot_transcript_id', 'annot_gene_name', 'annot_transcript_name', 'n_exons', 'length', 'gene_novelty', 'transcript_novelty', 'ISM_subtype']\n",
      "hewwo?\n",
      "\n",
      "Adding abundance for datasets PB65_B017, PB65_B018, D12 to SwanGraph.\n"
     ]
    }
   ],
   "source": [
    "sg = swan.SwanGraph()\n",
    "# just gencode vM21 chr 11 and tcf3\n",
    "gtf = 'data/chr11_and_Tcf3.gtf'\n",
    "sg.add_annotation(gtf, verbose=True)\n",
    "db = 'data/chr11_and_Tcf3_no_gname.db'\n",
    "sg.add_transcriptome(db)\n",
    "ab = 'data/chr11_and_Tcf3_talon_abundance.tsv'\n",
    "sg.add_abundance(ab)"
   ]
  },
  {
   "cell_type": "code",
   "execution_count": 5,
   "id": "occasional-programming",
   "metadata": {},
   "outputs": [
    {
     "data": {
      "text/plain": [
       "array([[1., 1., 1., 1., 0.],\n",
       "       [0., 1., 0., 0., 0.],\n",
       "       [0., 0., 0., 0., 1.]], dtype=float32)"
      ]
     },
     "execution_count": 5,
     "metadata": {},
     "output_type": "execute_result"
    }
   ],
   "source": [
    "sg.adata.layers['counts'][:5, :5]"
   ]
  },
  {
   "cell_type": "markdown",
   "id": "owned-prototype",
   "metadata": {},
   "source": [
    "#### test - reformat talon ab"
   ]
  },
  {
   "cell_type": "code",
   "execution_count": 2,
   "id": "separate-necklace",
   "metadata": {},
   "outputs": [],
   "source": [
    "ab = 'data/chr11_and_Tcf3_talon_abundance.tsv'\n",
    "new_ab = 'data/chr11_and_Tcf3_swan_abundance.tsv'\n",
    "swan.reformat_talon_abundance(ab, new_ab)"
   ]
  },
  {
   "cell_type": "markdown",
   "id": "increasing-tyler",
   "metadata": {},
   "source": [
    "#### test - add transcriptome from db and abundance from tsv"
   ]
  },
  {
   "cell_type": "code",
   "execution_count": 12,
   "id": "affiliated-steering",
   "metadata": {},
   "outputs": [
    {
     "name": "stdout",
     "output_type": "stream",
     "text": [
      "\n",
      "Adding annotation to the SwanGraph\n"
     ]
    },
    {
     "name": "stderr",
     "output_type": "stream",
     "text": [
      "Processing transcripts:  99%|█████████▉| 8400/8450 [00:01<00:00, 4438.75it/s]\n"
     ]
    },
    {
     "name": "stdout",
     "output_type": "stream",
     "text": [
      "Reindexing and sorting entries on genomic location...\n"
     ]
    },
    {
     "name": "stderr",
     "output_type": "stream",
     "text": [
      "Reindexing vertices: 100%|█████████▉| 50000/50074 [00:00<00:00, 1183494.36it/s]\n",
      "Reindexing edges:  98%|█████████▊| 49000/50074 [00:00<00:00, 515513.75it/s]\n",
      "Reindexing transcripts:  99%|█████████▉| 8400/8450 [00:00<00:00, 112191.45it/s]\n"
     ]
    },
    {
     "name": "stdout",
     "output_type": "stream",
     "text": [
      "\n",
      "Annotation to the SwanGraph\n",
      "\n",
      "Adding transcriptome to the SwanGraph\n",
      "\n",
      "Adding abundance for datasets PB65_B017, PB65_B018, D12 to SwanGraph.\n"
     ]
    }
   ],
   "source": [
    "sg = swan.SwanGraph()\n",
    "# just gencode vM21 chr 11 and tcf3\n",
    "gtf = 'data/chr11_and_Tcf3.gtf'\n",
    "sg.add_annotation(gtf, verbose=True)\n",
    "db = 'data/chr11_and_Tcf3_no_gname.db'\n",
    "sg.add_transcriptome(db)\n",
    "new_ab = 'data/chr11_and_Tcf3_swan_abundance.tsv'\n",
    "sg.add_abundance(new_ab)"
   ]
  },
  {
   "cell_type": "code",
   "execution_count": 19,
   "id": "according-movement",
   "metadata": {},
   "outputs": [
    {
     "data": {
      "text/html": [
       "<div>\n",
       "<style scoped>\n",
       "    .dataframe tbody tr th:only-of-type {\n",
       "        vertical-align: middle;\n",
       "    }\n",
       "\n",
       "    .dataframe tbody tr th {\n",
       "        vertical-align: top;\n",
       "    }\n",
       "\n",
       "    .dataframe thead th {\n",
       "        text-align: right;\n",
       "    }\n",
       "</style>\n",
       "<table border=\"1\" class=\"dataframe\">\n",
       "  <thead>\n",
       "    <tr style=\"text-align: right;\">\n",
       "      <th></th>\n",
       "      <th>tid</th>\n",
       "      <th>tname</th>\n",
       "      <th>gid</th>\n",
       "      <th>gname</th>\n",
       "      <th>path</th>\n",
       "      <th>annotation</th>\n",
       "      <th>novelty</th>\n",
       "    </tr>\n",
       "    <tr>\n",
       "      <th>tid</th>\n",
       "      <th></th>\n",
       "      <th></th>\n",
       "      <th></th>\n",
       "      <th></th>\n",
       "      <th></th>\n",
       "      <th></th>\n",
       "      <th></th>\n",
       "    </tr>\n",
       "  </thead>\n",
       "  <tbody>\n",
       "    <tr>\n",
       "      <th>ENST00000023939.8</th>\n",
       "      <td>ENST00000023939.8</td>\n",
       "      <td>RTF2-201</td>\n",
       "      <td>ENSG00000022277.12</td>\n",
       "      <td>RTF2</td>\n",
       "      <td>[9022, 9029, 9035, 9036, 9037, 9039, 9040, 904...</td>\n",
       "      <td>True</td>\n",
       "      <td>Known</td>\n",
       "    </tr>\n",
       "    <tr>\n",
       "      <th>ENST00000045083.6</th>\n",
       "      <td>ENST00000045083.6</td>\n",
       "      <td>RIPOR3-201</td>\n",
       "      <td>ENSG00000042062.11</td>\n",
       "      <td>RIPOR3</td>\n",
       "      <td>[13836, 13837, 13838, 13839, 13840, 13841, 138...</td>\n",
       "      <td>True</td>\n",
       "      <td>Known</td>\n",
       "    </tr>\n",
       "    <tr>\n",
       "      <th>ENST00000062104.3</th>\n",
       "      <td>ENST00000062104.3</td>\n",
       "      <td>NNAT-201</td>\n",
       "      <td>ENSG00000053438.9</td>\n",
       "      <td>NNAT</td>\n",
       "      <td>[5907, 5912, 5913, 5916, 5918, 5923]</td>\n",
       "      <td>True</td>\n",
       "      <td>Known</td>\n",
       "    </tr>\n",
       "    <tr>\n",
       "      <th>ENST00000064571.2</th>\n",
       "      <td>ENST00000064571.2</td>\n",
       "      <td>CBLN4-201</td>\n",
       "      <td>ENSG00000054803.3</td>\n",
       "      <td>CBLN4</td>\n",
       "      <td>[13398, 13399, 13400, 13401, 13402, 13403]</td>\n",
       "      <td>True</td>\n",
       "      <td>Known</td>\n",
       "    </tr>\n",
       "    <tr>\n",
       "      <th>ENST00000170150.3</th>\n",
       "      <td>ENST00000170150.3</td>\n",
       "      <td>BPIFB2-201</td>\n",
       "      <td>ENSG00000078898.6</td>\n",
       "      <td>BPIFB2</td>\n",
       "      <td>[4157, 4159, 4163, 4166, 4168, 4170, 4172, 417...</td>\n",
       "      <td>True</td>\n",
       "      <td>Known</td>\n",
       "    </tr>\n",
       "  </tbody>\n",
       "</table>\n",
       "</div>"
      ],
      "text/plain": [
       "                                 tid       tname                 gid   gname  \\\n",
       "tid                                                                            \n",
       "ENST00000023939.8  ENST00000023939.8    RTF2-201  ENSG00000022277.12    RTF2   \n",
       "ENST00000045083.6  ENST00000045083.6  RIPOR3-201  ENSG00000042062.11  RIPOR3   \n",
       "ENST00000062104.3  ENST00000062104.3    NNAT-201   ENSG00000053438.9    NNAT   \n",
       "ENST00000064571.2  ENST00000064571.2   CBLN4-201   ENSG00000054803.3   CBLN4   \n",
       "ENST00000170150.3  ENST00000170150.3  BPIFB2-201   ENSG00000078898.6  BPIFB2   \n",
       "\n",
       "                                                                path  \\\n",
       "tid                                                                    \n",
       "ENST00000023939.8  [9022, 9029, 9035, 9036, 9037, 9039, 9040, 904...   \n",
       "ENST00000045083.6  [13836, 13837, 13838, 13839, 13840, 13841, 138...   \n",
       "ENST00000062104.3               [5907, 5912, 5913, 5916, 5918, 5923]   \n",
       "ENST00000064571.2         [13398, 13399, 13400, 13401, 13402, 13403]   \n",
       "ENST00000170150.3  [4157, 4159, 4163, 4166, 4168, 4170, 4172, 417...   \n",
       "\n",
       "                   annotation novelty  \n",
       "tid                                    \n",
       "ENST00000023939.8        True   Known  \n",
       "ENST00000045083.6        True   Known  \n",
       "ENST00000062104.3        True   Known  \n",
       "ENST00000064571.2        True   Known  \n",
       "ENST00000170150.3        True   Known  "
      ]
     },
     "execution_count": 19,
     "metadata": {},
     "output_type": "execute_result"
    }
   ],
   "source": [
    "sg.t_df.head()"
   ]
  },
  {
   "cell_type": "code",
   "execution_count": 15,
   "id": "ordinary-coordinate",
   "metadata": {},
   "outputs": [
    {
     "data": {
      "text/html": [
       "<div>\n",
       "<style scoped>\n",
       "    .dataframe tbody tr th:only-of-type {\n",
       "        vertical-align: middle;\n",
       "    }\n",
       "\n",
       "    .dataframe tbody tr th {\n",
       "        vertical-align: top;\n",
       "    }\n",
       "\n",
       "    .dataframe thead th {\n",
       "        text-align: right;\n",
       "    }\n",
       "</style>\n",
       "<table border=\"1\" class=\"dataframe\">\n",
       "  <thead>\n",
       "    <tr style=\"text-align: right;\">\n",
       "      <th></th>\n",
       "      <th>dataset</th>\n",
       "    </tr>\n",
       "  </thead>\n",
       "  <tbody>\n",
       "    <tr>\n",
       "      <th>PB65_B017</th>\n",
       "      <td>PB65_B017</td>\n",
       "    </tr>\n",
       "    <tr>\n",
       "      <th>PB65_B018</th>\n",
       "      <td>PB65_B018</td>\n",
       "    </tr>\n",
       "    <tr>\n",
       "      <th>D12</th>\n",
       "      <td>D12</td>\n",
       "    </tr>\n",
       "  </tbody>\n",
       "</table>\n",
       "</div>"
      ],
      "text/plain": [
       "             dataset\n",
       "PB65_B017  PB65_B017\n",
       "PB65_B018  PB65_B018\n",
       "D12              D12"
      ]
     },
     "execution_count": 15,
     "metadata": {},
     "output_type": "execute_result"
    }
   ],
   "source": [
    "sg.adata.obs.head()"
   ]
  },
  {
   "cell_type": "code",
   "execution_count": 4,
   "id": "median-suspect",
   "metadata": {},
   "outputs": [
    {
     "data": {
      "text/plain": [
       "array([[1., 1., 1., 1., 0.],\n",
       "       [0., 1., 0., 0., 0.],\n",
       "       [0., 0., 0., 0., 1.]], dtype=float32)"
      ]
     },
     "execution_count": 4,
     "metadata": {},
     "output_type": "execute_result"
    }
   ],
   "source": [
    "sg.adata.X[:5, :5]"
   ]
  },
  {
   "cell_type": "markdown",
   "id": "excessive-vision",
   "metadata": {},
   "source": [
    "#### test - add transcriptome from db"
   ]
  },
  {
   "cell_type": "code",
   "execution_count": 2,
   "id": "female-overview",
   "metadata": {},
   "outputs": [
    {
     "name": "stdout",
     "output_type": "stream",
     "text": [
      "\n",
      "Adding annotation to the SwanGraph\n"
     ]
    },
    {
     "name": "stderr",
     "output_type": "stream",
     "text": [
      "Processing transcripts:  99%|█████████▉| 8400/8450 [00:01<00:00, 4304.85it/s]\n"
     ]
    },
    {
     "name": "stdout",
     "output_type": "stream",
     "text": [
      "Reindexing and sorting entries on genomic location...\n"
     ]
    },
    {
     "name": "stderr",
     "output_type": "stream",
     "text": [
      "Reindexing vertices: 100%|█████████▉| 50000/50074 [00:00<00:00, 968388.58it/s] \n",
      "Reindexing edges:  98%|█████████▊| 49000/50074 [00:00<00:00, 579532.86it/s]\n",
      "Reindexing transcripts:  99%|█████████▉| 8400/8450 [00:00<00:00, 146771.90it/s]\n"
     ]
    },
    {
     "name": "stdout",
     "output_type": "stream",
     "text": [
      "\n",
      "Annotation to the SwanGraph\n",
      "\n",
      "Adding transcriptome to the SwanGraph\n"
     ]
    }
   ],
   "source": [
    "sg = swan.SwanGraph()\n",
    "# just gencode vM21 chr 11 and tcf3\n",
    "gtf = 'data/chr11_and_Tcf3.gtf'\n",
    "sg.add_annotation(gtf, verbose=True)\n",
    "db = 'data/chr11_and_Tcf3_no_gname.db'\n",
    "sg.add_transcriptome(db)"
   ]
  },
  {
   "cell_type": "markdown",
   "id": "knowing-novel",
   "metadata": {},
   "source": [
    "#### test - add some abundance and then more abundance"
   ]
  },
  {
   "cell_type": "code",
   "execution_count": 2,
   "id": "faced-slide",
   "metadata": {},
   "outputs": [
    {
     "name": "stdout",
     "output_type": "stream",
     "text": [
      "\n",
      "Adding annotation to the SwanGraph\n",
      "\n",
      "Adding transcriptome to the SwanGraph\n",
      "\n",
      "Adding abundance for datasets hepg2_1_chr20, hepg2_2_chr20, hffc6_1_chr20, hffc6_2_chr20, hffc6_3_chr20 to SwanGraph.\n",
      "\n",
      "Adding abundance for datasets k562_1_chr20, k562_2_chr20 to SwanGraph.\n",
      "(2, 4555)\n",
      "(7, 4555)\n",
      "(2, 4555)\n",
      "(7, 4555)\n",
      "2\n",
      "7\n"
     ]
    }
   ],
   "source": [
    "sg = swan.SwanGraph()\n",
    "# just chr 20\n",
    "gtf = 'data/gencode.v29.annotation.gtf'\n",
    "sg.add_annotation(gtf)\n",
    "# transcriptome\n",
    "gtf = 'data/hepg2_1_talon.gtf'\n",
    "sg.add_transcriptome(gtf)\n",
    "# abundance - hffc6 and hepg2\n",
    "ab = 'data/all_talon_abundance_filtered_counts_hffc6_hepg2.tsv'\n",
    "sg.add_abundance(ab)\n",
    "ab = 'data/all_talon_abundance_filtered_counts_k562.tsv'\n",
    "sg.add_abundance(ab)"
   ]
  },
  {
   "cell_type": "code",
   "execution_count": 3,
   "id": "alone-priest",
   "metadata": {},
   "outputs": [
    {
     "data": {
      "text/plain": [
       "KeysView(Layers with keys: counts, tpm, pi)"
      ]
     },
     "execution_count": 3,
     "metadata": {},
     "output_type": "execute_result"
    }
   ],
   "source": [
    "sg.adata.layers.keys()"
   ]
  },
  {
   "cell_type": "code",
   "execution_count": 17,
   "id": "coordinated-bottom",
   "metadata": {},
   "outputs": [
    {
     "data": {
      "text/html": [
       "<div>\n",
       "<style scoped>\n",
       "    .dataframe tbody tr th:only-of-type {\n",
       "        vertical-align: middle;\n",
       "    }\n",
       "\n",
       "    .dataframe tbody tr th {\n",
       "        vertical-align: top;\n",
       "    }\n",
       "\n",
       "    .dataframe thead th {\n",
       "        text-align: right;\n",
       "    }\n",
       "</style>\n",
       "<table border=\"1\" class=\"dataframe\">\n",
       "  <thead>\n",
       "    <tr style=\"text-align: right;\">\n",
       "      <th></th>\n",
       "      <th>dataset</th>\n",
       "    </tr>\n",
       "  </thead>\n",
       "  <tbody>\n",
       "    <tr>\n",
       "      <th>hepg2_1_chr20</th>\n",
       "      <td>hepg2_1_chr20</td>\n",
       "    </tr>\n",
       "    <tr>\n",
       "      <th>hepg2_2_chr20</th>\n",
       "      <td>hepg2_2_chr20</td>\n",
       "    </tr>\n",
       "    <tr>\n",
       "      <th>hffc6_1_chr20</th>\n",
       "      <td>hffc6_1_chr20</td>\n",
       "    </tr>\n",
       "    <tr>\n",
       "      <th>hffc6_2_chr20</th>\n",
       "      <td>hffc6_2_chr20</td>\n",
       "    </tr>\n",
       "    <tr>\n",
       "      <th>hffc6_3_chr20</th>\n",
       "      <td>hffc6_3_chr20</td>\n",
       "    </tr>\n",
       "    <tr>\n",
       "      <th>k562_1_chr20</th>\n",
       "      <td>k562_1_chr20</td>\n",
       "    </tr>\n",
       "    <tr>\n",
       "      <th>k562_2_chr20</th>\n",
       "      <td>k562_2_chr20</td>\n",
       "    </tr>\n",
       "  </tbody>\n",
       "</table>\n",
       "</div>"
      ],
      "text/plain": [
       "                     dataset\n",
       "hepg2_1_chr20  hepg2_1_chr20\n",
       "hepg2_2_chr20  hepg2_2_chr20\n",
       "hffc6_1_chr20  hffc6_1_chr20\n",
       "hffc6_2_chr20  hffc6_2_chr20\n",
       "hffc6_3_chr20  hffc6_3_chr20\n",
       "k562_1_chr20    k562_1_chr20\n",
       "k562_2_chr20    k562_2_chr20"
      ]
     },
     "execution_count": 17,
     "metadata": {},
     "output_type": "execute_result"
    }
   ],
   "source": [
    "sg.adata.obs"
   ]
  },
  {
   "cell_type": "code",
   "execution_count": 18,
   "id": "static-interpretation",
   "metadata": {},
   "outputs": [
    {
     "data": {
      "text/html": [
       "<div>\n",
       "<style scoped>\n",
       "    .dataframe tbody tr th:only-of-type {\n",
       "        vertical-align: middle;\n",
       "    }\n",
       "\n",
       "    .dataframe tbody tr th {\n",
       "        vertical-align: top;\n",
       "    }\n",
       "\n",
       "    .dataframe thead th {\n",
       "        text-align: right;\n",
       "    }\n",
       "</style>\n",
       "<table border=\"1\" class=\"dataframe\">\n",
       "  <thead>\n",
       "    <tr style=\"text-align: right;\">\n",
       "      <th></th>\n",
       "      <th>tid</th>\n",
       "    </tr>\n",
       "    <tr>\n",
       "      <th>tid</th>\n",
       "      <th></th>\n",
       "    </tr>\n",
       "  </thead>\n",
       "  <tbody>\n",
       "    <tr>\n",
       "      <th>ENST00000023939.8</th>\n",
       "      <td>ENST00000023939.8</td>\n",
       "    </tr>\n",
       "    <tr>\n",
       "      <th>ENST00000045083.6</th>\n",
       "      <td>ENST00000045083.6</td>\n",
       "    </tr>\n",
       "    <tr>\n",
       "      <th>ENST00000062104.3</th>\n",
       "      <td>ENST00000062104.3</td>\n",
       "    </tr>\n",
       "    <tr>\n",
       "      <th>ENST00000064571.2</th>\n",
       "      <td>ENST00000064571.2</td>\n",
       "    </tr>\n",
       "    <tr>\n",
       "      <th>ENST00000170150.3</th>\n",
       "      <td>ENST00000170150.3</td>\n",
       "    </tr>\n",
       "  </tbody>\n",
       "</table>\n",
       "</div>"
      ],
      "text/plain": [
       "                                 tid\n",
       "tid                                 \n",
       "ENST00000023939.8  ENST00000023939.8\n",
       "ENST00000045083.6  ENST00000045083.6\n",
       "ENST00000062104.3  ENST00000062104.3\n",
       "ENST00000064571.2  ENST00000064571.2\n",
       "ENST00000170150.3  ENST00000170150.3"
      ]
     },
     "execution_count": 18,
     "metadata": {},
     "output_type": "execute_result"
    }
   ],
   "source": [
    "sg.adata.var.head()"
   ]
  },
  {
   "cell_type": "code",
   "execution_count": 7,
   "id": "critical-universe",
   "metadata": {},
   "outputs": [
    {
     "data": {
      "text/plain": [
       "array([[  0.,   0.,   0.,   0., 847.],\n",
       "       [  0.,   0.,   0.,   0., 800.],\n",
       "       [  2.,   0.,   0.,   0.,   0.],\n",
       "       [  2.,   0.,   0.,   0.,   0.],\n",
       "       [  2.,   0.,   0.,   0.,   0.],\n",
       "       [  1.,   0.,   0.,   0.,   0.],\n",
       "       [  1.,   0.,   0.,   0.,   0.]], dtype=float32)"
      ]
     },
     "execution_count": 7,
     "metadata": {},
     "output_type": "execute_result"
    }
   ],
   "source": [
    "sg.adata.X[:, :5]"
   ]
  },
  {
   "cell_type": "code",
   "execution_count": 8,
   "id": "bigger-diabetes",
   "metadata": {},
   "outputs": [
    {
     "ename": "KeyError",
     "evalue": "'tpm'",
     "output_type": "error",
     "traceback": [
      "\u001b[0;31m---------------------------------------------------------------------------\u001b[0m",
      "\u001b[0;31mKeyError\u001b[0m                                  Traceback (most recent call last)",
      "\u001b[0;32m<ipython-input-8-4f83231fd002>\u001b[0m in \u001b[0;36m<module>\u001b[0;34m\u001b[0m\n\u001b[0;32m----> 1\u001b[0;31m \u001b[0msg\u001b[0m\u001b[0;34m.\u001b[0m\u001b[0madata\u001b[0m\u001b[0;34m.\u001b[0m\u001b[0mlayers\u001b[0m\u001b[0;34m[\u001b[0m\u001b[0;34m'tpm'\u001b[0m\u001b[0;34m]\u001b[0m\u001b[0;34m[\u001b[0m\u001b[0;34m:\u001b[0m\u001b[0;34m,\u001b[0m \u001b[0;34m:\u001b[0m\u001b[0;36m5\u001b[0m\u001b[0;34m]\u001b[0m\u001b[0;34m\u001b[0m\u001b[0;34m\u001b[0m\u001b[0m\n\u001b[0m",
      "\u001b[0;32m~/miniconda3/lib/python3.7/site-packages/anndata/_core/aligned_mapping.py\u001b[0m in \u001b[0;36m__getitem__\u001b[0;34m(self, key)\u001b[0m\n\u001b[1;32m    145\u001b[0m \u001b[0;34m\u001b[0m\u001b[0m\n\u001b[1;32m    146\u001b[0m     \u001b[0;32mdef\u001b[0m \u001b[0m__getitem__\u001b[0m\u001b[0;34m(\u001b[0m\u001b[0mself\u001b[0m\u001b[0;34m,\u001b[0m \u001b[0mkey\u001b[0m\u001b[0;34m:\u001b[0m \u001b[0mstr\u001b[0m\u001b[0;34m)\u001b[0m \u001b[0;34m->\u001b[0m \u001b[0mV\u001b[0m\u001b[0;34m:\u001b[0m\u001b[0;34m\u001b[0m\u001b[0;34m\u001b[0m\u001b[0m\n\u001b[0;32m--> 147\u001b[0;31m         \u001b[0;32mreturn\u001b[0m \u001b[0mself\u001b[0m\u001b[0;34m.\u001b[0m\u001b[0m_data\u001b[0m\u001b[0;34m[\u001b[0m\u001b[0mkey\u001b[0m\u001b[0;34m]\u001b[0m\u001b[0;34m\u001b[0m\u001b[0;34m\u001b[0m\u001b[0m\n\u001b[0m\u001b[1;32m    148\u001b[0m \u001b[0;34m\u001b[0m\u001b[0m\n\u001b[1;32m    149\u001b[0m     \u001b[0;32mdef\u001b[0m \u001b[0m__setitem__\u001b[0m\u001b[0;34m(\u001b[0m\u001b[0mself\u001b[0m\u001b[0;34m,\u001b[0m \u001b[0mkey\u001b[0m\u001b[0;34m:\u001b[0m \u001b[0mstr\u001b[0m\u001b[0;34m,\u001b[0m \u001b[0mvalue\u001b[0m\u001b[0;34m:\u001b[0m \u001b[0mV\u001b[0m\u001b[0;34m)\u001b[0m\u001b[0;34m:\u001b[0m\u001b[0;34m\u001b[0m\u001b[0;34m\u001b[0m\u001b[0m\n",
      "\u001b[0;31mKeyError\u001b[0m: 'tpm'"
     ]
    }
   ],
   "source": [
    "sg.adata.layers['tpm'][:, :5]"
   ]
  },
  {
   "cell_type": "code",
   "execution_count": null,
   "id": "expanded-material",
   "metadata": {},
   "outputs": [],
   "source": [
    "sg.adata.obs.head()"
   ]
  },
  {
   "cell_type": "markdown",
   "id": "composite-university",
   "metadata": {},
   "source": [
    "#### test - add abundance when trying to add more datasests that are already there"
   ]
  },
  {
   "cell_type": "code",
   "execution_count": 2,
   "id": "wanted-hungary",
   "metadata": {},
   "outputs": [],
   "source": [
    "sg = swan.SwanGraph()"
   ]
  },
  {
   "cell_type": "code",
   "execution_count": 3,
   "id": "marine-specific",
   "metadata": {},
   "outputs": [
    {
     "name": "stdout",
     "output_type": "stream",
     "text": [
      "\n",
      "Adding annotation to the SwanGraph\n"
     ]
    }
   ],
   "source": [
    "# just chr 20\n",
    "gtf = 'data/gencode.v29.annotation.gtf'\n",
    "sg.add_annotation(gtf)"
   ]
  },
  {
   "cell_type": "code",
   "execution_count": 4,
   "id": "graphic-acting",
   "metadata": {},
   "outputs": [
    {
     "name": "stdout",
     "output_type": "stream",
     "text": [
      "\n",
      "Adding transcriptome to the SwanGraph\n"
     ]
    }
   ],
   "source": [
    "# transcriptome\n",
    "gtf = 'data/hepg2_1_talon.gtf'\n",
    "sg.add_transcriptome(gtf)"
   ]
  },
  {
   "cell_type": "code",
   "execution_count": 5,
   "id": "according-essay",
   "metadata": {},
   "outputs": [
    {
     "name": "stdout",
     "output_type": "stream",
     "text": [
      "\n",
      "Adding abundance for datasets hepg2_1_chr20, hepg2_2_chr20, hffc6_1_chr20, hffc6_2_chr20, hffc6_3_chr20... (and 2 more) to SwanGraph\n"
     ]
    }
   ],
   "source": [
    "# abundance\n",
    "ab = 'data/all_talon_abundance_filtered_counts.tsv'\n",
    "sg.add_abundance(ab)"
   ]
  },
  {
   "cell_type": "code",
   "execution_count": 26,
   "id": "detailed-palestinian",
   "metadata": {},
   "outputs": [
    {
     "name": "stdout",
     "output_type": "stream",
     "text": [
      "counts\n",
      "tpm\n"
     ]
    }
   ],
   "source": [
    "for i in sg.adata.layers.keys():\n",
    "    print(i)"
   ]
  },
  {
   "cell_type": "code",
   "execution_count": 13,
   "id": "considerable-illness",
   "metadata": {},
   "outputs": [
    {
     "name": "stdout",
     "output_type": "stream",
     "text": [
      "Transcripts absent from abundance file will be assigned 0 counts.\n",
      "Transcripts found in abundance matrix that are not in the SwanGraph will not have expression added.\n"
     ]
    },
    {
     "ename": "ValueError",
     "evalue": "Dataset hepg2_1_chr20 already present in the SwanGraph.",
     "output_type": "error",
     "traceback": [
      "\u001b[0;31m---------------------------------------------------------------------------\u001b[0m",
      "\u001b[0;31mValueError\u001b[0m                                Traceback (most recent call last)",
      "\u001b[0;32m<ipython-input-13-6de16e8aed29>\u001b[0m in \u001b[0;36m<module>\u001b[0;34m\u001b[0m\n\u001b[1;32m      1\u001b[0m \u001b[0;31m# abundance\u001b[0m\u001b[0;34m\u001b[0m\u001b[0;34m\u001b[0m\u001b[0;34m\u001b[0m\u001b[0m\n\u001b[1;32m      2\u001b[0m \u001b[0mab\u001b[0m \u001b[0;34m=\u001b[0m \u001b[0;34m'data/all_talon_abundance_filtered_counts.tsv'\u001b[0m\u001b[0;34m\u001b[0m\u001b[0;34m\u001b[0m\u001b[0m\n\u001b[0;32m----> 3\u001b[0;31m \u001b[0msg\u001b[0m\u001b[0;34m.\u001b[0m\u001b[0madd_abundance\u001b[0m\u001b[0;34m(\u001b[0m\u001b[0mab\u001b[0m\u001b[0;34m)\u001b[0m\u001b[0;34m\u001b[0m\u001b[0;34m\u001b[0m\u001b[0m\n\u001b[0m",
      "\u001b[0;32m~/miniconda3/lib/python3.7/site-packages/swan_vis/swangraph.py\u001b[0m in \u001b[0;36madd_abundance\u001b[0;34m(self, counts_file)\u001b[0m\n\u001b[1;32m    321\u001b[0m                 \u001b[0;32mfor\u001b[0m \u001b[0md\u001b[0m \u001b[0;32min\u001b[0m \u001b[0mdatasets\u001b[0m\u001b[0;34m:\u001b[0m\u001b[0;34m\u001b[0m\u001b[0;34m\u001b[0m\u001b[0m\n\u001b[1;32m    322\u001b[0m                         \u001b[0;32mif\u001b[0m \u001b[0md\u001b[0m \u001b[0;32min\u001b[0m \u001b[0mself\u001b[0m\u001b[0;34m.\u001b[0m\u001b[0mdatasets\u001b[0m\u001b[0;34m:\u001b[0m\u001b[0;34m\u001b[0m\u001b[0;34m\u001b[0m\u001b[0m\n\u001b[0;32m--> 323\u001b[0;31m                                 \u001b[0;32mraise\u001b[0m \u001b[0mValueError\u001b[0m\u001b[0;34m(\u001b[0m\u001b[0;34m'Dataset {} already present in the SwanGraph.'\u001b[0m\u001b[0;34m.\u001b[0m\u001b[0mformat\u001b[0m\u001b[0;34m(\u001b[0m\u001b[0md\u001b[0m\u001b[0;34m)\u001b[0m\u001b[0;34m)\u001b[0m\u001b[0;34m\u001b[0m\u001b[0;34m\u001b[0m\u001b[0m\n\u001b[0m\u001b[1;32m    324\u001b[0m                 \u001b[0mself\u001b[0m\u001b[0;34m.\u001b[0m\u001b[0mdatasets\u001b[0m\u001b[0;34m.\u001b[0m\u001b[0mextend\u001b[0m\u001b[0;34m(\u001b[0m\u001b[0mdatasets\u001b[0m\u001b[0;34m)\u001b[0m\u001b[0;34m\u001b[0m\u001b[0;34m\u001b[0m\u001b[0m\n\u001b[1;32m    325\u001b[0m \u001b[0;34m\u001b[0m\u001b[0m\n",
      "\u001b[0;31mValueError\u001b[0m: Dataset hepg2_1_chr20 already present in the SwanGraph."
     ]
    }
   ],
   "source": [
    "# abundance\n",
    "ab = 'data/all_talon_abundance_filtered_counts.tsv'\n",
    "sg.add_abundance(ab)"
   ]
  },
  {
   "cell_type": "code",
   "execution_count": null,
   "id": "individual-lecture",
   "metadata": {},
   "outputs": [],
   "source": [
    "sg.adata.X[:5,:5]"
   ]
  },
  {
   "cell_type": "code",
   "execution_count": null,
   "id": "municipal-estimate",
   "metadata": {},
   "outputs": [],
   "source": []
  },
  {
   "cell_type": "code",
   "execution_count": null,
   "id": "authentic-grass",
   "metadata": {},
   "outputs": [],
   "source": []
  },
  {
   "cell_type": "code",
   "execution_count": 5,
   "id": "freelance-customer",
   "metadata": {},
   "outputs": [
    {
     "data": {
      "text/html": [
       "<div>\n",
       "<style scoped>\n",
       "    .dataframe tbody tr th:only-of-type {\n",
       "        vertical-align: middle;\n",
       "    }\n",
       "\n",
       "    .dataframe tbody tr th {\n",
       "        vertical-align: top;\n",
       "    }\n",
       "\n",
       "    .dataframe thead th {\n",
       "        text-align: right;\n",
       "    }\n",
       "</style>\n",
       "<table border=\"1\" class=\"dataframe\">\n",
       "  <thead>\n",
       "    <tr style=\"text-align: right;\">\n",
       "      <th></th>\n",
       "      <th>tid</th>\n",
       "      <th>tname</th>\n",
       "      <th>gid</th>\n",
       "      <th>gname</th>\n",
       "      <th>path</th>\n",
       "      <th>annotation</th>\n",
       "      <th>novelty</th>\n",
       "    </tr>\n",
       "    <tr>\n",
       "      <th>tid</th>\n",
       "      <th></th>\n",
       "      <th></th>\n",
       "      <th></th>\n",
       "      <th></th>\n",
       "      <th></th>\n",
       "      <th></th>\n",
       "      <th></th>\n",
       "    </tr>\n",
       "  </thead>\n",
       "  <tbody>\n",
       "    <tr>\n",
       "      <th>ENST00000023939.8</th>\n",
       "      <td>ENST00000023939.8</td>\n",
       "      <td>RTF2-201</td>\n",
       "      <td>ENSG00000022277.12</td>\n",
       "      <td>RTF2</td>\n",
       "      <td>[9022, 9029, 9035, 9036, 9037, 9039, 9040, 904...</td>\n",
       "      <td>True</td>\n",
       "      <td>Known</td>\n",
       "    </tr>\n",
       "    <tr>\n",
       "      <th>ENST00000045083.6</th>\n",
       "      <td>ENST00000045083.6</td>\n",
       "      <td>RIPOR3-201</td>\n",
       "      <td>ENSG00000042062.11</td>\n",
       "      <td>RIPOR3</td>\n",
       "      <td>[13836, 13837, 13838, 13839, 13840, 13841, 138...</td>\n",
       "      <td>True</td>\n",
       "      <td>Known</td>\n",
       "    </tr>\n",
       "    <tr>\n",
       "      <th>ENST00000062104.3</th>\n",
       "      <td>ENST00000062104.3</td>\n",
       "      <td>NNAT-201</td>\n",
       "      <td>ENSG00000053438.9</td>\n",
       "      <td>NNAT</td>\n",
       "      <td>[5907, 5912, 5913, 5916, 5918, 5923]</td>\n",
       "      <td>True</td>\n",
       "      <td>Known</td>\n",
       "    </tr>\n",
       "    <tr>\n",
       "      <th>ENST00000064571.2</th>\n",
       "      <td>ENST00000064571.2</td>\n",
       "      <td>CBLN4-201</td>\n",
       "      <td>ENSG00000054803.3</td>\n",
       "      <td>CBLN4</td>\n",
       "      <td>[13398, 13399, 13400, 13401, 13402, 13403]</td>\n",
       "      <td>True</td>\n",
       "      <td>Known</td>\n",
       "    </tr>\n",
       "    <tr>\n",
       "      <th>ENST00000170150.3</th>\n",
       "      <td>ENST00000170150.3</td>\n",
       "      <td>BPIFB2-201</td>\n",
       "      <td>ENSG00000078898.6</td>\n",
       "      <td>BPIFB2</td>\n",
       "      <td>[4157, 4159, 4163, 4166, 4168, 4170, 4172, 417...</td>\n",
       "      <td>True</td>\n",
       "      <td>Known</td>\n",
       "    </tr>\n",
       "  </tbody>\n",
       "</table>\n",
       "</div>"
      ],
      "text/plain": [
       "                                 tid       tname                 gid   gname  \\\n",
       "tid                                                                            \n",
       "ENST00000023939.8  ENST00000023939.8    RTF2-201  ENSG00000022277.12    RTF2   \n",
       "ENST00000045083.6  ENST00000045083.6  RIPOR3-201  ENSG00000042062.11  RIPOR3   \n",
       "ENST00000062104.3  ENST00000062104.3    NNAT-201   ENSG00000053438.9    NNAT   \n",
       "ENST00000064571.2  ENST00000064571.2   CBLN4-201   ENSG00000054803.3   CBLN4   \n",
       "ENST00000170150.3  ENST00000170150.3  BPIFB2-201   ENSG00000078898.6  BPIFB2   \n",
       "\n",
       "                                                                path  \\\n",
       "tid                                                                    \n",
       "ENST00000023939.8  [9022, 9029, 9035, 9036, 9037, 9039, 9040, 904...   \n",
       "ENST00000045083.6  [13836, 13837, 13838, 13839, 13840, 13841, 138...   \n",
       "ENST00000062104.3               [5907, 5912, 5913, 5916, 5918, 5923]   \n",
       "ENST00000064571.2         [13398, 13399, 13400, 13401, 13402, 13403]   \n",
       "ENST00000170150.3  [4157, 4159, 4163, 4166, 4168, 4170, 4172, 417...   \n",
       "\n",
       "                   annotation novelty  \n",
       "tid                                    \n",
       "ENST00000023939.8        True   Known  \n",
       "ENST00000045083.6        True   Known  \n",
       "ENST00000062104.3        True   Known  \n",
       "ENST00000064571.2        True   Known  \n",
       "ENST00000170150.3        True   Known  "
      ]
     },
     "execution_count": 5,
     "metadata": {},
     "output_type": "execute_result"
    }
   ],
   "source": [
    "sg.t_df.head()"
   ]
  },
  {
   "cell_type": "code",
   "execution_count": 8,
   "id": "revised-philadelphia",
   "metadata": {},
   "outputs": [
    {
     "data": {
      "text/html": [
       "<div>\n",
       "<style scoped>\n",
       "    .dataframe tbody tr th:only-of-type {\n",
       "        vertical-align: middle;\n",
       "    }\n",
       "\n",
       "    .dataframe tbody tr th {\n",
       "        vertical-align: top;\n",
       "    }\n",
       "\n",
       "    .dataframe thead th {\n",
       "        text-align: right;\n",
       "    }\n",
       "</style>\n",
       "<table border=\"1\" class=\"dataframe\">\n",
       "  <thead>\n",
       "    <tr style=\"text-align: right;\">\n",
       "      <th></th>\n",
       "      <th>tid</th>\n",
       "      <th>tname</th>\n",
       "      <th>gid</th>\n",
       "      <th>gname</th>\n",
       "      <th>path</th>\n",
       "      <th>annotation</th>\n",
       "      <th>novelty</th>\n",
       "    </tr>\n",
       "    <tr>\n",
       "      <th>tid</th>\n",
       "      <th></th>\n",
       "      <th></th>\n",
       "      <th></th>\n",
       "      <th></th>\n",
       "      <th></th>\n",
       "      <th></th>\n",
       "      <th></th>\n",
       "    </tr>\n",
       "  </thead>\n",
       "  <tbody>\n",
       "    <tr>\n",
       "      <th>TALONT000005280</th>\n",
       "      <td>TALONT000005280</td>\n",
       "      <td>TALONT000005280</td>\n",
       "      <td>ENSG00000198171.12</td>\n",
       "      <td>DDRGK1</td>\n",
       "      <td>[21055, 21057, 21059, 21061, 21063, 21065, 210...</td>\n",
       "      <td>False</td>\n",
       "      <td>NNC</td>\n",
       "    </tr>\n",
       "    <tr>\n",
       "      <th>TALONT000005555</th>\n",
       "      <td>TALONT000005555</td>\n",
       "      <td>TALONT000005555</td>\n",
       "      <td>ENSG00000125779.22</td>\n",
       "      <td>PANK2</td>\n",
       "      <td>[1020, 1022, 1038, 1040, 1045, 1048, 1050, 105...</td>\n",
       "      <td>False</td>\n",
       "      <td>NIC</td>\n",
       "    </tr>\n",
       "    <tr>\n",
       "      <th>TALONT000005727</th>\n",
       "      <td>TALONT000005727</td>\n",
       "      <td>TALONT000005727</td>\n",
       "      <td>ENSG00000089063.14</td>\n",
       "      <td>TMEM230</td>\n",
       "      <td>[20569, 20572, 20586, 20588, 20592, 20594, 205...</td>\n",
       "      <td>False</td>\n",
       "      <td>NNC</td>\n",
       "    </tr>\n",
       "    <tr>\n",
       "      <th>TALONT000006405</th>\n",
       "      <td>TALONT000006405</td>\n",
       "      <td>TALONT000006405</td>\n",
       "      <td>ENSG00000125868.15</td>\n",
       "      <td>DSTN</td>\n",
       "      <td>[2138, 2142, 2146, 2148, 2151, 2153, 2157, 2160]</td>\n",
       "      <td>False</td>\n",
       "      <td>NNC</td>\n",
       "    </tr>\n",
       "    <tr>\n",
       "      <th>TALONT000006566</th>\n",
       "      <td>TALONT000006566</td>\n",
       "      <td>TALONT000006566</td>\n",
       "      <td>ENSG00000089006.16</td>\n",
       "      <td>SNX5</td>\n",
       "      <td>[19444, 19447, 19456, 19458, 19472, 19477, 194...</td>\n",
       "      <td>False</td>\n",
       "      <td>NIC</td>\n",
       "    </tr>\n",
       "  </tbody>\n",
       "</table>\n",
       "</div>"
      ],
      "text/plain": [
       "                             tid            tname                 gid  \\\n",
       "tid                                                                     \n",
       "TALONT000005280  TALONT000005280  TALONT000005280  ENSG00000198171.12   \n",
       "TALONT000005555  TALONT000005555  TALONT000005555  ENSG00000125779.22   \n",
       "TALONT000005727  TALONT000005727  TALONT000005727  ENSG00000089063.14   \n",
       "TALONT000006405  TALONT000006405  TALONT000006405  ENSG00000125868.15   \n",
       "TALONT000006566  TALONT000006566  TALONT000006566  ENSG00000089006.16   \n",
       "\n",
       "                   gname                                               path  \\\n",
       "tid                                                                           \n",
       "TALONT000005280   DDRGK1  [21055, 21057, 21059, 21061, 21063, 21065, 210...   \n",
       "TALONT000005555    PANK2  [1020, 1022, 1038, 1040, 1045, 1048, 1050, 105...   \n",
       "TALONT000005727  TMEM230  [20569, 20572, 20586, 20588, 20592, 20594, 205...   \n",
       "TALONT000006405     DSTN   [2138, 2142, 2146, 2148, 2151, 2153, 2157, 2160]   \n",
       "TALONT000006566     SNX5  [19444, 19447, 19456, 19458, 19472, 19477, 194...   \n",
       "\n",
       "                 annotation novelty  \n",
       "tid                                  \n",
       "TALONT000005280       False     NNC  \n",
       "TALONT000005555       False     NIC  \n",
       "TALONT000005727       False     NNC  \n",
       "TALONT000006405       False     NNC  \n",
       "TALONT000006566       False     NIC  "
      ]
     },
     "execution_count": 8,
     "metadata": {},
     "output_type": "execute_result"
    }
   ],
   "source": [
    "sg.t_df.loc[sg.t_df.annotation==False].head()"
   ]
  },
  {
   "cell_type": "code",
   "execution_count": 7,
   "id": "electric-roberts",
   "metadata": {},
   "outputs": [
    {
     "data": {
      "text/html": [
       "<div>\n",
       "<style scoped>\n",
       "    .dataframe tbody tr th:only-of-type {\n",
       "        vertical-align: middle;\n",
       "    }\n",
       "\n",
       "    .dataframe tbody tr th {\n",
       "        vertical-align: top;\n",
       "    }\n",
       "\n",
       "    .dataframe thead th {\n",
       "        text-align: right;\n",
       "    }\n",
       "</style>\n",
       "<table border=\"1\" class=\"dataframe\">\n",
       "  <thead>\n",
       "    <tr style=\"text-align: right;\">\n",
       "      <th></th>\n",
       "      <th>tid</th>\n",
       "      <th>tname</th>\n",
       "      <th>gid</th>\n",
       "      <th>gname</th>\n",
       "      <th>path</th>\n",
       "      <th>annotation</th>\n",
       "      <th>novelty</th>\n",
       "    </tr>\n",
       "    <tr>\n",
       "      <th>tid</th>\n",
       "      <th></th>\n",
       "      <th></th>\n",
       "      <th></th>\n",
       "      <th></th>\n",
       "      <th></th>\n",
       "      <th></th>\n",
       "      <th></th>\n",
       "    </tr>\n",
       "  </thead>\n",
       "  <tbody>\n",
       "    <tr>\n",
       "      <th>ENST00000023939.8</th>\n",
       "      <td>ENST00000023939.8</td>\n",
       "      <td>RTF2-201</td>\n",
       "      <td>ENSG00000022277.12</td>\n",
       "      <td>RTF2</td>\n",
       "      <td>[9022, 9029, 9035, 9036, 9037, 9039, 9040, 904...</td>\n",
       "      <td>True</td>\n",
       "      <td>Known</td>\n",
       "    </tr>\n",
       "    <tr>\n",
       "      <th>ENST00000045083.6</th>\n",
       "      <td>ENST00000045083.6</td>\n",
       "      <td>RIPOR3-201</td>\n",
       "      <td>ENSG00000042062.11</td>\n",
       "      <td>RIPOR3</td>\n",
       "      <td>[13836, 13837, 13838, 13839, 13840, 13841, 138...</td>\n",
       "      <td>True</td>\n",
       "      <td>Known</td>\n",
       "    </tr>\n",
       "    <tr>\n",
       "      <th>ENST00000062104.3</th>\n",
       "      <td>ENST00000062104.3</td>\n",
       "      <td>NNAT-201</td>\n",
       "      <td>ENSG00000053438.9</td>\n",
       "      <td>NNAT</td>\n",
       "      <td>[5907, 5912, 5913, 5916, 5918, 5923]</td>\n",
       "      <td>True</td>\n",
       "      <td>Known</td>\n",
       "    </tr>\n",
       "    <tr>\n",
       "      <th>ENST00000064571.2</th>\n",
       "      <td>ENST00000064571.2</td>\n",
       "      <td>CBLN4-201</td>\n",
       "      <td>ENSG00000054803.3</td>\n",
       "      <td>CBLN4</td>\n",
       "      <td>[13398, 13399, 13400, 13401, 13402, 13403]</td>\n",
       "      <td>True</td>\n",
       "      <td>Known</td>\n",
       "    </tr>\n",
       "    <tr>\n",
       "      <th>ENST00000170150.3</th>\n",
       "      <td>ENST00000170150.3</td>\n",
       "      <td>BPIFB2-201</td>\n",
       "      <td>ENSG00000078898.6</td>\n",
       "      <td>BPIFB2</td>\n",
       "      <td>[4157, 4159, 4163, 4166, 4168, 4170, 4172, 417...</td>\n",
       "      <td>True</td>\n",
       "      <td>Known</td>\n",
       "    </tr>\n",
       "    <tr>\n",
       "      <th>...</th>\n",
       "      <td>...</td>\n",
       "      <td>...</td>\n",
       "      <td>...</td>\n",
       "      <td>...</td>\n",
       "      <td>...</td>\n",
       "      <td>...</td>\n",
       "      <td>...</td>\n",
       "    </tr>\n",
       "    <tr>\n",
       "      <th>TALONT000013657</th>\n",
       "      <td>TALONT000013657</td>\n",
       "      <td>TALONT000013657</td>\n",
       "      <td>ENSG00000101187.15</td>\n",
       "      <td>SLCO4A1</td>\n",
       "      <td>[10403, 10405, 10408, 10412, 10421, 10424, 104...</td>\n",
       "      <td>False</td>\n",
       "      <td>NIC</td>\n",
       "    </tr>\n",
       "    <tr>\n",
       "      <th>TALONT000013998</th>\n",
       "      <td>TALONT000013998</td>\n",
       "      <td>TALONT000013998</td>\n",
       "      <td>ENSG00000101246.19</td>\n",
       "      <td>ARFRP1</td>\n",
       "      <td>[11745, 11747, 11754, 11756, 11759, 11761, 117...</td>\n",
       "      <td>False</td>\n",
       "      <td>NIC</td>\n",
       "    </tr>\n",
       "    <tr>\n",
       "      <th>TALONT000014162</th>\n",
       "      <td>TALONT000014162</td>\n",
       "      <td>TALONT000014162</td>\n",
       "      <td>ENSG00000198276.15</td>\n",
       "      <td>UCKL1</td>\n",
       "      <td>[11635, 11639, 11645, 11649, 11651, 11653, 116...</td>\n",
       "      <td>False</td>\n",
       "      <td>NNC</td>\n",
       "    </tr>\n",
       "    <tr>\n",
       "      <th>TALONT000014163</th>\n",
       "      <td>TALONT000014163</td>\n",
       "      <td>TALONT000014163</td>\n",
       "      <td>ENSG00000198276.15</td>\n",
       "      <td>UCKL1</td>\n",
       "      <td>[11635, 11639, 11646, 11649, 11651, 11653, 116...</td>\n",
       "      <td>False</td>\n",
       "      <td>NNC</td>\n",
       "    </tr>\n",
       "    <tr>\n",
       "      <th>TALONT000014329</th>\n",
       "      <td>TALONT000014329</td>\n",
       "      <td>TALONT000014329</td>\n",
       "      <td>ENSG00000196421.8</td>\n",
       "      <td>C20orf204</td>\n",
       "      <td>[11342, 11344, 11346, 11352, 11355, 11357]</td>\n",
       "      <td>False</td>\n",
       "      <td>NIC</td>\n",
       "    </tr>\n",
       "  </tbody>\n",
       "</table>\n",
       "<p>4555 rows × 7 columns</p>\n",
       "</div>"
      ],
      "text/plain": [
       "                                 tid            tname                 gid  \\\n",
       "tid                                                                         \n",
       "ENST00000023939.8  ENST00000023939.8         RTF2-201  ENSG00000022277.12   \n",
       "ENST00000045083.6  ENST00000045083.6       RIPOR3-201  ENSG00000042062.11   \n",
       "ENST00000062104.3  ENST00000062104.3         NNAT-201   ENSG00000053438.9   \n",
       "ENST00000064571.2  ENST00000064571.2        CBLN4-201   ENSG00000054803.3   \n",
       "ENST00000170150.3  ENST00000170150.3       BPIFB2-201   ENSG00000078898.6   \n",
       "...                              ...              ...                 ...   \n",
       "TALONT000013657      TALONT000013657  TALONT000013657  ENSG00000101187.15   \n",
       "TALONT000013998      TALONT000013998  TALONT000013998  ENSG00000101246.19   \n",
       "TALONT000014162      TALONT000014162  TALONT000014162  ENSG00000198276.15   \n",
       "TALONT000014163      TALONT000014163  TALONT000014163  ENSG00000198276.15   \n",
       "TALONT000014329      TALONT000014329  TALONT000014329   ENSG00000196421.8   \n",
       "\n",
       "                       gname  \\\n",
       "tid                            \n",
       "ENST00000023939.8       RTF2   \n",
       "ENST00000045083.6     RIPOR3   \n",
       "ENST00000062104.3       NNAT   \n",
       "ENST00000064571.2      CBLN4   \n",
       "ENST00000170150.3     BPIFB2   \n",
       "...                      ...   \n",
       "TALONT000013657      SLCO4A1   \n",
       "TALONT000013998       ARFRP1   \n",
       "TALONT000014162        UCKL1   \n",
       "TALONT000014163        UCKL1   \n",
       "TALONT000014329    C20orf204   \n",
       "\n",
       "                                                                path  \\\n",
       "tid                                                                    \n",
       "ENST00000023939.8  [9022, 9029, 9035, 9036, 9037, 9039, 9040, 904...   \n",
       "ENST00000045083.6  [13836, 13837, 13838, 13839, 13840, 13841, 138...   \n",
       "ENST00000062104.3               [5907, 5912, 5913, 5916, 5918, 5923]   \n",
       "ENST00000064571.2         [13398, 13399, 13400, 13401, 13402, 13403]   \n",
       "ENST00000170150.3  [4157, 4159, 4163, 4166, 4168, 4170, 4172, 417...   \n",
       "...                                                              ...   \n",
       "TALONT000013657    [10403, 10405, 10408, 10412, 10421, 10424, 104...   \n",
       "TALONT000013998    [11745, 11747, 11754, 11756, 11759, 11761, 117...   \n",
       "TALONT000014162    [11635, 11639, 11645, 11649, 11651, 11653, 116...   \n",
       "TALONT000014163    [11635, 11639, 11646, 11649, 11651, 11653, 116...   \n",
       "TALONT000014329           [11342, 11344, 11346, 11352, 11355, 11357]   \n",
       "\n",
       "                   annotation novelty  \n",
       "tid                                    \n",
       "ENST00000023939.8        True   Known  \n",
       "ENST00000045083.6        True   Known  \n",
       "ENST00000062104.3        True   Known  \n",
       "ENST00000064571.2        True   Known  \n",
       "ENST00000170150.3        True   Known  \n",
       "...                       ...     ...  \n",
       "TALONT000013657         False     NIC  \n",
       "TALONT000013998         False     NIC  \n",
       "TALONT000014162         False     NNC  \n",
       "TALONT000014163         False     NNC  \n",
       "TALONT000014329         False     NIC  \n",
       "\n",
       "[4555 rows x 7 columns]"
      ]
     },
     "execution_count": 7,
     "metadata": {},
     "output_type": "execute_result"
    }
   ],
   "source": [
    "sg.t_df.loc[sg.t_df.novelty!=False]"
   ]
  },
  {
   "cell_type": "code",
   "execution_count": 6,
   "id": "sixth-pipeline",
   "metadata": {},
   "outputs": [
    {
     "data": {
      "text/html": [
       "<div>\n",
       "<style scoped>\n",
       "    .dataframe tbody tr th:only-of-type {\n",
       "        vertical-align: middle;\n",
       "    }\n",
       "\n",
       "    .dataframe tbody tr th {\n",
       "        vertical-align: top;\n",
       "    }\n",
       "\n",
       "    .dataframe thead th {\n",
       "        text-align: right;\n",
       "    }\n",
       "</style>\n",
       "<table border=\"1\" class=\"dataframe\">\n",
       "  <thead>\n",
       "    <tr style=\"text-align: right;\">\n",
       "      <th></th>\n",
       "      <th>edge_type</th>\n",
       "      <th>strand</th>\n",
       "      <th>v1</th>\n",
       "      <th>v2</th>\n",
       "      <th>edge_id</th>\n",
       "    </tr>\n",
       "    <tr>\n",
       "      <th>edge_id</th>\n",
       "      <th></th>\n",
       "      <th></th>\n",
       "      <th></th>\n",
       "      <th></th>\n",
       "      <th></th>\n",
       "    </tr>\n",
       "  </thead>\n",
       "  <tbody>\n",
       "    <tr>\n",
       "      <th>(0, 1)</th>\n",
       "      <td>exon</td>\n",
       "      <td>+</td>\n",
       "      <td>0</td>\n",
       "      <td>1</td>\n",
       "      <td>(0, 1)</td>\n",
       "    </tr>\n",
       "    <tr>\n",
       "      <th>(1, 4)</th>\n",
       "      <td>intron</td>\n",
       "      <td>+</td>\n",
       "      <td>1</td>\n",
       "      <td>4</td>\n",
       "      <td>(1, 4)</td>\n",
       "    </tr>\n",
       "    <tr>\n",
       "      <th>(2, 3)</th>\n",
       "      <td>exon</td>\n",
       "      <td>+</td>\n",
       "      <td>2</td>\n",
       "      <td>3</td>\n",
       "      <td>(2, 3)</td>\n",
       "    </tr>\n",
       "    <tr>\n",
       "      <th>(3, 4)</th>\n",
       "      <td>intron</td>\n",
       "      <td>+</td>\n",
       "      <td>3</td>\n",
       "      <td>4</td>\n",
       "      <td>(3, 4)</td>\n",
       "    </tr>\n",
       "    <tr>\n",
       "      <th>(4, 5)</th>\n",
       "      <td>exon</td>\n",
       "      <td>+</td>\n",
       "      <td>4</td>\n",
       "      <td>5</td>\n",
       "      <td>(4, 5)</td>\n",
       "    </tr>\n",
       "  </tbody>\n",
       "</table>\n",
       "</div>"
      ],
      "text/plain": [
       "        edge_type strand  v1  v2 edge_id\n",
       "edge_id                                 \n",
       "(0, 1)       exon      +   0   1  (0, 1)\n",
       "(1, 4)     intron      +   1   4  (1, 4)\n",
       "(2, 3)       exon      +   2   3  (2, 3)\n",
       "(3, 4)     intron      +   3   4  (3, 4)\n",
       "(4, 5)       exon      +   4   5  (4, 5)"
      ]
     },
     "execution_count": 6,
     "metadata": {},
     "output_type": "execute_result"
    }
   ],
   "source": [
    "sg.edge_df.head()"
   ]
  },
  {
   "cell_type": "code",
   "execution_count": 7,
   "id": "moderate-office",
   "metadata": {},
   "outputs": [
    {
     "data": {
      "text/html": [
       "<div>\n",
       "<style scoped>\n",
       "    .dataframe tbody tr th:only-of-type {\n",
       "        vertical-align: middle;\n",
       "    }\n",
       "\n",
       "    .dataframe tbody tr th {\n",
       "        vertical-align: top;\n",
       "    }\n",
       "\n",
       "    .dataframe thead th {\n",
       "        text-align: right;\n",
       "    }\n",
       "</style>\n",
       "<table border=\"1\" class=\"dataframe\">\n",
       "  <thead>\n",
       "    <tr style=\"text-align: right;\">\n",
       "      <th></th>\n",
       "      <th>chrom</th>\n",
       "      <th>coord</th>\n",
       "      <th>strand</th>\n",
       "      <th>vertex_id</th>\n",
       "      <th>TSS</th>\n",
       "      <th>TES</th>\n",
       "      <th>internal</th>\n",
       "    </tr>\n",
       "    <tr>\n",
       "      <th>vertex_id</th>\n",
       "      <th></th>\n",
       "      <th></th>\n",
       "      <th></th>\n",
       "      <th></th>\n",
       "      <th></th>\n",
       "      <th></th>\n",
       "      <th></th>\n",
       "    </tr>\n",
       "  </thead>\n",
       "  <tbody>\n",
       "    <tr>\n",
       "      <th>0</th>\n",
       "      <td>chr20</td>\n",
       "      <td>87250</td>\n",
       "      <td>+</td>\n",
       "      <td>0</td>\n",
       "      <td>True</td>\n",
       "      <td>False</td>\n",
       "      <td>False</td>\n",
       "    </tr>\n",
       "    <tr>\n",
       "      <th>1</th>\n",
       "      <td>chr20</td>\n",
       "      <td>87359</td>\n",
       "      <td>+</td>\n",
       "      <td>1</td>\n",
       "      <td>False</td>\n",
       "      <td>False</td>\n",
       "      <td>True</td>\n",
       "    </tr>\n",
       "    <tr>\n",
       "      <th>2</th>\n",
       "      <td>chr20</td>\n",
       "      <td>87710</td>\n",
       "      <td>+</td>\n",
       "      <td>2</td>\n",
       "      <td>True</td>\n",
       "      <td>False</td>\n",
       "      <td>False</td>\n",
       "    </tr>\n",
       "    <tr>\n",
       "      <th>3</th>\n",
       "      <td>chr20</td>\n",
       "      <td>87767</td>\n",
       "      <td>+</td>\n",
       "      <td>3</td>\n",
       "      <td>False</td>\n",
       "      <td>False</td>\n",
       "      <td>True</td>\n",
       "    </tr>\n",
       "    <tr>\n",
       "      <th>4</th>\n",
       "      <td>chr20</td>\n",
       "      <td>96005</td>\n",
       "      <td>+</td>\n",
       "      <td>4</td>\n",
       "      <td>False</td>\n",
       "      <td>False</td>\n",
       "      <td>True</td>\n",
       "    </tr>\n",
       "  </tbody>\n",
       "</table>\n",
       "</div>"
      ],
      "text/plain": [
       "           chrom  coord strand  vertex_id    TSS    TES  internal\n",
       "vertex_id                                                        \n",
       "0          chr20  87250      +          0   True  False     False\n",
       "1          chr20  87359      +          1  False  False      True\n",
       "2          chr20  87710      +          2   True  False     False\n",
       "3          chr20  87767      +          3  False  False      True\n",
       "4          chr20  96005      +          4  False  False      True"
      ]
     },
     "execution_count": 7,
     "metadata": {},
     "output_type": "execute_result"
    }
   ],
   "source": [
    "sg.loc_df.head()"
   ]
  },
  {
   "cell_type": "code",
   "execution_count": null,
   "id": "upper-response",
   "metadata": {},
   "outputs": [],
   "source": []
  },
  {
   "cell_type": "code",
   "execution_count": 9,
   "id": "hearing-bread",
   "metadata": {},
   "outputs": [
    {
     "data": {
      "text/html": [
       "<div>\n",
       "<style scoped>\n",
       "    .dataframe tbody tr th:only-of-type {\n",
       "        vertical-align: middle;\n",
       "    }\n",
       "\n",
       "    .dataframe tbody tr th {\n",
       "        vertical-align: top;\n",
       "    }\n",
       "\n",
       "    .dataframe thead th {\n",
       "        text-align: right;\n",
       "    }\n",
       "</style>\n",
       "<table border=\"1\" class=\"dataframe\">\n",
       "  <thead>\n",
       "    <tr style=\"text-align: right;\">\n",
       "      <th></th>\n",
       "      <th>tid</th>\n",
       "      <th>tname</th>\n",
       "      <th>gid</th>\n",
       "      <th>gname</th>\n",
       "      <th>path</th>\n",
       "      <th>annotation</th>\n",
       "      <th>novelty</th>\n",
       "    </tr>\n",
       "    <tr>\n",
       "      <th>tid</th>\n",
       "      <th></th>\n",
       "      <th></th>\n",
       "      <th></th>\n",
       "      <th></th>\n",
       "      <th></th>\n",
       "      <th></th>\n",
       "      <th></th>\n",
       "    </tr>\n",
       "  </thead>\n",
       "  <tbody>\n",
       "    <tr>\n",
       "      <th>ENST00000023939.8</th>\n",
       "      <td>ENST00000023939.8</td>\n",
       "      <td>RTF2-201</td>\n",
       "      <td>ENSG00000022277.12</td>\n",
       "      <td>RTF2</td>\n",
       "      <td>[9022, 9029, 9035, 9036, 9037, 9039, 9040, 904...</td>\n",
       "      <td>True</td>\n",
       "      <td>Known</td>\n",
       "    </tr>\n",
       "    <tr>\n",
       "      <th>ENST00000045083.6</th>\n",
       "      <td>ENST00000045083.6</td>\n",
       "      <td>RIPOR3-201</td>\n",
       "      <td>ENSG00000042062.11</td>\n",
       "      <td>RIPOR3</td>\n",
       "      <td>[13836, 13837, 13838, 13839, 13840, 13841, 138...</td>\n",
       "      <td>True</td>\n",
       "      <td>Known</td>\n",
       "    </tr>\n",
       "    <tr>\n",
       "      <th>ENST00000062104.3</th>\n",
       "      <td>ENST00000062104.3</td>\n",
       "      <td>NNAT-201</td>\n",
       "      <td>ENSG00000053438.9</td>\n",
       "      <td>NNAT</td>\n",
       "      <td>[5907, 5912, 5913, 5916, 5918, 5923]</td>\n",
       "      <td>True</td>\n",
       "      <td>Known</td>\n",
       "    </tr>\n",
       "    <tr>\n",
       "      <th>ENST00000064571.2</th>\n",
       "      <td>ENST00000064571.2</td>\n",
       "      <td>CBLN4-201</td>\n",
       "      <td>ENSG00000054803.3</td>\n",
       "      <td>CBLN4</td>\n",
       "      <td>[13398, 13399, 13400, 13401, 13402, 13403]</td>\n",
       "      <td>True</td>\n",
       "      <td>Known</td>\n",
       "    </tr>\n",
       "    <tr>\n",
       "      <th>ENST00000170150.3</th>\n",
       "      <td>ENST00000170150.3</td>\n",
       "      <td>BPIFB2-201</td>\n",
       "      <td>ENSG00000078898.6</td>\n",
       "      <td>BPIFB2</td>\n",
       "      <td>[4157, 4159, 4163, 4166, 4168, 4170, 4172, 417...</td>\n",
       "      <td>True</td>\n",
       "      <td>Known</td>\n",
       "    </tr>\n",
       "  </tbody>\n",
       "</table>\n",
       "</div>"
      ],
      "text/plain": [
       "                                 tid       tname                 gid   gname  \\\n",
       "tid                                                                            \n",
       "ENST00000023939.8  ENST00000023939.8    RTF2-201  ENSG00000022277.12    RTF2   \n",
       "ENST00000045083.6  ENST00000045083.6  RIPOR3-201  ENSG00000042062.11  RIPOR3   \n",
       "ENST00000062104.3  ENST00000062104.3    NNAT-201   ENSG00000053438.9    NNAT   \n",
       "ENST00000064571.2  ENST00000064571.2   CBLN4-201   ENSG00000054803.3   CBLN4   \n",
       "ENST00000170150.3  ENST00000170150.3  BPIFB2-201   ENSG00000078898.6  BPIFB2   \n",
       "\n",
       "                                                                path  \\\n",
       "tid                                                                    \n",
       "ENST00000023939.8  [9022, 9029, 9035, 9036, 9037, 9039, 9040, 904...   \n",
       "ENST00000045083.6  [13836, 13837, 13838, 13839, 13840, 13841, 138...   \n",
       "ENST00000062104.3               [5907, 5912, 5913, 5916, 5918, 5923]   \n",
       "ENST00000064571.2         [13398, 13399, 13400, 13401, 13402, 13403]   \n",
       "ENST00000170150.3  [4157, 4159, 4163, 4166, 4168, 4170, 4172, 417...   \n",
       "\n",
       "                   annotation novelty  \n",
       "tid                                    \n",
       "ENST00000023939.8        True   Known  \n",
       "ENST00000045083.6        True   Known  \n",
       "ENST00000062104.3        True   Known  \n",
       "ENST00000064571.2        True   Known  \n",
       "ENST00000170150.3        True   Known  "
      ]
     },
     "execution_count": 9,
     "metadata": {},
     "output_type": "execute_result"
    }
   ],
   "source": [
    "sg.t_df.head()"
   ]
  },
  {
   "cell_type": "code",
   "execution_count": 9,
   "id": "capable-alcohol",
   "metadata": {},
   "outputs": [],
   "source": [
    "df = pd.read_csv('data/all_talon_abundance_filtered_counts.tsv', sep='\\t')\n",
    "\n",
    "# rename first column \n",
    "col = df.columns[0]\n",
    "df.rename({col: 'tid'}, axis=1, inplace=True)"
   ]
  },
  {
   "cell_type": "code",
   "execution_count": 29,
   "id": "legitimate-baseline",
   "metadata": {},
   "outputs": [],
   "source": [
    "import numpy as np"
   ]
  },
  {
   "cell_type": "code",
   "execution_count": 8,
   "id": "dressed-martin",
   "metadata": {},
   "outputs": [
    {
     "ename": "NameError",
     "evalue": "name 'ab_tids' is not defined",
     "output_type": "error",
     "traceback": [
      "\u001b[0;31m---------------------------------------------------------------------------\u001b[0m",
      "\u001b[0;31mNameError\u001b[0m                                 Traceback (most recent call last)",
      "\u001b[0;32m<ipython-input-8-fbb545520f63>\u001b[0m in \u001b[0;36m<module>\u001b[0;34m\u001b[0m\n\u001b[0;32m----> 1\u001b[0;31m \u001b[0mdf\u001b[0m\u001b[0;34m.\u001b[0m\u001b[0mloc\u001b[0m\u001b[0;34m[\u001b[0m\u001b[0mdf\u001b[0m\u001b[0;34m.\u001b[0m\u001b[0mtid\u001b[0m\u001b[0;34m.\u001b[0m\u001b[0misin\u001b[0m\u001b[0;34m(\u001b[0m\u001b[0mlist\u001b[0m\u001b[0;34m(\u001b[0m\u001b[0mset\u001b[0m\u001b[0;34m(\u001b[0m\u001b[0mab_tids\u001b[0m\u001b[0;34m)\u001b[0m\u001b[0;34m-\u001b[0m\u001b[0mset\u001b[0m\u001b[0;34m(\u001b[0m\u001b[0msg_tids\u001b[0m\u001b[0;34m)\u001b[0m\u001b[0;34m)\u001b[0m\u001b[0;34m)\u001b[0m\u001b[0;34m]\u001b[0m\u001b[0;34m\u001b[0m\u001b[0;34m\u001b[0m\u001b[0m\n\u001b[0m",
      "\u001b[0;31mNameError\u001b[0m: name 'ab_tids' is not defined"
     ]
    }
   ],
   "source": [
    "df.loc[df.tid.isin(list(set(ab_tids)-set(sg_tids)))]"
   ]
  },
  {
   "cell_type": "code",
   "execution_count": 10,
   "id": "processed-individual",
   "metadata": {},
   "outputs": [
    {
     "name": "stdout",
     "output_type": "stream",
     "text": [
      "Transcripts absent from abundance file will be assigned 0 counts.\n",
      "Transcripts found in abundance matrix that are not in the SwanGraph will not have expression added.\n"
     ]
    }
   ],
   "source": [
    "# limit to just the transcripts already in the graph\n",
    "sg_tids = sg.t_df.tid.tolist()\n",
    "ab_tids = df.tid.tolist()\n",
    "\n",
    "if len(set(sg_tids)-set(ab_tids)) != 0:\n",
    "    print('Transcripts absent from abundance file will be assigned 0 counts.')\n",
    "if len(set(ab_tids)-set(sg_tids)) != 0:\n",
    "    print('Transcripts found in abundance matrix that are not in the SwanGraph will not have expression added.')\n",
    "\n",
    "    \n",
    "# right merge to keep everything in the t_df already\n",
    "df = df.merge(sg.t_df['tid'].to_frame(), how='right', left_on='tid', right_index=True)\n",
    "df.drop(['tid_x', 'tid_y'], axis=1, inplace=True)"
   ]
  },
  {
   "cell_type": "code",
   "execution_count": 12,
   "id": "circular-idaho",
   "metadata": {},
   "outputs": [],
   "source": [
    "df.fillna(0, inplace=True)\n",
    "df.set_index('tid', inplace=True)"
   ]
  },
  {
   "cell_type": "code",
   "execution_count": 30,
   "id": "facial-niger",
   "metadata": {},
   "outputs": [
    {
     "name": "stdout",
     "output_type": "stream",
     "text": [
      "(7, 4555)\n"
     ]
    }
   ],
   "source": [
    "tpm_df = df.index.to_frame()\n",
    "tpm_df.head()\n",
    "for c in df.columns.tolist():\n",
    "    total_counts = df[c].sum()    \n",
    "    tpm_df[c] = (df[c]*1000000)/total_counts\n",
    "tpm_df.drop('tid', axis=1, inplace=True)\n",
    "tpm_df = tpm_df.T\n",
    "tpm_X = tpm_df.to_numpy()\n",
    "print(np.shape(tpm_X))"
   ]
  },
  {
   "cell_type": "code",
   "execution_count": 31,
   "id": "preliminary-technique",
   "metadata": {},
   "outputs": [
    {
     "data": {
      "text/html": [
       "<div>\n",
       "<style scoped>\n",
       "    .dataframe tbody tr th:only-of-type {\n",
       "        vertical-align: middle;\n",
       "    }\n",
       "\n",
       "    .dataframe tbody tr th {\n",
       "        vertical-align: top;\n",
       "    }\n",
       "\n",
       "    .dataframe thead th {\n",
       "        text-align: right;\n",
       "    }\n",
       "</style>\n",
       "<table border=\"1\" class=\"dataframe\">\n",
       "  <thead>\n",
       "    <tr style=\"text-align: right;\">\n",
       "      <th>tid</th>\n",
       "      <th>ENST00000023939.8</th>\n",
       "      <th>ENST00000045083.6</th>\n",
       "      <th>ENST00000062104.3</th>\n",
       "      <th>ENST00000064571.2</th>\n",
       "      <th>ENST00000170150.3</th>\n",
       "      <th>ENST00000190983.4</th>\n",
       "      <th>ENST00000191018.9</th>\n",
       "      <th>ENST00000201031.2</th>\n",
       "      <th>ENST00000201961.6</th>\n",
       "      <th>ENST00000201963.3</th>\n",
       "      <th>...</th>\n",
       "      <th>TALONT000013147</th>\n",
       "      <th>TALONT000013148</th>\n",
       "      <th>TALONT000013454</th>\n",
       "      <th>TALONT000013557</th>\n",
       "      <th>TALONT000013655</th>\n",
       "      <th>TALONT000013657</th>\n",
       "      <th>TALONT000013998</th>\n",
       "      <th>TALONT000014162</th>\n",
       "      <th>TALONT000014163</th>\n",
       "      <th>TALONT000014329</th>\n",
       "    </tr>\n",
       "  </thead>\n",
       "  <tbody>\n",
       "    <tr>\n",
       "      <th>hepg2_1_chr20</th>\n",
       "      <td>0.000000</td>\n",
       "      <td>0.0</td>\n",
       "      <td>0.0</td>\n",
       "      <td>0.0</td>\n",
       "      <td>53914.704010</td>\n",
       "      <td>0.0</td>\n",
       "      <td>254.614895</td>\n",
       "      <td>0.000000</td>\n",
       "      <td>0.0</td>\n",
       "      <td>0.0</td>\n",
       "      <td>...</td>\n",
       "      <td>572.883514</td>\n",
       "      <td>381.922342</td>\n",
       "      <td>891.152132</td>\n",
       "      <td>700.190961</td>\n",
       "      <td>700.190961</td>\n",
       "      <td>381.922342</td>\n",
       "      <td>572.883514</td>\n",
       "      <td>1145.767027</td>\n",
       "      <td>1082.113304</td>\n",
       "      <td>318.268619</td>\n",
       "    </tr>\n",
       "    <tr>\n",
       "      <th>hepg2_2_chr20</th>\n",
       "      <td>0.000000</td>\n",
       "      <td>0.0</td>\n",
       "      <td>0.0</td>\n",
       "      <td>0.0</td>\n",
       "      <td>29204.541306</td>\n",
       "      <td>0.0</td>\n",
       "      <td>255.539736</td>\n",
       "      <td>0.000000</td>\n",
       "      <td>0.0</td>\n",
       "      <td>0.0</td>\n",
       "      <td>...</td>\n",
       "      <td>985.653269</td>\n",
       "      <td>292.045413</td>\n",
       "      <td>985.653269</td>\n",
       "      <td>511.079473</td>\n",
       "      <td>365.056766</td>\n",
       "      <td>401.562443</td>\n",
       "      <td>876.136239</td>\n",
       "      <td>2190.340598</td>\n",
       "      <td>876.136239</td>\n",
       "      <td>328.551090</td>\n",
       "    </tr>\n",
       "    <tr>\n",
       "      <th>hffc6_1_chr20</th>\n",
       "      <td>130.182907</td>\n",
       "      <td>0.0</td>\n",
       "      <td>0.0</td>\n",
       "      <td>0.0</td>\n",
       "      <td>0.000000</td>\n",
       "      <td>0.0</td>\n",
       "      <td>325.457267</td>\n",
       "      <td>0.000000</td>\n",
       "      <td>0.0</td>\n",
       "      <td>0.0</td>\n",
       "      <td>...</td>\n",
       "      <td>325.457267</td>\n",
       "      <td>130.182907</td>\n",
       "      <td>1236.737616</td>\n",
       "      <td>520.731628</td>\n",
       "      <td>0.000000</td>\n",
       "      <td>0.000000</td>\n",
       "      <td>1497.103430</td>\n",
       "      <td>585.823081</td>\n",
       "      <td>65.091453</td>\n",
       "      <td>0.000000</td>\n",
       "    </tr>\n",
       "    <tr>\n",
       "      <th>hffc6_2_chr20</th>\n",
       "      <td>107.717994</td>\n",
       "      <td>0.0</td>\n",
       "      <td>0.0</td>\n",
       "      <td>0.0</td>\n",
       "      <td>0.000000</td>\n",
       "      <td>0.0</td>\n",
       "      <td>592.448969</td>\n",
       "      <td>161.576991</td>\n",
       "      <td>0.0</td>\n",
       "      <td>0.0</td>\n",
       "      <td>...</td>\n",
       "      <td>107.717994</td>\n",
       "      <td>107.717994</td>\n",
       "      <td>969.461949</td>\n",
       "      <td>377.012980</td>\n",
       "      <td>0.000000</td>\n",
       "      <td>0.000000</td>\n",
       "      <td>969.461949</td>\n",
       "      <td>1023.320946</td>\n",
       "      <td>377.012980</td>\n",
       "      <td>0.000000</td>\n",
       "    </tr>\n",
       "    <tr>\n",
       "      <th>hffc6_3_chr20</th>\n",
       "      <td>138.504155</td>\n",
       "      <td>0.0</td>\n",
       "      <td>0.0</td>\n",
       "      <td>0.0</td>\n",
       "      <td>0.000000</td>\n",
       "      <td>0.0</td>\n",
       "      <td>900.277008</td>\n",
       "      <td>0.000000</td>\n",
       "      <td>0.0</td>\n",
       "      <td>0.0</td>\n",
       "      <td>...</td>\n",
       "      <td>415.512465</td>\n",
       "      <td>138.504155</td>\n",
       "      <td>1038.781163</td>\n",
       "      <td>277.008310</td>\n",
       "      <td>0.000000</td>\n",
       "      <td>0.000000</td>\n",
       "      <td>1177.285319</td>\n",
       "      <td>900.277008</td>\n",
       "      <td>346.260388</td>\n",
       "      <td>0.000000</td>\n",
       "    </tr>\n",
       "  </tbody>\n",
       "</table>\n",
       "<p>5 rows × 4555 columns</p>\n",
       "</div>"
      ],
      "text/plain": [
       "tid            ENST00000023939.8  ENST00000045083.6  ENST00000062104.3  \\\n",
       "hepg2_1_chr20           0.000000                0.0                0.0   \n",
       "hepg2_2_chr20           0.000000                0.0                0.0   \n",
       "hffc6_1_chr20         130.182907                0.0                0.0   \n",
       "hffc6_2_chr20         107.717994                0.0                0.0   \n",
       "hffc6_3_chr20         138.504155                0.0                0.0   \n",
       "\n",
       "tid            ENST00000064571.2  ENST00000170150.3  ENST00000190983.4  \\\n",
       "hepg2_1_chr20                0.0       53914.704010                0.0   \n",
       "hepg2_2_chr20                0.0       29204.541306                0.0   \n",
       "hffc6_1_chr20                0.0           0.000000                0.0   \n",
       "hffc6_2_chr20                0.0           0.000000                0.0   \n",
       "hffc6_3_chr20                0.0           0.000000                0.0   \n",
       "\n",
       "tid            ENST00000191018.9  ENST00000201031.2  ENST00000201961.6  \\\n",
       "hepg2_1_chr20         254.614895           0.000000                0.0   \n",
       "hepg2_2_chr20         255.539736           0.000000                0.0   \n",
       "hffc6_1_chr20         325.457267           0.000000                0.0   \n",
       "hffc6_2_chr20         592.448969         161.576991                0.0   \n",
       "hffc6_3_chr20         900.277008           0.000000                0.0   \n",
       "\n",
       "tid            ENST00000201963.3  ...  TALONT000013147  TALONT000013148  \\\n",
       "hepg2_1_chr20                0.0  ...       572.883514       381.922342   \n",
       "hepg2_2_chr20                0.0  ...       985.653269       292.045413   \n",
       "hffc6_1_chr20                0.0  ...       325.457267       130.182907   \n",
       "hffc6_2_chr20                0.0  ...       107.717994       107.717994   \n",
       "hffc6_3_chr20                0.0  ...       415.512465       138.504155   \n",
       "\n",
       "tid            TALONT000013454  TALONT000013557  TALONT000013655  \\\n",
       "hepg2_1_chr20       891.152132       700.190961       700.190961   \n",
       "hepg2_2_chr20       985.653269       511.079473       365.056766   \n",
       "hffc6_1_chr20      1236.737616       520.731628         0.000000   \n",
       "hffc6_2_chr20       969.461949       377.012980         0.000000   \n",
       "hffc6_3_chr20      1038.781163       277.008310         0.000000   \n",
       "\n",
       "tid            TALONT000013657  TALONT000013998  TALONT000014162  \\\n",
       "hepg2_1_chr20       381.922342       572.883514      1145.767027   \n",
       "hepg2_2_chr20       401.562443       876.136239      2190.340598   \n",
       "hffc6_1_chr20         0.000000      1497.103430       585.823081   \n",
       "hffc6_2_chr20         0.000000       969.461949      1023.320946   \n",
       "hffc6_3_chr20         0.000000      1177.285319       900.277008   \n",
       "\n",
       "tid            TALONT000014163  TALONT000014329  \n",
       "hepg2_1_chr20      1082.113304       318.268619  \n",
       "hepg2_2_chr20       876.136239       328.551090  \n",
       "hffc6_1_chr20        65.091453         0.000000  \n",
       "hffc6_2_chr20       377.012980         0.000000  \n",
       "hffc6_3_chr20       346.260388         0.000000  \n",
       "\n",
       "[5 rows x 4555 columns]"
      ]
     },
     "execution_count": 31,
     "metadata": {},
     "output_type": "execute_result"
    }
   ],
   "source": [
    "tpm_df.head()"
   ]
  },
  {
   "cell_type": "code",
   "execution_count": 32,
   "id": "civilian-cornell",
   "metadata": {},
   "outputs": [
    {
     "data": {
      "text/html": [
       "<div>\n",
       "<style scoped>\n",
       "    .dataframe tbody tr th:only-of-type {\n",
       "        vertical-align: middle;\n",
       "    }\n",
       "\n",
       "    .dataframe tbody tr th {\n",
       "        vertical-align: top;\n",
       "    }\n",
       "\n",
       "    .dataframe thead th {\n",
       "        text-align: right;\n",
       "    }\n",
       "</style>\n",
       "<table border=\"1\" class=\"dataframe\">\n",
       "  <thead>\n",
       "    <tr style=\"text-align: right;\">\n",
       "      <th></th>\n",
       "      <th>hepg2_1_chr20</th>\n",
       "      <th>hepg2_2_chr20</th>\n",
       "      <th>hffc6_1_chr20</th>\n",
       "      <th>hffc6_2_chr20</th>\n",
       "      <th>hffc6_3_chr20</th>\n",
       "      <th>k562_1_chr20</th>\n",
       "      <th>k562_2_chr20</th>\n",
       "    </tr>\n",
       "    <tr>\n",
       "      <th>tid</th>\n",
       "      <th></th>\n",
       "      <th></th>\n",
       "      <th></th>\n",
       "      <th></th>\n",
       "      <th></th>\n",
       "      <th></th>\n",
       "      <th></th>\n",
       "    </tr>\n",
       "  </thead>\n",
       "  <tbody>\n",
       "    <tr>\n",
       "      <th>ENST00000023939.8</th>\n",
       "      <td>0.0</td>\n",
       "      <td>0.0</td>\n",
       "      <td>2.0</td>\n",
       "      <td>2.0</td>\n",
       "      <td>2.0</td>\n",
       "      <td>1.0</td>\n",
       "      <td>1.0</td>\n",
       "    </tr>\n",
       "    <tr>\n",
       "      <th>ENST00000045083.6</th>\n",
       "      <td>0.0</td>\n",
       "      <td>0.0</td>\n",
       "      <td>0.0</td>\n",
       "      <td>0.0</td>\n",
       "      <td>0.0</td>\n",
       "      <td>0.0</td>\n",
       "      <td>0.0</td>\n",
       "    </tr>\n",
       "    <tr>\n",
       "      <th>ENST00000062104.3</th>\n",
       "      <td>0.0</td>\n",
       "      <td>0.0</td>\n",
       "      <td>0.0</td>\n",
       "      <td>0.0</td>\n",
       "      <td>0.0</td>\n",
       "      <td>0.0</td>\n",
       "      <td>0.0</td>\n",
       "    </tr>\n",
       "    <tr>\n",
       "      <th>ENST00000064571.2</th>\n",
       "      <td>0.0</td>\n",
       "      <td>0.0</td>\n",
       "      <td>0.0</td>\n",
       "      <td>0.0</td>\n",
       "      <td>0.0</td>\n",
       "      <td>0.0</td>\n",
       "      <td>0.0</td>\n",
       "    </tr>\n",
       "    <tr>\n",
       "      <th>ENST00000170150.3</th>\n",
       "      <td>847.0</td>\n",
       "      <td>800.0</td>\n",
       "      <td>0.0</td>\n",
       "      <td>0.0</td>\n",
       "      <td>0.0</td>\n",
       "      <td>0.0</td>\n",
       "      <td>0.0</td>\n",
       "    </tr>\n",
       "  </tbody>\n",
       "</table>\n",
       "</div>"
      ],
      "text/plain": [
       "                   hepg2_1_chr20  hepg2_2_chr20  hffc6_1_chr20  hffc6_2_chr20  \\\n",
       "tid                                                                             \n",
       "ENST00000023939.8            0.0            0.0            2.0            2.0   \n",
       "ENST00000045083.6            0.0            0.0            0.0            0.0   \n",
       "ENST00000062104.3            0.0            0.0            0.0            0.0   \n",
       "ENST00000064571.2            0.0            0.0            0.0            0.0   \n",
       "ENST00000170150.3          847.0          800.0            0.0            0.0   \n",
       "\n",
       "                   hffc6_3_chr20  k562_1_chr20  k562_2_chr20  \n",
       "tid                                                           \n",
       "ENST00000023939.8            2.0           1.0           1.0  \n",
       "ENST00000045083.6            0.0           0.0           0.0  \n",
       "ENST00000062104.3            0.0           0.0           0.0  \n",
       "ENST00000064571.2            0.0           0.0           0.0  \n",
       "ENST00000170150.3            0.0           0.0           0.0  "
      ]
     },
     "execution_count": 32,
     "metadata": {},
     "output_type": "execute_result"
    }
   ],
   "source": [
    "df.head()"
   ]
  },
  {
   "cell_type": "code",
   "execution_count": 33,
   "id": "hispanic-license",
   "metadata": {},
   "outputs": [],
   "source": [
    "\n",
    "df = df.T"
   ]
  },
  {
   "cell_type": "code",
   "execution_count": 34,
   "id": "hawaiian-cocktail",
   "metadata": {},
   "outputs": [
    {
     "data": {
      "text/html": [
       "<div>\n",
       "<style scoped>\n",
       "    .dataframe tbody tr th:only-of-type {\n",
       "        vertical-align: middle;\n",
       "    }\n",
       "\n",
       "    .dataframe tbody tr th {\n",
       "        vertical-align: top;\n",
       "    }\n",
       "\n",
       "    .dataframe thead th {\n",
       "        text-align: right;\n",
       "    }\n",
       "</style>\n",
       "<table border=\"1\" class=\"dataframe\">\n",
       "  <thead>\n",
       "    <tr style=\"text-align: right;\">\n",
       "      <th>tid</th>\n",
       "      <th>ENST00000023939.8</th>\n",
       "      <th>ENST00000045083.6</th>\n",
       "      <th>ENST00000062104.3</th>\n",
       "      <th>ENST00000064571.2</th>\n",
       "      <th>ENST00000170150.3</th>\n",
       "      <th>ENST00000190983.4</th>\n",
       "      <th>ENST00000191018.9</th>\n",
       "      <th>ENST00000201031.2</th>\n",
       "      <th>ENST00000201961.6</th>\n",
       "      <th>ENST00000201963.3</th>\n",
       "      <th>...</th>\n",
       "      <th>TALONT000013147</th>\n",
       "      <th>TALONT000013148</th>\n",
       "      <th>TALONT000013454</th>\n",
       "      <th>TALONT000013557</th>\n",
       "      <th>TALONT000013655</th>\n",
       "      <th>TALONT000013657</th>\n",
       "      <th>TALONT000013998</th>\n",
       "      <th>TALONT000014162</th>\n",
       "      <th>TALONT000014163</th>\n",
       "      <th>TALONT000014329</th>\n",
       "    </tr>\n",
       "  </thead>\n",
       "  <tbody>\n",
       "    <tr>\n",
       "      <th>hepg2_1_chr20</th>\n",
       "      <td>0.0</td>\n",
       "      <td>0.0</td>\n",
       "      <td>0.0</td>\n",
       "      <td>0.0</td>\n",
       "      <td>847.0</td>\n",
       "      <td>0.0</td>\n",
       "      <td>4.0</td>\n",
       "      <td>0.0</td>\n",
       "      <td>0.0</td>\n",
       "      <td>0.0</td>\n",
       "      <td>...</td>\n",
       "      <td>9.0</td>\n",
       "      <td>6.0</td>\n",
       "      <td>14.0</td>\n",
       "      <td>11.0</td>\n",
       "      <td>11.0</td>\n",
       "      <td>6.0</td>\n",
       "      <td>9.0</td>\n",
       "      <td>18.0</td>\n",
       "      <td>17.0</td>\n",
       "      <td>5.0</td>\n",
       "    </tr>\n",
       "    <tr>\n",
       "      <th>hepg2_2_chr20</th>\n",
       "      <td>0.0</td>\n",
       "      <td>0.0</td>\n",
       "      <td>0.0</td>\n",
       "      <td>0.0</td>\n",
       "      <td>800.0</td>\n",
       "      <td>0.0</td>\n",
       "      <td>7.0</td>\n",
       "      <td>0.0</td>\n",
       "      <td>0.0</td>\n",
       "      <td>0.0</td>\n",
       "      <td>...</td>\n",
       "      <td>27.0</td>\n",
       "      <td>8.0</td>\n",
       "      <td>27.0</td>\n",
       "      <td>14.0</td>\n",
       "      <td>10.0</td>\n",
       "      <td>11.0</td>\n",
       "      <td>24.0</td>\n",
       "      <td>60.0</td>\n",
       "      <td>24.0</td>\n",
       "      <td>9.0</td>\n",
       "    </tr>\n",
       "    <tr>\n",
       "      <th>hffc6_1_chr20</th>\n",
       "      <td>2.0</td>\n",
       "      <td>0.0</td>\n",
       "      <td>0.0</td>\n",
       "      <td>0.0</td>\n",
       "      <td>0.0</td>\n",
       "      <td>0.0</td>\n",
       "      <td>5.0</td>\n",
       "      <td>0.0</td>\n",
       "      <td>0.0</td>\n",
       "      <td>0.0</td>\n",
       "      <td>...</td>\n",
       "      <td>5.0</td>\n",
       "      <td>2.0</td>\n",
       "      <td>19.0</td>\n",
       "      <td>8.0</td>\n",
       "      <td>0.0</td>\n",
       "      <td>0.0</td>\n",
       "      <td>23.0</td>\n",
       "      <td>9.0</td>\n",
       "      <td>1.0</td>\n",
       "      <td>0.0</td>\n",
       "    </tr>\n",
       "    <tr>\n",
       "      <th>hffc6_2_chr20</th>\n",
       "      <td>2.0</td>\n",
       "      <td>0.0</td>\n",
       "      <td>0.0</td>\n",
       "      <td>0.0</td>\n",
       "      <td>0.0</td>\n",
       "      <td>0.0</td>\n",
       "      <td>11.0</td>\n",
       "      <td>3.0</td>\n",
       "      <td>0.0</td>\n",
       "      <td>0.0</td>\n",
       "      <td>...</td>\n",
       "      <td>2.0</td>\n",
       "      <td>2.0</td>\n",
       "      <td>18.0</td>\n",
       "      <td>7.0</td>\n",
       "      <td>0.0</td>\n",
       "      <td>0.0</td>\n",
       "      <td>18.0</td>\n",
       "      <td>19.0</td>\n",
       "      <td>7.0</td>\n",
       "      <td>0.0</td>\n",
       "    </tr>\n",
       "    <tr>\n",
       "      <th>hffc6_3_chr20</th>\n",
       "      <td>2.0</td>\n",
       "      <td>0.0</td>\n",
       "      <td>0.0</td>\n",
       "      <td>0.0</td>\n",
       "      <td>0.0</td>\n",
       "      <td>0.0</td>\n",
       "      <td>13.0</td>\n",
       "      <td>0.0</td>\n",
       "      <td>0.0</td>\n",
       "      <td>0.0</td>\n",
       "      <td>...</td>\n",
       "      <td>6.0</td>\n",
       "      <td>2.0</td>\n",
       "      <td>15.0</td>\n",
       "      <td>4.0</td>\n",
       "      <td>0.0</td>\n",
       "      <td>0.0</td>\n",
       "      <td>17.0</td>\n",
       "      <td>13.0</td>\n",
       "      <td>5.0</td>\n",
       "      <td>0.0</td>\n",
       "    </tr>\n",
       "  </tbody>\n",
       "</table>\n",
       "<p>5 rows × 4555 columns</p>\n",
       "</div>"
      ],
      "text/plain": [
       "tid            ENST00000023939.8  ENST00000045083.6  ENST00000062104.3  \\\n",
       "hepg2_1_chr20                0.0                0.0                0.0   \n",
       "hepg2_2_chr20                0.0                0.0                0.0   \n",
       "hffc6_1_chr20                2.0                0.0                0.0   \n",
       "hffc6_2_chr20                2.0                0.0                0.0   \n",
       "hffc6_3_chr20                2.0                0.0                0.0   \n",
       "\n",
       "tid            ENST00000064571.2  ENST00000170150.3  ENST00000190983.4  \\\n",
       "hepg2_1_chr20                0.0              847.0                0.0   \n",
       "hepg2_2_chr20                0.0              800.0                0.0   \n",
       "hffc6_1_chr20                0.0                0.0                0.0   \n",
       "hffc6_2_chr20                0.0                0.0                0.0   \n",
       "hffc6_3_chr20                0.0                0.0                0.0   \n",
       "\n",
       "tid            ENST00000191018.9  ENST00000201031.2  ENST00000201961.6  \\\n",
       "hepg2_1_chr20                4.0                0.0                0.0   \n",
       "hepg2_2_chr20                7.0                0.0                0.0   \n",
       "hffc6_1_chr20                5.0                0.0                0.0   \n",
       "hffc6_2_chr20               11.0                3.0                0.0   \n",
       "hffc6_3_chr20               13.0                0.0                0.0   \n",
       "\n",
       "tid            ENST00000201963.3  ...  TALONT000013147  TALONT000013148  \\\n",
       "hepg2_1_chr20                0.0  ...              9.0              6.0   \n",
       "hepg2_2_chr20                0.0  ...             27.0              8.0   \n",
       "hffc6_1_chr20                0.0  ...              5.0              2.0   \n",
       "hffc6_2_chr20                0.0  ...              2.0              2.0   \n",
       "hffc6_3_chr20                0.0  ...              6.0              2.0   \n",
       "\n",
       "tid            TALONT000013454  TALONT000013557  TALONT000013655  \\\n",
       "hepg2_1_chr20             14.0             11.0             11.0   \n",
       "hepg2_2_chr20             27.0             14.0             10.0   \n",
       "hffc6_1_chr20             19.0              8.0              0.0   \n",
       "hffc6_2_chr20             18.0              7.0              0.0   \n",
       "hffc6_3_chr20             15.0              4.0              0.0   \n",
       "\n",
       "tid            TALONT000013657  TALONT000013998  TALONT000014162  \\\n",
       "hepg2_1_chr20              6.0              9.0             18.0   \n",
       "hepg2_2_chr20             11.0             24.0             60.0   \n",
       "hffc6_1_chr20              0.0             23.0              9.0   \n",
       "hffc6_2_chr20              0.0             18.0             19.0   \n",
       "hffc6_3_chr20              0.0             17.0             13.0   \n",
       "\n",
       "tid            TALONT000014163  TALONT000014329  \n",
       "hepg2_1_chr20             17.0              5.0  \n",
       "hepg2_2_chr20             24.0              9.0  \n",
       "hffc6_1_chr20              1.0              0.0  \n",
       "hffc6_2_chr20              7.0              0.0  \n",
       "hffc6_3_chr20              5.0              0.0  \n",
       "\n",
       "[5 rows x 4555 columns]"
      ]
     },
     "execution_count": 34,
     "metadata": {},
     "output_type": "execute_result"
    }
   ],
   "source": [
    "df.head()"
   ]
  },
  {
   "cell_type": "code",
   "execution_count": 35,
   "id": "desperate-culture",
   "metadata": {},
   "outputs": [
    {
     "data": {
      "text/html": [
       "<div>\n",
       "<style scoped>\n",
       "    .dataframe tbody tr th:only-of-type {\n",
       "        vertical-align: middle;\n",
       "    }\n",
       "\n",
       "    .dataframe tbody tr th {\n",
       "        vertical-align: top;\n",
       "    }\n",
       "\n",
       "    .dataframe thead th {\n",
       "        text-align: right;\n",
       "    }\n",
       "</style>\n",
       "<table border=\"1\" class=\"dataframe\">\n",
       "  <thead>\n",
       "    <tr style=\"text-align: right;\">\n",
       "      <th></th>\n",
       "      <th>tid</th>\n",
       "    </tr>\n",
       "    <tr>\n",
       "      <th>tid</th>\n",
       "      <th></th>\n",
       "    </tr>\n",
       "  </thead>\n",
       "  <tbody>\n",
       "    <tr>\n",
       "      <th>ENST00000023939.8</th>\n",
       "      <td>ENST00000023939.8</td>\n",
       "    </tr>\n",
       "    <tr>\n",
       "      <th>ENST00000045083.6</th>\n",
       "      <td>ENST00000045083.6</td>\n",
       "    </tr>\n",
       "    <tr>\n",
       "      <th>ENST00000062104.3</th>\n",
       "      <td>ENST00000062104.3</td>\n",
       "    </tr>\n",
       "    <tr>\n",
       "      <th>ENST00000064571.2</th>\n",
       "      <td>ENST00000064571.2</td>\n",
       "    </tr>\n",
       "    <tr>\n",
       "      <th>ENST00000170150.3</th>\n",
       "      <td>ENST00000170150.3</td>\n",
       "    </tr>\n",
       "  </tbody>\n",
       "</table>\n",
       "</div>"
      ],
      "text/plain": [
       "                                 tid\n",
       "tid                                 \n",
       "ENST00000023939.8  ENST00000023939.8\n",
       "ENST00000045083.6  ENST00000045083.6\n",
       "ENST00000062104.3  ENST00000062104.3\n",
       "ENST00000064571.2  ENST00000064571.2\n",
       "ENST00000170150.3  ENST00000170150.3"
      ]
     },
     "execution_count": 35,
     "metadata": {},
     "output_type": "execute_result"
    }
   ],
   "source": [
    "var = df.columns.to_frame()\n",
    "var.columns = ['tid']\n",
    "var.head()"
   ]
  },
  {
   "cell_type": "code",
   "execution_count": 36,
   "id": "cognitive-teddy",
   "metadata": {},
   "outputs": [
    {
     "name": "stdout",
     "output_type": "stream",
     "text": [
      "ENST00000023939.8\n",
      "ENST00000045083.6\n",
      "ENST00000062104.3\n",
      "ENST00000064571.2\n",
      "ENST00000170150.3\n"
     ]
    }
   ],
   "source": [
    "for v in var.tid.tolist()[:5]:\n",
    "    print(v)"
   ]
  },
  {
   "cell_type": "code",
   "execution_count": 37,
   "id": "extended-shoulder",
   "metadata": {},
   "outputs": [
    {
     "data": {
      "text/html": [
       "<div>\n",
       "<style scoped>\n",
       "    .dataframe tbody tr th:only-of-type {\n",
       "        vertical-align: middle;\n",
       "    }\n",
       "\n",
       "    .dataframe tbody tr th {\n",
       "        vertical-align: top;\n",
       "    }\n",
       "\n",
       "    .dataframe thead th {\n",
       "        text-align: right;\n",
       "    }\n",
       "</style>\n",
       "<table border=\"1\" class=\"dataframe\">\n",
       "  <thead>\n",
       "    <tr style=\"text-align: right;\">\n",
       "      <th></th>\n",
       "      <th>dataset</th>\n",
       "    </tr>\n",
       "  </thead>\n",
       "  <tbody>\n",
       "    <tr>\n",
       "      <th>hepg2_1_chr20</th>\n",
       "      <td>hepg2_1_chr20</td>\n",
       "    </tr>\n",
       "    <tr>\n",
       "      <th>hepg2_2_chr20</th>\n",
       "      <td>hepg2_2_chr20</td>\n",
       "    </tr>\n",
       "    <tr>\n",
       "      <th>hffc6_1_chr20</th>\n",
       "      <td>hffc6_1_chr20</td>\n",
       "    </tr>\n",
       "    <tr>\n",
       "      <th>hffc6_2_chr20</th>\n",
       "      <td>hffc6_2_chr20</td>\n",
       "    </tr>\n",
       "    <tr>\n",
       "      <th>hffc6_3_chr20</th>\n",
       "      <td>hffc6_3_chr20</td>\n",
       "    </tr>\n",
       "  </tbody>\n",
       "</table>\n",
       "</div>"
      ],
      "text/plain": [
       "                     dataset\n",
       "hepg2_1_chr20  hepg2_1_chr20\n",
       "hepg2_2_chr20  hepg2_2_chr20\n",
       "hffc6_1_chr20  hffc6_1_chr20\n",
       "hffc6_2_chr20  hffc6_2_chr20\n",
       "hffc6_3_chr20  hffc6_3_chr20"
      ]
     },
     "execution_count": 37,
     "metadata": {},
     "output_type": "execute_result"
    }
   ],
   "source": [
    "obs = df.index.to_frame()\n",
    "obs.columns = ['dataset']\n",
    "obs.head()"
   ]
  },
  {
   "cell_type": "code",
   "execution_count": 38,
   "id": "protecting-camel",
   "metadata": {},
   "outputs": [
    {
     "name": "stdout",
     "output_type": "stream",
     "text": [
      "hepg2_1_chr20\n",
      "hepg2_2_chr20\n",
      "hffc6_1_chr20\n",
      "hffc6_2_chr20\n",
      "hffc6_3_chr20\n"
     ]
    }
   ],
   "source": [
    "for o in obs.dataset.tolist()[:5]:\n",
    "    print(o)"
   ]
  },
  {
   "cell_type": "code",
   "execution_count": 39,
   "id": "numeric-reason",
   "metadata": {},
   "outputs": [],
   "source": [
    "sg.datasets.extend(obs.dataset.tolist())"
   ]
  },
  {
   "cell_type": "code",
   "execution_count": 40,
   "id": "american-belgium",
   "metadata": {},
   "outputs": [
    {
     "data": {
      "text/plain": [
       "['hepg2_1_chr20',\n",
       " 'hepg2_2_chr20',\n",
       " 'hffc6_1_chr20',\n",
       " 'hffc6_2_chr20',\n",
       " 'hffc6_3_chr20',\n",
       " 'k562_1_chr20',\n",
       " 'k562_2_chr20',\n",
       " 'hepg2_1_chr20',\n",
       " 'hepg2_2_chr20',\n",
       " 'hffc6_1_chr20',\n",
       " 'hffc6_2_chr20',\n",
       " 'hffc6_3_chr20',\n",
       " 'k562_1_chr20',\n",
       " 'k562_2_chr20']"
      ]
     },
     "execution_count": 40,
     "metadata": {},
     "output_type": "execute_result"
    }
   ],
   "source": [
    "sg.datasets"
   ]
  },
  {
   "cell_type": "code",
   "execution_count": 41,
   "id": "wanted-navigation",
   "metadata": {},
   "outputs": [],
   "source": [
    "X = df.to_numpy()"
   ]
  },
  {
   "cell_type": "code",
   "execution_count": 42,
   "id": "limited-extra",
   "metadata": {},
   "outputs": [],
   "source": [
    "adata = anndata.AnnData(obs=obs, var=var, X=X)"
   ]
  },
  {
   "cell_type": "code",
   "execution_count": 45,
   "id": "urban-tribune",
   "metadata": {},
   "outputs": [
    {
     "data": {
      "text/html": [
       "<div>\n",
       "<style scoped>\n",
       "    .dataframe tbody tr th:only-of-type {\n",
       "        vertical-align: middle;\n",
       "    }\n",
       "\n",
       "    .dataframe tbody tr th {\n",
       "        vertical-align: top;\n",
       "    }\n",
       "\n",
       "    .dataframe thead th {\n",
       "        text-align: right;\n",
       "    }\n",
       "</style>\n",
       "<table border=\"1\" class=\"dataframe\">\n",
       "  <thead>\n",
       "    <tr style=\"text-align: right;\">\n",
       "      <th></th>\n",
       "      <th>dataset</th>\n",
       "    </tr>\n",
       "  </thead>\n",
       "  <tbody>\n",
       "    <tr>\n",
       "      <th>hepg2_1_chr20</th>\n",
       "      <td>hepg2_1_chr20</td>\n",
       "    </tr>\n",
       "    <tr>\n",
       "      <th>hepg2_2_chr20</th>\n",
       "      <td>hepg2_2_chr20</td>\n",
       "    </tr>\n",
       "    <tr>\n",
       "      <th>hffc6_1_chr20</th>\n",
       "      <td>hffc6_1_chr20</td>\n",
       "    </tr>\n",
       "    <tr>\n",
       "      <th>hffc6_2_chr20</th>\n",
       "      <td>hffc6_2_chr20</td>\n",
       "    </tr>\n",
       "    <tr>\n",
       "      <th>hffc6_3_chr20</th>\n",
       "      <td>hffc6_3_chr20</td>\n",
       "    </tr>\n",
       "    <tr>\n",
       "      <th>k562_1_chr20</th>\n",
       "      <td>k562_1_chr20</td>\n",
       "    </tr>\n",
       "    <tr>\n",
       "      <th>k562_2_chr20</th>\n",
       "      <td>k562_2_chr20</td>\n",
       "    </tr>\n",
       "  </tbody>\n",
       "</table>\n",
       "</div>"
      ],
      "text/plain": [
       "                     dataset\n",
       "hepg2_1_chr20  hepg2_1_chr20\n",
       "hepg2_2_chr20  hepg2_2_chr20\n",
       "hffc6_1_chr20  hffc6_1_chr20\n",
       "hffc6_2_chr20  hffc6_2_chr20\n",
       "hffc6_3_chr20  hffc6_3_chr20\n",
       "k562_1_chr20    k562_1_chr20\n",
       "k562_2_chr20    k562_2_chr20"
      ]
     },
     "execution_count": 45,
     "metadata": {},
     "output_type": "execute_result"
    }
   ],
   "source": [
    "adata.obs"
   ]
  },
  {
   "cell_type": "code",
   "execution_count": 46,
   "id": "vocal-carol",
   "metadata": {},
   "outputs": [
    {
     "data": {
      "text/html": [
       "<div>\n",
       "<style scoped>\n",
       "    .dataframe tbody tr th:only-of-type {\n",
       "        vertical-align: middle;\n",
       "    }\n",
       "\n",
       "    .dataframe tbody tr th {\n",
       "        vertical-align: top;\n",
       "    }\n",
       "\n",
       "    .dataframe thead th {\n",
       "        text-align: right;\n",
       "    }\n",
       "</style>\n",
       "<table border=\"1\" class=\"dataframe\">\n",
       "  <thead>\n",
       "    <tr style=\"text-align: right;\">\n",
       "      <th></th>\n",
       "      <th>tid</th>\n",
       "    </tr>\n",
       "    <tr>\n",
       "      <th>tid</th>\n",
       "      <th></th>\n",
       "    </tr>\n",
       "  </thead>\n",
       "  <tbody>\n",
       "    <tr>\n",
       "      <th>ENST00000023939.8</th>\n",
       "      <td>ENST00000023939.8</td>\n",
       "    </tr>\n",
       "    <tr>\n",
       "      <th>ENST00000045083.6</th>\n",
       "      <td>ENST00000045083.6</td>\n",
       "    </tr>\n",
       "    <tr>\n",
       "      <th>ENST00000062104.3</th>\n",
       "      <td>ENST00000062104.3</td>\n",
       "    </tr>\n",
       "    <tr>\n",
       "      <th>ENST00000064571.2</th>\n",
       "      <td>ENST00000064571.2</td>\n",
       "    </tr>\n",
       "    <tr>\n",
       "      <th>ENST00000170150.3</th>\n",
       "      <td>ENST00000170150.3</td>\n",
       "    </tr>\n",
       "  </tbody>\n",
       "</table>\n",
       "</div>"
      ],
      "text/plain": [
       "                                 tid\n",
       "tid                                 \n",
       "ENST00000023939.8  ENST00000023939.8\n",
       "ENST00000045083.6  ENST00000045083.6\n",
       "ENST00000062104.3  ENST00000062104.3\n",
       "ENST00000064571.2  ENST00000064571.2\n",
       "ENST00000170150.3  ENST00000170150.3"
      ]
     },
     "execution_count": 46,
     "metadata": {},
     "output_type": "execute_result"
    }
   ],
   "source": [
    "adata.var.head()"
   ]
  },
  {
   "cell_type": "code",
   "execution_count": 47,
   "id": "brown-pitch",
   "metadata": {},
   "outputs": [],
   "source": [
    "sg.adata = adata"
   ]
  },
  {
   "cell_type": "code",
   "execution_count": 48,
   "id": "brave-waterproof",
   "metadata": {},
   "outputs": [
    {
     "data": {
      "text/plain": [
       "array([[  0.,   0.,   0.,   0., 847.],\n",
       "       [  0.,   0.,   0.,   0., 800.],\n",
       "       [  2.,   0.,   0.,   0.,   0.],\n",
       "       [  2.,   0.,   0.,   0.,   0.],\n",
       "       [  2.,   0.,   0.,   0.,   0.]])"
      ]
     },
     "execution_count": 48,
     "metadata": {},
     "output_type": "execute_result"
    }
   ],
   "source": [
    "X[:5, :5]"
   ]
  },
  {
   "cell_type": "code",
   "execution_count": 49,
   "id": "healthy-breeding",
   "metadata": {},
   "outputs": [
    {
     "data": {
      "text/html": [
       "<div>\n",
       "<style scoped>\n",
       "    .dataframe tbody tr th:only-of-type {\n",
       "        vertical-align: middle;\n",
       "    }\n",
       "\n",
       "    .dataframe tbody tr th {\n",
       "        vertical-align: top;\n",
       "    }\n",
       "\n",
       "    .dataframe thead th {\n",
       "        text-align: right;\n",
       "    }\n",
       "</style>\n",
       "<table border=\"1\" class=\"dataframe\">\n",
       "  <thead>\n",
       "    <tr style=\"text-align: right;\">\n",
       "      <th></th>\n",
       "      <th>tid</th>\n",
       "    </tr>\n",
       "    <tr>\n",
       "      <th>tid</th>\n",
       "      <th></th>\n",
       "    </tr>\n",
       "  </thead>\n",
       "  <tbody>\n",
       "    <tr>\n",
       "      <th>ENST00000023939.8</th>\n",
       "      <td>ENST00000023939.8</td>\n",
       "    </tr>\n",
       "    <tr>\n",
       "      <th>ENST00000045083.6</th>\n",
       "      <td>ENST00000045083.6</td>\n",
       "    </tr>\n",
       "    <tr>\n",
       "      <th>ENST00000062104.3</th>\n",
       "      <td>ENST00000062104.3</td>\n",
       "    </tr>\n",
       "    <tr>\n",
       "      <th>ENST00000064571.2</th>\n",
       "      <td>ENST00000064571.2</td>\n",
       "    </tr>\n",
       "    <tr>\n",
       "      <th>ENST00000170150.3</th>\n",
       "      <td>ENST00000170150.3</td>\n",
       "    </tr>\n",
       "  </tbody>\n",
       "</table>\n",
       "</div>"
      ],
      "text/plain": [
       "                                 tid\n",
       "tid                                 \n",
       "ENST00000023939.8  ENST00000023939.8\n",
       "ENST00000045083.6  ENST00000045083.6\n",
       "ENST00000062104.3  ENST00000062104.3\n",
       "ENST00000064571.2  ENST00000064571.2\n",
       "ENST00000170150.3  ENST00000170150.3"
      ]
     },
     "execution_count": 49,
     "metadata": {},
     "output_type": "execute_result"
    }
   ],
   "source": [
    "var[:5]"
   ]
  },
  {
   "cell_type": "code",
   "execution_count": 50,
   "id": "neural-graphics",
   "metadata": {},
   "outputs": [
    {
     "data": {
      "text/html": [
       "<div>\n",
       "<style scoped>\n",
       "    .dataframe tbody tr th:only-of-type {\n",
       "        vertical-align: middle;\n",
       "    }\n",
       "\n",
       "    .dataframe tbody tr th {\n",
       "        vertical-align: top;\n",
       "    }\n",
       "\n",
       "    .dataframe thead th {\n",
       "        text-align: right;\n",
       "    }\n",
       "</style>\n",
       "<table border=\"1\" class=\"dataframe\">\n",
       "  <thead>\n",
       "    <tr style=\"text-align: right;\">\n",
       "      <th></th>\n",
       "      <th>dataset</th>\n",
       "    </tr>\n",
       "  </thead>\n",
       "  <tbody>\n",
       "    <tr>\n",
       "      <th>hepg2_1_chr20</th>\n",
       "      <td>hepg2_1_chr20</td>\n",
       "    </tr>\n",
       "    <tr>\n",
       "      <th>hepg2_2_chr20</th>\n",
       "      <td>hepg2_2_chr20</td>\n",
       "    </tr>\n",
       "    <tr>\n",
       "      <th>hffc6_1_chr20</th>\n",
       "      <td>hffc6_1_chr20</td>\n",
       "    </tr>\n",
       "    <tr>\n",
       "      <th>hffc6_2_chr20</th>\n",
       "      <td>hffc6_2_chr20</td>\n",
       "    </tr>\n",
       "    <tr>\n",
       "      <th>hffc6_3_chr20</th>\n",
       "      <td>hffc6_3_chr20</td>\n",
       "    </tr>\n",
       "  </tbody>\n",
       "</table>\n",
       "</div>"
      ],
      "text/plain": [
       "                     dataset\n",
       "hepg2_1_chr20  hepg2_1_chr20\n",
       "hepg2_2_chr20  hepg2_2_chr20\n",
       "hffc6_1_chr20  hffc6_1_chr20\n",
       "hffc6_2_chr20  hffc6_2_chr20\n",
       "hffc6_3_chr20  hffc6_3_chr20"
      ]
     },
     "execution_count": 50,
     "metadata": {},
     "output_type": "execute_result"
    }
   ],
   "source": [
    "obs[:5]"
   ]
  },
  {
   "cell_type": "code",
   "execution_count": 51,
   "id": "according-advertising",
   "metadata": {},
   "outputs": [
    {
     "data": {
      "text/html": [
       "<div>\n",
       "<style scoped>\n",
       "    .dataframe tbody tr th:only-of-type {\n",
       "        vertical-align: middle;\n",
       "    }\n",
       "\n",
       "    .dataframe tbody tr th {\n",
       "        vertical-align: top;\n",
       "    }\n",
       "\n",
       "    .dataframe thead th {\n",
       "        text-align: right;\n",
       "    }\n",
       "</style>\n",
       "<table border=\"1\" class=\"dataframe\">\n",
       "  <thead>\n",
       "    <tr style=\"text-align: right;\">\n",
       "      <th>tid</th>\n",
       "      <th>ENST00000023939.8</th>\n",
       "      <th>ENST00000045083.6</th>\n",
       "      <th>ENST00000062104.3</th>\n",
       "      <th>ENST00000064571.2</th>\n",
       "      <th>ENST00000170150.3</th>\n",
       "      <th>ENST00000190983.4</th>\n",
       "      <th>ENST00000191018.9</th>\n",
       "      <th>ENST00000201031.2</th>\n",
       "      <th>ENST00000201961.6</th>\n",
       "      <th>ENST00000201963.3</th>\n",
       "      <th>...</th>\n",
       "      <th>TALONT000013147</th>\n",
       "      <th>TALONT000013148</th>\n",
       "      <th>TALONT000013454</th>\n",
       "      <th>TALONT000013557</th>\n",
       "      <th>TALONT000013655</th>\n",
       "      <th>TALONT000013657</th>\n",
       "      <th>TALONT000013998</th>\n",
       "      <th>TALONT000014162</th>\n",
       "      <th>TALONT000014163</th>\n",
       "      <th>TALONT000014329</th>\n",
       "    </tr>\n",
       "  </thead>\n",
       "  <tbody>\n",
       "    <tr>\n",
       "      <th>hepg2_1_chr20</th>\n",
       "      <td>0.0</td>\n",
       "      <td>0.0</td>\n",
       "      <td>0.0</td>\n",
       "      <td>0.0</td>\n",
       "      <td>847.0</td>\n",
       "      <td>0.0</td>\n",
       "      <td>4.0</td>\n",
       "      <td>0.0</td>\n",
       "      <td>0.0</td>\n",
       "      <td>0.0</td>\n",
       "      <td>...</td>\n",
       "      <td>9.0</td>\n",
       "      <td>6.0</td>\n",
       "      <td>14.0</td>\n",
       "      <td>11.0</td>\n",
       "      <td>11.0</td>\n",
       "      <td>6.0</td>\n",
       "      <td>9.0</td>\n",
       "      <td>18.0</td>\n",
       "      <td>17.0</td>\n",
       "      <td>5.0</td>\n",
       "    </tr>\n",
       "    <tr>\n",
       "      <th>hepg2_2_chr20</th>\n",
       "      <td>0.0</td>\n",
       "      <td>0.0</td>\n",
       "      <td>0.0</td>\n",
       "      <td>0.0</td>\n",
       "      <td>800.0</td>\n",
       "      <td>0.0</td>\n",
       "      <td>7.0</td>\n",
       "      <td>0.0</td>\n",
       "      <td>0.0</td>\n",
       "      <td>0.0</td>\n",
       "      <td>...</td>\n",
       "      <td>27.0</td>\n",
       "      <td>8.0</td>\n",
       "      <td>27.0</td>\n",
       "      <td>14.0</td>\n",
       "      <td>10.0</td>\n",
       "      <td>11.0</td>\n",
       "      <td>24.0</td>\n",
       "      <td>60.0</td>\n",
       "      <td>24.0</td>\n",
       "      <td>9.0</td>\n",
       "    </tr>\n",
       "    <tr>\n",
       "      <th>hffc6_1_chr20</th>\n",
       "      <td>2.0</td>\n",
       "      <td>0.0</td>\n",
       "      <td>0.0</td>\n",
       "      <td>0.0</td>\n",
       "      <td>0.0</td>\n",
       "      <td>0.0</td>\n",
       "      <td>5.0</td>\n",
       "      <td>0.0</td>\n",
       "      <td>0.0</td>\n",
       "      <td>0.0</td>\n",
       "      <td>...</td>\n",
       "      <td>5.0</td>\n",
       "      <td>2.0</td>\n",
       "      <td>19.0</td>\n",
       "      <td>8.0</td>\n",
       "      <td>0.0</td>\n",
       "      <td>0.0</td>\n",
       "      <td>23.0</td>\n",
       "      <td>9.0</td>\n",
       "      <td>1.0</td>\n",
       "      <td>0.0</td>\n",
       "    </tr>\n",
       "    <tr>\n",
       "      <th>hffc6_2_chr20</th>\n",
       "      <td>2.0</td>\n",
       "      <td>0.0</td>\n",
       "      <td>0.0</td>\n",
       "      <td>0.0</td>\n",
       "      <td>0.0</td>\n",
       "      <td>0.0</td>\n",
       "      <td>11.0</td>\n",
       "      <td>3.0</td>\n",
       "      <td>0.0</td>\n",
       "      <td>0.0</td>\n",
       "      <td>...</td>\n",
       "      <td>2.0</td>\n",
       "      <td>2.0</td>\n",
       "      <td>18.0</td>\n",
       "      <td>7.0</td>\n",
       "      <td>0.0</td>\n",
       "      <td>0.0</td>\n",
       "      <td>18.0</td>\n",
       "      <td>19.0</td>\n",
       "      <td>7.0</td>\n",
       "      <td>0.0</td>\n",
       "    </tr>\n",
       "    <tr>\n",
       "      <th>hffc6_3_chr20</th>\n",
       "      <td>2.0</td>\n",
       "      <td>0.0</td>\n",
       "      <td>0.0</td>\n",
       "      <td>0.0</td>\n",
       "      <td>0.0</td>\n",
       "      <td>0.0</td>\n",
       "      <td>13.0</td>\n",
       "      <td>0.0</td>\n",
       "      <td>0.0</td>\n",
       "      <td>0.0</td>\n",
       "      <td>...</td>\n",
       "      <td>6.0</td>\n",
       "      <td>2.0</td>\n",
       "      <td>15.0</td>\n",
       "      <td>4.0</td>\n",
       "      <td>0.0</td>\n",
       "      <td>0.0</td>\n",
       "      <td>17.0</td>\n",
       "      <td>13.0</td>\n",
       "      <td>5.0</td>\n",
       "      <td>0.0</td>\n",
       "    </tr>\n",
       "  </tbody>\n",
       "</table>\n",
       "<p>5 rows × 4555 columns</p>\n",
       "</div>"
      ],
      "text/plain": [
       "tid            ENST00000023939.8  ENST00000045083.6  ENST00000062104.3  \\\n",
       "hepg2_1_chr20                0.0                0.0                0.0   \n",
       "hepg2_2_chr20                0.0                0.0                0.0   \n",
       "hffc6_1_chr20                2.0                0.0                0.0   \n",
       "hffc6_2_chr20                2.0                0.0                0.0   \n",
       "hffc6_3_chr20                2.0                0.0                0.0   \n",
       "\n",
       "tid            ENST00000064571.2  ENST00000170150.3  ENST00000190983.4  \\\n",
       "hepg2_1_chr20                0.0              847.0                0.0   \n",
       "hepg2_2_chr20                0.0              800.0                0.0   \n",
       "hffc6_1_chr20                0.0                0.0                0.0   \n",
       "hffc6_2_chr20                0.0                0.0                0.0   \n",
       "hffc6_3_chr20                0.0                0.0                0.0   \n",
       "\n",
       "tid            ENST00000191018.9  ENST00000201031.2  ENST00000201961.6  \\\n",
       "hepg2_1_chr20                4.0                0.0                0.0   \n",
       "hepg2_2_chr20                7.0                0.0                0.0   \n",
       "hffc6_1_chr20                5.0                0.0                0.0   \n",
       "hffc6_2_chr20               11.0                3.0                0.0   \n",
       "hffc6_3_chr20               13.0                0.0                0.0   \n",
       "\n",
       "tid            ENST00000201963.3  ...  TALONT000013147  TALONT000013148  \\\n",
       "hepg2_1_chr20                0.0  ...              9.0              6.0   \n",
       "hepg2_2_chr20                0.0  ...             27.0              8.0   \n",
       "hffc6_1_chr20                0.0  ...              5.0              2.0   \n",
       "hffc6_2_chr20                0.0  ...              2.0              2.0   \n",
       "hffc6_3_chr20                0.0  ...              6.0              2.0   \n",
       "\n",
       "tid            TALONT000013454  TALONT000013557  TALONT000013655  \\\n",
       "hepg2_1_chr20             14.0             11.0             11.0   \n",
       "hepg2_2_chr20             27.0             14.0             10.0   \n",
       "hffc6_1_chr20             19.0              8.0              0.0   \n",
       "hffc6_2_chr20             18.0              7.0              0.0   \n",
       "hffc6_3_chr20             15.0              4.0              0.0   \n",
       "\n",
       "tid            TALONT000013657  TALONT000013998  TALONT000014162  \\\n",
       "hepg2_1_chr20              6.0              9.0             18.0   \n",
       "hepg2_2_chr20             11.0             24.0             60.0   \n",
       "hffc6_1_chr20              0.0             23.0              9.0   \n",
       "hffc6_2_chr20              0.0             18.0             19.0   \n",
       "hffc6_3_chr20              0.0             17.0             13.0   \n",
       "\n",
       "tid            TALONT000014163  TALONT000014329  \n",
       "hepg2_1_chr20             17.0              5.0  \n",
       "hepg2_2_chr20             24.0              9.0  \n",
       "hffc6_1_chr20              1.0              0.0  \n",
       "hffc6_2_chr20              7.0              0.0  \n",
       "hffc6_3_chr20              5.0              0.0  \n",
       "\n",
       "[5 rows x 4555 columns]"
      ]
     },
     "execution_count": 51,
     "metadata": {},
     "output_type": "execute_result"
    }
   ],
   "source": [
    "df.head()"
   ]
  },
  {
   "cell_type": "code",
   "execution_count": 52,
   "id": "stone-selling",
   "metadata": {},
   "outputs": [
    {
     "data": {
      "text/plain": [
       "array([[  0.,   0.,   0.,   0., 847.],\n",
       "       [  0.,   0.,   0.,   0., 800.],\n",
       "       [  2.,   0.,   0.,   0.,   0.],\n",
       "       [  2.,   0.,   0.,   0.,   0.],\n",
       "       [  2.,   0.,   0.,   0.,   0.]], dtype=float32)"
      ]
     },
     "execution_count": 52,
     "metadata": {},
     "output_type": "execute_result"
    }
   ],
   "source": [
    "sg.adata.X[:5,:5]"
   ]
  },
  {
   "cell_type": "code",
   "execution_count": 54,
   "id": "frozen-diploma",
   "metadata": {},
   "outputs": [],
   "source": [
    "sg.adata.layers['tpm'] = tpm_X"
   ]
  },
  {
   "cell_type": "code",
   "execution_count": 55,
   "id": "general-thought",
   "metadata": {},
   "outputs": [
    {
     "data": {
      "text/plain": [
       "array([[    0.        ,     0.        ,     0.        ,     0.        ,\n",
       "        53914.70401018],\n",
       "       [    0.        ,     0.        ,     0.        ,     0.        ,\n",
       "        29204.54130617],\n",
       "       [  130.18290698,     0.        ,     0.        ,     0.        ,\n",
       "            0.        ],\n",
       "       [  107.71799429,     0.        ,     0.        ,     0.        ,\n",
       "            0.        ],\n",
       "       [  138.50415512,     0.        ,     0.        ,     0.        ,\n",
       "            0.        ]])"
      ]
     },
     "execution_count": 55,
     "metadata": {},
     "output_type": "execute_result"
    }
   ],
   "source": [
    "sg.adata.X = sg.adata.layers['tpm']\n",
    "sg.adata.X[:5,:5]"
   ]
  },
  {
   "cell_type": "code",
   "execution_count": null,
   "id": "distributed-warren",
   "metadata": {},
   "outputs": [],
   "source": []
  }
 ],
 "metadata": {
  "kernelspec": {
   "display_name": "Python 3",
   "language": "python",
   "name": "python3"
  },
  "language_info": {
   "codemirror_mode": {
    "name": "ipython",
    "version": 3
   },
   "file_extension": ".py",
   "mimetype": "text/x-python",
   "name": "python",
   "nbconvert_exporter": "python",
   "pygments_lexer": "ipython3",
   "version": "3.7.4"
  }
 },
 "nbformat": 4,
 "nbformat_minor": 5
}
