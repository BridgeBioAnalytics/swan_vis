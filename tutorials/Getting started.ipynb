{
 "cells": [
  {
   "cell_type": "markdown",
   "metadata": {},
   "source": [
    "#  Getting started: initializing, adding data, and saving your SwanGraph "
   ]
  },
  {
   "cell_type": "markdown",
   "metadata": {},
   "source": [
    "First, if you haven't already, make sure to [install Swan](https://github.com/fairliereese/swan_vis/wiki#installation).\n",
    "After installing, you'll be able to run Swan from Python.\n",
    "\n",
    "Then, download the data and the reference transcriptome annotation from [here](http://crick.bio.uci.edu/freese/swan_files_example/). The bash commands to do so are given below.\n",
    "\n",
    "The main workflow to get started with Swan consists of:\n",
    "1. [Adding a reference transcriptome (optional)](#add_trans)\n",
    "2. Adding a transcriptome for your samples\n",
    "    * [From a GTF](#add_gtf)\n",
    "    * [From a TALON db](#add_db)\n",
    "3. [Adding datasets and their expression values](#add_ab)\n",
    "4. [Adding metadata to your datasets](#add_meta)\n",
    " \n",
    "Other sections: \n",
    "* [Example data download](#data_download)\n",
    "* [Starting and initializing your SwanGraph](#init)\n",
    "* [Saving and loading your SwanGraph](#save_load)\n",
    "\n",
    "This page can also be read from top to bottom, just know that you may be running things more than once!\n",
    "\n",
    "<!-- Running this tutorial (with only one of the dataset addition options) on my laptop took around 7 minutes and 5 GB of RAM.  -->"
   ]
  },
  {
   "cell_type": "markdown",
   "metadata": {},
   "source": [
    "## <a name=\"data_download\"></a> Download example data"
   ]
  },
  {
   "cell_type": "markdown",
   "metadata": {},
   "source": [
    "This data is chr20 from the data used in the [Swan publication](https://academic.oup.com/bioinformatics/article/37/9/1322/5912931)\n",
    "\n",
    "Run this block in your bash terminal\n",
    "\n",
    "```bash\n",
    "mkdir data\n",
    "mkdir figures\n",
    "cd data/\n",
    "\n",
    "# download files\n",
    "wget http://crick.bio.uci.edu/freese/swan_files_example.tgz\n",
    "    \n",
    "# expand files \n",
    "tar xzf swan_files_example.tar.gz\n",
    "mv swan_files_example/* .\n",
    "rm -r swan_files_example/\n",
    "\n",
    "cd ../\n",
    "```"
   ]
  },
  {
   "cell_type": "markdown",
   "metadata": {},
   "source": [
    "## <a name=\"init\"></a>Starting up Swan and initializing your SwanGraph"
   ]
  },
  {
   "cell_type": "markdown",
   "metadata": {},
   "source": [
    "The rest of the code in this tutorial should be run in using Python"
   ]
  },
  {
   "cell_type": "markdown",
   "metadata": {},
   "source": [
    "Initialize an empty SwanGraph and add the transcriptome annotation to the SwanGraph."
   ]
  },
  {
   "cell_type": "code",
   "execution_count": 19,
   "metadata": {},
   "outputs": [],
   "source": [
    "import swan_vis as swan\n",
    "\n",
    "# initialize a new SwanGraph\n",
    "sg = swan.SwanGraph() "
   ]
  },
  {
   "cell_type": "code",
   "execution_count": 20,
   "metadata": {},
   "outputs": [],
   "source": [
    "annot_gtf = 'data/gencode.v29.annotation.gtf'\n",
    "data_gtf = 'data/all_talon_observedOnly.gtf'\n",
    "ab_file = 'data/all_talon_abundance_filtered.tsv'\n",
    "talon_db = 'data/talon.db'\n",
    "pass_list = 'data/all_pass_list.csv'\n",
    "meta = 'data/metadata.tsv'"
   ]
  },
  {
   "cell_type": "markdown",
   "metadata": {},
   "source": [
    "## <a name=\"add_trans\"></a>Adding transcript models from a GTF"
   ]
  },
  {
   "cell_type": "code",
   "execution_count": 21,
   "metadata": {},
   "outputs": [
    {
     "name": "stdout",
     "output_type": "stream",
     "text": [
      "\n",
      "Adding annotation to the SwanGraph\n"
     ]
    }
   ],
   "source": [
    "# add an annotation transcriptome \n",
    "sg.add_annotation(annot_gtf)"
   ]
  },
  {
   "cell_type": "markdown",
   "metadata": {},
   "source": [
    "## <a name=\"add_gtf\"></a>Adding transcript models from a GTF"
   ]
  },
  {
   "cell_type": "markdown",
   "metadata": {},
   "source": [
    "Add all filtered transcript models to the SwanGraph."
   ]
  },
  {
   "cell_type": "code",
   "execution_count": null,
   "metadata": {},
   "outputs": [
    {
     "name": "stdout",
     "output_type": "stream",
     "text": [
      "\n",
      "Adding transcriptome to the SwanGraph\n"
     ]
    }
   ],
   "source": [
    "# add a dataset's transcriptome and abundance information to\n",
    "# the SwanGraph\n",
    "sg.add_transcriptome(data_gtf)"
   ]
  },
  {
   "cell_type": "markdown",
   "metadata": {},
   "source": [
    "## <a name=\"add_ab\"></a>Adding datasets and their abundance"
   ]
  },
  {
   "cell_type": "markdown",
   "metadata": {},
   "source": [
    "Use an abundance matrix with columns for each desired dataset to add datasets to the SwanGraph."
   ]
  },
  {
   "cell_type": "code",
   "execution_count": null,
   "metadata": {},
   "outputs": [],
   "source": [
    "# add each dataset's abundance information to the SwanGraph\n",
    "sg.add_abundance(ab_file)"
   ]
  },
  {
   "cell_type": "markdown",
   "metadata": {},
   "source": [
    "##  <a name=\"save_load\"></a>Saving and loading your SwanGraph"
   ]
  },
  {
   "cell_type": "markdown",
   "metadata": {},
   "source": [
    "Following this, you can save your SwanGraph so you can easily work with it again without re-adding all the data."
   ]
  },
  {
   "cell_type": "code",
   "execution_count": null,
   "metadata": {},
   "outputs": [],
   "source": [
    "# save the SwanGraph as a Python pickle file\n",
    "sg.save_graph('swan')"
   ]
  },
  {
   "cell_type": "markdown",
   "metadata": {},
   "source": [
    "And you can reload the graph again."
   ]
  },
  {
   "cell_type": "code",
   "execution_count": null,
   "metadata": {},
   "outputs": [],
   "source": [
    "# load up a saved SwanGraph from a pickle file\n",
    "sg = swan.read('swan.p')"
   ]
  },
  {
   "cell_type": "markdown",
   "metadata": {},
   "source": [
    "##  <a name=\"add_db\"></a>Adding transcript models from a TALON DB"
   ]
  },
  {
   "cell_type": "markdown",
   "metadata": {},
   "source": [
    "Swan is also directly compatible with TALON databases and can pull transcript models directly from them. You can also optionally pass in a list of isoforms from [`talon_filter_transcripts`](https://github.com/mortazavilab/TALON#talon_filter) to filter your input transcript models."
   ]
  },
  {
   "cell_type": "code",
   "execution_count": null,
   "metadata": {},
   "outputs": [],
   "source": [
    "# for this new example, create a new empty SwanGraph\n",
    "sg = swan.SwanGraph()\n",
    "\n",
    "# and add the annotation transcriptome to it\n",
    "sg.add_annotation(annot_gtf)\n",
    "\n",
    "# add transcriptome from TALON db\n",
    "sg.add_transcriptome(talon_db, pass_list=pass_list)\n",
    "\n",
    "# add each dataset's abundance information to the SwanGraph\n",
    "sg.add_abundance(ab_file)"
   ]
  },
  {
   "cell_type": "markdown",
   "metadata": {},
   "source": [
    "##  <a name=\"add_meta\"></a>Adding metadata"
   ]
  },
  {
   "cell_type": "markdown",
   "metadata": {},
   "source": [
    "Swan provides functionality to perform tests and plotting on the basis of metadata categories."
   ]
  },
  {
   "cell_type": "code",
   "execution_count": null,
   "metadata": {},
   "outputs": [],
   "source": [
    "sg.add_metadata(meta)"
   ]
  }
 ],
 "metadata": {
  "kernelspec": {
   "display_name": "Python 3",
   "language": "python",
   "name": "python3"
  },
  "language_info": {
   "codemirror_mode": {
    "name": "ipython",
    "version": 3
   },
   "file_extension": ".py",
   "mimetype": "text/x-python",
   "name": "python",
   "nbconvert_exporter": "python",
   "pygments_lexer": "ipython3",
   "version": "3.7.4"
  }
 },
 "nbformat": 4,
 "nbformat_minor": 4
}
