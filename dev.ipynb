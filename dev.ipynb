{
 "cells": [
  {
   "cell_type": "code",
   "execution_count": 1,
   "id": "91534e22-616c-4fac-8c5c-b0962e58a1c0",
   "metadata": {},
   "outputs": [],
   "source": [
    "from swan_vis import *"
   ]
  },
  {
   "cell_type": "markdown",
   "id": "b754f1b6-71ca-402c-b004-5c5f544dac5a",
   "metadata": {},
   "source": [
    "## Adding gene tpm to swangraph"
   ]
  },
  {
   "cell_type": "code",
   "execution_count": 39,
   "id": "f6039da1-3bcd-4e4f-b6ba-01b9438e12e2",
   "metadata": {},
   "outputs": [],
   "source": [
    "def abundance_to_adata(sg, counts_file, how='iso'):\n",
    "    # read in abundance file\n",
    "    check_file_loc(counts_file, 'abundance matrix')\n",
    "    try:\n",
    "        df = pd.read_csv(counts_file, sep='\\t')\n",
    "    except:\n",
    "        raise ValueError('Problem reading expression matrix {}'.format(counts_file))\n",
    "\n",
    "    # check if abundance matrix is a talon abundance matrix\n",
    "    cols = ['gene_ID', 'transcript_ID', 'annot_gene_id', 'annot_transcript_id',\n",
    "        'annot_gene_name', 'annot_transcript_name', 'n_exons', 'length',\n",
    "        'gene_novelty', 'transcript_novelty', 'ISM_subtype']\n",
    "    if df.columns.tolist()[:11] == cols:\n",
    "        df = reformat_talon_abundance(df, how=how)\n",
    "        \n",
    "    # rename id ID column\n",
    "    col = df.columns[0]\n",
    "    if how == 'gene':\n",
    "        id_col = 'gid'\n",
    "    elif how == 'iso':\n",
    "        id_col = 'tid'\n",
    "\n",
    "    df.rename({col: id_col}, axis=1, inplace=True)\n",
    "    \n",
    "    # sum for gene level\n",
    "    if how == 'gene':\n",
    "        df = df.groupby(id_col).sum().reset_index()\n",
    "    \n",
    "    # limit to just the transcripts already in the graph\n",
    "    if how == 'iso':\n",
    "        sg_tids = sg.t_df.tid.tolist()\n",
    "        ab_tids = df.tid.tolist()\n",
    "        tids = list(set(sg_tids)&set(ab_tids))\n",
    "        df = df.loc[df.tid.isin(tids)]\n",
    "        \n",
    "    # transpose to get adata format\n",
    "    df.set_index(id_col, inplace=True)\n",
    "    df = df.T\n",
    "    \n",
    "    # get adata components - obs, var, and X\n",
    "    var = df.columns.to_frame()\n",
    "    var.columns = [id_col]\n",
    "    obs = df.index.to_frame()\n",
    "    obs.columns = ['dataset']\n",
    "    X = sparse.csr_matrix(df.to_numpy())\n",
    "    \n",
    "    # create transcript-level adata object and filter out unexpressed transcripts\n",
    "    adata = anndata.AnnData(var=var, obs=obs, X=X)\n",
    "    genes, _  = sc.pp.filter_genes(adata, min_counts=1, inplace=False)\n",
    "    adata = adata[:, genes]\n",
    "    adata.layers['counts'] = adata.X\n",
    "    \n",
    "    return adata    "
   ]
  },
  {
   "cell_type": "code",
   "execution_count": 40,
   "id": "08598eef-f82c-40b8-9148-1ddd4ff5b329",
   "metadata": {},
   "outputs": [],
   "source": [
    "def merge_adata_abundance(sg, adata, how='iso'):\n",
    "    \n",
    "    if how == 'gene':\n",
    "        dataset_list = sg.gene_datasets\n",
    "        ab_bool = sg.has_gene_abundance()\n",
    "        sg_adata = sg.gene_adata\n",
    "    elif how == 'iso':\n",
    "        dataset_list = sg.datasets\n",
    "        ab_bool = sg.has_abundance()\n",
    "        sg_adata = sg.adata\n",
    "        \n",
    "    print(adata)\n",
    "    \n",
    "    # add each dataset to list of \"datasets\", check if any are already there!\n",
    "    datasets = adata.obs.dataset.tolist()\n",
    "    for d in datasets:\n",
    "        if d in dataset_list:\n",
    "            raise ValueError('Dataset {} already present in the SwanGraph.'.format(d))\n",
    "    dataset_list.extend(datasets)\n",
    "\n",
    "    print()\n",
    "    if len(datasets) <= 5:\n",
    "        print('Adding abundance for datasets {} to SwanGraph.'.format(', '.join(datasets)))\n",
    "    else:\n",
    "        mini_datasets = datasets[:5]\n",
    "        n = len(datasets) - len(mini_datasets)\n",
    "        print('Adding abundance for datasets {}... (and {} more) to SwanGraph'.format(', '.join(mini_datasets), n))\n",
    "\n",
    "    # if there is preexisting abundance data in the SwanGraph, concatenate\n",
    "    # otherwise, adata is the new transcript level adata\n",
    "    if not ab_bool:\n",
    "\n",
    "        # create transcript-level adata object\n",
    "        sg_adata = adata\n",
    "\n",
    "        # add counts as layers\n",
    "        sg_adata.layers['counts'] = sg_adata.X\n",
    "        print('Calculating TPM...')\n",
    "        sg_adata.layers['tpm'] = sparse.csr_matrix(calc_tpm(sg_adata, recalc=True).to_numpy())\n",
    "\n",
    "        if not sg.sc and how == 'iso':\n",
    "            print('Calculating PI...')\n",
    "            sg_adata.layers['pi'] = sparse.csr_matrix(calc_pi(sg_adata, sg.t_df)[0].to_numpy())\n",
    "    else:\n",
    "\n",
    "        # first set current layer to be counts\n",
    "        sg_adata.X = sg_adata.layers['counts']\n",
    "\n",
    "        # concatenate existing adata with new one\n",
    "        # outer join to add all new transcripts (that are from added\n",
    "        # annotation or transcriptome) to the abundance\n",
    "        uns = sg_adata.uns\n",
    "        sg_adata = sg_adata.concatenate(adata, join='outer', index_unique=None)\n",
    "        sg_adata.uns = uns\n",
    "\n",
    "        # recalculate pi and tpm\n",
    "        print('Calculating TPM...')\n",
    "        sg_adata.layers['tpm'] = sparse.csr_matrix(calc_tpm(sg_adata, recalc=True).to_numpy())\n",
    "\n",
    "        if not sg.sc and how == 'iso':\n",
    "            print('Calculating PI...')\n",
    "            sg_adata.layers['pi'] = sparse.csr_matrix(calc_pi(sg_adata, sg.t_df)[0].to_numpy())\n",
    "\n",
    "    # add abundance for edges, TSS per gene, and TES per gene\n",
    "    if how == 'iso':\n",
    "        print('Calculating edge usage...')\n",
    "        sg.create_edge_adata()\n",
    "        print('Calculating TSS usage...')\n",
    "        sg.create_end_adata(kind='tss')\n",
    "        print('Calculating TES usage...')\n",
    "        sg.create_end_adata(kind='tes')\n",
    "\n",
    "    # set abundance flag to true\n",
    "    # and make adata object\n",
    "    if how == 'iso':\n",
    "        sg.abundance = True  \n",
    "        sg.adata = sg_adata\n",
    "    elif how == 'gene':\n",
    "        sg.gene_abundance = True\n",
    "        sg.gene_adata = sg_adata"
   ]
  },
  {
   "cell_type": "code",
   "execution_count": 41,
   "id": "ec6dbcab-cb17-46df-a61a-461891d56730",
   "metadata": {},
   "outputs": [],
   "source": [
    "def add_abundance(sg, counts_file, how='iso'):\n",
    "    adata = abundance_to_adata(sg, counts_file, how=how)\n",
    "    merge_adata_abundance(sg, adata, how=how)\n",
    "    \n",
    "    return sg"
   ]
  },
  {
   "cell_type": "code",
   "execution_count": 43,
   "id": "60ad6ad9-3770-4bd9-b30f-698159fb854c",
   "metadata": {},
   "outputs": [
    {
     "name": "stdout",
     "output_type": "stream",
     "text": [
      "Read in graph from /Users/fairliereese/mortazavi_lab/data/rnawg/lr_bulk/cerberus/swan.p\n"
     ]
    }
   ],
   "source": [
    "fname = '/Users/fairliereese/mortazavi_lab/data/rnawg/lr_bulk/cerberus/swan.p'\n",
    "sg = read(fname)"
   ]
  },
  {
   "cell_type": "code",
   "execution_count": 44,
   "id": "7ab3d32d-a7c2-4308-b489-1f6516b91d5a",
   "metadata": {},
   "outputs": [],
   "source": [
    "sg.gene_datasets = []\n",
    "sg.gene_abundance = False\n",
    "sg.gene_adata = anndata.AnnData()"
   ]
  },
  {
   "cell_type": "code",
   "execution_count": 45,
   "id": "9022104b-9b94-412b-a3a2-cb6fd0fc3418",
   "metadata": {},
   "outputs": [],
   "source": [
    "counts_file = '/Users/fairliereese/mortazavi_lab/data/rnawg/lr_bulk/talon/human_talon_abundance.tsv'\n",
    "how = 'gene'"
   ]
  },
  {
   "cell_type": "code",
   "execution_count": 46,
   "id": "223060f7-ce14-4107-8501-2146e3f5d421",
   "metadata": {},
   "outputs": [
    {
     "name": "stdout",
     "output_type": "stream",
     "text": [
      "AnnData object with n_obs × n_vars = 138 × 599976\n",
      "    obs: 'dataset'\n",
      "    var: 'gid'\n",
      "    layers: 'counts'\n",
      "\n",
      "Adding abundance for datasets gm12878_1_1, gm12878_1_2, gm12878_1_3, gm12878_1_4, gm12878_3_1... (and 133 more) to SwanGraph\n",
      "Calculating TPM...\n"
     ]
    }
   ],
   "source": [
    "sg = add_abundance(sg, counts_file, how='gene')"
   ]
  },
  {
   "cell_type": "code",
   "execution_count": 47,
   "id": "57060df9-b74c-48db-aa01-851a643a9746",
   "metadata": {},
   "outputs": [
    {
     "data": {
      "text/plain": [
       "AnnData object with n_obs × n_vars = 138 × 599976\n",
       "    obs: 'dataset', 'total_counts'\n",
       "    var: 'gid'\n",
       "    layers: 'counts', 'tpm'"
      ]
     },
     "execution_count": 47,
     "metadata": {},
     "output_type": "execute_result"
    }
   ],
   "source": [
    "sg.gene_adata"
   ]
  },
  {
   "cell_type": "code",
   "execution_count": 4,
   "id": "78ac36cc-39bf-4b69-a435-73b841085e61",
   "metadata": {},
   "outputs": [],
   "source": [
    "# def add_abundance(sg, counts_file, how='iso'):\n"
   ]
  },
  {
   "cell_type": "code",
   "execution_count": 6,
   "id": "b70a81aa-e15c-4c4e-86b8-e27b53deefa1",
   "metadata": {},
   "outputs": [],
   "source": []
  },
  {
   "cell_type": "code",
   "execution_count": 8,
   "id": "6616cbf6-5462-4b4f-bc94-53457a57872e",
   "metadata": {},
   "outputs": [],
   "source": []
  },
  {
   "cell_type": "code",
   "execution_count": 15,
   "id": "7aa719e1-ca89-44a5-b5c6-5676a7897b70",
   "metadata": {},
   "outputs": [],
   "source": []
  },
  {
   "cell_type": "code",
   "execution_count": 16,
   "id": "3a24ff11-879c-4a2d-98b4-8a520e845f34",
   "metadata": {},
   "outputs": [],
   "source": []
  },
  {
   "cell_type": "code",
   "execution_count": 18,
   "id": "99b28cfd-fbd5-45d3-99f6-74cd803be901",
   "metadata": {},
   "outputs": [],
   "source": []
  },
  {
   "cell_type": "code",
   "execution_count": 19,
   "id": "8473861d-8824-43b9-8d84-b23b8fbb26d2",
   "metadata": {},
   "outputs": [],
   "source": []
  },
  {
   "cell_type": "code",
   "execution_count": null,
   "id": "5f902502-b9aa-48d9-abd6-544e5f02724f",
   "metadata": {},
   "outputs": [],
   "source": [
    "\n",
    "\n",
    "\n",
    "\n",
    "\n",
    "# add each dataset to list of \"datasets\", check if any are already there!\n",
    "datasets = adata.obs.dataset.tolist()\n",
    "for d in datasets:\n",
    "    if d in sg.datasets:\n",
    "        raise ValueError('Dataset {} already present in the SwanGraph.'.format(d))\n",
    "sg.datasets.extend(datasets)\n",
    "\n",
    "print()\n",
    "if len(datasets) <= 5:\n",
    "    print('Adding abundance for datasets {} to SwanGraph.'.format(', '.join(datasets)))\n",
    "else:\n",
    "    mini_datasets = datasets[:5]\n",
    "    n = len(datasets) - len(mini_datasets)\n",
    "    print('Adding abundance for datasets {}... (and {} more) to SwanGraph'.format(', '.join(mini_datasets), n))\n",
    "\n",
    "# if there is preexisting abundance data in the SwanGraph, concatenate\n",
    "# otherwise, adata is the new transcript level adata\n",
    "if not sg.has_abundance():\n",
    "\n",
    "    # create transcript-level adata object\n",
    "    sg.adata = adata\n",
    "\n",
    "    # add counts as layers\n",
    "    sg.adata.layers['counts'] = sg.adata.X\n",
    "    print('Calculating transcript TPM...')\n",
    "    sg.adata.layers['tpm'] = sparse.csr_matrix(calc_tpm(sg.adata, recalc=True).to_numpy())\n",
    "\n",
    "    if not sg.sc:\n",
    "        print('Calculating PI...')\n",
    "        sg.adata.layers['pi'] = sparse.csr_matrix(calc_pi(sg.adata, sg.t_df)[0].to_numpy())\n",
    "else:\n",
    "\n",
    "    # first set current layer to be counts\n",
    "    sg.adata.X = sg.adata.layers['counts']\n",
    "\n",
    "    # concatenate existing adata with new one\n",
    "    # outer join to add all new transcripts (that are from added\n",
    "    # annotation or transcriptome) to the abundance\n",
    "    uns = sg.adata.uns\n",
    "    sg.adata = sg.adata.concatenate(adata, join='outer', index_unique=None)\n",
    "    sg.adata.uns = uns\n",
    "\n",
    "    # recalculate pi and tpm\n",
    "    print('Calculating transcript TPM...')\n",
    "    sg.adata.layers['tpm'] = sparse.csr_matrix(calc_tpm(sg.adata, recalc=True).to_numpy())\n",
    "\n",
    "    if not sg.sc:\n",
    "        print('Calculating PI...')\n",
    "        sg.adata.layers['pi'] = sparse.csr_matrix(calc_pi(sg.adata, sg.t_df)[0].to_numpy())\n",
    "\n",
    "# add abundance for edges, TSS per gene, and TES per gene\n",
    "print('Calculating edge usage...')\n",
    "sg.create_edge_adata()\n",
    "print('Calculating TSS usage...')\n",
    "sg.create_end_adata(kind='tss')\n",
    "print('Calculating TES usage...')\n",
    "sg.create_end_adata(kind='tes')\n",
    "\n",
    "# set abundance flag to true\n",
    "sg.abundance = True"
   ]
  },
  {
   "cell_type": "code",
   "execution_count": null,
   "id": "3237c77c-df48-4be5-8832-46feef1b9015",
   "metadata": {},
   "outputs": [],
   "source": []
  }
 ],
 "metadata": {
  "kernelspec": {
   "display_name": "Python 3",
   "language": "python",
   "name": "python3"
  },
  "language_info": {
   "codemirror_mode": {
    "name": "ipython",
    "version": 3
   },
   "file_extension": ".py",
   "mimetype": "text/x-python",
   "name": "python",
   "nbconvert_exporter": "python",
   "pygments_lexer": "ipython3",
   "version": "3.7.4"
  }
 },
 "nbformat": 4,
 "nbformat_minor": 5
}
