{
 "cells": [
  {
   "cell_type": "markdown",
   "id": "convinced-sitting",
   "metadata": {},
   "source": [
    "# Swan data structure\n",
    "\n",
    "A SwanGraph consists of several different parts that can be used individually. This page serves as an overview of several of the important features of a SwanGraph.\n",
    "\n"
   ]
  },
  {
   "cell_type": "markdown",
   "id": "curious-continent",
   "metadata": {},
   "source": [
    "## Table of contents\n",
    "\n",
    "* [Genomic location information](data_structure.md#loc_df)\n",
    "* [Intron / exon information](data_structure#edge_df)\n",
    "* [Transcript information](data_structure#t_df)\n",
    "* [AnnData](data_structure#anndata)\n",
    "* [Current plotted graph information](data_structure#pg)\n"
   ]
  },
  {
   "cell_type": "markdown",
   "id": "enormous-buffer",
   "metadata": {},
   "source": [
    "We'll be using the same SwanGraph from the rest of the tutorial to examine how data is stored in the SwanGraph. Load it using the following code:"
   ]
  },
  {
   "cell_type": "code",
   "execution_count": 3,
   "id": "stretch-leader",
   "metadata": {},
   "outputs": [
    {
     "name": "stdout",
     "output_type": "stream",
     "text": [
      "Read in graph from ../tutorials/data/swan.p\n"
     ]
    }
   ],
   "source": [
    "import swan_vis as swan\n",
    "\n",
    "# code to download this data is in the Getting started tutorial\n",
    "sg = swan.read('../tutorials/data/swan.p')"
   ]
  },
  {
   "cell_type": "markdown",
   "id": "interesting-aurora",
   "metadata": {},
   "source": [
    "##  <a name=\"loc_df\"></a>Genomic location information"
   ]
  },
  {
   "cell_type": "markdown",
   "id": "solid-native",
   "metadata": {},
   "source": [
    "Swan stores information on individual genomic locations that eventually are plotted as nodes in the SwanGraph in the `SwanGraph.loc_df` pandas DataFrame. The information in the DataFrame and the column names are described below:\n",
    "* chromosomal coordinates (chrom, coord)\n",
    "* whether or not the genomic location is present in the provided reference annotation (annotation)\n",
    "* what role the location plays in the transcript(s) that it is part of (internal, TSS, TES)\n",
    "* internal identifier in the SwanGraph (vertex_id)"
   ]
  },
  {
   "cell_type": "code",
   "execution_count": 4,
   "id": "extensive-tenant",
   "metadata": {},
   "outputs": [
    {
     "data": {
      "text/html": [
       "<div>\n",
       "<style scoped>\n",
       "    .dataframe tbody tr th:only-of-type {\n",
       "        vertical-align: middle;\n",
       "    }\n",
       "\n",
       "    .dataframe tbody tr th {\n",
       "        vertical-align: top;\n",
       "    }\n",
       "\n",
       "    .dataframe thead th {\n",
       "        text-align: right;\n",
       "    }\n",
       "</style>\n",
       "<table border=\"1\" class=\"dataframe\">\n",
       "  <thead>\n",
       "    <tr style=\"text-align: right;\">\n",
       "      <th></th>\n",
       "      <th>chrom</th>\n",
       "      <th>coord</th>\n",
       "      <th>vertex_id</th>\n",
       "      <th>annotation</th>\n",
       "      <th>internal</th>\n",
       "      <th>TSS</th>\n",
       "      <th>TES</th>\n",
       "    </tr>\n",
       "    <tr>\n",
       "      <th>vertex_id</th>\n",
       "      <th></th>\n",
       "      <th></th>\n",
       "      <th></th>\n",
       "      <th></th>\n",
       "      <th></th>\n",
       "      <th></th>\n",
       "      <th></th>\n",
       "    </tr>\n",
       "  </thead>\n",
       "  <tbody>\n",
       "    <tr>\n",
       "      <th>0</th>\n",
       "      <td>chr1</td>\n",
       "      <td>11869</td>\n",
       "      <td>0</td>\n",
       "      <td>True</td>\n",
       "      <td>False</td>\n",
       "      <td>True</td>\n",
       "      <td>False</td>\n",
       "    </tr>\n",
       "    <tr>\n",
       "      <th>1</th>\n",
       "      <td>chr1</td>\n",
       "      <td>12010</td>\n",
       "      <td>1</td>\n",
       "      <td>True</td>\n",
       "      <td>False</td>\n",
       "      <td>True</td>\n",
       "      <td>False</td>\n",
       "    </tr>\n",
       "    <tr>\n",
       "      <th>2</th>\n",
       "      <td>chr1</td>\n",
       "      <td>12057</td>\n",
       "      <td>2</td>\n",
       "      <td>True</td>\n",
       "      <td>True</td>\n",
       "      <td>False</td>\n",
       "      <td>False</td>\n",
       "    </tr>\n",
       "    <tr>\n",
       "      <th>3</th>\n",
       "      <td>chr1</td>\n",
       "      <td>12179</td>\n",
       "      <td>3</td>\n",
       "      <td>True</td>\n",
       "      <td>True</td>\n",
       "      <td>False</td>\n",
       "      <td>False</td>\n",
       "    </tr>\n",
       "    <tr>\n",
       "      <th>4</th>\n",
       "      <td>chr1</td>\n",
       "      <td>12227</td>\n",
       "      <td>4</td>\n",
       "      <td>True</td>\n",
       "      <td>True</td>\n",
       "      <td>False</td>\n",
       "      <td>False</td>\n",
       "    </tr>\n",
       "  </tbody>\n",
       "</table>\n",
       "</div>"
      ],
      "text/plain": [
       "          chrom  coord  vertex_id  annotation  internal    TSS    TES\n",
       "vertex_id                                                            \n",
       "0          chr1  11869          0        True     False   True  False\n",
       "1          chr1  12010          1        True     False   True  False\n",
       "2          chr1  12057          2        True      True  False  False\n",
       "3          chr1  12179          3        True      True  False  False\n",
       "4          chr1  12227          4        True      True  False  False"
      ]
     },
     "execution_count": 4,
     "metadata": {},
     "output_type": "execute_result"
    }
   ],
   "source": [
    "sg.loc_df.head()"
   ]
  },
  {
   "cell_type": "markdown",
   "id": "baking-intro",
   "metadata": {},
   "source": [
    "##  <a name=\"edge_df\"></a>Intron / exon location information"
   ]
  },
  {
   "cell_type": "markdown",
   "id": "taken-fence",
   "metadata": {},
   "source": [
    "Swan stores information about the exons and introns that are eventually plotted as edges in the SwanGraph in the `SwanGraph.edge_df` pandas DataFrame. The information in the DataFrame and the column names are described below:\n",
    "* internal vertex ids from `SwanGraph.loc_df` that bound each edge (v1, v2)\n",
    "* strand that this edge is from (strand)\n",
    "* whether this edge is an intron or an exon (edge_type)\n",
    "* whether or not the edge is present in the provided reference annotation (annotation)\n",
    "* internal identifier in the SwanGraph (edge_id)"
   ]
  },
  {
   "cell_type": "code",
   "execution_count": 6,
   "id": "critical-taxation",
   "metadata": {},
   "outputs": [
    {
     "data": {
      "text/html": [
       "<div>\n",
       "<style scoped>\n",
       "    .dataframe tbody tr th:only-of-type {\n",
       "        vertical-align: middle;\n",
       "    }\n",
       "\n",
       "    .dataframe tbody tr th {\n",
       "        vertical-align: top;\n",
       "    }\n",
       "\n",
       "    .dataframe thead th {\n",
       "        text-align: right;\n",
       "    }\n",
       "</style>\n",
       "<table border=\"1\" class=\"dataframe\">\n",
       "  <thead>\n",
       "    <tr style=\"text-align: right;\">\n",
       "      <th></th>\n",
       "      <th>v1</th>\n",
       "      <th>v2</th>\n",
       "      <th>strand</th>\n",
       "      <th>edge_type</th>\n",
       "      <th>edge_id</th>\n",
       "      <th>annotation</th>\n",
       "    </tr>\n",
       "    <tr>\n",
       "      <th>edge_id</th>\n",
       "      <th></th>\n",
       "      <th></th>\n",
       "      <th></th>\n",
       "      <th></th>\n",
       "      <th></th>\n",
       "      <th></th>\n",
       "    </tr>\n",
       "  </thead>\n",
       "  <tbody>\n",
       "    <tr>\n",
       "      <th>0</th>\n",
       "      <td>0</td>\n",
       "      <td>4</td>\n",
       "      <td>+</td>\n",
       "      <td>exon</td>\n",
       "      <td>0</td>\n",
       "      <td>True</td>\n",
       "    </tr>\n",
       "    <tr>\n",
       "      <th>5</th>\n",
       "      <td>1</td>\n",
       "      <td>2</td>\n",
       "      <td>+</td>\n",
       "      <td>exon</td>\n",
       "      <td>5</td>\n",
       "      <td>True</td>\n",
       "    </tr>\n",
       "    <tr>\n",
       "      <th>6</th>\n",
       "      <td>2</td>\n",
       "      <td>3</td>\n",
       "      <td>+</td>\n",
       "      <td>intron</td>\n",
       "      <td>6</td>\n",
       "      <td>True</td>\n",
       "    </tr>\n",
       "    <tr>\n",
       "      <th>7</th>\n",
       "      <td>3</td>\n",
       "      <td>4</td>\n",
       "      <td>+</td>\n",
       "      <td>exon</td>\n",
       "      <td>7</td>\n",
       "      <td>True</td>\n",
       "    </tr>\n",
       "    <tr>\n",
       "      <th>1</th>\n",
       "      <td>4</td>\n",
       "      <td>5</td>\n",
       "      <td>+</td>\n",
       "      <td>intron</td>\n",
       "      <td>1</td>\n",
       "      <td>True</td>\n",
       "    </tr>\n",
       "  </tbody>\n",
       "</table>\n",
       "</div>"
      ],
      "text/plain": [
       "         v1  v2 strand edge_type  edge_id  annotation\n",
       "edge_id                                              \n",
       "0         0   4      +      exon        0        True\n",
       "5         1   2      +      exon        5        True\n",
       "6         2   3      +    intron        6        True\n",
       "7         3   4      +      exon        7        True\n",
       "1         4   5      +    intron        1        True"
      ]
     },
     "execution_count": 6,
     "metadata": {},
     "output_type": "execute_result"
    }
   ],
   "source": [
    "sg.edge_df.head()"
   ]
  },
  {
   "cell_type": "markdown",
   "id": "sweet-bikini",
   "metadata": {},
   "source": [
    "##  <a name=\"t_df\"></a>Transcript information"
   ]
  },
  {
   "cell_type": "markdown",
   "id": "radio-orchestra",
   "metadata": {},
   "source": [
    "Swan stores information about the transcripts from the annotation and added transcriptome in the `SwanGraph.t_df` pandas DataFrame. The information in the DataFrame and the column names are described below:\n",
    "* transcript ID from the GTF (tid)\n",
    "* transcript name from the GTF, if provided (tname)\n",
    "* gene ID from the GTF (gid)\n",
    "* gene name from the GTF, if provided (gname)\n",
    "* path of edges (edge_ids from `SwanGraph.edge_df`) that make up the transcript (path)\n",
    "* path of genomic locations (vertex_ids fom `SwanGraph.loc_df`) that make up the transcript (loc_path)\n",
    "* whether or not the transcript is present in the provided reference annotation (annotation)\n",
    "* novelty category of the transcript, if provided (novelty)"
   ]
  },
  {
   "cell_type": "code",
   "execution_count": 8,
   "id": "convinced-moment",
   "metadata": {},
   "outputs": [
    {
     "data": {
      "text/html": [
       "<div>\n",
       "<style scoped>\n",
       "    .dataframe tbody tr th:only-of-type {\n",
       "        vertical-align: middle;\n",
       "    }\n",
       "\n",
       "    .dataframe tbody tr th {\n",
       "        vertical-align: top;\n",
       "    }\n",
       "\n",
       "    .dataframe thead th {\n",
       "        text-align: right;\n",
       "    }\n",
       "</style>\n",
       "<table border=\"1\" class=\"dataframe\">\n",
       "  <thead>\n",
       "    <tr style=\"text-align: right;\">\n",
       "      <th></th>\n",
       "      <th>tname</th>\n",
       "      <th>gid</th>\n",
       "      <th>gname</th>\n",
       "      <th>path</th>\n",
       "      <th>tid</th>\n",
       "      <th>loc_path</th>\n",
       "      <th>annotation</th>\n",
       "      <th>novelty</th>\n",
       "    </tr>\n",
       "    <tr>\n",
       "      <th>tid</th>\n",
       "      <th></th>\n",
       "      <th></th>\n",
       "      <th></th>\n",
       "      <th></th>\n",
       "      <th></th>\n",
       "      <th></th>\n",
       "      <th></th>\n",
       "      <th></th>\n",
       "    </tr>\n",
       "  </thead>\n",
       "  <tbody>\n",
       "    <tr>\n",
       "      <th>ENST00000000233.9</th>\n",
       "      <td>ARF5-201</td>\n",
       "      <td>ENSG00000004059.10</td>\n",
       "      <td>ARF5</td>\n",
       "      <td>[377467, 377468, 377469, 377470, 377471, 37747...</td>\n",
       "      <td>ENST00000000233.9</td>\n",
       "      <td>[827256, 827261, 827264, 827265, 827266, 82726...</td>\n",
       "      <td>True</td>\n",
       "      <td>Known</td>\n",
       "    </tr>\n",
       "    <tr>\n",
       "      <th>ENST00000000412.7</th>\n",
       "      <td>M6PR-201</td>\n",
       "      <td>ENSG00000003056.7</td>\n",
       "      <td>M6PR</td>\n",
       "      <td>[555507, 555495, 555496, 555497, 555498, 55550...</td>\n",
       "      <td>ENST00000000412.7</td>\n",
       "      <td>[184557, 184551, 184547, 184542, 184541, 18453...</td>\n",
       "      <td>True</td>\n",
       "      <td>Known</td>\n",
       "    </tr>\n",
       "    <tr>\n",
       "      <th>ENST00000000442.10</th>\n",
       "      <td>ESRRA-201</td>\n",
       "      <td>ENSG00000173153.13</td>\n",
       "      <td>ESRRA</td>\n",
       "      <td>[520219, 520207, 520208, 520209, 520210, 52021...</td>\n",
       "      <td>ENST00000000442.10</td>\n",
       "      <td>[149944, 149946, 149951, 149952, 149955, 14995...</td>\n",
       "      <td>True</td>\n",
       "      <td>Known</td>\n",
       "    </tr>\n",
       "    <tr>\n",
       "      <th>ENST00000001008.5</th>\n",
       "      <td>FKBP4-201</td>\n",
       "      <td>ENSG00000004478.7</td>\n",
       "      <td>FKBP4</td>\n",
       "      <td>[550369, 550370, 550371, 550372, 550373, 55037...</td>\n",
       "      <td>ENST00000001008.5</td>\n",
       "      <td>[179573, 179578, 179588, 179591, 179592, 17959...</td>\n",
       "      <td>True</td>\n",
       "      <td>Known</td>\n",
       "    </tr>\n",
       "    <tr>\n",
       "      <th>ENST00000001146.6</th>\n",
       "      <td>CYP26B1-201</td>\n",
       "      <td>ENSG00000003137.8</td>\n",
       "      <td>CYP26B1</td>\n",
       "      <td>[111085, 111086, 111087, 111088, 111078, 11107...</td>\n",
       "      <td>ENST00000001146.6</td>\n",
       "      <td>[510480, 510478, 510476, 510475, 510472, 51047...</td>\n",
       "      <td>True</td>\n",
       "      <td>Known</td>\n",
       "    </tr>\n",
       "  </tbody>\n",
       "</table>\n",
       "</div>"
      ],
      "text/plain": [
       "                          tname                 gid    gname  \\\n",
       "tid                                                            \n",
       "ENST00000000233.9      ARF5-201  ENSG00000004059.10     ARF5   \n",
       "ENST00000000412.7      M6PR-201   ENSG00000003056.7     M6PR   \n",
       "ENST00000000442.10    ESRRA-201  ENSG00000173153.13    ESRRA   \n",
       "ENST00000001008.5     FKBP4-201   ENSG00000004478.7    FKBP4   \n",
       "ENST00000001146.6   CYP26B1-201   ENSG00000003137.8  CYP26B1   \n",
       "\n",
       "                                                                 path  \\\n",
       "tid                                                                     \n",
       "ENST00000000233.9   [377467, 377468, 377469, 377470, 377471, 37747...   \n",
       "ENST00000000412.7   [555507, 555495, 555496, 555497, 555498, 55550...   \n",
       "ENST00000000442.10  [520219, 520207, 520208, 520209, 520210, 52021...   \n",
       "ENST00000001008.5   [550369, 550370, 550371, 550372, 550373, 55037...   \n",
       "ENST00000001146.6   [111085, 111086, 111087, 111088, 111078, 11107...   \n",
       "\n",
       "                                   tid  \\\n",
       "tid                                      \n",
       "ENST00000000233.9    ENST00000000233.9   \n",
       "ENST00000000412.7    ENST00000000412.7   \n",
       "ENST00000000442.10  ENST00000000442.10   \n",
       "ENST00000001008.5    ENST00000001008.5   \n",
       "ENST00000001146.6    ENST00000001146.6   \n",
       "\n",
       "                                                             loc_path  \\\n",
       "tid                                                                     \n",
       "ENST00000000233.9   [827256, 827261, 827264, 827265, 827266, 82726...   \n",
       "ENST00000000412.7   [184557, 184551, 184547, 184542, 184541, 18453...   \n",
       "ENST00000000442.10  [149944, 149946, 149951, 149952, 149955, 14995...   \n",
       "ENST00000001008.5   [179573, 179578, 179588, 179591, 179592, 17959...   \n",
       "ENST00000001146.6   [510480, 510478, 510476, 510475, 510472, 51047...   \n",
       "\n",
       "                    annotation novelty  \n",
       "tid                                     \n",
       "ENST00000000233.9         True   Known  \n",
       "ENST00000000412.7         True   Known  \n",
       "ENST00000000442.10        True   Known  \n",
       "ENST00000001008.5         True   Known  \n",
       "ENST00000001146.6         True   Known  "
      ]
     },
     "execution_count": 8,
     "metadata": {},
     "output_type": "execute_result"
    }
   ],
   "source": [
    "sg.t_df.head()"
   ]
  },
  {
   "cell_type": "markdown",
   "id": "closed-geneva",
   "metadata": {},
   "source": [
    "##  <a name=\"anndata\"></a>AnnData"
   ]
  },
  {
   "cell_type": "markdown",
   "id": "numeric-corpus",
   "metadata": {},
   "source": [
    "Swan stores abundance information for transcripts, TSSs, TESs, and edges using the [AnnData](https://anndata.readthedocs.io/en/latest/) data format. This allows for tracking of abundance information using multiple metrics, storage of complex metadata, and direct compatibility with plotting and analysis using [Scanpy](https://scanpy.readthedocs.io/en/stable/index.html). Since there's a lot of information online about these data formats, I'll just go over the specifics that Swan uses."
   ]
  },
  {
   "cell_type": "markdown",
   "id": "interpreted-myanmar",
   "metadata": {},
   "source": [
    "### General AnnData format"
   ]
  },
  {
   "cell_type": "markdown",
   "id": "oriented-ottawa",
   "metadata": {},
   "source": [
    "The basic AnnData format is comprised of:\n",
    "* `AnnData.obs` - pandas DataFrame - information and metadata about the samples / cells / datasets\n",
    "* `AnnData.var` - pandas DataFrame - information about the variables being measured (ie genes, transcripts etc.)\n",
    "* `AnnData.X` - numpy array - information about expression of each variable in each sample\n",
    "\n",
    "In Swan, the expression data is stored in three different formats that can be accessed through different layers:\n",
    "* `AnnData.layers['counts']` - raw counts of each variable in each sample\n",
    "* `AnnData.layers['tpm']` - transcripts per million calculated per sample\n",
    "* `AnnData.layers['pi']` - percent isoform use per gene (only calculated for transcripts, TSS, TES)"
   ]
  },
  {
   "cell_type": "markdown",
   "id": "automated-pipeline",
   "metadata": {},
   "source": [
    "### Transcript AnnData"
   ]
  },
  {
   "cell_type": "markdown",
   "id": "african-illinois",
   "metadata": {},
   "source": [
    "You can access transcript expression information using `SwanGraph.adata`.\n",
    "\n",
    "The variable information stored is just the transcript ID but can be merged with `SwanGraph.t_df` for more information."
   ]
  },
  {
   "cell_type": "code",
   "execution_count": 15,
   "id": "fancy-norwegian",
   "metadata": {},
   "outputs": [
    {
     "data": {
      "text/html": [
       "<div>\n",
       "<style scoped>\n",
       "    .dataframe tbody tr th:only-of-type {\n",
       "        vertical-align: middle;\n",
       "    }\n",
       "\n",
       "    .dataframe tbody tr th {\n",
       "        vertical-align: top;\n",
       "    }\n",
       "\n",
       "    .dataframe thead th {\n",
       "        text-align: right;\n",
       "    }\n",
       "</style>\n",
       "<table border=\"1\" class=\"dataframe\">\n",
       "  <thead>\n",
       "    <tr style=\"text-align: right;\">\n",
       "      <th></th>\n",
       "      <th>tid</th>\n",
       "    </tr>\n",
       "    <tr>\n",
       "      <th>tid</th>\n",
       "      <th></th>\n",
       "    </tr>\n",
       "  </thead>\n",
       "  <tbody>\n",
       "    <tr>\n",
       "      <th>ENST00000000233.9</th>\n",
       "      <td>ENST00000000233.9</td>\n",
       "    </tr>\n",
       "    <tr>\n",
       "      <th>ENST00000000412.7</th>\n",
       "      <td>ENST00000000412.7</td>\n",
       "    </tr>\n",
       "    <tr>\n",
       "      <th>ENST00000000442.10</th>\n",
       "      <td>ENST00000000442.10</td>\n",
       "    </tr>\n",
       "    <tr>\n",
       "      <th>ENST00000001008.5</th>\n",
       "      <td>ENST00000001008.5</td>\n",
       "    </tr>\n",
       "    <tr>\n",
       "      <th>ENST00000001146.6</th>\n",
       "      <td>ENST00000001146.6</td>\n",
       "    </tr>\n",
       "  </tbody>\n",
       "</table>\n",
       "</div>"
      ],
      "text/plain": [
       "                                   tid\n",
       "tid                                   \n",
       "ENST00000000233.9    ENST00000000233.9\n",
       "ENST00000000412.7    ENST00000000412.7\n",
       "ENST00000000442.10  ENST00000000442.10\n",
       "ENST00000001008.5    ENST00000001008.5\n",
       "ENST00000001146.6    ENST00000001146.6"
      ]
     },
     "execution_count": 15,
     "metadata": {},
     "output_type": "execute_result"
    }
   ],
   "source": [
    "sg.adata.var.head()"
   ]
  },
  {
   "cell_type": "markdown",
   "id": "changing-andorra",
   "metadata": {},
   "source": [
    "The metadata information that has been added to the SwanGraph along with the initial dataset name from the column names of the added abundance table."
   ]
  },
  {
   "cell_type": "code",
   "execution_count": 16,
   "id": "chubby-advertiser",
   "metadata": {},
   "outputs": [
    {
     "data": {
      "text/html": [
       "<div>\n",
       "<style scoped>\n",
       "    .dataframe tbody tr th:only-of-type {\n",
       "        vertical-align: middle;\n",
       "    }\n",
       "\n",
       "    .dataframe tbody tr th {\n",
       "        vertical-align: top;\n",
       "    }\n",
       "\n",
       "    .dataframe thead th {\n",
       "        text-align: right;\n",
       "    }\n",
       "</style>\n",
       "<table border=\"1\" class=\"dataframe\">\n",
       "  <thead>\n",
       "    <tr style=\"text-align: right;\">\n",
       "      <th></th>\n",
       "      <th>dataset</th>\n",
       "      <th>cell_line</th>\n",
       "      <th>replicate</th>\n",
       "      <th>cell_line_replicate</th>\n",
       "    </tr>\n",
       "    <tr>\n",
       "      <th>index</th>\n",
       "      <th></th>\n",
       "      <th></th>\n",
       "      <th></th>\n",
       "      <th></th>\n",
       "    </tr>\n",
       "  </thead>\n",
       "  <tbody>\n",
       "    <tr>\n",
       "      <th>hepg2_1</th>\n",
       "      <td>hepg2_1</td>\n",
       "      <td>hepg2</td>\n",
       "      <td>1</td>\n",
       "      <td>hepg2_1</td>\n",
       "    </tr>\n",
       "    <tr>\n",
       "      <th>hepg2_2</th>\n",
       "      <td>hepg2_2</td>\n",
       "      <td>hepg2</td>\n",
       "      <td>2</td>\n",
       "      <td>hepg2_2</td>\n",
       "    </tr>\n",
       "    <tr>\n",
       "      <th>hffc6_1</th>\n",
       "      <td>hffc6_1</td>\n",
       "      <td>hffc6</td>\n",
       "      <td>1</td>\n",
       "      <td>hffc6_1</td>\n",
       "    </tr>\n",
       "    <tr>\n",
       "      <th>hffc6_2</th>\n",
       "      <td>hffc6_2</td>\n",
       "      <td>hffc6</td>\n",
       "      <td>2</td>\n",
       "      <td>hffc6_2</td>\n",
       "    </tr>\n",
       "    <tr>\n",
       "      <th>hffc6_3</th>\n",
       "      <td>hffc6_3</td>\n",
       "      <td>hffc6</td>\n",
       "      <td>3</td>\n",
       "      <td>hffc6_3</td>\n",
       "    </tr>\n",
       "  </tbody>\n",
       "</table>\n",
       "</div>"
      ],
      "text/plain": [
       "         dataset cell_line replicate cell_line_replicate\n",
       "index                                                   \n",
       "hepg2_1  hepg2_1     hepg2         1             hepg2_1\n",
       "hepg2_2  hepg2_2     hepg2         2             hepg2_2\n",
       "hffc6_1  hffc6_1     hffc6         1             hffc6_1\n",
       "hffc6_2  hffc6_2     hffc6         2             hffc6_2\n",
       "hffc6_3  hffc6_3     hffc6         3             hffc6_3"
      ]
     },
     "execution_count": 16,
     "metadata": {},
     "output_type": "execute_result"
    }
   ],
   "source": [
    "sg.adata.obs.head()"
   ]
  },
  {
   "cell_type": "markdown",
   "id": "arranged-zambia",
   "metadata": {},
   "source": [
    "The expression information are stored in `SwanGraph.adata.layers['counts']`, `SwanGraph.adata.layers['tpm']`, and `SwanGraph.adata.layers['pi']` for raw counts, TPM, and percent isoform (pi) respectively. "
   ]
  },
  {
   "cell_type": "code",
   "execution_count": 18,
   "id": "divine-scope",
   "metadata": {},
   "outputs": [
    {
     "name": "stdout",
     "output_type": "stream",
     "text": [
      "[[196.13847    86.06076     8.005652   46.032497    0.       ]\n",
      " [243.97517    77.789185    7.071744   61.28845     0.       ]\n",
      " [131.32097   194.35504     0.        107.6832      0.       ]\n",
      " [137.06158   242.39594     0.        124.37069     0.       ]\n",
      " [147.9865    273.20584     3.2524502 172.37987     0.       ]]\n",
      "[[196.13847    86.06076     8.005652   46.032497    0.       ]\n",
      " [243.97517    77.789185    7.071744   61.28845     0.       ]\n",
      " [131.32097   194.35504     0.        107.6832      0.       ]\n",
      " [137.06158   242.39594     0.        124.37069     0.       ]\n",
      " [147.9865    273.20584     3.2524502 172.37987     0.       ]]\n",
      "[[100.       100.       100.       100.         0.      ]\n",
      " [ 99.519226 100.        60.000004 100.         0.      ]\n",
      " [ 98.039215 100.         0.       100.         0.      ]\n",
      " [ 99.08257  100.         0.       100.         0.      ]\n",
      " [100.       100.       100.       100.         0.      ]]\n"
     ]
    }
   ],
   "source": [
    "print(sg.adata.layers['counts'][:5, :5])\n",
    "print(sg.adata.layers['tpm'][:5, :5])\n",
    "print(sg.adata.layers['pi'][:5, :5])"
   ]
  },
  {
   "cell_type": "markdown",
   "id": "legislative-solid",
   "metadata": {},
   "source": [
    "### Edge AnnData"
   ]
  },
  {
   "cell_type": "markdown",
   "id": "accessory-rachel",
   "metadata": {},
   "source": [
    "You can access edge expression information using `SwanGraph.edge_adata`.\n",
    "\n",
    "The variable information stored is just the edge ID but can be merged with `SwanGraph.t_df` for more information."
   ]
  },
  {
   "cell_type": "code",
   "execution_count": 19,
   "id": "fossil-french",
   "metadata": {},
   "outputs": [
    {
     "data": {
      "text/html": [
       "<div>\n",
       "<style scoped>\n",
       "    .dataframe tbody tr th:only-of-type {\n",
       "        vertical-align: middle;\n",
       "    }\n",
       "\n",
       "    .dataframe tbody tr th {\n",
       "        vertical-align: top;\n",
       "    }\n",
       "\n",
       "    .dataframe thead th {\n",
       "        text-align: right;\n",
       "    }\n",
       "</style>\n",
       "<table border=\"1\" class=\"dataframe\">\n",
       "  <thead>\n",
       "    <tr style=\"text-align: right;\">\n",
       "      <th></th>\n",
       "      <th>edge_id</th>\n",
       "    </tr>\n",
       "    <tr>\n",
       "      <th>edge_id</th>\n",
       "      <th></th>\n",
       "    </tr>\n",
       "  </thead>\n",
       "  <tbody>\n",
       "    <tr>\n",
       "      <th>0</th>\n",
       "      <td>0</td>\n",
       "    </tr>\n",
       "    <tr>\n",
       "      <th>5</th>\n",
       "      <td>5</td>\n",
       "    </tr>\n",
       "    <tr>\n",
       "      <th>6</th>\n",
       "      <td>6</td>\n",
       "    </tr>\n",
       "    <tr>\n",
       "      <th>7</th>\n",
       "      <td>7</td>\n",
       "    </tr>\n",
       "    <tr>\n",
       "      <th>1</th>\n",
       "      <td>1</td>\n",
       "    </tr>\n",
       "  </tbody>\n",
       "</table>\n",
       "</div>"
      ],
      "text/plain": [
       "         edge_id\n",
       "edge_id         \n",
       "0              0\n",
       "5              5\n",
       "6              6\n",
       "7              7\n",
       "1              1"
      ]
     },
     "execution_count": 19,
     "metadata": {},
     "output_type": "execute_result"
    }
   ],
   "source": [
    "sg.edge_adata.var.head()"
   ]
  },
  {
   "cell_type": "markdown",
   "id": "instrumental-market",
   "metadata": {},
   "source": [
    "The metadata information that has been added to the SwanGraph along with the initial dataset name from the column names of the added abundance table. It should be identical to `SwanGraph.adata.obs`."
   ]
  },
  {
   "cell_type": "code",
   "execution_count": 20,
   "id": "adopted-kelly",
   "metadata": {},
   "outputs": [
    {
     "data": {
      "text/html": [
       "<div>\n",
       "<style scoped>\n",
       "    .dataframe tbody tr th:only-of-type {\n",
       "        vertical-align: middle;\n",
       "    }\n",
       "\n",
       "    .dataframe tbody tr th {\n",
       "        vertical-align: top;\n",
       "    }\n",
       "\n",
       "    .dataframe thead th {\n",
       "        text-align: right;\n",
       "    }\n",
       "</style>\n",
       "<table border=\"1\" class=\"dataframe\">\n",
       "  <thead>\n",
       "    <tr style=\"text-align: right;\">\n",
       "      <th></th>\n",
       "      <th>dataset</th>\n",
       "      <th>cell_line</th>\n",
       "      <th>replicate</th>\n",
       "      <th>cell_line_replicate</th>\n",
       "    </tr>\n",
       "    <tr>\n",
       "      <th>index</th>\n",
       "      <th></th>\n",
       "      <th></th>\n",
       "      <th></th>\n",
       "      <th></th>\n",
       "    </tr>\n",
       "  </thead>\n",
       "  <tbody>\n",
       "    <tr>\n",
       "      <th>hepg2_1</th>\n",
       "      <td>hepg2_1</td>\n",
       "      <td>hepg2</td>\n",
       "      <td>1</td>\n",
       "      <td>hepg2_1</td>\n",
       "    </tr>\n",
       "    <tr>\n",
       "      <th>hepg2_2</th>\n",
       "      <td>hepg2_2</td>\n",
       "      <td>hepg2</td>\n",
       "      <td>2</td>\n",
       "      <td>hepg2_2</td>\n",
       "    </tr>\n",
       "    <tr>\n",
       "      <th>hffc6_1</th>\n",
       "      <td>hffc6_1</td>\n",
       "      <td>hffc6</td>\n",
       "      <td>1</td>\n",
       "      <td>hffc6_1</td>\n",
       "    </tr>\n",
       "    <tr>\n",
       "      <th>hffc6_2</th>\n",
       "      <td>hffc6_2</td>\n",
       "      <td>hffc6</td>\n",
       "      <td>2</td>\n",
       "      <td>hffc6_2</td>\n",
       "    </tr>\n",
       "    <tr>\n",
       "      <th>hffc6_3</th>\n",
       "      <td>hffc6_3</td>\n",
       "      <td>hffc6</td>\n",
       "      <td>3</td>\n",
       "      <td>hffc6_3</td>\n",
       "    </tr>\n",
       "  </tbody>\n",
       "</table>\n",
       "</div>"
      ],
      "text/plain": [
       "         dataset cell_line replicate cell_line_replicate\n",
       "index                                                   \n",
       "hepg2_1  hepg2_1     hepg2         1             hepg2_1\n",
       "hepg2_2  hepg2_2     hepg2         2             hepg2_2\n",
       "hffc6_1  hffc6_1     hffc6         1             hffc6_1\n",
       "hffc6_2  hffc6_2     hffc6         2             hffc6_2\n",
       "hffc6_3  hffc6_3     hffc6         3             hffc6_3"
      ]
     },
     "execution_count": 20,
     "metadata": {},
     "output_type": "execute_result"
    }
   ],
   "source": [
    "sg.edge_adata.obs.head()"
   ]
  },
  {
   "cell_type": "markdown",
   "id": "piano-boundary",
   "metadata": {},
   "source": [
    "And similarly, counts and TPM of each edge are stored in `SwanGraph.edge_adata.layers['counts']` and `SwanGraph.edge_adata.layers['tpm']`. This data is very sparse though so it shows up as all zeroes here!"
   ]
  },
  {
   "cell_type": "code",
   "execution_count": 22,
   "id": "devoted-header",
   "metadata": {},
   "outputs": [
    {
     "name": "stdout",
     "output_type": "stream",
     "text": [
      "[[0. 0. 0. 0. 0.]\n",
      " [0. 0. 0. 0. 0.]\n",
      " [0. 0. 0. 0. 0.]\n",
      " [0. 0. 0. 0. 0.]\n",
      " [0. 0. 0. 0. 0.]]\n",
      "[[0. 0. 0. 0. 0.]\n",
      " [0. 0. 0. 0. 0.]\n",
      " [0. 0. 0. 0. 0.]\n",
      " [0. 0. 0. 0. 0.]\n",
      " [0. 0. 0. 0. 0.]]\n"
     ]
    }
   ],
   "source": [
    "print(sg.edge_adata.layers['counts'][:5, :5])\n",
    "print(sg.edge_adata.layers['tpm'][:5, :5])"
   ]
  },
  {
   "cell_type": "markdown",
   "id": "existing-alabama",
   "metadata": {},
   "source": [
    "### TSS / TES AnnData"
   ]
  },
  {
   "cell_type": "markdown",
   "id": "british-carolina",
   "metadata": {},
   "source": [
    "You can access TSS and TES expression information using `SwanGraph.tss_adata` and `SwanGraph.tes_adata` respectively.\n",
    "\n",
    "Unlike the other AnnDatas for edge and transcript expression, the `AnnData.var` table hold more information:\n",
    "* automatically-generated TSS or TES id, which is made up of the gene ID the TSS or TES belongs to and its number (tss_id or tes_id)\n",
    "* gene ID that the TSS / TES belongs to (gid)\n",
    "* gene name that the TSS / TES belongs to, if provided (gname)\n",
    "* vertex ID from `SwanGraph.loc_df` that the TSS / TES came from (vertex_id)\n",
    "* automatically-generated TSS or TES id, which is made up of the gene name (if provided) that the TSS or TES belongs to and its number (tss_name or tes_name)"
   ]
  },
  {
   "cell_type": "code",
   "execution_count": 24,
   "id": "empirical-affect",
   "metadata": {},
   "outputs": [
    {
     "name": "stdout",
     "output_type": "stream",
     "text": [
      "                                     gid   gname  vertex_id  tss_name\n",
      "tss_id                                                               \n",
      "ENSG00000000003.14_1  ENSG00000000003.14  TSPAN6     926111  TSPAN6_1\n",
      "ENSG00000000003.14_2  ENSG00000000003.14  TSPAN6     926112  TSPAN6_2\n",
      "ENSG00000000003.14_3  ENSG00000000003.14  TSPAN6     926114  TSPAN6_3\n",
      "ENSG00000000003.14_4  ENSG00000000003.14  TSPAN6     926117  TSPAN6_4\n",
      "ENSG00000000005.5_1    ENSG00000000005.5    TNMD     926077    TNMD_1\n",
      "                                     gid   gname  vertex_id  tes_name\n",
      "tes_id                                                               \n",
      "ENSG00000000003.14_1  ENSG00000000003.14  TSPAN6     926092  TSPAN6_1\n",
      "ENSG00000000003.14_2  ENSG00000000003.14  TSPAN6     926093  TSPAN6_2\n",
      "ENSG00000000003.14_3  ENSG00000000003.14  TSPAN6     926097  TSPAN6_3\n",
      "ENSG00000000003.14_4  ENSG00000000003.14  TSPAN6     926100  TSPAN6_4\n",
      "ENSG00000000003.14_5  ENSG00000000003.14  TSPAN6     926103  TSPAN6_5\n"
     ]
    }
   ],
   "source": [
    "print(sg.tss_adata.var.head())\n",
    "print(sg.tes_adata.var.head())"
   ]
  },
  {
   "cell_type": "code",
   "execution_count": null,
   "id": "detailed-permission",
   "metadata": {},
   "outputs": [],
   "source": []
  }
 ],
 "metadata": {
  "kernelspec": {
   "display_name": "Python 3",
   "language": "python",
   "name": "python3"
  },
  "language_info": {
   "codemirror_mode": {
    "name": "ipython",
    "version": 3
   },
   "file_extension": ".py",
   "mimetype": "text/x-python",
   "name": "python",
   "nbconvert_exporter": "python",
   "pygments_lexer": "ipython3",
   "version": "3.7.4"
  }
 },
 "nbformat": 4,
 "nbformat_minor": 5
}
